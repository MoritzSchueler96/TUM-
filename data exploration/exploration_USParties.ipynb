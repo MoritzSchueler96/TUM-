{
 "metadata": {
  "language_info": {
   "codemirror_mode": {
    "name": "ipython",
    "version": 3
   },
   "file_extension": ".py",
   "mimetype": "text/x-python",
   "name": "python",
   "nbconvert_exporter": "python",
   "pygments_lexer": "ipython3",
   "version": "3.9.4"
  },
  "orig_nbformat": 2,
  "kernelspec": {
   "name": "python394jvsc74a57bd04fc435bf0e7b198fe8f409ced56ec06f23f2b3d9b415fffd8ca5f9e76a47e085",
   "display_name": "Python 3.9.4 64-bit ('nlp': conda)"
  },
  "metadata": {
   "interpreter": {
    "hash": "4fc435bf0e7b198fe8f409ced56ec06f23f2b3d9b415fffd8ca5f9e76a47e085"
   }
  }
 },
 "nbformat": 4,
 "nbformat_minor": 2,
 "cells": [
  {
   "source": [
    "# Setup"
   ],
   "cell_type": "markdown",
   "metadata": {}
  },
  {
   "cell_type": "code",
   "execution_count": 24,
   "metadata": {},
   "outputs": [
    {
     "output_type": "stream",
     "name": "stdout",
     "text": [
      "notebookDir: /home/user/Documents/Github/Uni/Master/TUM_Praktikum_NLP_Explainability/understanding-opinions-on-social-media/data exploration\n"
     ]
    }
   ],
   "source": [
    "import os\n",
    "if not 'notebookDir' in globals():\n",
    "    notebookDir = os.getcwd()\n",
    "print('notebookDir: ' + notebookDir)\n",
    "os.chdir(notebookDir)"
   ]
  },
  {
   "source": [
    "# Data preparation"
   ],
   "cell_type": "markdown",
   "metadata": {}
  },
  {
   "cell_type": "code",
   "execution_count": 25,
   "metadata": {},
   "outputs": [],
   "source": [
    "import pandas as pd\n",
    "pd.options.display.max_columns = 100"
   ]
  },
  {
   "cell_type": "code",
   "execution_count": 26,
   "metadata": {},
   "outputs": [],
   "source": [
    "dataset_path = '../data/USParties/Democrats.csv'\n",
    "output = '../data/USParties/USParties_preprocessed.csv'"
   ]
  },
  {
   "cell_type": "code",
   "execution_count": 27,
   "metadata": {},
   "outputs": [
    {
     "output_type": "execute_result",
     "data": {
      "text/plain": [
       "                           Page Name             User Name        Facebook Id  \\\n",
       "0                  Senator Jack Reed           SenJackReed    213866375370646   \n",
       "1    U.S. Senator Kirsten Gillibrand  SenKirstenGillibrand    147791132432624   \n",
       "2              Senator Maggie Hassan         SenatorHassan    523773000968844   \n",
       "3             Senator Jeanne Shaheen        SenatorShaheen    127503767282103   \n",
       "4                       Alex Padilla        alexpadilla4ca    471134912978464   \n",
       "..                               ...                   ...                ...   \n",
       "928              Senator Gary Peters         SenGaryPeters        88851604323   \n",
       "929            Senator Chuck Schumer            senschumer        15771239406   \n",
       "930         Alexandria Ocasio-Cortez          OcasioCortez   1316372698453411   \n",
       "931  U.S. Senator Kirsten Gillibrand  SenKirstenGillibrand    147791132432624   \n",
       "932          Senator Joe Manchin III         JoeManchinIII  10150135395755161   \n",
       "\n",
       "           Page Category Page Admin Top Country  \\\n",
       "0    GOVERNMENT_OFFICIAL                     US   \n",
       "1    GOVERNMENT_OFFICIAL                     US   \n",
       "2    GOVERNMENT_OFFICIAL                     US   \n",
       "3    GOVERNMENT_OFFICIAL                     US   \n",
       "4             POLITICIAN                     US   \n",
       "..                   ...                    ...   \n",
       "928  GOVERNMENT_OFFICIAL                     US   \n",
       "929  GOVERNMENT_OFFICIAL                     US   \n",
       "930     ACTIVITY_GENERAL                     US   \n",
       "931  GOVERNMENT_OFFICIAL                     US   \n",
       "932  GOVERNMENT_OFFICIAL                     US   \n",
       "\n",
       "                                      Page Description  \\\n",
       "0    This is the official Facebook page of U.S. Sen...   \n",
       "1    The official Facebook page for the Office of S...   \n",
       "2    Proud to represent New Hampshire in the U.S. S...   \n",
       "3    U.S. Senator Jeanne Shaheen is proud to repres...   \n",
       "4    U.S. Senator for California. Husband & Dad. Fo...   \n",
       "..                                                 ...   \n",
       "928  U.S. Senator proudly representing the state of...   \n",
       "929  Official Account of Senator Chuck Schumer, New...   \n",
       "930  Educator, organizer, service worker, and Congr...   \n",
       "931  The official Facebook page for the Office of S...   \n",
       "932  http://www.manchin.senate.gov\\n\\nDetermined to...   \n",
       "\n",
       "                 Page Created  Likes at Posting  Followers at Posting  \\\n",
       "0    2014-09-19 23:34:38 CEST             16439                 30527   \n",
       "1    2017-06-14 22:20:54 CEST             28112                157368   \n",
       "2    2014-09-16 14:43:29 CEST             23081                 37003   \n",
       "3    2013-04-09 00:43:14 CEST             30335                 47703   \n",
       "4     2014-11-04 18:39:17 CET             28053                 29355   \n",
       "..                        ...               ...                   ...   \n",
       "928  2013-04-09 00:40:45 CEST             42524                115082   \n",
       "929  2013-04-09 00:40:56 CEST            429062                584691   \n",
       "930  2017-10-12 18:16:08 CEST           1775646               1870212   \n",
       "931  2017-06-14 22:20:54 CEST             28084                157368   \n",
       "932  2014-09-19 23:34:58 CEST             62105                 95309   \n",
       "\n",
       "                 Post Created Post Created Date Post Created Time  \\\n",
       "0    2021-05-05 17:32:19 CEST        2021-05-05          17:32:19   \n",
       "1    2021-04-29 03:02:33 CEST        2021-04-29          03:02:33   \n",
       "2    2021-04-23 18:13:17 CEST        2021-04-23          18:13:17   \n",
       "3    2021-04-20 23:56:22 CEST        2021-04-20          23:56:22   \n",
       "4    2021-04-20 15:39:06 CEST        2021-04-20          15:39:06   \n",
       "..                        ...               ...               ...   \n",
       "928  2021-04-21 02:04:26 CEST        2021-04-21          02:04:26   \n",
       "929  2021-04-20 22:12:29 CEST        2021-04-20          22:12:29   \n",
       "930  2021-04-17 15:59:38 CEST        2021-04-17          15:59:38   \n",
       "931  2021-04-20 18:13:20 CEST        2021-04-20          18:13:20   \n",
       "932  2021-05-02 02:02:05 CEST        2021-05-02          02:02:05   \n",
       "\n",
       "             Type Total Interactions  Likes  Comments  Shares  Love  Wow  \\\n",
       "0           Photo              3,757   1607      1231     195   491    2   \n",
       "1           Photo              9,446   3808      2749     512  1982   13   \n",
       "2           Photo              5,755   1521      2907     138   587    9   \n",
       "3            Link              2,223   1170       542      60   342    1   \n",
       "4    Native Video                812    534        77      49   137    0   \n",
       "..            ...                ...    ...       ...     ...   ...  ...   \n",
       "928         Photo              1,366    589       519      32   110    5   \n",
       "929         Photo              3,551   2441       303     255   445    7   \n",
       "930          Link             32,987  22242      3702    1321  4636   63   \n",
       "931  Native Video                251    146        28      44     8    0   \n",
       "932         Photo                581    283       273       4    10    0   \n",
       "\n",
       "     Haha  Sad  Angry  Care Video Share Status Is Video Owner?  Post Views  \\\n",
       "0     161    7     50    13                NaN               -           0   \n",
       "1     234   25     79    44                NaN               -           0   \n",
       "2     190   18    373    12                NaN               -           0   \n",
       "3       6   14     13    75                NaN               -           0   \n",
       "4       5    0      1     9              owned             Yes        3746   \n",
       "..    ...  ...    ...   ...                ...             ...         ...   \n",
       "928    18    2     14    77                NaN               -           0   \n",
       "929    48    2     24    26                NaN               -           0   \n",
       "930   251   31    318   423                NaN               -           0   \n",
       "931     1    1      3    20              owned             Yes        3054   \n",
       "932     4    1      6     0                NaN               -           0   \n",
       "\n",
       "     Total Views  Total Views For All Crossposts Video Length  \\\n",
       "0              0                               0          NaN   \n",
       "1              0                               0          NaN   \n",
       "2              0                               0          NaN   \n",
       "3              0                               0          NaN   \n",
       "4           7257                               0     00:02:04   \n",
       "..           ...                             ...          ...   \n",
       "928            0                               0          NaN   \n",
       "929            0                               0          NaN   \n",
       "930            0                               0          NaN   \n",
       "931         3632                               0     00:01:42   \n",
       "932            0                               0          NaN   \n",
       "\n",
       "                                                   URL  \\\n",
       "0    https://www.facebook.com/213866375370646/posts...   \n",
       "1    https://www.facebook.com/147791132432624/posts...   \n",
       "2    https://www.facebook.com/523773000968844/posts...   \n",
       "3    https://www.facebook.com/127503767282103/posts...   \n",
       "4    https://www.facebook.com/471134912978464/posts...   \n",
       "..                                                 ...   \n",
       "928  https://www.facebook.com/88851604323/posts/101...   \n",
       "929  https://www.facebook.com/15771239406/posts/101...   \n",
       "930  https://www.facebook.com/1316372698453411/post...   \n",
       "931  https://www.facebook.com/147791132432624/posts...   \n",
       "932  https://www.facebook.com/10150135395755161/pos...   \n",
       "\n",
       "                                               Message  \\\n",
       "0    Welcome to Rhode Island, Madam Vice President!...   \n",
       "1    For the first time in history, both seats behi...   \n",
       "2    Look who’s in New Hampshire today! I’m glad to...   \n",
       "3    Justice has been served, but George Floyd shou...   \n",
       "4    Today, I am excited to announce my reelection ...   \n",
       "..                                                 ...   \n",
       "928  Nothing can bring back George Floyd or take aw...   \n",
       "929  For decades, young men and women—disproportion...   \n",
       "930  This is a testament to the power that people’s...   \n",
       "931  It is a moral outrage that veterans exposed to...   \n",
       "932  It's great to be back at the WV girls high sch...   \n",
       "\n",
       "                                                  Link Final Link  \\\n",
       "0    https://www.facebook.com/SenJackReed/photos/a....        NaN   \n",
       "1    https://www.facebook.com/SenKirstenGillibrand/...        NaN   \n",
       "2    https://www.facebook.com/SenatorHassan/photos/...        NaN   \n",
       "3    https://www.cnn.com/2021/04/20/us/derek-chauvi...        NaN   \n",
       "4    https://www.facebook.com/alexpadilla4ca/videos...        NaN   \n",
       "..                                                 ...        ...   \n",
       "928  https://www.facebook.com/SenGaryPeters/photos/...        NaN   \n",
       "929  https://www.facebook.com/senschumer/photos/a.1...        NaN   \n",
       "930  https://apnews.com/article/joe-biden-donald-tr...        NaN   \n",
       "931  https://www.facebook.com/SenKirstenGillibrand/...        NaN   \n",
       "932  https://www.facebook.com/JoeManchinIII/photos/...        NaN   \n",
       "\n",
       "                                            Image Text  \\\n",
       "0                                                  NaN   \n",
       "1                                                  NaN   \n",
       "2                                                  NaN   \n",
       "3                                                  NaN   \n",
       "4                                                  NaN   \n",
       "..                                                 ...   \n",
       "928                                                NaN   \n",
       "929  NORML NORML @NORML Schumer says it's time to e...   \n",
       "930                                                NaN   \n",
       "931                                                NaN   \n",
       "932                                                NaN   \n",
       "\n",
       "                                             Link Text  \\\n",
       "0                                                  NaN   \n",
       "1                                                  NaN   \n",
       "2                                                  NaN   \n",
       "3    Derek Chauvin found guilty of all three charge...   \n",
       "4                              Alex Padilla for Senate   \n",
       "..                                                 ...   \n",
       "928                                                NaN   \n",
       "929                                                NaN   \n",
       "930  After outcry, WH says Biden will lift refugee ...   \n",
       "931                                    A Moral Outrage   \n",
       "932         Photos from Senator Joe Manchin III's post   \n",
       "\n",
       "                                           Description  Sponsor Id  \\\n",
       "0                                                  NaN         NaN   \n",
       "1                                                  NaN         NaN   \n",
       "2                                                  NaN         NaN   \n",
       "3    The former Minneapolis Police officer who knel...         NaN   \n",
       "4                                                  NaN         NaN   \n",
       "..                                                 ...         ...   \n",
       "928                                                NaN         NaN   \n",
       "929                                                NaN         NaN   \n",
       "930  WASHINGTON (AP) — Facing swift blowback from a...         NaN   \n",
       "931                                                NaN         NaN   \n",
       "932                                                NaN         NaN   \n",
       "\n",
       "     Sponsor Name  Sponsor Category  \\\n",
       "0             NaN               NaN   \n",
       "1             NaN               NaN   \n",
       "2             NaN               NaN   \n",
       "3             NaN               NaN   \n",
       "4             NaN               NaN   \n",
       "..            ...               ...   \n",
       "928           NaN               NaN   \n",
       "929           NaN               NaN   \n",
       "930           NaN               NaN   \n",
       "931           NaN               NaN   \n",
       "932           NaN               NaN   \n",
       "\n",
       "     Overperforming Score (weighted  —  Likes 1x Shares 1x Comments 1x Love 1x Wow 1x Haha 1x Sad 1x Angry 1x Care 1x )  \n",
       "0                                                20.53                                                                   \n",
       "1                                                18.82                                                                   \n",
       "2                                                18.15                                                                   \n",
       "3                                                17.10                                                                   \n",
       "4                                                16.24                                                                   \n",
       "..                                                 ...                                                                   \n",
       "928                                               1.00                                                                   \n",
       "929                                               1.00                                                                   \n",
       "930                                               1.00                                                                   \n",
       "931                                               1.00                                                                   \n",
       "932                                               1.00                                                                   \n",
       "\n",
       "[933 rows x 40 columns]"
      ],
      "text/html": "<div>\n<style scoped>\n    .dataframe tbody tr th:only-of-type {\n        vertical-align: middle;\n    }\n\n    .dataframe tbody tr th {\n        vertical-align: top;\n    }\n\n    .dataframe thead th {\n        text-align: right;\n    }\n</style>\n<table border=\"1\" class=\"dataframe\">\n  <thead>\n    <tr style=\"text-align: right;\">\n      <th></th>\n      <th>Page Name</th>\n      <th>User Name</th>\n      <th>Facebook Id</th>\n      <th>Page Category</th>\n      <th>Page Admin Top Country</th>\n      <th>Page Description</th>\n      <th>Page Created</th>\n      <th>Likes at Posting</th>\n      <th>Followers at Posting</th>\n      <th>Post Created</th>\n      <th>Post Created Date</th>\n      <th>Post Created Time</th>\n      <th>Type</th>\n      <th>Total Interactions</th>\n      <th>Likes</th>\n      <th>Comments</th>\n      <th>Shares</th>\n      <th>Love</th>\n      <th>Wow</th>\n      <th>Haha</th>\n      <th>Sad</th>\n      <th>Angry</th>\n      <th>Care</th>\n      <th>Video Share Status</th>\n      <th>Is Video Owner?</th>\n      <th>Post Views</th>\n      <th>Total Views</th>\n      <th>Total Views For All Crossposts</th>\n      <th>Video Length</th>\n      <th>URL</th>\n      <th>Message</th>\n      <th>Link</th>\n      <th>Final Link</th>\n      <th>Image Text</th>\n      <th>Link Text</th>\n      <th>Description</th>\n      <th>Sponsor Id</th>\n      <th>Sponsor Name</th>\n      <th>Sponsor Category</th>\n      <th>Overperforming Score (weighted  —  Likes 1x Shares 1x Comments 1x Love 1x Wow 1x Haha 1x Sad 1x Angry 1x Care 1x )</th>\n    </tr>\n  </thead>\n  <tbody>\n    <tr>\n      <th>0</th>\n      <td>Senator Jack Reed</td>\n      <td>SenJackReed</td>\n      <td>213866375370646</td>\n      <td>GOVERNMENT_OFFICIAL</td>\n      <td>US</td>\n      <td>This is the official Facebook page of U.S. Sen...</td>\n      <td>2014-09-19 23:34:38 CEST</td>\n      <td>16439</td>\n      <td>30527</td>\n      <td>2021-05-05 17:32:19 CEST</td>\n      <td>2021-05-05</td>\n      <td>17:32:19</td>\n      <td>Photo</td>\n      <td>3,757</td>\n      <td>1607</td>\n      <td>1231</td>\n      <td>195</td>\n      <td>491</td>\n      <td>2</td>\n      <td>161</td>\n      <td>7</td>\n      <td>50</td>\n      <td>13</td>\n      <td>NaN</td>\n      <td>-</td>\n      <td>0</td>\n      <td>0</td>\n      <td>0</td>\n      <td>NaN</td>\n      <td>https://www.facebook.com/213866375370646/posts...</td>\n      <td>Welcome to Rhode Island, Madam Vice President!...</td>\n      <td>https://www.facebook.com/SenJackReed/photos/a....</td>\n      <td>NaN</td>\n      <td>NaN</td>\n      <td>NaN</td>\n      <td>NaN</td>\n      <td>NaN</td>\n      <td>NaN</td>\n      <td>NaN</td>\n      <td>20.53</td>\n    </tr>\n    <tr>\n      <th>1</th>\n      <td>U.S. Senator Kirsten Gillibrand</td>\n      <td>SenKirstenGillibrand</td>\n      <td>147791132432624</td>\n      <td>GOVERNMENT_OFFICIAL</td>\n      <td>US</td>\n      <td>The official Facebook page for the Office of S...</td>\n      <td>2017-06-14 22:20:54 CEST</td>\n      <td>28112</td>\n      <td>157368</td>\n      <td>2021-04-29 03:02:33 CEST</td>\n      <td>2021-04-29</td>\n      <td>03:02:33</td>\n      <td>Photo</td>\n      <td>9,446</td>\n      <td>3808</td>\n      <td>2749</td>\n      <td>512</td>\n      <td>1982</td>\n      <td>13</td>\n      <td>234</td>\n      <td>25</td>\n      <td>79</td>\n      <td>44</td>\n      <td>NaN</td>\n      <td>-</td>\n      <td>0</td>\n      <td>0</td>\n      <td>0</td>\n      <td>NaN</td>\n      <td>https://www.facebook.com/147791132432624/posts...</td>\n      <td>For the first time in history, both seats behi...</td>\n      <td>https://www.facebook.com/SenKirstenGillibrand/...</td>\n      <td>NaN</td>\n      <td>NaN</td>\n      <td>NaN</td>\n      <td>NaN</td>\n      <td>NaN</td>\n      <td>NaN</td>\n      <td>NaN</td>\n      <td>18.82</td>\n    </tr>\n    <tr>\n      <th>2</th>\n      <td>Senator Maggie Hassan</td>\n      <td>SenatorHassan</td>\n      <td>523773000968844</td>\n      <td>GOVERNMENT_OFFICIAL</td>\n      <td>US</td>\n      <td>Proud to represent New Hampshire in the U.S. S...</td>\n      <td>2014-09-16 14:43:29 CEST</td>\n      <td>23081</td>\n      <td>37003</td>\n      <td>2021-04-23 18:13:17 CEST</td>\n      <td>2021-04-23</td>\n      <td>18:13:17</td>\n      <td>Photo</td>\n      <td>5,755</td>\n      <td>1521</td>\n      <td>2907</td>\n      <td>138</td>\n      <td>587</td>\n      <td>9</td>\n      <td>190</td>\n      <td>18</td>\n      <td>373</td>\n      <td>12</td>\n      <td>NaN</td>\n      <td>-</td>\n      <td>0</td>\n      <td>0</td>\n      <td>0</td>\n      <td>NaN</td>\n      <td>https://www.facebook.com/523773000968844/posts...</td>\n      <td>Look who’s in New Hampshire today! I’m glad to...</td>\n      <td>https://www.facebook.com/SenatorHassan/photos/...</td>\n      <td>NaN</td>\n      <td>NaN</td>\n      <td>NaN</td>\n      <td>NaN</td>\n      <td>NaN</td>\n      <td>NaN</td>\n      <td>NaN</td>\n      <td>18.15</td>\n    </tr>\n    <tr>\n      <th>3</th>\n      <td>Senator Jeanne Shaheen</td>\n      <td>SenatorShaheen</td>\n      <td>127503767282103</td>\n      <td>GOVERNMENT_OFFICIAL</td>\n      <td>US</td>\n      <td>U.S. Senator Jeanne Shaheen is proud to repres...</td>\n      <td>2013-04-09 00:43:14 CEST</td>\n      <td>30335</td>\n      <td>47703</td>\n      <td>2021-04-20 23:56:22 CEST</td>\n      <td>2021-04-20</td>\n      <td>23:56:22</td>\n      <td>Link</td>\n      <td>2,223</td>\n      <td>1170</td>\n      <td>542</td>\n      <td>60</td>\n      <td>342</td>\n      <td>1</td>\n      <td>6</td>\n      <td>14</td>\n      <td>13</td>\n      <td>75</td>\n      <td>NaN</td>\n      <td>-</td>\n      <td>0</td>\n      <td>0</td>\n      <td>0</td>\n      <td>NaN</td>\n      <td>https://www.facebook.com/127503767282103/posts...</td>\n      <td>Justice has been served, but George Floyd shou...</td>\n      <td>https://www.cnn.com/2021/04/20/us/derek-chauvi...</td>\n      <td>NaN</td>\n      <td>NaN</td>\n      <td>Derek Chauvin found guilty of all three charge...</td>\n      <td>The former Minneapolis Police officer who knel...</td>\n      <td>NaN</td>\n      <td>NaN</td>\n      <td>NaN</td>\n      <td>17.10</td>\n    </tr>\n    <tr>\n      <th>4</th>\n      <td>Alex Padilla</td>\n      <td>alexpadilla4ca</td>\n      <td>471134912978464</td>\n      <td>POLITICIAN</td>\n      <td>US</td>\n      <td>U.S. Senator for California. Husband &amp; Dad. Fo...</td>\n      <td>2014-11-04 18:39:17 CET</td>\n      <td>28053</td>\n      <td>29355</td>\n      <td>2021-04-20 15:39:06 CEST</td>\n      <td>2021-04-20</td>\n      <td>15:39:06</td>\n      <td>Native Video</td>\n      <td>812</td>\n      <td>534</td>\n      <td>77</td>\n      <td>49</td>\n      <td>137</td>\n      <td>0</td>\n      <td>5</td>\n      <td>0</td>\n      <td>1</td>\n      <td>9</td>\n      <td>owned</td>\n      <td>Yes</td>\n      <td>3746</td>\n      <td>7257</td>\n      <td>0</td>\n      <td>00:02:04</td>\n      <td>https://www.facebook.com/471134912978464/posts...</td>\n      <td>Today, I am excited to announce my reelection ...</td>\n      <td>https://www.facebook.com/alexpadilla4ca/videos...</td>\n      <td>NaN</td>\n      <td>NaN</td>\n      <td>Alex Padilla for Senate</td>\n      <td>NaN</td>\n      <td>NaN</td>\n      <td>NaN</td>\n      <td>NaN</td>\n      <td>16.24</td>\n    </tr>\n    <tr>\n      <th>...</th>\n      <td>...</td>\n      <td>...</td>\n      <td>...</td>\n      <td>...</td>\n      <td>...</td>\n      <td>...</td>\n      <td>...</td>\n      <td>...</td>\n      <td>...</td>\n      <td>...</td>\n      <td>...</td>\n      <td>...</td>\n      <td>...</td>\n      <td>...</td>\n      <td>...</td>\n      <td>...</td>\n      <td>...</td>\n      <td>...</td>\n      <td>...</td>\n      <td>...</td>\n      <td>...</td>\n      <td>...</td>\n      <td>...</td>\n      <td>...</td>\n      <td>...</td>\n      <td>...</td>\n      <td>...</td>\n      <td>...</td>\n      <td>...</td>\n      <td>...</td>\n      <td>...</td>\n      <td>...</td>\n      <td>...</td>\n      <td>...</td>\n      <td>...</td>\n      <td>...</td>\n      <td>...</td>\n      <td>...</td>\n      <td>...</td>\n      <td>...</td>\n    </tr>\n    <tr>\n      <th>928</th>\n      <td>Senator Gary Peters</td>\n      <td>SenGaryPeters</td>\n      <td>88851604323</td>\n      <td>GOVERNMENT_OFFICIAL</td>\n      <td>US</td>\n      <td>U.S. Senator proudly representing the state of...</td>\n      <td>2013-04-09 00:40:45 CEST</td>\n      <td>42524</td>\n      <td>115082</td>\n      <td>2021-04-21 02:04:26 CEST</td>\n      <td>2021-04-21</td>\n      <td>02:04:26</td>\n      <td>Photo</td>\n      <td>1,366</td>\n      <td>589</td>\n      <td>519</td>\n      <td>32</td>\n      <td>110</td>\n      <td>5</td>\n      <td>18</td>\n      <td>2</td>\n      <td>14</td>\n      <td>77</td>\n      <td>NaN</td>\n      <td>-</td>\n      <td>0</td>\n      <td>0</td>\n      <td>0</td>\n      <td>NaN</td>\n      <td>https://www.facebook.com/88851604323/posts/101...</td>\n      <td>Nothing can bring back George Floyd or take aw...</td>\n      <td>https://www.facebook.com/SenGaryPeters/photos/...</td>\n      <td>NaN</td>\n      <td>NaN</td>\n      <td>NaN</td>\n      <td>NaN</td>\n      <td>NaN</td>\n      <td>NaN</td>\n      <td>NaN</td>\n      <td>1.00</td>\n    </tr>\n    <tr>\n      <th>929</th>\n      <td>Senator Chuck Schumer</td>\n      <td>senschumer</td>\n      <td>15771239406</td>\n      <td>GOVERNMENT_OFFICIAL</td>\n      <td>US</td>\n      <td>Official Account of Senator Chuck Schumer, New...</td>\n      <td>2013-04-09 00:40:56 CEST</td>\n      <td>429062</td>\n      <td>584691</td>\n      <td>2021-04-20 22:12:29 CEST</td>\n      <td>2021-04-20</td>\n      <td>22:12:29</td>\n      <td>Photo</td>\n      <td>3,551</td>\n      <td>2441</td>\n      <td>303</td>\n      <td>255</td>\n      <td>445</td>\n      <td>7</td>\n      <td>48</td>\n      <td>2</td>\n      <td>24</td>\n      <td>26</td>\n      <td>NaN</td>\n      <td>-</td>\n      <td>0</td>\n      <td>0</td>\n      <td>0</td>\n      <td>NaN</td>\n      <td>https://www.facebook.com/15771239406/posts/101...</td>\n      <td>For decades, young men and women—disproportion...</td>\n      <td>https://www.facebook.com/senschumer/photos/a.1...</td>\n      <td>NaN</td>\n      <td>NORML NORML @NORML Schumer says it's time to e...</td>\n      <td>NaN</td>\n      <td>NaN</td>\n      <td>NaN</td>\n      <td>NaN</td>\n      <td>NaN</td>\n      <td>1.00</td>\n    </tr>\n    <tr>\n      <th>930</th>\n      <td>Alexandria Ocasio-Cortez</td>\n      <td>OcasioCortez</td>\n      <td>1316372698453411</td>\n      <td>ACTIVITY_GENERAL</td>\n      <td>US</td>\n      <td>Educator, organizer, service worker, and Congr...</td>\n      <td>2017-10-12 18:16:08 CEST</td>\n      <td>1775646</td>\n      <td>1870212</td>\n      <td>2021-04-17 15:59:38 CEST</td>\n      <td>2021-04-17</td>\n      <td>15:59:38</td>\n      <td>Link</td>\n      <td>32,987</td>\n      <td>22242</td>\n      <td>3702</td>\n      <td>1321</td>\n      <td>4636</td>\n      <td>63</td>\n      <td>251</td>\n      <td>31</td>\n      <td>318</td>\n      <td>423</td>\n      <td>NaN</td>\n      <td>-</td>\n      <td>0</td>\n      <td>0</td>\n      <td>0</td>\n      <td>NaN</td>\n      <td>https://www.facebook.com/1316372698453411/post...</td>\n      <td>This is a testament to the power that people’s...</td>\n      <td>https://apnews.com/article/joe-biden-donald-tr...</td>\n      <td>NaN</td>\n      <td>NaN</td>\n      <td>After outcry, WH says Biden will lift refugee ...</td>\n      <td>WASHINGTON (AP) — Facing swift blowback from a...</td>\n      <td>NaN</td>\n      <td>NaN</td>\n      <td>NaN</td>\n      <td>1.00</td>\n    </tr>\n    <tr>\n      <th>931</th>\n      <td>U.S. Senator Kirsten Gillibrand</td>\n      <td>SenKirstenGillibrand</td>\n      <td>147791132432624</td>\n      <td>GOVERNMENT_OFFICIAL</td>\n      <td>US</td>\n      <td>The official Facebook page for the Office of S...</td>\n      <td>2017-06-14 22:20:54 CEST</td>\n      <td>28084</td>\n      <td>157368</td>\n      <td>2021-04-20 18:13:20 CEST</td>\n      <td>2021-04-20</td>\n      <td>18:13:20</td>\n      <td>Native Video</td>\n      <td>251</td>\n      <td>146</td>\n      <td>28</td>\n      <td>44</td>\n      <td>8</td>\n      <td>0</td>\n      <td>1</td>\n      <td>1</td>\n      <td>3</td>\n      <td>20</td>\n      <td>owned</td>\n      <td>Yes</td>\n      <td>3054</td>\n      <td>3632</td>\n      <td>0</td>\n      <td>00:01:42</td>\n      <td>https://www.facebook.com/147791132432624/posts...</td>\n      <td>It is a moral outrage that veterans exposed to...</td>\n      <td>https://www.facebook.com/SenKirstenGillibrand/...</td>\n      <td>NaN</td>\n      <td>NaN</td>\n      <td>A Moral Outrage</td>\n      <td>NaN</td>\n      <td>NaN</td>\n      <td>NaN</td>\n      <td>NaN</td>\n      <td>1.00</td>\n    </tr>\n    <tr>\n      <th>932</th>\n      <td>Senator Joe Manchin III</td>\n      <td>JoeManchinIII</td>\n      <td>10150135395755161</td>\n      <td>GOVERNMENT_OFFICIAL</td>\n      <td>US</td>\n      <td>http://www.manchin.senate.gov\\n\\nDetermined to...</td>\n      <td>2014-09-19 23:34:58 CEST</td>\n      <td>62105</td>\n      <td>95309</td>\n      <td>2021-05-02 02:02:05 CEST</td>\n      <td>2021-05-02</td>\n      <td>02:02:05</td>\n      <td>Photo</td>\n      <td>581</td>\n      <td>283</td>\n      <td>273</td>\n      <td>4</td>\n      <td>10</td>\n      <td>0</td>\n      <td>4</td>\n      <td>1</td>\n      <td>6</td>\n      <td>0</td>\n      <td>NaN</td>\n      <td>-</td>\n      <td>0</td>\n      <td>0</td>\n      <td>0</td>\n      <td>NaN</td>\n      <td>https://www.facebook.com/10150135395755161/pos...</td>\n      <td>It's great to be back at the WV girls high sch...</td>\n      <td>https://www.facebook.com/JoeManchinIII/photos/...</td>\n      <td>NaN</td>\n      <td>NaN</td>\n      <td>Photos from Senator Joe Manchin III's post</td>\n      <td>NaN</td>\n      <td>NaN</td>\n      <td>NaN</td>\n      <td>NaN</td>\n      <td>1.00</td>\n    </tr>\n  </tbody>\n</table>\n<p>933 rows × 40 columns</p>\n</div>"
     },
     "metadata": {},
     "execution_count": 27
    }
   ],
   "source": [
    "df = pd.read_csv(dataset_path, low_memory=False)\n",
    "df_len = len(df)\n",
    "df"
   ]
  },
  {
   "cell_type": "code",
   "execution_count": 28,
   "metadata": {},
   "outputs": [
    {
     "output_type": "execute_result",
     "data": {
      "text/plain": [
       "('before:', 933, 'after:', 926)"
      ]
     },
     "metadata": {},
     "execution_count": 28
    }
   ],
   "source": [
    "\"before:\", df_len, \"after:\", len(df.drop_duplicates(subset=['Message', 'Image Text']))"
   ]
  },
  {
   "cell_type": "code",
   "execution_count": 29,
   "metadata": {},
   "outputs": [
    {
     "output_type": "execute_result",
     "data": {
      "text/plain": [
       "                           Page Name             User Name        Facebook Id  \\\n",
       "0                  Senator Jack Reed           SenJackReed    213866375370646   \n",
       "1    U.S. Senator Kirsten Gillibrand  SenKirstenGillibrand    147791132432624   \n",
       "2              Senator Maggie Hassan         SenatorHassan    523773000968844   \n",
       "3             Senator Jeanne Shaheen        SenatorShaheen    127503767282103   \n",
       "4                       Alex Padilla        alexpadilla4ca    471134912978464   \n",
       "..                               ...                   ...                ...   \n",
       "928              Senator Gary Peters         SenGaryPeters        88851604323   \n",
       "929            Senator Chuck Schumer            senschumer        15771239406   \n",
       "930         Alexandria Ocasio-Cortez          OcasioCortez   1316372698453411   \n",
       "931  U.S. Senator Kirsten Gillibrand  SenKirstenGillibrand    147791132432624   \n",
       "932          Senator Joe Manchin III         JoeManchinIII  10150135395755161   \n",
       "\n",
       "           Page Category Page Admin Top Country  \\\n",
       "0    GOVERNMENT_OFFICIAL                     US   \n",
       "1    GOVERNMENT_OFFICIAL                     US   \n",
       "2    GOVERNMENT_OFFICIAL                     US   \n",
       "3    GOVERNMENT_OFFICIAL                     US   \n",
       "4             POLITICIAN                     US   \n",
       "..                   ...                    ...   \n",
       "928  GOVERNMENT_OFFICIAL                     US   \n",
       "929  GOVERNMENT_OFFICIAL                     US   \n",
       "930     ACTIVITY_GENERAL                     US   \n",
       "931  GOVERNMENT_OFFICIAL                     US   \n",
       "932  GOVERNMENT_OFFICIAL                     US   \n",
       "\n",
       "                                      Page Description  \\\n",
       "0    This is the official Facebook page of U.S. Sen...   \n",
       "1    The official Facebook page for the Office of S...   \n",
       "2    Proud to represent New Hampshire in the U.S. S...   \n",
       "3    U.S. Senator Jeanne Shaheen is proud to repres...   \n",
       "4    U.S. Senator for California. Husband & Dad. Fo...   \n",
       "..                                                 ...   \n",
       "928  U.S. Senator proudly representing the state of...   \n",
       "929  Official Account of Senator Chuck Schumer, New...   \n",
       "930  Educator, organizer, service worker, and Congr...   \n",
       "931  The official Facebook page for the Office of S...   \n",
       "932  http://www.manchin.senate.gov\\n\\nDetermined to...   \n",
       "\n",
       "                 Page Created  Likes at Posting  Followers at Posting  \\\n",
       "0    2014-09-19 23:34:38 CEST             16439                 30527   \n",
       "1    2017-06-14 22:20:54 CEST             28112                157368   \n",
       "2    2014-09-16 14:43:29 CEST             23081                 37003   \n",
       "3    2013-04-09 00:43:14 CEST             30335                 47703   \n",
       "4     2014-11-04 18:39:17 CET             28053                 29355   \n",
       "..                        ...               ...                   ...   \n",
       "928  2013-04-09 00:40:45 CEST             42524                115082   \n",
       "929  2013-04-09 00:40:56 CEST            429062                584691   \n",
       "930  2017-10-12 18:16:08 CEST           1775646               1870212   \n",
       "931  2017-06-14 22:20:54 CEST             28084                157368   \n",
       "932  2014-09-19 23:34:58 CEST             62105                 95309   \n",
       "\n",
       "                 Post Created Post Created Date Post Created Time  \\\n",
       "0    2021-05-05 17:32:19 CEST        2021-05-05          17:32:19   \n",
       "1    2021-04-29 03:02:33 CEST        2021-04-29          03:02:33   \n",
       "2    2021-04-23 18:13:17 CEST        2021-04-23          18:13:17   \n",
       "3    2021-04-20 23:56:22 CEST        2021-04-20          23:56:22   \n",
       "4    2021-04-20 15:39:06 CEST        2021-04-20          15:39:06   \n",
       "..                        ...               ...               ...   \n",
       "928  2021-04-21 02:04:26 CEST        2021-04-21          02:04:26   \n",
       "929  2021-04-20 22:12:29 CEST        2021-04-20          22:12:29   \n",
       "930  2021-04-17 15:59:38 CEST        2021-04-17          15:59:38   \n",
       "931  2021-04-20 18:13:20 CEST        2021-04-20          18:13:20   \n",
       "932  2021-05-02 02:02:05 CEST        2021-05-02          02:02:05   \n",
       "\n",
       "             Type Total Interactions  Likes  Comments  Shares  Love  Wow  \\\n",
       "0           Photo              3,757   1607      1231     195   491    2   \n",
       "1           Photo              9,446   3808      2749     512  1982   13   \n",
       "2           Photo              5,755   1521      2907     138   587    9   \n",
       "3            Link              2,223   1170       542      60   342    1   \n",
       "4    Native Video                812    534        77      49   137    0   \n",
       "..            ...                ...    ...       ...     ...   ...  ...   \n",
       "928         Photo              1,366    589       519      32   110    5   \n",
       "929         Photo              3,551   2441       303     255   445    7   \n",
       "930          Link             32,987  22242      3702    1321  4636   63   \n",
       "931  Native Video                251    146        28      44     8    0   \n",
       "932         Photo                581    283       273       4    10    0   \n",
       "\n",
       "     Haha  Sad  Angry  Care Video Share Status Is Video Owner?  Post Views  \\\n",
       "0     161    7     50    13                NaN               -           0   \n",
       "1     234   25     79    44                NaN               -           0   \n",
       "2     190   18    373    12                NaN               -           0   \n",
       "3       6   14     13    75                NaN               -           0   \n",
       "4       5    0      1     9              owned             Yes        3746   \n",
       "..    ...  ...    ...   ...                ...             ...         ...   \n",
       "928    18    2     14    77                NaN               -           0   \n",
       "929    48    2     24    26                NaN               -           0   \n",
       "930   251   31    318   423                NaN               -           0   \n",
       "931     1    1      3    20              owned             Yes        3054   \n",
       "932     4    1      6     0                NaN               -           0   \n",
       "\n",
       "     Total Views  Total Views For All Crossposts Video Length  \\\n",
       "0              0                               0          NaN   \n",
       "1              0                               0          NaN   \n",
       "2              0                               0          NaN   \n",
       "3              0                               0          NaN   \n",
       "4           7257                               0     00:02:04   \n",
       "..           ...                             ...          ...   \n",
       "928            0                               0          NaN   \n",
       "929            0                               0          NaN   \n",
       "930            0                               0          NaN   \n",
       "931         3632                               0     00:01:42   \n",
       "932            0                               0          NaN   \n",
       "\n",
       "                                                   URL  \\\n",
       "0    https://www.facebook.com/213866375370646/posts...   \n",
       "1    https://www.facebook.com/147791132432624/posts...   \n",
       "2    https://www.facebook.com/523773000968844/posts...   \n",
       "3    https://www.facebook.com/127503767282103/posts...   \n",
       "4    https://www.facebook.com/471134912978464/posts...   \n",
       "..                                                 ...   \n",
       "928  https://www.facebook.com/88851604323/posts/101...   \n",
       "929  https://www.facebook.com/15771239406/posts/101...   \n",
       "930  https://www.facebook.com/1316372698453411/post...   \n",
       "931  https://www.facebook.com/147791132432624/posts...   \n",
       "932  https://www.facebook.com/10150135395755161/pos...   \n",
       "\n",
       "                                               Message  \\\n",
       "0    Welcome to Rhode Island, Madam Vice President!...   \n",
       "1    For the first time in history, both seats behi...   \n",
       "2    Look who’s in New Hampshire today! I’m glad to...   \n",
       "3    Justice has been served, but George Floyd shou...   \n",
       "4    Today, I am excited to announce my reelection ...   \n",
       "..                                                 ...   \n",
       "928  Nothing can bring back George Floyd or take aw...   \n",
       "929  For decades, young men and women—disproportion...   \n",
       "930  This is a testament to the power that people’s...   \n",
       "931  It is a moral outrage that veterans exposed to...   \n",
       "932  It's great to be back at the WV girls high sch...   \n",
       "\n",
       "                                                  Link Final Link  \\\n",
       "0    https://www.facebook.com/SenJackReed/photos/a....        NaN   \n",
       "1    https://www.facebook.com/SenKirstenGillibrand/...        NaN   \n",
       "2    https://www.facebook.com/SenatorHassan/photos/...        NaN   \n",
       "3    https://www.cnn.com/2021/04/20/us/derek-chauvi...        NaN   \n",
       "4    https://www.facebook.com/alexpadilla4ca/videos...        NaN   \n",
       "..                                                 ...        ...   \n",
       "928  https://www.facebook.com/SenGaryPeters/photos/...        NaN   \n",
       "929  https://www.facebook.com/senschumer/photos/a.1...        NaN   \n",
       "930  https://apnews.com/article/joe-biden-donald-tr...        NaN   \n",
       "931  https://www.facebook.com/SenKirstenGillibrand/...        NaN   \n",
       "932  https://www.facebook.com/JoeManchinIII/photos/...        NaN   \n",
       "\n",
       "                                            Image Text  \\\n",
       "0                                                  NaN   \n",
       "1                                                  NaN   \n",
       "2                                                  NaN   \n",
       "3                                                  NaN   \n",
       "4                                                  NaN   \n",
       "..                                                 ...   \n",
       "928                                                NaN   \n",
       "929  NORML NORML @NORML Schumer says it's time to e...   \n",
       "930                                                NaN   \n",
       "931                                                NaN   \n",
       "932                                                NaN   \n",
       "\n",
       "                                             Link Text  \\\n",
       "0                                                  NaN   \n",
       "1                                                  NaN   \n",
       "2                                                  NaN   \n",
       "3    Derek Chauvin found guilty of all three charge...   \n",
       "4                              Alex Padilla for Senate   \n",
       "..                                                 ...   \n",
       "928                                                NaN   \n",
       "929                                                NaN   \n",
       "930  After outcry, WH says Biden will lift refugee ...   \n",
       "931                                    A Moral Outrage   \n",
       "932         Photos from Senator Joe Manchin III's post   \n",
       "\n",
       "                                           Description  Sponsor Id  \\\n",
       "0                                                  NaN         NaN   \n",
       "1                                                  NaN         NaN   \n",
       "2                                                  NaN         NaN   \n",
       "3    The former Minneapolis Police officer who knel...         NaN   \n",
       "4                                                  NaN         NaN   \n",
       "..                                                 ...         ...   \n",
       "928                                                NaN         NaN   \n",
       "929                                                NaN         NaN   \n",
       "930  WASHINGTON (AP) — Facing swift blowback from a...         NaN   \n",
       "931                                                NaN         NaN   \n",
       "932                                                NaN         NaN   \n",
       "\n",
       "     Sponsor Name  Sponsor Category  \\\n",
       "0             NaN               NaN   \n",
       "1             NaN               NaN   \n",
       "2             NaN               NaN   \n",
       "3             NaN               NaN   \n",
       "4             NaN               NaN   \n",
       "..            ...               ...   \n",
       "928           NaN               NaN   \n",
       "929           NaN               NaN   \n",
       "930           NaN               NaN   \n",
       "931           NaN               NaN   \n",
       "932           NaN               NaN   \n",
       "\n",
       "     Overperforming Score (weighted  —  Likes 1x Shares 1x Comments 1x Love 1x Wow 1x Haha 1x Sad 1x Angry 1x Care 1x )  \\\n",
       "0                                                20.53                                                                    \n",
       "1                                                18.82                                                                    \n",
       "2                                                18.15                                                                    \n",
       "3                                                17.10                                                                    \n",
       "4                                                16.24                                                                    \n",
       "..                                                 ...                                                                    \n",
       "928                                               1.00                                                                    \n",
       "929                                               1.00                                                                    \n",
       "930                                               1.00                                                                    \n",
       "931                                               1.00                                                                    \n",
       "932                                               1.00                                                                    \n",
       "\n",
       "     reactions_sum  reactions_groupavg     score  \n",
       "0             3757         2015.500000  1.864054  \n",
       "1             9446          959.370370  9.846041  \n",
       "2             5755          757.275862  7.599608  \n",
       "3             2223          372.777778  5.963338  \n",
       "4              812          506.565217  1.602953  \n",
       "..             ...                 ...       ...  \n",
       "928           1366         1666.842105  0.819514  \n",
       "929           3551         5172.552239  0.686508  \n",
       "930          32987        50609.250000  0.651798  \n",
       "931            251          959.370370  0.261630  \n",
       "932            581         1062.285714  0.546934  \n",
       "\n",
       "[933 rows x 43 columns]"
      ],
      "text/html": "<div>\n<style scoped>\n    .dataframe tbody tr th:only-of-type {\n        vertical-align: middle;\n    }\n\n    .dataframe tbody tr th {\n        vertical-align: top;\n    }\n\n    .dataframe thead th {\n        text-align: right;\n    }\n</style>\n<table border=\"1\" class=\"dataframe\">\n  <thead>\n    <tr style=\"text-align: right;\">\n      <th></th>\n      <th>Page Name</th>\n      <th>User Name</th>\n      <th>Facebook Id</th>\n      <th>Page Category</th>\n      <th>Page Admin Top Country</th>\n      <th>Page Description</th>\n      <th>Page Created</th>\n      <th>Likes at Posting</th>\n      <th>Followers at Posting</th>\n      <th>Post Created</th>\n      <th>Post Created Date</th>\n      <th>Post Created Time</th>\n      <th>Type</th>\n      <th>Total Interactions</th>\n      <th>Likes</th>\n      <th>Comments</th>\n      <th>Shares</th>\n      <th>Love</th>\n      <th>Wow</th>\n      <th>Haha</th>\n      <th>Sad</th>\n      <th>Angry</th>\n      <th>Care</th>\n      <th>Video Share Status</th>\n      <th>Is Video Owner?</th>\n      <th>Post Views</th>\n      <th>Total Views</th>\n      <th>Total Views For All Crossposts</th>\n      <th>Video Length</th>\n      <th>URL</th>\n      <th>Message</th>\n      <th>Link</th>\n      <th>Final Link</th>\n      <th>Image Text</th>\n      <th>Link Text</th>\n      <th>Description</th>\n      <th>Sponsor Id</th>\n      <th>Sponsor Name</th>\n      <th>Sponsor Category</th>\n      <th>Overperforming Score (weighted  —  Likes 1x Shares 1x Comments 1x Love 1x Wow 1x Haha 1x Sad 1x Angry 1x Care 1x )</th>\n      <th>reactions_sum</th>\n      <th>reactions_groupavg</th>\n      <th>score</th>\n    </tr>\n  </thead>\n  <tbody>\n    <tr>\n      <th>0</th>\n      <td>Senator Jack Reed</td>\n      <td>SenJackReed</td>\n      <td>213866375370646</td>\n      <td>GOVERNMENT_OFFICIAL</td>\n      <td>US</td>\n      <td>This is the official Facebook page of U.S. Sen...</td>\n      <td>2014-09-19 23:34:38 CEST</td>\n      <td>16439</td>\n      <td>30527</td>\n      <td>2021-05-05 17:32:19 CEST</td>\n      <td>2021-05-05</td>\n      <td>17:32:19</td>\n      <td>Photo</td>\n      <td>3,757</td>\n      <td>1607</td>\n      <td>1231</td>\n      <td>195</td>\n      <td>491</td>\n      <td>2</td>\n      <td>161</td>\n      <td>7</td>\n      <td>50</td>\n      <td>13</td>\n      <td>NaN</td>\n      <td>-</td>\n      <td>0</td>\n      <td>0</td>\n      <td>0</td>\n      <td>NaN</td>\n      <td>https://www.facebook.com/213866375370646/posts...</td>\n      <td>Welcome to Rhode Island, Madam Vice President!...</td>\n      <td>https://www.facebook.com/SenJackReed/photos/a....</td>\n      <td>NaN</td>\n      <td>NaN</td>\n      <td>NaN</td>\n      <td>NaN</td>\n      <td>NaN</td>\n      <td>NaN</td>\n      <td>NaN</td>\n      <td>20.53</td>\n      <td>3757</td>\n      <td>2015.500000</td>\n      <td>1.864054</td>\n    </tr>\n    <tr>\n      <th>1</th>\n      <td>U.S. Senator Kirsten Gillibrand</td>\n      <td>SenKirstenGillibrand</td>\n      <td>147791132432624</td>\n      <td>GOVERNMENT_OFFICIAL</td>\n      <td>US</td>\n      <td>The official Facebook page for the Office of S...</td>\n      <td>2017-06-14 22:20:54 CEST</td>\n      <td>28112</td>\n      <td>157368</td>\n      <td>2021-04-29 03:02:33 CEST</td>\n      <td>2021-04-29</td>\n      <td>03:02:33</td>\n      <td>Photo</td>\n      <td>9,446</td>\n      <td>3808</td>\n      <td>2749</td>\n      <td>512</td>\n      <td>1982</td>\n      <td>13</td>\n      <td>234</td>\n      <td>25</td>\n      <td>79</td>\n      <td>44</td>\n      <td>NaN</td>\n      <td>-</td>\n      <td>0</td>\n      <td>0</td>\n      <td>0</td>\n      <td>NaN</td>\n      <td>https://www.facebook.com/147791132432624/posts...</td>\n      <td>For the first time in history, both seats behi...</td>\n      <td>https://www.facebook.com/SenKirstenGillibrand/...</td>\n      <td>NaN</td>\n      <td>NaN</td>\n      <td>NaN</td>\n      <td>NaN</td>\n      <td>NaN</td>\n      <td>NaN</td>\n      <td>NaN</td>\n      <td>18.82</td>\n      <td>9446</td>\n      <td>959.370370</td>\n      <td>9.846041</td>\n    </tr>\n    <tr>\n      <th>2</th>\n      <td>Senator Maggie Hassan</td>\n      <td>SenatorHassan</td>\n      <td>523773000968844</td>\n      <td>GOVERNMENT_OFFICIAL</td>\n      <td>US</td>\n      <td>Proud to represent New Hampshire in the U.S. S...</td>\n      <td>2014-09-16 14:43:29 CEST</td>\n      <td>23081</td>\n      <td>37003</td>\n      <td>2021-04-23 18:13:17 CEST</td>\n      <td>2021-04-23</td>\n      <td>18:13:17</td>\n      <td>Photo</td>\n      <td>5,755</td>\n      <td>1521</td>\n      <td>2907</td>\n      <td>138</td>\n      <td>587</td>\n      <td>9</td>\n      <td>190</td>\n      <td>18</td>\n      <td>373</td>\n      <td>12</td>\n      <td>NaN</td>\n      <td>-</td>\n      <td>0</td>\n      <td>0</td>\n      <td>0</td>\n      <td>NaN</td>\n      <td>https://www.facebook.com/523773000968844/posts...</td>\n      <td>Look who’s in New Hampshire today! I’m glad to...</td>\n      <td>https://www.facebook.com/SenatorHassan/photos/...</td>\n      <td>NaN</td>\n      <td>NaN</td>\n      <td>NaN</td>\n      <td>NaN</td>\n      <td>NaN</td>\n      <td>NaN</td>\n      <td>NaN</td>\n      <td>18.15</td>\n      <td>5755</td>\n      <td>757.275862</td>\n      <td>7.599608</td>\n    </tr>\n    <tr>\n      <th>3</th>\n      <td>Senator Jeanne Shaheen</td>\n      <td>SenatorShaheen</td>\n      <td>127503767282103</td>\n      <td>GOVERNMENT_OFFICIAL</td>\n      <td>US</td>\n      <td>U.S. Senator Jeanne Shaheen is proud to repres...</td>\n      <td>2013-04-09 00:43:14 CEST</td>\n      <td>30335</td>\n      <td>47703</td>\n      <td>2021-04-20 23:56:22 CEST</td>\n      <td>2021-04-20</td>\n      <td>23:56:22</td>\n      <td>Link</td>\n      <td>2,223</td>\n      <td>1170</td>\n      <td>542</td>\n      <td>60</td>\n      <td>342</td>\n      <td>1</td>\n      <td>6</td>\n      <td>14</td>\n      <td>13</td>\n      <td>75</td>\n      <td>NaN</td>\n      <td>-</td>\n      <td>0</td>\n      <td>0</td>\n      <td>0</td>\n      <td>NaN</td>\n      <td>https://www.facebook.com/127503767282103/posts...</td>\n      <td>Justice has been served, but George Floyd shou...</td>\n      <td>https://www.cnn.com/2021/04/20/us/derek-chauvi...</td>\n      <td>NaN</td>\n      <td>NaN</td>\n      <td>Derek Chauvin found guilty of all three charge...</td>\n      <td>The former Minneapolis Police officer who knel...</td>\n      <td>NaN</td>\n      <td>NaN</td>\n      <td>NaN</td>\n      <td>17.10</td>\n      <td>2223</td>\n      <td>372.777778</td>\n      <td>5.963338</td>\n    </tr>\n    <tr>\n      <th>4</th>\n      <td>Alex Padilla</td>\n      <td>alexpadilla4ca</td>\n      <td>471134912978464</td>\n      <td>POLITICIAN</td>\n      <td>US</td>\n      <td>U.S. Senator for California. Husband &amp; Dad. Fo...</td>\n      <td>2014-11-04 18:39:17 CET</td>\n      <td>28053</td>\n      <td>29355</td>\n      <td>2021-04-20 15:39:06 CEST</td>\n      <td>2021-04-20</td>\n      <td>15:39:06</td>\n      <td>Native Video</td>\n      <td>812</td>\n      <td>534</td>\n      <td>77</td>\n      <td>49</td>\n      <td>137</td>\n      <td>0</td>\n      <td>5</td>\n      <td>0</td>\n      <td>1</td>\n      <td>9</td>\n      <td>owned</td>\n      <td>Yes</td>\n      <td>3746</td>\n      <td>7257</td>\n      <td>0</td>\n      <td>00:02:04</td>\n      <td>https://www.facebook.com/471134912978464/posts...</td>\n      <td>Today, I am excited to announce my reelection ...</td>\n      <td>https://www.facebook.com/alexpadilla4ca/videos...</td>\n      <td>NaN</td>\n      <td>NaN</td>\n      <td>Alex Padilla for Senate</td>\n      <td>NaN</td>\n      <td>NaN</td>\n      <td>NaN</td>\n      <td>NaN</td>\n      <td>16.24</td>\n      <td>812</td>\n      <td>506.565217</td>\n      <td>1.602953</td>\n    </tr>\n    <tr>\n      <th>...</th>\n      <td>...</td>\n      <td>...</td>\n      <td>...</td>\n      <td>...</td>\n      <td>...</td>\n      <td>...</td>\n      <td>...</td>\n      <td>...</td>\n      <td>...</td>\n      <td>...</td>\n      <td>...</td>\n      <td>...</td>\n      <td>...</td>\n      <td>...</td>\n      <td>...</td>\n      <td>...</td>\n      <td>...</td>\n      <td>...</td>\n      <td>...</td>\n      <td>...</td>\n      <td>...</td>\n      <td>...</td>\n      <td>...</td>\n      <td>...</td>\n      <td>...</td>\n      <td>...</td>\n      <td>...</td>\n      <td>...</td>\n      <td>...</td>\n      <td>...</td>\n      <td>...</td>\n      <td>...</td>\n      <td>...</td>\n      <td>...</td>\n      <td>...</td>\n      <td>...</td>\n      <td>...</td>\n      <td>...</td>\n      <td>...</td>\n      <td>...</td>\n      <td>...</td>\n      <td>...</td>\n      <td>...</td>\n    </tr>\n    <tr>\n      <th>928</th>\n      <td>Senator Gary Peters</td>\n      <td>SenGaryPeters</td>\n      <td>88851604323</td>\n      <td>GOVERNMENT_OFFICIAL</td>\n      <td>US</td>\n      <td>U.S. Senator proudly representing the state of...</td>\n      <td>2013-04-09 00:40:45 CEST</td>\n      <td>42524</td>\n      <td>115082</td>\n      <td>2021-04-21 02:04:26 CEST</td>\n      <td>2021-04-21</td>\n      <td>02:04:26</td>\n      <td>Photo</td>\n      <td>1,366</td>\n      <td>589</td>\n      <td>519</td>\n      <td>32</td>\n      <td>110</td>\n      <td>5</td>\n      <td>18</td>\n      <td>2</td>\n      <td>14</td>\n      <td>77</td>\n      <td>NaN</td>\n      <td>-</td>\n      <td>0</td>\n      <td>0</td>\n      <td>0</td>\n      <td>NaN</td>\n      <td>https://www.facebook.com/88851604323/posts/101...</td>\n      <td>Nothing can bring back George Floyd or take aw...</td>\n      <td>https://www.facebook.com/SenGaryPeters/photos/...</td>\n      <td>NaN</td>\n      <td>NaN</td>\n      <td>NaN</td>\n      <td>NaN</td>\n      <td>NaN</td>\n      <td>NaN</td>\n      <td>NaN</td>\n      <td>1.00</td>\n      <td>1366</td>\n      <td>1666.842105</td>\n      <td>0.819514</td>\n    </tr>\n    <tr>\n      <th>929</th>\n      <td>Senator Chuck Schumer</td>\n      <td>senschumer</td>\n      <td>15771239406</td>\n      <td>GOVERNMENT_OFFICIAL</td>\n      <td>US</td>\n      <td>Official Account of Senator Chuck Schumer, New...</td>\n      <td>2013-04-09 00:40:56 CEST</td>\n      <td>429062</td>\n      <td>584691</td>\n      <td>2021-04-20 22:12:29 CEST</td>\n      <td>2021-04-20</td>\n      <td>22:12:29</td>\n      <td>Photo</td>\n      <td>3,551</td>\n      <td>2441</td>\n      <td>303</td>\n      <td>255</td>\n      <td>445</td>\n      <td>7</td>\n      <td>48</td>\n      <td>2</td>\n      <td>24</td>\n      <td>26</td>\n      <td>NaN</td>\n      <td>-</td>\n      <td>0</td>\n      <td>0</td>\n      <td>0</td>\n      <td>NaN</td>\n      <td>https://www.facebook.com/15771239406/posts/101...</td>\n      <td>For decades, young men and women—disproportion...</td>\n      <td>https://www.facebook.com/senschumer/photos/a.1...</td>\n      <td>NaN</td>\n      <td>NORML NORML @NORML Schumer says it's time to e...</td>\n      <td>NaN</td>\n      <td>NaN</td>\n      <td>NaN</td>\n      <td>NaN</td>\n      <td>NaN</td>\n      <td>1.00</td>\n      <td>3551</td>\n      <td>5172.552239</td>\n      <td>0.686508</td>\n    </tr>\n    <tr>\n      <th>930</th>\n      <td>Alexandria Ocasio-Cortez</td>\n      <td>OcasioCortez</td>\n      <td>1316372698453411</td>\n      <td>ACTIVITY_GENERAL</td>\n      <td>US</td>\n      <td>Educator, organizer, service worker, and Congr...</td>\n      <td>2017-10-12 18:16:08 CEST</td>\n      <td>1775646</td>\n      <td>1870212</td>\n      <td>2021-04-17 15:59:38 CEST</td>\n      <td>2021-04-17</td>\n      <td>15:59:38</td>\n      <td>Link</td>\n      <td>32,987</td>\n      <td>22242</td>\n      <td>3702</td>\n      <td>1321</td>\n      <td>4636</td>\n      <td>63</td>\n      <td>251</td>\n      <td>31</td>\n      <td>318</td>\n      <td>423</td>\n      <td>NaN</td>\n      <td>-</td>\n      <td>0</td>\n      <td>0</td>\n      <td>0</td>\n      <td>NaN</td>\n      <td>https://www.facebook.com/1316372698453411/post...</td>\n      <td>This is a testament to the power that people’s...</td>\n      <td>https://apnews.com/article/joe-biden-donald-tr...</td>\n      <td>NaN</td>\n      <td>NaN</td>\n      <td>After outcry, WH says Biden will lift refugee ...</td>\n      <td>WASHINGTON (AP) — Facing swift blowback from a...</td>\n      <td>NaN</td>\n      <td>NaN</td>\n      <td>NaN</td>\n      <td>1.00</td>\n      <td>32987</td>\n      <td>50609.250000</td>\n      <td>0.651798</td>\n    </tr>\n    <tr>\n      <th>931</th>\n      <td>U.S. Senator Kirsten Gillibrand</td>\n      <td>SenKirstenGillibrand</td>\n      <td>147791132432624</td>\n      <td>GOVERNMENT_OFFICIAL</td>\n      <td>US</td>\n      <td>The official Facebook page for the Office of S...</td>\n      <td>2017-06-14 22:20:54 CEST</td>\n      <td>28084</td>\n      <td>157368</td>\n      <td>2021-04-20 18:13:20 CEST</td>\n      <td>2021-04-20</td>\n      <td>18:13:20</td>\n      <td>Native Video</td>\n      <td>251</td>\n      <td>146</td>\n      <td>28</td>\n      <td>44</td>\n      <td>8</td>\n      <td>0</td>\n      <td>1</td>\n      <td>1</td>\n      <td>3</td>\n      <td>20</td>\n      <td>owned</td>\n      <td>Yes</td>\n      <td>3054</td>\n      <td>3632</td>\n      <td>0</td>\n      <td>00:01:42</td>\n      <td>https://www.facebook.com/147791132432624/posts...</td>\n      <td>It is a moral outrage that veterans exposed to...</td>\n      <td>https://www.facebook.com/SenKirstenGillibrand/...</td>\n      <td>NaN</td>\n      <td>NaN</td>\n      <td>A Moral Outrage</td>\n      <td>NaN</td>\n      <td>NaN</td>\n      <td>NaN</td>\n      <td>NaN</td>\n      <td>1.00</td>\n      <td>251</td>\n      <td>959.370370</td>\n      <td>0.261630</td>\n    </tr>\n    <tr>\n      <th>932</th>\n      <td>Senator Joe Manchin III</td>\n      <td>JoeManchinIII</td>\n      <td>10150135395755161</td>\n      <td>GOVERNMENT_OFFICIAL</td>\n      <td>US</td>\n      <td>http://www.manchin.senate.gov\\n\\nDetermined to...</td>\n      <td>2014-09-19 23:34:58 CEST</td>\n      <td>62105</td>\n      <td>95309</td>\n      <td>2021-05-02 02:02:05 CEST</td>\n      <td>2021-05-02</td>\n      <td>02:02:05</td>\n      <td>Photo</td>\n      <td>581</td>\n      <td>283</td>\n      <td>273</td>\n      <td>4</td>\n      <td>10</td>\n      <td>0</td>\n      <td>4</td>\n      <td>1</td>\n      <td>6</td>\n      <td>0</td>\n      <td>NaN</td>\n      <td>-</td>\n      <td>0</td>\n      <td>0</td>\n      <td>0</td>\n      <td>NaN</td>\n      <td>https://www.facebook.com/10150135395755161/pos...</td>\n      <td>It's great to be back at the WV girls high sch...</td>\n      <td>https://www.facebook.com/JoeManchinIII/photos/...</td>\n      <td>NaN</td>\n      <td>NaN</td>\n      <td>Photos from Senator Joe Manchin III's post</td>\n      <td>NaN</td>\n      <td>NaN</td>\n      <td>NaN</td>\n      <td>NaN</td>\n      <td>1.00</td>\n      <td>581</td>\n      <td>1062.285714</td>\n      <td>0.546934</td>\n    </tr>\n  </tbody>\n</table>\n<p>933 rows × 43 columns</p>\n</div>"
     },
     "metadata": {},
     "execution_count": 29
    }
   ],
   "source": [
    "df = df.assign(\n",
    "        reactions_sum=df.apply(lambda r: r['Likes'] + r['Comments'] + r['Shares'] + r['Love'] + r['Wow'] + r['Haha'] + r['Sad'] + r['Angry'] + r['Care'], axis=1).values\n",
    ")\n",
    "df = df.assign(\n",
    "        reactions_groupavg=df.groupby('Facebook Id')['reactions_sum'].transform('mean').values\n",
    ")\n",
    "df = df.assign(\n",
    "        score=df.apply(lambda r: (r['reactions_sum'] / r['reactions_groupavg']), axis=1).values\n",
    ")\n",
    "df_prep = df\n",
    "df_prep\n"
   ]
  },
  {
   "cell_type": "code",
   "execution_count": 30,
   "metadata": {},
   "outputs": [
    {
     "output_type": "execute_result",
     "data": {
      "text/plain": [
       "Index(['Page Name', 'User Name', 'Facebook Id', 'Page Category',\n",
       "       'Page Admin Top Country', 'Page Description', 'Page Created',\n",
       "       'Likes at Posting', 'Followers at Posting', 'Post Created',\n",
       "       'Post Created Date', 'Post Created Time', 'Type', 'Total Interactions',\n",
       "       'Likes', 'Comments', 'Shares', 'Love', 'Wow', 'Haha', 'Sad', 'Angry',\n",
       "       'Care', 'Video Share Status', 'Is Video Owner?', 'Post Views',\n",
       "       'Total Views', 'Total Views For All Crossposts', 'Video Length', 'URL',\n",
       "       'Message', 'Link', 'Final Link', 'Image Text', 'Link Text',\n",
       "       'Description', 'Sponsor Id', 'Sponsor Name', 'Sponsor Category',\n",
       "       'Overperforming Score (weighted  —  Likes 1x Shares 1x Comments 1x Love 1x Wow 1x Haha 1x Sad 1x Angry 1x Care 1x )',\n",
       "       'reactions_sum', 'reactions_groupavg', 'score'],\n",
       "      dtype='object')"
      ]
     },
     "metadata": {},
     "execution_count": 30
    }
   ],
   "source": [
    "df_prep.columns"
   ]
  },
  {
   "cell_type": "code",
   "execution_count": 31,
   "metadata": {},
   "outputs": [
    {
     "output_type": "execute_result",
     "data": {
      "text/plain": [
       "                           Page Name             User Name        Facebook Id  \\\n",
       "0                  Senator Jack Reed           SenJackReed    213866375370646   \n",
       "1    U.S. Senator Kirsten Gillibrand  SenKirstenGillibrand    147791132432624   \n",
       "2              Senator Maggie Hassan         SenatorHassan    523773000968844   \n",
       "3             Senator Jeanne Shaheen        SenatorShaheen    127503767282103   \n",
       "4                       Alex Padilla        alexpadilla4ca    471134912978464   \n",
       "..                               ...                   ...                ...   \n",
       "928              Senator Gary Peters         SenGaryPeters        88851604323   \n",
       "929            Senator Chuck Schumer            senschumer        15771239406   \n",
       "930         Alexandria Ocasio-Cortez          OcasioCortez   1316372698453411   \n",
       "931  U.S. Senator Kirsten Gillibrand  SenKirstenGillibrand    147791132432624   \n",
       "932          Senator Joe Manchin III         JoeManchinIII  10150135395755161   \n",
       "\n",
       "     Likes at Posting  Followers at Posting                   Created  \\\n",
       "0               16439                 30527  2021-05-05 17:32:19 CEST   \n",
       "1               28112                157368  2021-04-29 03:02:33 CEST   \n",
       "2               23081                 37003  2021-04-23 18:13:17 CEST   \n",
       "3               30335                 47703  2021-04-20 23:56:22 CEST   \n",
       "4               28053                 29355  2021-04-20 15:39:06 CEST   \n",
       "..                ...                   ...                       ...   \n",
       "928             42524                115082  2021-04-21 02:04:26 CEST   \n",
       "929            429062                584691  2021-04-20 22:12:29 CEST   \n",
       "930           1775646               1870212  2021-04-17 15:59:38 CEST   \n",
       "931             28084                157368  2021-04-20 18:13:20 CEST   \n",
       "932             62105                 95309  2021-05-02 02:02:05 CEST   \n",
       "\n",
       "             Type Total Interactions  Likes  Comments  Shares  Love  Wow  \\\n",
       "0           Photo              3,757   1607      1231     195   491    2   \n",
       "1           Photo              9,446   3808      2749     512  1982   13   \n",
       "2           Photo              5,755   1521      2907     138   587    9   \n",
       "3            Link              2,223   1170       542      60   342    1   \n",
       "4    Native Video                812    534        77      49   137    0   \n",
       "..            ...                ...    ...       ...     ...   ...  ...   \n",
       "928         Photo              1,366    589       519      32   110    5   \n",
       "929         Photo              3,551   2441       303     255   445    7   \n",
       "930          Link             32,987  22242      3702    1321  4636   63   \n",
       "931  Native Video                251    146        28      44     8    0   \n",
       "932         Photo                581    283       273       4    10    0   \n",
       "\n",
       "     Haha  Sad  Angry  Care Video Share Status  Post Views  Total Views  \\\n",
       "0     161    7     50    13                NaN           0            0   \n",
       "1     234   25     79    44                NaN           0            0   \n",
       "2     190   18    373    12                NaN           0            0   \n",
       "3       6   14     13    75                NaN           0            0   \n",
       "4       5    0      1     9              owned        3746         7257   \n",
       "..    ...  ...    ...   ...                ...         ...          ...   \n",
       "928    18    2     14    77                NaN           0            0   \n",
       "929    48    2     24    26                NaN           0            0   \n",
       "930   251   31    318   423                NaN           0            0   \n",
       "931     1    1      3    20              owned        3054         3632   \n",
       "932     4    1      6     0                NaN           0            0   \n",
       "\n",
       "     Total Views For All Crossposts Video Length  \\\n",
       "0                                 0          NaN   \n",
       "1                                 0          NaN   \n",
       "2                                 0          NaN   \n",
       "3                                 0          NaN   \n",
       "4                                 0     00:02:04   \n",
       "..                              ...          ...   \n",
       "928                               0          NaN   \n",
       "929                               0          NaN   \n",
       "930                               0          NaN   \n",
       "931                               0     00:01:42   \n",
       "932                               0          NaN   \n",
       "\n",
       "                                                   URL  \\\n",
       "0    https://www.facebook.com/213866375370646/posts...   \n",
       "1    https://www.facebook.com/147791132432624/posts...   \n",
       "2    https://www.facebook.com/523773000968844/posts...   \n",
       "3    https://www.facebook.com/127503767282103/posts...   \n",
       "4    https://www.facebook.com/471134912978464/posts...   \n",
       "..                                                 ...   \n",
       "928  https://www.facebook.com/88851604323/posts/101...   \n",
       "929  https://www.facebook.com/15771239406/posts/101...   \n",
       "930  https://www.facebook.com/1316372698453411/post...   \n",
       "931  https://www.facebook.com/147791132432624/posts...   \n",
       "932  https://www.facebook.com/10150135395755161/pos...   \n",
       "\n",
       "                                               Message  \\\n",
       "0    Welcome to Rhode Island, Madam Vice President!...   \n",
       "1    For the first time in history, both seats behi...   \n",
       "2    Look who’s in New Hampshire today! I’m glad to...   \n",
       "3    Justice has been served, but George Floyd shou...   \n",
       "4    Today, I am excited to announce my reelection ...   \n",
       "..                                                 ...   \n",
       "928  Nothing can bring back George Floyd or take aw...   \n",
       "929  For decades, young men and women—disproportion...   \n",
       "930  This is a testament to the power that people’s...   \n",
       "931  It is a moral outrage that veterans exposed to...   \n",
       "932  It's great to be back at the WV girls high sch...   \n",
       "\n",
       "                                                  Link Final Link  \\\n",
       "0    https://www.facebook.com/SenJackReed/photos/a....        NaN   \n",
       "1    https://www.facebook.com/SenKirstenGillibrand/...        NaN   \n",
       "2    https://www.facebook.com/SenatorHassan/photos/...        NaN   \n",
       "3    https://www.cnn.com/2021/04/20/us/derek-chauvi...        NaN   \n",
       "4    https://www.facebook.com/alexpadilla4ca/videos...        NaN   \n",
       "..                                                 ...        ...   \n",
       "928  https://www.facebook.com/SenGaryPeters/photos/...        NaN   \n",
       "929  https://www.facebook.com/senschumer/photos/a.1...        NaN   \n",
       "930  https://apnews.com/article/joe-biden-donald-tr...        NaN   \n",
       "931  https://www.facebook.com/SenKirstenGillibrand/...        NaN   \n",
       "932  https://www.facebook.com/JoeManchinIII/photos/...        NaN   \n",
       "\n",
       "                                            Image Text  \\\n",
       "0                                                  NaN   \n",
       "1                                                  NaN   \n",
       "2                                                  NaN   \n",
       "3                                                  NaN   \n",
       "4                                                  NaN   \n",
       "..                                                 ...   \n",
       "928                                                NaN   \n",
       "929  NORML NORML @NORML Schumer says it's time to e...   \n",
       "930                                                NaN   \n",
       "931                                                NaN   \n",
       "932                                                NaN   \n",
       "\n",
       "                                             Link Text  \\\n",
       "0                                                  NaN   \n",
       "1                                                  NaN   \n",
       "2                                                  NaN   \n",
       "3    Derek Chauvin found guilty of all three charge...   \n",
       "4                              Alex Padilla for Senate   \n",
       "..                                                 ...   \n",
       "928                                                NaN   \n",
       "929                                                NaN   \n",
       "930  After outcry, WH says Biden will lift refugee ...   \n",
       "931                                    A Moral Outrage   \n",
       "932         Photos from Senator Joe Manchin III's post   \n",
       "\n",
       "                                           Description  Sponsor Id  \\\n",
       "0                                                  NaN         NaN   \n",
       "1                                                  NaN         NaN   \n",
       "2                                                  NaN         NaN   \n",
       "3    The former Minneapolis Police officer who knel...         NaN   \n",
       "4                                                  NaN         NaN   \n",
       "..                                                 ...         ...   \n",
       "928                                                NaN         NaN   \n",
       "929                                                NaN         NaN   \n",
       "930  WASHINGTON (AP) — Facing swift blowback from a...         NaN   \n",
       "931                                                NaN         NaN   \n",
       "932                                                NaN         NaN   \n",
       "\n",
       "     Sponsor Name  \\\n",
       "0             NaN   \n",
       "1             NaN   \n",
       "2             NaN   \n",
       "3             NaN   \n",
       "4             NaN   \n",
       "..            ...   \n",
       "928           NaN   \n",
       "929           NaN   \n",
       "930           NaN   \n",
       "931           NaN   \n",
       "932           NaN   \n",
       "\n",
       "     Overperforming Score (weighted  —  Likes 1x Shares 1x Comments 1x Love 1x Wow 1x Haha 1x Sad 1x Angry 1x Care 1x )  \\\n",
       "0                                                20.53                                                                    \n",
       "1                                                18.82                                                                    \n",
       "2                                                18.15                                                                    \n",
       "3                                                17.10                                                                    \n",
       "4                                                16.24                                                                    \n",
       "..                                                 ...                                                                    \n",
       "928                                               1.00                                                                    \n",
       "929                                               1.00                                                                    \n",
       "930                                               1.00                                                                    \n",
       "931                                               1.00                                                                    \n",
       "932                                               1.00                                                                    \n",
       "\n",
       "     reactions_sum  reactions_groupavg     score  \n",
       "0             3757         2015.500000  1.864054  \n",
       "1             9446          959.370370  9.846041  \n",
       "2             5755          757.275862  7.599608  \n",
       "3             2223          372.777778  5.963338  \n",
       "4              812          506.565217  1.602953  \n",
       "..             ...                 ...       ...  \n",
       "928           1366         1666.842105  0.819514  \n",
       "929           3551         5172.552239  0.686508  \n",
       "930          32987        50609.250000  0.651798  \n",
       "931            251          959.370370  0.261630  \n",
       "932            581         1062.285714  0.546934  \n",
       "\n",
       "[933 rows x 35 columns]"
      ],
      "text/html": "<div>\n<style scoped>\n    .dataframe tbody tr th:only-of-type {\n        vertical-align: middle;\n    }\n\n    .dataframe tbody tr th {\n        vertical-align: top;\n    }\n\n    .dataframe thead th {\n        text-align: right;\n    }\n</style>\n<table border=\"1\" class=\"dataframe\">\n  <thead>\n    <tr style=\"text-align: right;\">\n      <th></th>\n      <th>Page Name</th>\n      <th>User Name</th>\n      <th>Facebook Id</th>\n      <th>Likes at Posting</th>\n      <th>Followers at Posting</th>\n      <th>Created</th>\n      <th>Type</th>\n      <th>Total Interactions</th>\n      <th>Likes</th>\n      <th>Comments</th>\n      <th>Shares</th>\n      <th>Love</th>\n      <th>Wow</th>\n      <th>Haha</th>\n      <th>Sad</th>\n      <th>Angry</th>\n      <th>Care</th>\n      <th>Video Share Status</th>\n      <th>Post Views</th>\n      <th>Total Views</th>\n      <th>Total Views For All Crossposts</th>\n      <th>Video Length</th>\n      <th>URL</th>\n      <th>Message</th>\n      <th>Link</th>\n      <th>Final Link</th>\n      <th>Image Text</th>\n      <th>Link Text</th>\n      <th>Description</th>\n      <th>Sponsor Id</th>\n      <th>Sponsor Name</th>\n      <th>Overperforming Score (weighted  —  Likes 1x Shares 1x Comments 1x Love 1x Wow 1x Haha 1x Sad 1x Angry 1x Care 1x )</th>\n      <th>reactions_sum</th>\n      <th>reactions_groupavg</th>\n      <th>score</th>\n    </tr>\n  </thead>\n  <tbody>\n    <tr>\n      <th>0</th>\n      <td>Senator Jack Reed</td>\n      <td>SenJackReed</td>\n      <td>213866375370646</td>\n      <td>16439</td>\n      <td>30527</td>\n      <td>2021-05-05 17:32:19 CEST</td>\n      <td>Photo</td>\n      <td>3,757</td>\n      <td>1607</td>\n      <td>1231</td>\n      <td>195</td>\n      <td>491</td>\n      <td>2</td>\n      <td>161</td>\n      <td>7</td>\n      <td>50</td>\n      <td>13</td>\n      <td>NaN</td>\n      <td>0</td>\n      <td>0</td>\n      <td>0</td>\n      <td>NaN</td>\n      <td>https://www.facebook.com/213866375370646/posts...</td>\n      <td>Welcome to Rhode Island, Madam Vice President!...</td>\n      <td>https://www.facebook.com/SenJackReed/photos/a....</td>\n      <td>NaN</td>\n      <td>NaN</td>\n      <td>NaN</td>\n      <td>NaN</td>\n      <td>NaN</td>\n      <td>NaN</td>\n      <td>20.53</td>\n      <td>3757</td>\n      <td>2015.500000</td>\n      <td>1.864054</td>\n    </tr>\n    <tr>\n      <th>1</th>\n      <td>U.S. Senator Kirsten Gillibrand</td>\n      <td>SenKirstenGillibrand</td>\n      <td>147791132432624</td>\n      <td>28112</td>\n      <td>157368</td>\n      <td>2021-04-29 03:02:33 CEST</td>\n      <td>Photo</td>\n      <td>9,446</td>\n      <td>3808</td>\n      <td>2749</td>\n      <td>512</td>\n      <td>1982</td>\n      <td>13</td>\n      <td>234</td>\n      <td>25</td>\n      <td>79</td>\n      <td>44</td>\n      <td>NaN</td>\n      <td>0</td>\n      <td>0</td>\n      <td>0</td>\n      <td>NaN</td>\n      <td>https://www.facebook.com/147791132432624/posts...</td>\n      <td>For the first time in history, both seats behi...</td>\n      <td>https://www.facebook.com/SenKirstenGillibrand/...</td>\n      <td>NaN</td>\n      <td>NaN</td>\n      <td>NaN</td>\n      <td>NaN</td>\n      <td>NaN</td>\n      <td>NaN</td>\n      <td>18.82</td>\n      <td>9446</td>\n      <td>959.370370</td>\n      <td>9.846041</td>\n    </tr>\n    <tr>\n      <th>2</th>\n      <td>Senator Maggie Hassan</td>\n      <td>SenatorHassan</td>\n      <td>523773000968844</td>\n      <td>23081</td>\n      <td>37003</td>\n      <td>2021-04-23 18:13:17 CEST</td>\n      <td>Photo</td>\n      <td>5,755</td>\n      <td>1521</td>\n      <td>2907</td>\n      <td>138</td>\n      <td>587</td>\n      <td>9</td>\n      <td>190</td>\n      <td>18</td>\n      <td>373</td>\n      <td>12</td>\n      <td>NaN</td>\n      <td>0</td>\n      <td>0</td>\n      <td>0</td>\n      <td>NaN</td>\n      <td>https://www.facebook.com/523773000968844/posts...</td>\n      <td>Look who’s in New Hampshire today! I’m glad to...</td>\n      <td>https://www.facebook.com/SenatorHassan/photos/...</td>\n      <td>NaN</td>\n      <td>NaN</td>\n      <td>NaN</td>\n      <td>NaN</td>\n      <td>NaN</td>\n      <td>NaN</td>\n      <td>18.15</td>\n      <td>5755</td>\n      <td>757.275862</td>\n      <td>7.599608</td>\n    </tr>\n    <tr>\n      <th>3</th>\n      <td>Senator Jeanne Shaheen</td>\n      <td>SenatorShaheen</td>\n      <td>127503767282103</td>\n      <td>30335</td>\n      <td>47703</td>\n      <td>2021-04-20 23:56:22 CEST</td>\n      <td>Link</td>\n      <td>2,223</td>\n      <td>1170</td>\n      <td>542</td>\n      <td>60</td>\n      <td>342</td>\n      <td>1</td>\n      <td>6</td>\n      <td>14</td>\n      <td>13</td>\n      <td>75</td>\n      <td>NaN</td>\n      <td>0</td>\n      <td>0</td>\n      <td>0</td>\n      <td>NaN</td>\n      <td>https://www.facebook.com/127503767282103/posts...</td>\n      <td>Justice has been served, but George Floyd shou...</td>\n      <td>https://www.cnn.com/2021/04/20/us/derek-chauvi...</td>\n      <td>NaN</td>\n      <td>NaN</td>\n      <td>Derek Chauvin found guilty of all three charge...</td>\n      <td>The former Minneapolis Police officer who knel...</td>\n      <td>NaN</td>\n      <td>NaN</td>\n      <td>17.10</td>\n      <td>2223</td>\n      <td>372.777778</td>\n      <td>5.963338</td>\n    </tr>\n    <tr>\n      <th>4</th>\n      <td>Alex Padilla</td>\n      <td>alexpadilla4ca</td>\n      <td>471134912978464</td>\n      <td>28053</td>\n      <td>29355</td>\n      <td>2021-04-20 15:39:06 CEST</td>\n      <td>Native Video</td>\n      <td>812</td>\n      <td>534</td>\n      <td>77</td>\n      <td>49</td>\n      <td>137</td>\n      <td>0</td>\n      <td>5</td>\n      <td>0</td>\n      <td>1</td>\n      <td>9</td>\n      <td>owned</td>\n      <td>3746</td>\n      <td>7257</td>\n      <td>0</td>\n      <td>00:02:04</td>\n      <td>https://www.facebook.com/471134912978464/posts...</td>\n      <td>Today, I am excited to announce my reelection ...</td>\n      <td>https://www.facebook.com/alexpadilla4ca/videos...</td>\n      <td>NaN</td>\n      <td>NaN</td>\n      <td>Alex Padilla for Senate</td>\n      <td>NaN</td>\n      <td>NaN</td>\n      <td>NaN</td>\n      <td>16.24</td>\n      <td>812</td>\n      <td>506.565217</td>\n      <td>1.602953</td>\n    </tr>\n    <tr>\n      <th>...</th>\n      <td>...</td>\n      <td>...</td>\n      <td>...</td>\n      <td>...</td>\n      <td>...</td>\n      <td>...</td>\n      <td>...</td>\n      <td>...</td>\n      <td>...</td>\n      <td>...</td>\n      <td>...</td>\n      <td>...</td>\n      <td>...</td>\n      <td>...</td>\n      <td>...</td>\n      <td>...</td>\n      <td>...</td>\n      <td>...</td>\n      <td>...</td>\n      <td>...</td>\n      <td>...</td>\n      <td>...</td>\n      <td>...</td>\n      <td>...</td>\n      <td>...</td>\n      <td>...</td>\n      <td>...</td>\n      <td>...</td>\n      <td>...</td>\n      <td>...</td>\n      <td>...</td>\n      <td>...</td>\n      <td>...</td>\n      <td>...</td>\n      <td>...</td>\n    </tr>\n    <tr>\n      <th>928</th>\n      <td>Senator Gary Peters</td>\n      <td>SenGaryPeters</td>\n      <td>88851604323</td>\n      <td>42524</td>\n      <td>115082</td>\n      <td>2021-04-21 02:04:26 CEST</td>\n      <td>Photo</td>\n      <td>1,366</td>\n      <td>589</td>\n      <td>519</td>\n      <td>32</td>\n      <td>110</td>\n      <td>5</td>\n      <td>18</td>\n      <td>2</td>\n      <td>14</td>\n      <td>77</td>\n      <td>NaN</td>\n      <td>0</td>\n      <td>0</td>\n      <td>0</td>\n      <td>NaN</td>\n      <td>https://www.facebook.com/88851604323/posts/101...</td>\n      <td>Nothing can bring back George Floyd or take aw...</td>\n      <td>https://www.facebook.com/SenGaryPeters/photos/...</td>\n      <td>NaN</td>\n      <td>NaN</td>\n      <td>NaN</td>\n      <td>NaN</td>\n      <td>NaN</td>\n      <td>NaN</td>\n      <td>1.00</td>\n      <td>1366</td>\n      <td>1666.842105</td>\n      <td>0.819514</td>\n    </tr>\n    <tr>\n      <th>929</th>\n      <td>Senator Chuck Schumer</td>\n      <td>senschumer</td>\n      <td>15771239406</td>\n      <td>429062</td>\n      <td>584691</td>\n      <td>2021-04-20 22:12:29 CEST</td>\n      <td>Photo</td>\n      <td>3,551</td>\n      <td>2441</td>\n      <td>303</td>\n      <td>255</td>\n      <td>445</td>\n      <td>7</td>\n      <td>48</td>\n      <td>2</td>\n      <td>24</td>\n      <td>26</td>\n      <td>NaN</td>\n      <td>0</td>\n      <td>0</td>\n      <td>0</td>\n      <td>NaN</td>\n      <td>https://www.facebook.com/15771239406/posts/101...</td>\n      <td>For decades, young men and women—disproportion...</td>\n      <td>https://www.facebook.com/senschumer/photos/a.1...</td>\n      <td>NaN</td>\n      <td>NORML NORML @NORML Schumer says it's time to e...</td>\n      <td>NaN</td>\n      <td>NaN</td>\n      <td>NaN</td>\n      <td>NaN</td>\n      <td>1.00</td>\n      <td>3551</td>\n      <td>5172.552239</td>\n      <td>0.686508</td>\n    </tr>\n    <tr>\n      <th>930</th>\n      <td>Alexandria Ocasio-Cortez</td>\n      <td>OcasioCortez</td>\n      <td>1316372698453411</td>\n      <td>1775646</td>\n      <td>1870212</td>\n      <td>2021-04-17 15:59:38 CEST</td>\n      <td>Link</td>\n      <td>32,987</td>\n      <td>22242</td>\n      <td>3702</td>\n      <td>1321</td>\n      <td>4636</td>\n      <td>63</td>\n      <td>251</td>\n      <td>31</td>\n      <td>318</td>\n      <td>423</td>\n      <td>NaN</td>\n      <td>0</td>\n      <td>0</td>\n      <td>0</td>\n      <td>NaN</td>\n      <td>https://www.facebook.com/1316372698453411/post...</td>\n      <td>This is a testament to the power that people’s...</td>\n      <td>https://apnews.com/article/joe-biden-donald-tr...</td>\n      <td>NaN</td>\n      <td>NaN</td>\n      <td>After outcry, WH says Biden will lift refugee ...</td>\n      <td>WASHINGTON (AP) — Facing swift blowback from a...</td>\n      <td>NaN</td>\n      <td>NaN</td>\n      <td>1.00</td>\n      <td>32987</td>\n      <td>50609.250000</td>\n      <td>0.651798</td>\n    </tr>\n    <tr>\n      <th>931</th>\n      <td>U.S. Senator Kirsten Gillibrand</td>\n      <td>SenKirstenGillibrand</td>\n      <td>147791132432624</td>\n      <td>28084</td>\n      <td>157368</td>\n      <td>2021-04-20 18:13:20 CEST</td>\n      <td>Native Video</td>\n      <td>251</td>\n      <td>146</td>\n      <td>28</td>\n      <td>44</td>\n      <td>8</td>\n      <td>0</td>\n      <td>1</td>\n      <td>1</td>\n      <td>3</td>\n      <td>20</td>\n      <td>owned</td>\n      <td>3054</td>\n      <td>3632</td>\n      <td>0</td>\n      <td>00:01:42</td>\n      <td>https://www.facebook.com/147791132432624/posts...</td>\n      <td>It is a moral outrage that veterans exposed to...</td>\n      <td>https://www.facebook.com/SenKirstenGillibrand/...</td>\n      <td>NaN</td>\n      <td>NaN</td>\n      <td>A Moral Outrage</td>\n      <td>NaN</td>\n      <td>NaN</td>\n      <td>NaN</td>\n      <td>1.00</td>\n      <td>251</td>\n      <td>959.370370</td>\n      <td>0.261630</td>\n    </tr>\n    <tr>\n      <th>932</th>\n      <td>Senator Joe Manchin III</td>\n      <td>JoeManchinIII</td>\n      <td>10150135395755161</td>\n      <td>62105</td>\n      <td>95309</td>\n      <td>2021-05-02 02:02:05 CEST</td>\n      <td>Photo</td>\n      <td>581</td>\n      <td>283</td>\n      <td>273</td>\n      <td>4</td>\n      <td>10</td>\n      <td>0</td>\n      <td>4</td>\n      <td>1</td>\n      <td>6</td>\n      <td>0</td>\n      <td>NaN</td>\n      <td>0</td>\n      <td>0</td>\n      <td>0</td>\n      <td>NaN</td>\n      <td>https://www.facebook.com/10150135395755161/pos...</td>\n      <td>It's great to be back at the WV girls high sch...</td>\n      <td>https://www.facebook.com/JoeManchinIII/photos/...</td>\n      <td>NaN</td>\n      <td>NaN</td>\n      <td>Photos from Senator Joe Manchin III's post</td>\n      <td>NaN</td>\n      <td>NaN</td>\n      <td>NaN</td>\n      <td>1.00</td>\n      <td>581</td>\n      <td>1062.285714</td>\n      <td>0.546934</td>\n    </tr>\n  </tbody>\n</table>\n<p>933 rows × 35 columns</p>\n</div>"
     },
     "metadata": {},
     "execution_count": 31
    }
   ],
   "source": [
    "unwanted_cols = [\"Page Category\", \"Page Admin Top Country\", \"Page Description\", \"Page Created\", \"Post Created Date\", \"Post Created Time\", \"Is Video Owner?\", \"Sponsor Category\"]\n",
    "\n",
    "df_filt = df_prep.drop(unwanted_cols, axis=1)\n",
    "# rename\n",
    "df_filt = df_filt.rename(columns={\"Post Created\": \"Created\"})\n",
    "df_filt\n"
   ]
  },
  {
   "cell_type": "code",
   "execution_count": 32,
   "metadata": {},
   "outputs": [],
   "source": [
    "df_filt.to_csv(output)"
   ]
  },
  {
   "source": [
    "# Training"
   ],
   "cell_type": "markdown",
   "metadata": {}
  },
  {
   "cell_type": "code",
   "execution_count": 1,
   "metadata": {},
   "outputs": [],
   "source": [
    "import pytorch_lightning as pl\n",
    "from nlp_utils.data_module import CrowdTangleDataModule\n",
    "from nlp_utils.model import BaseModel\n",
    "from pytorch_lightning.callbacks.early_stopping import EarlyStopping\n",
    "%load_ext tensorboard"
   ]
  },
  {
   "cell_type": "code",
   "execution_count": 2,
   "metadata": {},
   "outputs": [
    {
     "output_type": "display_data",
     "data": {
      "text/plain": "Launching TensorBoard..."
     },
     "metadata": {}
    }
   ],
   "source": [
    "# Start tensorboard\n",
    "! pkill tensorboard\n",
    "! rm -r /tmp/.tensorboard-info\n",
    "%tensorboard --logdir lightning_logs --bind_all"
   ]
  },
  {
   "cell_type": "code",
   "execution_count": 3,
   "metadata": {},
   "outputs": [],
   "source": [
    "# config from notebooks\n",
    "config = {\n",
    "    'batch_size': 128,\n",
    "    'dataset_path': '../../data/USParties/USParties_preprocessed.csv',\n",
    "    'category_group_id': False, # impacts size of data_module.class_encoder.categories_\n",
    "    'learning_rate': 1e-4\n",
    "}"
   ]
  },
  {
   "cell_type": "code",
   "execution_count": 4,
   "metadata": {},
   "outputs": [],
   "source": [
    "# config used by Simon\n",
    "config = {\n",
    "    'batch_size': 32,\n",
    "    'dataset_path': '../../data/USParties/USParties_preprocessed.csv',\n",
    "    'learning_rate': 0.01\n",
    "}"
   ]
  },
  {
   "source": [
    "## read dataset + labels"
   ],
   "cell_type": "markdown",
   "metadata": {}
  },
  {
   "cell_type": "code",
   "execution_count": 5,
   "metadata": {},
   "outputs": [],
   "source": [
    "data_module = CrowdTangleDataModule(config=config)\n",
    "data_module.setup('')\n",
    "# tokenizer for decoding sentences\n",
    "tokenizer = data_module.get_tokenizer() "
   ]
  },
  {
   "cell_type": "code",
   "execution_count": 6,
   "metadata": {},
   "outputs": [],
   "source": [
    "category_vector_length = len(data_module.class_encoder.get_feature_names())\n",
    "config['category_encoded_length'] = category_vector_length\n",
    "config['category_encoder_out'] = category_vector_length"
   ]
  },
  {
   "cell_type": "code",
   "execution_count": 7,
   "metadata": {},
   "outputs": [
    {
     "output_type": "stream",
     "name": "stderr",
     "text": [
      "GPU available: False, used: False\n",
      "TPU available: False, using: 0 TPU cores\n",
      "\n",
      "  | Name             | Type             | Params\n",
      "------------------------------------------------------\n",
      "0 | train_metric     | MeanSquaredError | 0     \n",
      "1 | val_metric       | MeanSquaredError | 0     \n",
      "2 | test_metric      | MeanSquaredError | 0     \n",
      "3 | bert             | DistilBertModel  | 66.4 M\n",
      "4 | distilbert_tail  | Sequential       | 590 K \n",
      "5 | category_encoder | Sequential       | 28.7 K\n",
      "6 | classifier       | Linear           | 938   \n",
      "------------------------------------------------------\n",
      "620 K     Trainable params\n",
      "66.4 M    Non-trainable params\n",
      "67.0 M    Total params\n",
      "267.933   Total estimated model params size (MB)\n",
      "Epoch 0:   0%|          | 0/24 [00:00<?, ?it/s] {'input_ids': tensor([[  101,  1996,  2157,  ...,     0,     0,     0],\n",
      "        [  101,  2057,  2342,  ...,     0,     0,     0],\n",
      "        [  101,  2111,  1999,  ...,     0,     0,     0],\n",
      "        ...,\n",
      "        [  101,  7256, 15775,  ...,     0,     0,     0],\n",
      "        [  101,  1996,  2976,  ...,     0,     0,     0],\n",
      "        [  101,  2129,  2116,  ...,     0,     0,     0]]), 'attention_mask': tensor([[1, 1, 1,  ..., 0, 0, 0],\n",
      "        [1, 1, 1,  ..., 0, 0, 0],\n",
      "        [1, 1, 1,  ..., 0, 0, 0],\n",
      "        ...,\n",
      "        [1, 1, 1,  ..., 0, 0, 0],\n",
      "        [1, 1, 1,  ..., 0, 0, 0],\n",
      "        [1, 1, 1,  ..., 0, 0, 0]])}\n",
      "Epoch 0:   4%|▍         | 1/24 [00:05<02:05,  5.45s/it, loss=4.01, v_num=2]{'input_ids': tensor([[  101,  1996, 14392,  ...,     0,     0,     0],\n",
      "        [  101,  1996,  2665,  ...,     0,     0,     0],\n",
      "        [  101,  2381,  2001,  ...,     0,     0,     0],\n",
      "        ...,\n",
      "        [  101,  2476, 16910,  ...,     0,     0,     0],\n",
      "        [  101,  5076,  2022,  ...,     0,     0,     0],\n",
      "        [  101,  2404,  2111,  ...,     0,     0,     0]]), 'attention_mask': tensor([[1, 1, 1,  ..., 0, 0, 0],\n",
      "        [1, 1, 1,  ..., 0, 0, 0],\n",
      "        [1, 1, 1,  ..., 0, 0, 0],\n",
      "        ...,\n",
      "        [1, 1, 1,  ..., 0, 0, 0],\n",
      "        [1, 1, 1,  ..., 0, 0, 0],\n",
      "        [1, 1, 1,  ..., 0, 0, 0]])}\n",
      "Epoch 0:   8%|▊         | 2/24 [00:14<02:43,  7.44s/it, loss=86.4, v_num=2, train_loss_step=4.010]{'input_ids': tensor([[  101,  2256,  2406,  ...,     0,     0,     0],\n",
      "        [  101,  2023,  3011,  ...,     0,     0,     0],\n",
      "        [  101,  2577, 12305,  ...,     0,     0,     0],\n",
      "        ...,\n",
      "        [  101, 10397,  1996,  ...,     0,     0,     0],\n",
      "        [  101,  2043,  1996,  ...,     0,     0,     0],\n",
      "        [  101,  2045,  2003,  ...,     0,     0,     0]]), 'attention_mask': tensor([[1, 1, 1,  ..., 0, 0, 0],\n",
      "        [1, 1, 1,  ..., 0, 0, 0],\n",
      "        [1, 1, 1,  ..., 0, 0, 0],\n",
      "        ...,\n",
      "        [1, 1, 1,  ..., 0, 0, 0],\n",
      "        [1, 1, 1,  ..., 0, 0, 0],\n",
      "        [1, 1, 1,  ..., 0, 0, 0]])}\n",
      "Epoch 0:  12%|█▎        | 3/24 [00:18<02:12,  6.33s/it, loss=59.1, v_num=2, train_loss_step=169.0]{'input_ids': tensor([[  101,  6160,  2067,  ...,     0,     0,     0],\n",
      "        [  101,  2043,  2003,  ...,     0,     0,     0],\n",
      "        [  101,  1045,  1521,  ...,     0,     0,     0],\n",
      "        ...,\n",
      "        [  101,  2057,  1005,  ...,     0,     0,     0],\n",
      "        [  101,  2651,  1010,  ...,     0,     0,     0],\n",
      "        [  101, 28514,  2758,  ...,     0,     0,     0]]), 'attention_mask': tensor([[1, 1, 1,  ..., 0, 0, 0],\n",
      "        [1, 1, 1,  ..., 0, 0, 0],\n",
      "        [1, 1, 1,  ..., 0, 0, 0],\n",
      "        ...,\n",
      "        [1, 1, 1,  ..., 0, 0, 0],\n",
      "        [1, 1, 1,  ..., 0, 0, 0],\n",
      "        [1, 1, 1,  ..., 0, 0, 0]])}\n",
      "Epoch 0:  17%|█▋        | 4/24 [00:24<02:01,  6.09s/it, loss=45.2, v_num=2, train_loss_step=4.430]{'input_ids': tensor([[  101,  2092, 12455,  ...,     0,     0,     0],\n",
      "        [  101,  2662,  2038,  ...,     0,     0,     0],\n",
      "        [  101,  1999,  1996,  ...,     0,     0,     0],\n",
      "        ...,\n",
      "        [  101,  6160,  2000,  ...,     0,     0,     0],\n",
      "        [  101,  2467,  2045,  ...,     0,     0,     0],\n",
      "        [  101,  2307,  2739,  ...,     0,     0,     0]]), 'attention_mask': tensor([[1, 1, 1,  ..., 0, 0, 0],\n",
      "        [1, 1, 1,  ..., 0, 0, 0],\n",
      "        [1, 1, 1,  ..., 0, 0, 0],\n",
      "        ...,\n",
      "        [1, 1, 1,  ..., 0, 0, 0],\n",
      "        [1, 1, 1,  ..., 0, 0, 0],\n",
      "        [1, 1, 1,  ..., 0, 0, 0]])}\n",
      "/home/user/miniconda3/envs/nlp/lib/python3.9/site-packages/pytorch_lightning/utilities/distributed.py:69: UserWarning: Detected KeyboardInterrupt, attempting graceful shutdown...\n",
      "  warnings.warn(*args, **kwargs)\n"
     ]
    }
   ],
   "source": [
    "model = BaseModel(config)\n",
    "trainer = pl.Trainer(gpus=0,\n",
    "                     log_every_n_steps=1,\n",
    "                     flush_logs_every_n_steps=1,\n",
    "                    callbacks=[EarlyStopping(monitor='val_loss')], max_epochs=2) #, max_epochs=10, overfit_batches=10)\n",
    "trainer.fit(model, data_module)"
   ]
  },
  {
   "cell_type": "code",
   "execution_count": 8,
   "metadata": {},
   "outputs": [],
   "source": [
    "y_lst, encoded_texts_lst, category_vectors_lst, features = next(iter(data_module.train_dataloader()))"
   ]
  },
  {
   "cell_type": "code",
   "execution_count": 9,
   "metadata": {},
   "outputs": [
    {
     "output_type": "execute_result",
     "data": {
      "text/plain": [
       "116"
      ]
     },
     "metadata": {},
     "execution_count": 9
    }
   ],
   "source": [
    "# only works if category group id = True\n",
    "len(data_module.class_encoder.categories_[2])"
   ]
  },
  {
   "source": [
    "# Evaluation"
   ],
   "cell_type": "markdown",
   "metadata": {}
  },
  {
   "cell_type": "code",
   "execution_count": 6,
   "metadata": {},
   "outputs": [
    {
     "output_type": "stream",
     "name": "stdout",
     "text": [
      "The tensorboard extension is already loaded. To reload it, use:\n  %reload_ext tensorboard\n"
     ]
    }
   ],
   "source": [
    "import pandas as pd\n",
    "from nlp_utils.data_module import PlainCrowdTangleDataModule, CrowdTangleDataModule, GroupId2Name, inverse_transform\n",
    "from nlp_utils.model import BaseModel, BiLSTMModel\n",
    "import pytorch_lightning as pl\n",
    "from pytorch_lightning.callbacks.early_stopping import EarlyStopping\n",
    "from glob import glob\n",
    "import ipywidgets as widgets\n",
    "from tqdm.notebook import tqdm\n",
    "import pandas as pd\n",
    "import torch\n",
    "import seaborn as sb\n",
    "import re\n",
    "%load_ext tensorboard"
   ]
  },
  {
   "cell_type": "code",
   "execution_count": 7,
   "metadata": {},
   "outputs": [
    {
     "output_type": "display_data",
     "data": {
      "text/plain": "Launching TensorBoard..."
     },
     "metadata": {}
    }
   ],
   "source": [
    "# Start tensorboard\n",
    "! pkill tensorboard\n",
    "! rm -r /tmp/.tensorboard-info\n",
    "%tensorboard --logdir lightning_logs --bind_all"
   ]
  },
  {
   "source": [
    "Select a model"
   ],
   "cell_type": "markdown",
   "metadata": {}
  },
  {
   "cell_type": "code",
   "execution_count": 8,
   "metadata": {},
   "outputs": [
    {
     "output_type": "display_data",
     "data": {
      "text/plain": "Dropdown(description='Select a checkpoint:', options=('lightning_logs/version_0/checkpoints/epoch=0-step=17.ck…",
      "application/vnd.jupyter.widget-view+json": {
       "version_major": 2,
       "version_minor": 0,
       "model_id": "d71ed2f2d28a43928d1a72d1071d77be"
      }
     },
     "metadata": {}
    }
   ],
   "source": [
    "w = widgets.Dropdown(\n",
    "    options=glob('lightning_logs/*/checkpoints/*.ckpt'),\n",
    "    description='Select a checkpoint:'\n",
    ")\n",
    "w"
   ]
  },
  {
   "cell_type": "code",
   "execution_count": 9,
   "metadata": {},
   "outputs": [
    {
     "output_type": "execute_result",
     "data": {
      "text/plain": [
       "({'column_goldlabel': 'score',\n",
       "  'dataset_path': '../../data/USParties/USParties_preprocessed.csv',\n",
       "  'category_group_id': True,\n",
       "  'category_type': True,\n",
       "  'category_tld': True,\n",
       "  'batch_size': 32,\n",
       "  'category_encoded_length': 169,\n",
       "  'category_encoder_out': 169,\n",
       "  'learning_rate': 0.01,\n",
       "  'vocab_min_freq': 10,\n",
       "  'bilstm_hidden_dim': 150,\n",
       "  'embedding_dim': 100},\n",
       " 'version_0')"
      ]
     },
     "metadata": {},
     "execution_count": 9
    }
   ],
   "source": [
    "model_version = re.findall(\"version_[0-9]+\", w.value)[0]\n",
    "model = BaseModel.load_from_checkpoint(w.value)\n",
    "#model = BiLSTMModel.load_from_checkpoint(w.value)\n",
    "\n",
    "torch.no_grad()\n",
    "model.eval()\n",
    "data_module = CrowdTangleDataModule(config=model.config)\n",
    "# data_module = PlainCrowdTangleDataModule(config=model.config) # for BiLSTM\n",
    "data_module.setup('')\n",
    "model.config, model_version"
   ]
  },
  {
   "source": [
    "### Validation Set Results"
   ],
   "cell_type": "markdown",
   "metadata": {}
  },
  {
   "cell_type": "code",
   "execution_count": 10,
   "metadata": {},
   "outputs": [
    {
     "output_type": "display_data",
     "data": {
      "text/plain": "  0%|          | 0/6 [00:00<?, ?it/s]",
      "application/vnd.jupyter.widget-view+json": {
       "version_major": 2,
       "version_minor": 0,
       "model_id": "2eb931c985784090ac8d3959b20a8a89"
      }
     },
     "metadata": {}
    },
    {
     "output_type": "execute_result",
     "data": {
      "text/plain": [
       "     prediction  gold label  \\\n",
       "0      0.910735    0.677367   \n",
       "1      1.011816    0.527254   \n",
       "2      1.031215    0.698824   \n",
       "3      1.071002    0.588431   \n",
       "4      1.260363    1.739470   \n",
       "..          ...         ...   \n",
       "182    0.832897    1.619407   \n",
       "183    0.873242    0.613468   \n",
       "184    0.917911    0.474683   \n",
       "185    0.921035    0.951422   \n",
       "186    0.882227    2.225674   \n",
       "\n",
       "                                                  text      group_id  \\\n",
       "0    [CLS] there's no debating ohio's infrastructur...  2.614783e+14   \n",
       "1    [CLS] i'm constantly inspired by enes kanter's...  6.846731e+09   \n",
       "2    [CLS] a sad day for all those touched by the c...  4.711349e+14   \n",
       "3    [CLS] great to be with first lady dr. jill bid...  7.667947e+14   \n",
       "4    [CLS] we have lost too many montanans already ...  2.105730e+11   \n",
       "..                                                 ...           ...   \n",
       "182  [CLS] yesterday, president joe biden made hist...  1.093040e+11   \n",
       "183  [CLS] until recently if i was walking outside,...  6.565240e+14   \n",
       "184  [CLS] voters like a plan that invests in their...  7.437493e+10   \n",
       "185  [CLS] whether i ’ m walking the halls of congr...  1.283446e+15   \n",
       "186  [CLS] new data from the department of educatio...  1.315590e+14   \n",
       "\n",
       "        post_type    domain  \n",
       "0            Link      None  \n",
       "1           Photo  facebook  \n",
       "2            Link        go  \n",
       "3           Photo  facebook  \n",
       "4          Status            \n",
       "..            ...       ...  \n",
       "182          Link      cnbc  \n",
       "183  Native Video  facebook  \n",
       "184          Link   thehill  \n",
       "185         Photo  facebook  \n",
       "186          Link     yahoo  \n",
       "\n",
       "[187 rows x 6 columns]"
      ],
      "text/html": "<div>\n<style scoped>\n    .dataframe tbody tr th:only-of-type {\n        vertical-align: middle;\n    }\n\n    .dataframe tbody tr th {\n        vertical-align: top;\n    }\n\n    .dataframe thead th {\n        text-align: right;\n    }\n</style>\n<table border=\"1\" class=\"dataframe\">\n  <thead>\n    <tr style=\"text-align: right;\">\n      <th></th>\n      <th>prediction</th>\n      <th>gold label</th>\n      <th>text</th>\n      <th>group_id</th>\n      <th>post_type</th>\n      <th>domain</th>\n    </tr>\n  </thead>\n  <tbody>\n    <tr>\n      <th>0</th>\n      <td>0.910735</td>\n      <td>0.677367</td>\n      <td>[CLS] there's no debating ohio's infrastructur...</td>\n      <td>2.614783e+14</td>\n      <td>Link</td>\n      <td>None</td>\n    </tr>\n    <tr>\n      <th>1</th>\n      <td>1.011816</td>\n      <td>0.527254</td>\n      <td>[CLS] i'm constantly inspired by enes kanter's...</td>\n      <td>6.846731e+09</td>\n      <td>Photo</td>\n      <td>facebook</td>\n    </tr>\n    <tr>\n      <th>2</th>\n      <td>1.031215</td>\n      <td>0.698824</td>\n      <td>[CLS] a sad day for all those touched by the c...</td>\n      <td>4.711349e+14</td>\n      <td>Link</td>\n      <td>go</td>\n    </tr>\n    <tr>\n      <th>3</th>\n      <td>1.071002</td>\n      <td>0.588431</td>\n      <td>[CLS] great to be with first lady dr. jill bid...</td>\n      <td>7.667947e+14</td>\n      <td>Photo</td>\n      <td>facebook</td>\n    </tr>\n    <tr>\n      <th>4</th>\n      <td>1.260363</td>\n      <td>1.739470</td>\n      <td>[CLS] we have lost too many montanans already ...</td>\n      <td>2.105730e+11</td>\n      <td>Status</td>\n      <td></td>\n    </tr>\n    <tr>\n      <th>...</th>\n      <td>...</td>\n      <td>...</td>\n      <td>...</td>\n      <td>...</td>\n      <td>...</td>\n      <td>...</td>\n    </tr>\n    <tr>\n      <th>182</th>\n      <td>0.832897</td>\n      <td>1.619407</td>\n      <td>[CLS] yesterday, president joe biden made hist...</td>\n      <td>1.093040e+11</td>\n      <td>Link</td>\n      <td>cnbc</td>\n    </tr>\n    <tr>\n      <th>183</th>\n      <td>0.873242</td>\n      <td>0.613468</td>\n      <td>[CLS] until recently if i was walking outside,...</td>\n      <td>6.565240e+14</td>\n      <td>Native Video</td>\n      <td>facebook</td>\n    </tr>\n    <tr>\n      <th>184</th>\n      <td>0.917911</td>\n      <td>0.474683</td>\n      <td>[CLS] voters like a plan that invests in their...</td>\n      <td>7.437493e+10</td>\n      <td>Link</td>\n      <td>thehill</td>\n    </tr>\n    <tr>\n      <th>185</th>\n      <td>0.921035</td>\n      <td>0.951422</td>\n      <td>[CLS] whether i ’ m walking the halls of congr...</td>\n      <td>1.283446e+15</td>\n      <td>Photo</td>\n      <td>facebook</td>\n    </tr>\n    <tr>\n      <th>186</th>\n      <td>0.882227</td>\n      <td>2.225674</td>\n      <td>[CLS] new data from the department of educatio...</td>\n      <td>1.315590e+14</td>\n      <td>Link</td>\n      <td>yahoo</td>\n    </tr>\n  </tbody>\n</table>\n<p>187 rows × 6 columns</p>\n</div>"
     },
     "metadata": {},
     "execution_count": 10
    }
   ],
   "source": [
    "df_dicts = []\n",
    "val_loader = data_module.val_dataloader()\n",
    "#groupid2name = GroupId2Name(model.config)\n",
    "for y_lst, encoded_texts_lst, category_vectors_lst, features in tqdm(iter(val_loader),total=len(val_loader)):\n",
    "    \n",
    "    result = model(encoded_texts_lst, category_vectors_lst)\n",
    "    for y_hat, y, encoded_text, category_vector in zip(result, y_lst, encoded_texts_lst['input_ids'], category_vectors_lst):\n",
    "        decoded_categories = inverse_transform(category_vector.reshape(1, -1), model.config, data_module.class_encoder)\n",
    "\n",
    "        df_dicts.append({**{\n",
    "            'prediction': float(y_hat),\n",
    "            'gold label': float(y),\n",
    "            'text': data_module.tokenizer.decode(encoded_text).replace(' [PAD]','')\n",
    "        },**decoded_categories})\n",
    "#encoded_texts\n",
    "#data_module.tokenizer.decode(encoded_texts[\"input_ids\"][0]).replace(' [PAD]','')\n",
    "pd.DataFrame.from_dict(df_dicts)"
   ]
  },
  {
   "cell_type": "code",
   "execution_count": 11,
   "metadata": {},
   "outputs": [
    {
     "output_type": "execute_result",
     "data": {
      "text/plain": [
       "Text(0.5, 1.0, 'version_0')"
      ]
     },
     "metadata": {},
     "execution_count": 11
    },
    {
     "output_type": "display_data",
     "data": {
      "text/plain": "<Figure size 432x288 with 1 Axes>",
      "image/svg+xml": "<?xml version=\"1.0\" encoding=\"utf-8\" standalone=\"no\"?>\n<!DOCTYPE svg PUBLIC \"-//W3C//DTD SVG 1.1//EN\"\n  \"http://www.w3.org/Graphics/SVG/1.1/DTD/svg11.dtd\">\n<!-- Created with matplotlib (https://matplotlib.org/) -->\n<svg height=\"277.314375pt\" version=\"1.1\" viewBox=\"0 0 382.603125 277.314375\" width=\"382.603125pt\" xmlns=\"http://www.w3.org/2000/svg\" xmlns:xlink=\"http://www.w3.org/1999/xlink\">\n <metadata>\n  <rdf:RDF xmlns:cc=\"http://creativecommons.org/ns#\" xmlns:dc=\"http://purl.org/dc/elements/1.1/\" xmlns:rdf=\"http://www.w3.org/1999/02/22-rdf-syntax-ns#\">\n   <cc:Work>\n    <dc:type rdf:resource=\"http://purl.org/dc/dcmitype/StillImage\"/>\n    <dc:date>2021-05-11T11:55:59.477046</dc:date>\n    <dc:format>image/svg+xml</dc:format>\n    <dc:creator>\n     <cc:Agent>\n      <dc:title>Matplotlib v3.3.4, https://matplotlib.org/</dc:title>\n     </cc:Agent>\n    </dc:creator>\n   </cc:Work>\n  </rdf:RDF>\n </metadata>\n <defs>\n  <style type=\"text/css\">*{stroke-linecap:butt;stroke-linejoin:round;}</style>\n </defs>\n <g id=\"figure_1\">\n  <g id=\"patch_1\">\n   <path d=\"M 0 277.314375 \nL 382.603125 277.314375 \nL 382.603125 0 \nL 0 0 \nz\n\"/>\n  </g>\n  <g id=\"axes_1\">\n   <g id=\"patch_2\">\n    <path d=\"M 40.603125 239.758125 \nL 375.403125 239.758125 \nL 375.403125 22.318125 \nL 40.603125 22.318125 \nz\n\"/>\n   </g>\n   <g id=\"patch_3\">\n    <path clip-path=\"url(#p02a1106de3)\" d=\"M 55.821307 239.758125 \nL 79.233894 239.758125 \nL 79.233894 234.005744 \nL 55.821307 234.005744 \nz\n\" style=\"fill:#8dd3c7;fill-opacity:0.75;stroke:#ffffff;stroke-linejoin:miter;\"/>\n   </g>\n   <g id=\"patch_4\">\n    <path clip-path=\"url(#p02a1106de3)\" d=\"M 79.233894 239.758125 \nL 102.646482 239.758125 \nL 102.646482 234.005744 \nL 79.233894 234.005744 \nz\n\" style=\"fill:#8dd3c7;fill-opacity:0.75;stroke:#ffffff;stroke-linejoin:miter;\"/>\n   </g>\n   <g id=\"patch_5\">\n    <path clip-path=\"url(#p02a1106de3)\" d=\"M 102.646482 239.758125 \nL 126.059069 239.758125 \nL 126.059069 187.986696 \nL 102.646482 187.986696 \nz\n\" style=\"fill:#8dd3c7;fill-opacity:0.75;stroke:#ffffff;stroke-linejoin:miter;\"/>\n   </g>\n   <g id=\"patch_6\">\n    <path clip-path=\"url(#p02a1106de3)\" d=\"M 126.059069 239.758125 \nL 149.471656 239.758125 \nL 149.471656 113.205744 \nL 126.059069 113.205744 \nz\n\" style=\"fill:#8dd3c7;fill-opacity:0.75;stroke:#ffffff;stroke-linejoin:miter;\"/>\n   </g>\n   <g id=\"patch_7\">\n    <path clip-path=\"url(#p02a1106de3)\" d=\"M 149.471656 239.758125 \nL 172.884244 239.758125 \nL 172.884244 72.939077 \nL 149.471656 72.939077 \nz\n\" style=\"fill:#8dd3c7;fill-opacity:0.75;stroke:#ffffff;stroke-linejoin:miter;\"/>\n   </g>\n   <g id=\"patch_8\">\n    <path clip-path=\"url(#p02a1106de3)\" d=\"M 172.884244 239.758125 \nL 196.296831 239.758125 \nL 196.296831 32.672411 \nL 172.884244 32.672411 \nz\n\" style=\"fill:#8dd3c7;fill-opacity:0.75;stroke:#ffffff;stroke-linejoin:miter;\"/>\n   </g>\n   <g id=\"patch_9\">\n    <path clip-path=\"url(#p02a1106de3)\" d=\"M 196.296831 239.758125 \nL 219.709419 239.758125 \nL 219.709419 49.929554 \nL 196.296831 49.929554 \nz\n\" style=\"fill:#8dd3c7;fill-opacity:0.75;stroke:#ffffff;stroke-linejoin:miter;\"/>\n   </g>\n   <g id=\"patch_10\">\n    <path clip-path=\"url(#p02a1106de3)\" d=\"M 219.709419 239.758125 \nL 243.122006 239.758125 \nL 243.122006 107.453363 \nL 219.709419 107.453363 \nz\n\" style=\"fill:#8dd3c7;fill-opacity:0.75;stroke:#ffffff;stroke-linejoin:miter;\"/>\n   </g>\n   <g id=\"patch_11\">\n    <path clip-path=\"url(#p02a1106de3)\" d=\"M 243.122006 239.758125 \nL 266.534594 239.758125 \nL 266.534594 153.472411 \nL 243.122006 153.472411 \nz\n\" style=\"fill:#8dd3c7;fill-opacity:0.75;stroke:#ffffff;stroke-linejoin:miter;\"/>\n   </g>\n   <g id=\"patch_12\">\n    <path clip-path=\"url(#p02a1106de3)\" d=\"M 266.534594 239.758125 \nL 289.947181 239.758125 \nL 289.947181 199.491458 \nL 266.534594 199.491458 \nz\n\" style=\"fill:#8dd3c7;fill-opacity:0.75;stroke:#ffffff;stroke-linejoin:miter;\"/>\n   </g>\n   <g id=\"patch_13\">\n    <path clip-path=\"url(#p02a1106de3)\" d=\"M 289.947181 239.758125 \nL 313.359768 239.758125 \nL 313.359768 210.99622 \nL 289.947181 210.99622 \nz\n\" style=\"fill:#8dd3c7;fill-opacity:0.75;stroke:#ffffff;stroke-linejoin:miter;\"/>\n   </g>\n   <g id=\"patch_14\">\n    <path clip-path=\"url(#p02a1106de3)\" d=\"M 313.359768 239.758125 \nL 336.772356 239.758125 \nL 336.772356 210.99622 \nL 313.359768 210.99622 \nz\n\" style=\"fill:#8dd3c7;fill-opacity:0.75;stroke:#ffffff;stroke-linejoin:miter;\"/>\n   </g>\n   <g id=\"patch_15\">\n    <path clip-path=\"url(#p02a1106de3)\" d=\"M 336.772356 239.758125 \nL 360.184943 239.758125 \nL 360.184943 234.005744 \nL 336.772356 234.005744 \nz\n\" style=\"fill:#8dd3c7;fill-opacity:0.75;stroke:#ffffff;stroke-linejoin:miter;\"/>\n   </g>\n   <g id=\"matplotlib.axis_1\">\n    <g id=\"xtick_1\">\n     <g id=\"line2d_1\">\n      <defs>\n       <path d=\"M 0 0 \nL 0 3.5 \n\" id=\"m6f32d61d3c\" style=\"stroke:#ffffff;stroke-width:0.8;\"/>\n      </defs>\n      <g>\n       <use style=\"fill:#ffffff;stroke:#ffffff;stroke-width:0.8;\" x=\"49.0972\" xlink:href=\"#m6f32d61d3c\" y=\"239.758125\"/>\n      </g>\n     </g>\n     <g id=\"text_1\">\n      <!-- 0.7 -->\n      <g style=\"fill:#ffffff;\" transform=\"translate(41.145637 254.356562)scale(0.1 -0.1)\">\n       <defs>\n        <path d=\"M 31.78125 66.40625 \nQ 24.171875 66.40625 20.328125 58.90625 \nQ 16.5 51.421875 16.5 36.375 \nQ 16.5 21.390625 20.328125 13.890625 \nQ 24.171875 6.390625 31.78125 6.390625 \nQ 39.453125 6.390625 43.28125 13.890625 \nQ 47.125 21.390625 47.125 36.375 \nQ 47.125 51.421875 43.28125 58.90625 \nQ 39.453125 66.40625 31.78125 66.40625 \nz\nM 31.78125 74.21875 \nQ 44.046875 74.21875 50.515625 64.515625 \nQ 56.984375 54.828125 56.984375 36.375 \nQ 56.984375 17.96875 50.515625 8.265625 \nQ 44.046875 -1.421875 31.78125 -1.421875 \nQ 19.53125 -1.421875 13.0625 8.265625 \nQ 6.59375 17.96875 6.59375 36.375 \nQ 6.59375 54.828125 13.0625 64.515625 \nQ 19.53125 74.21875 31.78125 74.21875 \nz\n\" id=\"DejaVuSans-48\"/>\n        <path d=\"M 10.6875 12.40625 \nL 21 12.40625 \nL 21 0 \nL 10.6875 0 \nz\n\" id=\"DejaVuSans-46\"/>\n        <path d=\"M 8.203125 72.90625 \nL 55.078125 72.90625 \nL 55.078125 68.703125 \nL 28.609375 0 \nL 18.3125 0 \nL 43.21875 64.59375 \nL 8.203125 64.59375 \nz\n\" id=\"DejaVuSans-55\"/>\n       </defs>\n       <use xlink:href=\"#DejaVuSans-48\"/>\n       <use x=\"63.623047\" xlink:href=\"#DejaVuSans-46\"/>\n       <use x=\"95.410156\" xlink:href=\"#DejaVuSans-55\"/>\n      </g>\n     </g>\n    </g>\n    <g id=\"xtick_2\">\n     <g id=\"line2d_2\">\n      <g>\n       <use style=\"fill:#ffffff;stroke:#ffffff;stroke-width:0.8;\" x=\"97.356701\" xlink:href=\"#m6f32d61d3c\" y=\"239.758125\"/>\n      </g>\n     </g>\n     <g id=\"text_2\">\n      <!-- 0.8 -->\n      <g style=\"fill:#ffffff;\" transform=\"translate(89.405138 254.356562)scale(0.1 -0.1)\">\n       <defs>\n        <path d=\"M 31.78125 34.625 \nQ 24.75 34.625 20.71875 30.859375 \nQ 16.703125 27.09375 16.703125 20.515625 \nQ 16.703125 13.921875 20.71875 10.15625 \nQ 24.75 6.390625 31.78125 6.390625 \nQ 38.8125 6.390625 42.859375 10.171875 \nQ 46.921875 13.96875 46.921875 20.515625 \nQ 46.921875 27.09375 42.890625 30.859375 \nQ 38.875 34.625 31.78125 34.625 \nz\nM 21.921875 38.8125 \nQ 15.578125 40.375 12.03125 44.71875 \nQ 8.5 49.078125 8.5 55.328125 \nQ 8.5 64.0625 14.71875 69.140625 \nQ 20.953125 74.21875 31.78125 74.21875 \nQ 42.671875 74.21875 48.875 69.140625 \nQ 55.078125 64.0625 55.078125 55.328125 \nQ 55.078125 49.078125 51.53125 44.71875 \nQ 48 40.375 41.703125 38.8125 \nQ 48.828125 37.15625 52.796875 32.3125 \nQ 56.78125 27.484375 56.78125 20.515625 \nQ 56.78125 9.90625 50.3125 4.234375 \nQ 43.84375 -1.421875 31.78125 -1.421875 \nQ 19.734375 -1.421875 13.25 4.234375 \nQ 6.78125 9.90625 6.78125 20.515625 \nQ 6.78125 27.484375 10.78125 32.3125 \nQ 14.796875 37.15625 21.921875 38.8125 \nz\nM 18.3125 54.390625 \nQ 18.3125 48.734375 21.84375 45.5625 \nQ 25.390625 42.390625 31.78125 42.390625 \nQ 38.140625 42.390625 41.71875 45.5625 \nQ 45.3125 48.734375 45.3125 54.390625 \nQ 45.3125 60.0625 41.71875 63.234375 \nQ 38.140625 66.40625 31.78125 66.40625 \nQ 25.390625 66.40625 21.84375 63.234375 \nQ 18.3125 60.0625 18.3125 54.390625 \nz\n\" id=\"DejaVuSans-56\"/>\n       </defs>\n       <use xlink:href=\"#DejaVuSans-48\"/>\n       <use x=\"63.623047\" xlink:href=\"#DejaVuSans-46\"/>\n       <use x=\"95.410156\" xlink:href=\"#DejaVuSans-56\"/>\n      </g>\n     </g>\n    </g>\n    <g id=\"xtick_3\">\n     <g id=\"line2d_3\">\n      <g>\n       <use style=\"fill:#ffffff;stroke:#ffffff;stroke-width:0.8;\" x=\"145.616202\" xlink:href=\"#m6f32d61d3c\" y=\"239.758125\"/>\n      </g>\n     </g>\n     <g id=\"text_3\">\n      <!-- 0.9 -->\n      <g style=\"fill:#ffffff;\" transform=\"translate(137.664639 254.356562)scale(0.1 -0.1)\">\n       <defs>\n        <path d=\"M 10.984375 1.515625 \nL 10.984375 10.5 \nQ 14.703125 8.734375 18.5 7.8125 \nQ 22.3125 6.890625 25.984375 6.890625 \nQ 35.75 6.890625 40.890625 13.453125 \nQ 46.046875 20.015625 46.78125 33.40625 \nQ 43.953125 29.203125 39.59375 26.953125 \nQ 35.25 24.703125 29.984375 24.703125 \nQ 19.046875 24.703125 12.671875 31.3125 \nQ 6.296875 37.9375 6.296875 49.421875 \nQ 6.296875 60.640625 12.9375 67.421875 \nQ 19.578125 74.21875 30.609375 74.21875 \nQ 43.265625 74.21875 49.921875 64.515625 \nQ 56.59375 54.828125 56.59375 36.375 \nQ 56.59375 19.140625 48.40625 8.859375 \nQ 40.234375 -1.421875 26.421875 -1.421875 \nQ 22.703125 -1.421875 18.890625 -0.6875 \nQ 15.09375 0.046875 10.984375 1.515625 \nz\nM 30.609375 32.421875 \nQ 37.25 32.421875 41.125 36.953125 \nQ 45.015625 41.5 45.015625 49.421875 \nQ 45.015625 57.28125 41.125 61.84375 \nQ 37.25 66.40625 30.609375 66.40625 \nQ 23.96875 66.40625 20.09375 61.84375 \nQ 16.21875 57.28125 16.21875 49.421875 \nQ 16.21875 41.5 20.09375 36.953125 \nQ 23.96875 32.421875 30.609375 32.421875 \nz\n\" id=\"DejaVuSans-57\"/>\n       </defs>\n       <use xlink:href=\"#DejaVuSans-48\"/>\n       <use x=\"63.623047\" xlink:href=\"#DejaVuSans-46\"/>\n       <use x=\"95.410156\" xlink:href=\"#DejaVuSans-57\"/>\n      </g>\n     </g>\n    </g>\n    <g id=\"xtick_4\">\n     <g id=\"line2d_4\">\n      <g>\n       <use style=\"fill:#ffffff;stroke:#ffffff;stroke-width:0.8;\" x=\"193.875703\" xlink:href=\"#m6f32d61d3c\" y=\"239.758125\"/>\n      </g>\n     </g>\n     <g id=\"text_4\">\n      <!-- 1.0 -->\n      <g style=\"fill:#ffffff;\" transform=\"translate(185.92414 254.356562)scale(0.1 -0.1)\">\n       <defs>\n        <path d=\"M 12.40625 8.296875 \nL 28.515625 8.296875 \nL 28.515625 63.921875 \nL 10.984375 60.40625 \nL 10.984375 69.390625 \nL 28.421875 72.90625 \nL 38.28125 72.90625 \nL 38.28125 8.296875 \nL 54.390625 8.296875 \nL 54.390625 0 \nL 12.40625 0 \nz\n\" id=\"DejaVuSans-49\"/>\n       </defs>\n       <use xlink:href=\"#DejaVuSans-49\"/>\n       <use x=\"63.623047\" xlink:href=\"#DejaVuSans-46\"/>\n       <use x=\"95.410156\" xlink:href=\"#DejaVuSans-48\"/>\n      </g>\n     </g>\n    </g>\n    <g id=\"xtick_5\">\n     <g id=\"line2d_5\">\n      <g>\n       <use style=\"fill:#ffffff;stroke:#ffffff;stroke-width:0.8;\" x=\"242.135204\" xlink:href=\"#m6f32d61d3c\" y=\"239.758125\"/>\n      </g>\n     </g>\n     <g id=\"text_5\">\n      <!-- 1.1 -->\n      <g style=\"fill:#ffffff;\" transform=\"translate(234.183641 254.356562)scale(0.1 -0.1)\">\n       <use xlink:href=\"#DejaVuSans-49\"/>\n       <use x=\"63.623047\" xlink:href=\"#DejaVuSans-46\"/>\n       <use x=\"95.410156\" xlink:href=\"#DejaVuSans-49\"/>\n      </g>\n     </g>\n    </g>\n    <g id=\"xtick_6\">\n     <g id=\"line2d_6\">\n      <g>\n       <use style=\"fill:#ffffff;stroke:#ffffff;stroke-width:0.8;\" x=\"290.394704\" xlink:href=\"#m6f32d61d3c\" y=\"239.758125\"/>\n      </g>\n     </g>\n     <g id=\"text_6\">\n      <!-- 1.2 -->\n      <g style=\"fill:#ffffff;\" transform=\"translate(282.443142 254.356562)scale(0.1 -0.1)\">\n       <defs>\n        <path d=\"M 19.1875 8.296875 \nL 53.609375 8.296875 \nL 53.609375 0 \nL 7.328125 0 \nL 7.328125 8.296875 \nQ 12.9375 14.109375 22.625 23.890625 \nQ 32.328125 33.6875 34.8125 36.53125 \nQ 39.546875 41.84375 41.421875 45.53125 \nQ 43.3125 49.21875 43.3125 52.78125 \nQ 43.3125 58.59375 39.234375 62.25 \nQ 35.15625 65.921875 28.609375 65.921875 \nQ 23.96875 65.921875 18.8125 64.3125 \nQ 13.671875 62.703125 7.8125 59.421875 \nL 7.8125 69.390625 \nQ 13.765625 71.78125 18.9375 73 \nQ 24.125 74.21875 28.421875 74.21875 \nQ 39.75 74.21875 46.484375 68.546875 \nQ 53.21875 62.890625 53.21875 53.421875 \nQ 53.21875 48.921875 51.53125 44.890625 \nQ 49.859375 40.875 45.40625 35.40625 \nQ 44.1875 33.984375 37.640625 27.21875 \nQ 31.109375 20.453125 19.1875 8.296875 \nz\n\" id=\"DejaVuSans-50\"/>\n       </defs>\n       <use xlink:href=\"#DejaVuSans-49\"/>\n       <use x=\"63.623047\" xlink:href=\"#DejaVuSans-46\"/>\n       <use x=\"95.410156\" xlink:href=\"#DejaVuSans-50\"/>\n      </g>\n     </g>\n    </g>\n    <g id=\"xtick_7\">\n     <g id=\"line2d_7\">\n      <g>\n       <use style=\"fill:#ffffff;stroke:#ffffff;stroke-width:0.8;\" x=\"338.654205\" xlink:href=\"#m6f32d61d3c\" y=\"239.758125\"/>\n      </g>\n     </g>\n     <g id=\"text_7\">\n      <!-- 1.3 -->\n      <g style=\"fill:#ffffff;\" transform=\"translate(330.702643 254.356562)scale(0.1 -0.1)\">\n       <defs>\n        <path d=\"M 40.578125 39.3125 \nQ 47.65625 37.796875 51.625 33 \nQ 55.609375 28.21875 55.609375 21.1875 \nQ 55.609375 10.40625 48.1875 4.484375 \nQ 40.765625 -1.421875 27.09375 -1.421875 \nQ 22.515625 -1.421875 17.65625 -0.515625 \nQ 12.796875 0.390625 7.625 2.203125 \nL 7.625 11.71875 \nQ 11.71875 9.328125 16.59375 8.109375 \nQ 21.484375 6.890625 26.8125 6.890625 \nQ 36.078125 6.890625 40.9375 10.546875 \nQ 45.796875 14.203125 45.796875 21.1875 \nQ 45.796875 27.640625 41.28125 31.265625 \nQ 36.765625 34.90625 28.71875 34.90625 \nL 20.21875 34.90625 \nL 20.21875 43.015625 \nL 29.109375 43.015625 \nQ 36.375 43.015625 40.234375 45.921875 \nQ 44.09375 48.828125 44.09375 54.296875 \nQ 44.09375 59.90625 40.109375 62.90625 \nQ 36.140625 65.921875 28.71875 65.921875 \nQ 24.65625 65.921875 20.015625 65.03125 \nQ 15.375 64.15625 9.8125 62.3125 \nL 9.8125 71.09375 \nQ 15.4375 72.65625 20.34375 73.4375 \nQ 25.25 74.21875 29.59375 74.21875 \nQ 40.828125 74.21875 47.359375 69.109375 \nQ 53.90625 64.015625 53.90625 55.328125 \nQ 53.90625 49.265625 50.4375 45.09375 \nQ 46.96875 40.921875 40.578125 39.3125 \nz\n\" id=\"DejaVuSans-51\"/>\n       </defs>\n       <use xlink:href=\"#DejaVuSans-49\"/>\n       <use x=\"63.623047\" xlink:href=\"#DejaVuSans-46\"/>\n       <use x=\"95.410156\" xlink:href=\"#DejaVuSans-51\"/>\n      </g>\n     </g>\n    </g>\n    <g id=\"text_8\">\n     <!-- prediction -->\n     <g style=\"fill:#ffffff;\" transform=\"translate(182.919531 268.034687)scale(0.1 -0.1)\">\n      <defs>\n       <path d=\"M 18.109375 8.203125 \nL 18.109375 -20.796875 \nL 9.078125 -20.796875 \nL 9.078125 54.6875 \nL 18.109375 54.6875 \nL 18.109375 46.390625 \nQ 20.953125 51.265625 25.265625 53.625 \nQ 29.59375 56 35.59375 56 \nQ 45.5625 56 51.78125 48.09375 \nQ 58.015625 40.1875 58.015625 27.296875 \nQ 58.015625 14.40625 51.78125 6.484375 \nQ 45.5625 -1.421875 35.59375 -1.421875 \nQ 29.59375 -1.421875 25.265625 0.953125 \nQ 20.953125 3.328125 18.109375 8.203125 \nz\nM 48.6875 27.296875 \nQ 48.6875 37.203125 44.609375 42.84375 \nQ 40.53125 48.484375 33.40625 48.484375 \nQ 26.265625 48.484375 22.1875 42.84375 \nQ 18.109375 37.203125 18.109375 27.296875 \nQ 18.109375 17.390625 22.1875 11.75 \nQ 26.265625 6.109375 33.40625 6.109375 \nQ 40.53125 6.109375 44.609375 11.75 \nQ 48.6875 17.390625 48.6875 27.296875 \nz\n\" id=\"DejaVuSans-112\"/>\n       <path d=\"M 41.109375 46.296875 \nQ 39.59375 47.171875 37.8125 47.578125 \nQ 36.03125 48 33.890625 48 \nQ 26.265625 48 22.1875 43.046875 \nQ 18.109375 38.09375 18.109375 28.8125 \nL 18.109375 0 \nL 9.078125 0 \nL 9.078125 54.6875 \nL 18.109375 54.6875 \nL 18.109375 46.1875 \nQ 20.953125 51.171875 25.484375 53.578125 \nQ 30.03125 56 36.53125 56 \nQ 37.453125 56 38.578125 55.875 \nQ 39.703125 55.765625 41.0625 55.515625 \nz\n\" id=\"DejaVuSans-114\"/>\n       <path d=\"M 56.203125 29.59375 \nL 56.203125 25.203125 \nL 14.890625 25.203125 \nQ 15.484375 15.921875 20.484375 11.0625 \nQ 25.484375 6.203125 34.421875 6.203125 \nQ 39.59375 6.203125 44.453125 7.46875 \nQ 49.3125 8.734375 54.109375 11.28125 \nL 54.109375 2.78125 \nQ 49.265625 0.734375 44.1875 -0.34375 \nQ 39.109375 -1.421875 33.890625 -1.421875 \nQ 20.796875 -1.421875 13.15625 6.1875 \nQ 5.515625 13.8125 5.515625 26.8125 \nQ 5.515625 40.234375 12.765625 48.109375 \nQ 20.015625 56 32.328125 56 \nQ 43.359375 56 49.78125 48.890625 \nQ 56.203125 41.796875 56.203125 29.59375 \nz\nM 47.21875 32.234375 \nQ 47.125 39.59375 43.09375 43.984375 \nQ 39.0625 48.390625 32.421875 48.390625 \nQ 24.90625 48.390625 20.390625 44.140625 \nQ 15.875 39.890625 15.1875 32.171875 \nz\n\" id=\"DejaVuSans-101\"/>\n       <path d=\"M 45.40625 46.390625 \nL 45.40625 75.984375 \nL 54.390625 75.984375 \nL 54.390625 0 \nL 45.40625 0 \nL 45.40625 8.203125 \nQ 42.578125 3.328125 38.25 0.953125 \nQ 33.9375 -1.421875 27.875 -1.421875 \nQ 17.96875 -1.421875 11.734375 6.484375 \nQ 5.515625 14.40625 5.515625 27.296875 \nQ 5.515625 40.1875 11.734375 48.09375 \nQ 17.96875 56 27.875 56 \nQ 33.9375 56 38.25 53.625 \nQ 42.578125 51.265625 45.40625 46.390625 \nz\nM 14.796875 27.296875 \nQ 14.796875 17.390625 18.875 11.75 \nQ 22.953125 6.109375 30.078125 6.109375 \nQ 37.203125 6.109375 41.296875 11.75 \nQ 45.40625 17.390625 45.40625 27.296875 \nQ 45.40625 37.203125 41.296875 42.84375 \nQ 37.203125 48.484375 30.078125 48.484375 \nQ 22.953125 48.484375 18.875 42.84375 \nQ 14.796875 37.203125 14.796875 27.296875 \nz\n\" id=\"DejaVuSans-100\"/>\n       <path d=\"M 9.421875 54.6875 \nL 18.40625 54.6875 \nL 18.40625 0 \nL 9.421875 0 \nz\nM 9.421875 75.984375 \nL 18.40625 75.984375 \nL 18.40625 64.59375 \nL 9.421875 64.59375 \nz\n\" id=\"DejaVuSans-105\"/>\n       <path d=\"M 48.78125 52.59375 \nL 48.78125 44.1875 \nQ 44.96875 46.296875 41.140625 47.34375 \nQ 37.3125 48.390625 33.40625 48.390625 \nQ 24.65625 48.390625 19.8125 42.84375 \nQ 14.984375 37.3125 14.984375 27.296875 \nQ 14.984375 17.28125 19.8125 11.734375 \nQ 24.65625 6.203125 33.40625 6.203125 \nQ 37.3125 6.203125 41.140625 7.25 \nQ 44.96875 8.296875 48.78125 10.40625 \nL 48.78125 2.09375 \nQ 45.015625 0.34375 40.984375 -0.53125 \nQ 36.96875 -1.421875 32.421875 -1.421875 \nQ 20.0625 -1.421875 12.78125 6.34375 \nQ 5.515625 14.109375 5.515625 27.296875 \nQ 5.515625 40.671875 12.859375 48.328125 \nQ 20.21875 56 33.015625 56 \nQ 37.15625 56 41.109375 55.140625 \nQ 45.0625 54.296875 48.78125 52.59375 \nz\n\" id=\"DejaVuSans-99\"/>\n       <path d=\"M 18.3125 70.21875 \nL 18.3125 54.6875 \nL 36.8125 54.6875 \nL 36.8125 47.703125 \nL 18.3125 47.703125 \nL 18.3125 18.015625 \nQ 18.3125 11.328125 20.140625 9.421875 \nQ 21.96875 7.515625 27.59375 7.515625 \nL 36.8125 7.515625 \nL 36.8125 0 \nL 27.59375 0 \nQ 17.1875 0 13.234375 3.875 \nQ 9.28125 7.765625 9.28125 18.015625 \nL 9.28125 47.703125 \nL 2.6875 47.703125 \nL 2.6875 54.6875 \nL 9.28125 54.6875 \nL 9.28125 70.21875 \nz\n\" id=\"DejaVuSans-116\"/>\n       <path d=\"M 30.609375 48.390625 \nQ 23.390625 48.390625 19.1875 42.75 \nQ 14.984375 37.109375 14.984375 27.296875 \nQ 14.984375 17.484375 19.15625 11.84375 \nQ 23.34375 6.203125 30.609375 6.203125 \nQ 37.796875 6.203125 41.984375 11.859375 \nQ 46.1875 17.53125 46.1875 27.296875 \nQ 46.1875 37.015625 41.984375 42.703125 \nQ 37.796875 48.390625 30.609375 48.390625 \nz\nM 30.609375 56 \nQ 42.328125 56 49.015625 48.375 \nQ 55.71875 40.765625 55.71875 27.296875 \nQ 55.71875 13.875 49.015625 6.21875 \nQ 42.328125 -1.421875 30.609375 -1.421875 \nQ 18.84375 -1.421875 12.171875 6.21875 \nQ 5.515625 13.875 5.515625 27.296875 \nQ 5.515625 40.765625 12.171875 48.375 \nQ 18.84375 56 30.609375 56 \nz\n\" id=\"DejaVuSans-111\"/>\n       <path d=\"M 54.890625 33.015625 \nL 54.890625 0 \nL 45.90625 0 \nL 45.90625 32.71875 \nQ 45.90625 40.484375 42.875 44.328125 \nQ 39.84375 48.1875 33.796875 48.1875 \nQ 26.515625 48.1875 22.3125 43.546875 \nQ 18.109375 38.921875 18.109375 30.90625 \nL 18.109375 0 \nL 9.078125 0 \nL 9.078125 54.6875 \nL 18.109375 54.6875 \nL 18.109375 46.1875 \nQ 21.34375 51.125 25.703125 53.5625 \nQ 30.078125 56 35.796875 56 \nQ 45.21875 56 50.046875 50.171875 \nQ 54.890625 44.34375 54.890625 33.015625 \nz\n\" id=\"DejaVuSans-110\"/>\n      </defs>\n      <use xlink:href=\"#DejaVuSans-112\"/>\n      <use x=\"63.476562\" xlink:href=\"#DejaVuSans-114\"/>\n      <use x=\"102.339844\" xlink:href=\"#DejaVuSans-101\"/>\n      <use x=\"163.863281\" xlink:href=\"#DejaVuSans-100\"/>\n      <use x=\"227.339844\" xlink:href=\"#DejaVuSans-105\"/>\n      <use x=\"255.123047\" xlink:href=\"#DejaVuSans-99\"/>\n      <use x=\"310.103516\" xlink:href=\"#DejaVuSans-116\"/>\n      <use x=\"349.3125\" xlink:href=\"#DejaVuSans-105\"/>\n      <use x=\"377.095703\" xlink:href=\"#DejaVuSans-111\"/>\n      <use x=\"438.277344\" xlink:href=\"#DejaVuSans-110\"/>\n     </g>\n    </g>\n   </g>\n   <g id=\"matplotlib.axis_2\">\n    <g id=\"ytick_1\">\n     <g id=\"line2d_8\">\n      <defs>\n       <path d=\"M 0 0 \nL -3.5 0 \n\" id=\"m9b10eb2fca\" style=\"stroke:#ffffff;stroke-width:0.8;\"/>\n      </defs>\n      <g>\n       <use style=\"fill:#ffffff;stroke:#ffffff;stroke-width:0.8;\" x=\"40.603125\" xlink:href=\"#m9b10eb2fca\" y=\"239.758125\"/>\n      </g>\n     </g>\n     <g id=\"text_9\">\n      <!-- 0 -->\n      <g style=\"fill:#ffffff;\" transform=\"translate(27.240625 243.557344)scale(0.1 -0.1)\">\n       <use xlink:href=\"#DejaVuSans-48\"/>\n      </g>\n     </g>\n    </g>\n    <g id=\"ytick_2\">\n     <g id=\"line2d_9\">\n      <g>\n       <use style=\"fill:#ffffff;stroke:#ffffff;stroke-width:0.8;\" x=\"40.603125\" xlink:href=\"#m9b10eb2fca\" y=\"210.99622\"/>\n      </g>\n     </g>\n     <g id=\"text_10\">\n      <!-- 5 -->\n      <g style=\"fill:#ffffff;\" transform=\"translate(27.240625 214.795439)scale(0.1 -0.1)\">\n       <defs>\n        <path d=\"M 10.796875 72.90625 \nL 49.515625 72.90625 \nL 49.515625 64.59375 \nL 19.828125 64.59375 \nL 19.828125 46.734375 \nQ 21.96875 47.46875 24.109375 47.828125 \nQ 26.265625 48.1875 28.421875 48.1875 \nQ 40.625 48.1875 47.75 41.5 \nQ 54.890625 34.8125 54.890625 23.390625 \nQ 54.890625 11.625 47.5625 5.09375 \nQ 40.234375 -1.421875 26.90625 -1.421875 \nQ 22.3125 -1.421875 17.546875 -0.640625 \nQ 12.796875 0.140625 7.71875 1.703125 \nL 7.71875 11.625 \nQ 12.109375 9.234375 16.796875 8.0625 \nQ 21.484375 6.890625 26.703125 6.890625 \nQ 35.15625 6.890625 40.078125 11.328125 \nQ 45.015625 15.765625 45.015625 23.390625 \nQ 45.015625 31 40.078125 35.4375 \nQ 35.15625 39.890625 26.703125 39.890625 \nQ 22.75 39.890625 18.8125 39.015625 \nQ 14.890625 38.140625 10.796875 36.28125 \nz\n\" id=\"DejaVuSans-53\"/>\n       </defs>\n       <use xlink:href=\"#DejaVuSans-53\"/>\n      </g>\n     </g>\n    </g>\n    <g id=\"ytick_3\">\n     <g id=\"line2d_10\">\n      <g>\n       <use style=\"fill:#ffffff;stroke:#ffffff;stroke-width:0.8;\" x=\"40.603125\" xlink:href=\"#m9b10eb2fca\" y=\"182.234315\"/>\n      </g>\n     </g>\n     <g id=\"text_11\">\n      <!-- 10 -->\n      <g style=\"fill:#ffffff;\" transform=\"translate(20.878125 186.033534)scale(0.1 -0.1)\">\n       <use xlink:href=\"#DejaVuSans-49\"/>\n       <use x=\"63.623047\" xlink:href=\"#DejaVuSans-48\"/>\n      </g>\n     </g>\n    </g>\n    <g id=\"ytick_4\">\n     <g id=\"line2d_11\">\n      <g>\n       <use style=\"fill:#ffffff;stroke:#ffffff;stroke-width:0.8;\" x=\"40.603125\" xlink:href=\"#m9b10eb2fca\" y=\"153.472411\"/>\n      </g>\n     </g>\n     <g id=\"text_12\">\n      <!-- 15 -->\n      <g style=\"fill:#ffffff;\" transform=\"translate(20.878125 157.271629)scale(0.1 -0.1)\">\n       <use xlink:href=\"#DejaVuSans-49\"/>\n       <use x=\"63.623047\" xlink:href=\"#DejaVuSans-53\"/>\n      </g>\n     </g>\n    </g>\n    <g id=\"ytick_5\">\n     <g id=\"line2d_12\">\n      <g>\n       <use style=\"fill:#ffffff;stroke:#ffffff;stroke-width:0.8;\" x=\"40.603125\" xlink:href=\"#m9b10eb2fca\" y=\"124.710506\"/>\n      </g>\n     </g>\n     <g id=\"text_13\">\n      <!-- 20 -->\n      <g style=\"fill:#ffffff;\" transform=\"translate(20.878125 128.509725)scale(0.1 -0.1)\">\n       <use xlink:href=\"#DejaVuSans-50\"/>\n       <use x=\"63.623047\" xlink:href=\"#DejaVuSans-48\"/>\n      </g>\n     </g>\n    </g>\n    <g id=\"ytick_6\">\n     <g id=\"line2d_13\">\n      <g>\n       <use style=\"fill:#ffffff;stroke:#ffffff;stroke-width:0.8;\" x=\"40.603125\" xlink:href=\"#m9b10eb2fca\" y=\"95.948601\"/>\n      </g>\n     </g>\n     <g id=\"text_14\">\n      <!-- 25 -->\n      <g style=\"fill:#ffffff;\" transform=\"translate(20.878125 99.74782)scale(0.1 -0.1)\">\n       <use xlink:href=\"#DejaVuSans-50\"/>\n       <use x=\"63.623047\" xlink:href=\"#DejaVuSans-53\"/>\n      </g>\n     </g>\n    </g>\n    <g id=\"ytick_7\">\n     <g id=\"line2d_14\">\n      <g>\n       <use style=\"fill:#ffffff;stroke:#ffffff;stroke-width:0.8;\" x=\"40.603125\" xlink:href=\"#m9b10eb2fca\" y=\"67.186696\"/>\n      </g>\n     </g>\n     <g id=\"text_15\">\n      <!-- 30 -->\n      <g style=\"fill:#ffffff;\" transform=\"translate(20.878125 70.985915)scale(0.1 -0.1)\">\n       <use xlink:href=\"#DejaVuSans-51\"/>\n       <use x=\"63.623047\" xlink:href=\"#DejaVuSans-48\"/>\n      </g>\n     </g>\n    </g>\n    <g id=\"ytick_8\">\n     <g id=\"line2d_15\">\n      <g>\n       <use style=\"fill:#ffffff;stroke:#ffffff;stroke-width:0.8;\" x=\"40.603125\" xlink:href=\"#m9b10eb2fca\" y=\"38.424792\"/>\n      </g>\n     </g>\n     <g id=\"text_16\">\n      <!-- 35 -->\n      <g style=\"fill:#ffffff;\" transform=\"translate(20.878125 42.22401)scale(0.1 -0.1)\">\n       <use xlink:href=\"#DejaVuSans-51\"/>\n       <use x=\"63.623047\" xlink:href=\"#DejaVuSans-53\"/>\n      </g>\n     </g>\n    </g>\n    <g id=\"text_17\">\n     <!-- Count -->\n     <g style=\"fill:#ffffff;\" transform=\"translate(14.798438 145.886562)rotate(-90)scale(0.1 -0.1)\">\n      <defs>\n       <path d=\"M 64.40625 67.28125 \nL 64.40625 56.890625 \nQ 59.421875 61.53125 53.78125 63.8125 \nQ 48.140625 66.109375 41.796875 66.109375 \nQ 29.296875 66.109375 22.65625 58.46875 \nQ 16.015625 50.828125 16.015625 36.375 \nQ 16.015625 21.96875 22.65625 14.328125 \nQ 29.296875 6.6875 41.796875 6.6875 \nQ 48.140625 6.6875 53.78125 8.984375 \nQ 59.421875 11.28125 64.40625 15.921875 \nL 64.40625 5.609375 \nQ 59.234375 2.09375 53.4375 0.328125 \nQ 47.65625 -1.421875 41.21875 -1.421875 \nQ 24.65625 -1.421875 15.125 8.703125 \nQ 5.609375 18.84375 5.609375 36.375 \nQ 5.609375 53.953125 15.125 64.078125 \nQ 24.65625 74.21875 41.21875 74.21875 \nQ 47.75 74.21875 53.53125 72.484375 \nQ 59.328125 70.75 64.40625 67.28125 \nz\n\" id=\"DejaVuSans-67\"/>\n       <path d=\"M 8.5 21.578125 \nL 8.5 54.6875 \nL 17.484375 54.6875 \nL 17.484375 21.921875 \nQ 17.484375 14.15625 20.5 10.265625 \nQ 23.53125 6.390625 29.59375 6.390625 \nQ 36.859375 6.390625 41.078125 11.03125 \nQ 45.3125 15.671875 45.3125 23.6875 \nL 45.3125 54.6875 \nL 54.296875 54.6875 \nL 54.296875 0 \nL 45.3125 0 \nL 45.3125 8.40625 \nQ 42.046875 3.421875 37.71875 1 \nQ 33.40625 -1.421875 27.6875 -1.421875 \nQ 18.265625 -1.421875 13.375 4.4375 \nQ 8.5 10.296875 8.5 21.578125 \nz\nM 31.109375 56 \nz\n\" id=\"DejaVuSans-117\"/>\n      </defs>\n      <use xlink:href=\"#DejaVuSans-67\"/>\n      <use x=\"69.824219\" xlink:href=\"#DejaVuSans-111\"/>\n      <use x=\"131.005859\" xlink:href=\"#DejaVuSans-117\"/>\n      <use x=\"194.384766\" xlink:href=\"#DejaVuSans-110\"/>\n      <use x=\"257.763672\" xlink:href=\"#DejaVuSans-116\"/>\n     </g>\n    </g>\n   </g>\n   <g id=\"patch_16\">\n    <path d=\"M 40.603125 239.758125 \nL 40.603125 22.318125 \n\" style=\"fill:none;stroke:#ffffff;stroke-linecap:square;stroke-linejoin:miter;stroke-width:0.8;\"/>\n   </g>\n   <g id=\"patch_17\">\n    <path d=\"M 375.403125 239.758125 \nL 375.403125 22.318125 \n\" style=\"fill:none;stroke:#ffffff;stroke-linecap:square;stroke-linejoin:miter;stroke-width:0.8;\"/>\n   </g>\n   <g id=\"patch_18\">\n    <path d=\"M 40.603125 239.758125 \nL 375.403125 239.758125 \n\" style=\"fill:none;stroke:#ffffff;stroke-linecap:square;stroke-linejoin:miter;stroke-width:0.8;\"/>\n   </g>\n   <g id=\"patch_19\">\n    <path d=\"M 40.603125 22.318125 \nL 375.403125 22.318125 \n\" style=\"fill:none;stroke:#ffffff;stroke-linecap:square;stroke-linejoin:miter;stroke-width:0.8;\"/>\n   </g>\n   <g id=\"text_18\">\n    <!-- version_0 -->\n    <g style=\"fill:#ffffff;\" transform=\"translate(179.209687 16.318125)scale(0.12 -0.12)\">\n     <defs>\n      <path d=\"M 2.984375 54.6875 \nL 12.5 54.6875 \nL 29.59375 8.796875 \nL 46.6875 54.6875 \nL 56.203125 54.6875 \nL 35.6875 0 \nL 23.484375 0 \nz\n\" id=\"DejaVuSans-118\"/>\n      <path d=\"M 44.28125 53.078125 \nL 44.28125 44.578125 \nQ 40.484375 46.53125 36.375 47.5 \nQ 32.28125 48.484375 27.875 48.484375 \nQ 21.1875 48.484375 17.84375 46.4375 \nQ 14.5 44.390625 14.5 40.28125 \nQ 14.5 37.15625 16.890625 35.375 \nQ 19.28125 33.59375 26.515625 31.984375 \nL 29.59375 31.296875 \nQ 39.15625 29.25 43.1875 25.515625 \nQ 47.21875 21.78125 47.21875 15.09375 \nQ 47.21875 7.46875 41.1875 3.015625 \nQ 35.15625 -1.421875 24.609375 -1.421875 \nQ 20.21875 -1.421875 15.453125 -0.5625 \nQ 10.6875 0.296875 5.421875 2 \nL 5.421875 11.28125 \nQ 10.40625 8.6875 15.234375 7.390625 \nQ 20.0625 6.109375 24.8125 6.109375 \nQ 31.15625 6.109375 34.5625 8.28125 \nQ 37.984375 10.453125 37.984375 14.40625 \nQ 37.984375 18.0625 35.515625 20.015625 \nQ 33.0625 21.96875 24.703125 23.78125 \nL 21.578125 24.515625 \nQ 13.234375 26.265625 9.515625 29.90625 \nQ 5.8125 33.546875 5.8125 39.890625 \nQ 5.8125 47.609375 11.28125 51.796875 \nQ 16.75 56 26.8125 56 \nQ 31.78125 56 36.171875 55.265625 \nQ 40.578125 54.546875 44.28125 53.078125 \nz\n\" id=\"DejaVuSans-115\"/>\n      <path d=\"M 50.984375 -16.609375 \nL 50.984375 -23.578125 \nL -0.984375 -23.578125 \nL -0.984375 -16.609375 \nz\n\" id=\"DejaVuSans-95\"/>\n     </defs>\n     <use xlink:href=\"#DejaVuSans-118\"/>\n     <use x=\"59.179688\" xlink:href=\"#DejaVuSans-101\"/>\n     <use x=\"120.703125\" xlink:href=\"#DejaVuSans-114\"/>\n     <use x=\"161.816406\" xlink:href=\"#DejaVuSans-115\"/>\n     <use x=\"213.916016\" xlink:href=\"#DejaVuSans-105\"/>\n     <use x=\"241.699219\" xlink:href=\"#DejaVuSans-111\"/>\n     <use x=\"302.880859\" xlink:href=\"#DejaVuSans-110\"/>\n     <use x=\"366.259766\" xlink:href=\"#DejaVuSans-95\"/>\n     <use x=\"416.259766\" xlink:href=\"#DejaVuSans-48\"/>\n    </g>\n   </g>\n  </g>\n </g>\n <defs>\n  <clipPath id=\"p02a1106de3\">\n   <rect height=\"217.44\" width=\"334.8\" x=\"40.603125\" y=\"22.318125\"/>\n  </clipPath>\n </defs>\n</svg>\n",
      "image/png": "[encoded data removed]"
     },
     "metadata": {}
    }
   ],
   "source": [
    "df = pd.DataFrame.from_dict(df_dicts)\n",
    "sb.histplot(data=df['prediction']).set_title(model_version)"
   ]
  },
  {
   "source": [
    "### Manual Test"
   ],
   "cell_type": "markdown",
   "metadata": {}
  },
  {
   "cell_type": "code",
   "execution_count": 16,
   "metadata": {},
   "outputs": [],
   "source": [
    "dataset_path = '../data/USParties/USParties_preprocessed.csv'"
   ]
  },
  {
   "cell_type": "code",
   "execution_count": 17,
   "metadata": {},
   "outputs": [
    {
     "output_type": "error",
     "ename": "KeyError",
     "evalue": "Index(['Group Name'], dtype='object')",
     "traceback": [
      "\u001b[0;31m---------------------------------------------------------------------------\u001b[0m",
      "\u001b[0;31mKeyError\u001b[0m                                  Traceback (most recent call last)",
      "\u001b[0;32m<ipython-input-17-bdac1caf2c76>\u001b[0m in \u001b[0;36m<module>\u001b[0;34m\u001b[0m\n\u001b[1;32m      5\u001b[0m )\n\u001b[1;32m      6\u001b[0m w_group_id = widgets.Dropdown(\n\u001b[0;32m----> 7\u001b[0;31m     \u001b[0moptions\u001b[0m\u001b[0;34m=\u001b[0m\u001b[0mlist\u001b[0m\u001b[0;34m(\u001b[0m\u001b[0mdf\u001b[0m\u001b[0;34m.\u001b[0m\u001b[0mdrop_duplicates\u001b[0m\u001b[0;34m(\u001b[0m\u001b[0msubset\u001b[0m\u001b[0;34m=\u001b[0m\u001b[0;34m[\u001b[0m\u001b[0;34m'Group Name'\u001b[0m\u001b[0;34m,\u001b[0m \u001b[0;34m'Facebook Id'\u001b[0m\u001b[0;34m]\u001b[0m\u001b[0;34m)\u001b[0m\u001b[0;34m[\u001b[0m\u001b[0;34m[\u001b[0m\u001b[0;34m'Group Name'\u001b[0m\u001b[0;34m,\u001b[0m \u001b[0;34m'Facebook Id'\u001b[0m\u001b[0;34m]\u001b[0m\u001b[0;34m]\u001b[0m\u001b[0;34m.\u001b[0m\u001b[0mitertuples\u001b[0m\u001b[0;34m(\u001b[0m\u001b[0mindex\u001b[0m\u001b[0;34m=\u001b[0m\u001b[0;32mFalse\u001b[0m\u001b[0;34m,\u001b[0m \u001b[0mname\u001b[0m\u001b[0;34m=\u001b[0m\u001b[0;32mNone\u001b[0m\u001b[0;34m)\u001b[0m\u001b[0;34m)\u001b[0m\u001b[0;34m,\u001b[0m\u001b[0;34m\u001b[0m\u001b[0;34m\u001b[0m\u001b[0m\n\u001b[0m\u001b[1;32m      8\u001b[0m     \u001b[0mdescription\u001b[0m\u001b[0;34m=\u001b[0m\u001b[0;34m'Group:'\u001b[0m\u001b[0;34m\u001b[0m\u001b[0;34m\u001b[0m\u001b[0m\n\u001b[1;32m      9\u001b[0m )\n",
      "\u001b[0;32m~/miniconda3/envs/nlp/lib/python3.9/site-packages/pandas/core/frame.py\u001b[0m in \u001b[0;36mdrop_duplicates\u001b[0;34m(self, subset, keep, inplace, ignore_index)\u001b[0m\n\u001b[1;32m   5269\u001b[0m         \u001b[0minplace\u001b[0m \u001b[0;34m=\u001b[0m \u001b[0mvalidate_bool_kwarg\u001b[0m\u001b[0;34m(\u001b[0m\u001b[0minplace\u001b[0m\u001b[0;34m,\u001b[0m \u001b[0;34m\"inplace\"\u001b[0m\u001b[0;34m)\u001b[0m\u001b[0;34m\u001b[0m\u001b[0;34m\u001b[0m\u001b[0m\n\u001b[1;32m   5270\u001b[0m         \u001b[0mignore_index\u001b[0m \u001b[0;34m=\u001b[0m \u001b[0mvalidate_bool_kwarg\u001b[0m\u001b[0;34m(\u001b[0m\u001b[0mignore_index\u001b[0m\u001b[0;34m,\u001b[0m \u001b[0;34m\"ignore_index\"\u001b[0m\u001b[0;34m)\u001b[0m\u001b[0;34m\u001b[0m\u001b[0;34m\u001b[0m\u001b[0m\n\u001b[0;32m-> 5271\u001b[0;31m         \u001b[0mduplicated\u001b[0m \u001b[0;34m=\u001b[0m \u001b[0mself\u001b[0m\u001b[0;34m.\u001b[0m\u001b[0mduplicated\u001b[0m\u001b[0;34m(\u001b[0m\u001b[0msubset\u001b[0m\u001b[0;34m,\u001b[0m \u001b[0mkeep\u001b[0m\u001b[0;34m=\u001b[0m\u001b[0mkeep\u001b[0m\u001b[0;34m)\u001b[0m\u001b[0;34m\u001b[0m\u001b[0;34m\u001b[0m\u001b[0m\n\u001b[0m\u001b[1;32m   5272\u001b[0m \u001b[0;34m\u001b[0m\u001b[0m\n\u001b[1;32m   5273\u001b[0m         \u001b[0mresult\u001b[0m \u001b[0;34m=\u001b[0m \u001b[0mself\u001b[0m\u001b[0;34m[\u001b[0m\u001b[0;34m-\u001b[0m\u001b[0mduplicated\u001b[0m\u001b[0;34m]\u001b[0m\u001b[0;34m\u001b[0m\u001b[0;34m\u001b[0m\u001b[0m\n",
      "\u001b[0;32m~/miniconda3/envs/nlp/lib/python3.9/site-packages/pandas/core/frame.py\u001b[0m in \u001b[0;36mduplicated\u001b[0;34m(self, subset, keep)\u001b[0m\n\u001b[1;32m   5403\u001b[0m         \u001b[0mdiff\u001b[0m \u001b[0;34m=\u001b[0m \u001b[0mIndex\u001b[0m\u001b[0;34m(\u001b[0m\u001b[0msubset\u001b[0m\u001b[0;34m)\u001b[0m\u001b[0;34m.\u001b[0m\u001b[0mdifference\u001b[0m\u001b[0;34m(\u001b[0m\u001b[0mself\u001b[0m\u001b[0;34m.\u001b[0m\u001b[0mcolumns\u001b[0m\u001b[0;34m)\u001b[0m\u001b[0;34m\u001b[0m\u001b[0;34m\u001b[0m\u001b[0m\n\u001b[1;32m   5404\u001b[0m         \u001b[0;32mif\u001b[0m \u001b[0;32mnot\u001b[0m \u001b[0mdiff\u001b[0m\u001b[0;34m.\u001b[0m\u001b[0mempty\u001b[0m\u001b[0;34m:\u001b[0m\u001b[0;34m\u001b[0m\u001b[0;34m\u001b[0m\u001b[0m\n\u001b[0;32m-> 5405\u001b[0;31m             \u001b[0;32mraise\u001b[0m \u001b[0mKeyError\u001b[0m\u001b[0;34m(\u001b[0m\u001b[0mdiff\u001b[0m\u001b[0;34m)\u001b[0m\u001b[0;34m\u001b[0m\u001b[0;34m\u001b[0m\u001b[0m\n\u001b[0m\u001b[1;32m   5406\u001b[0m \u001b[0;34m\u001b[0m\u001b[0m\n\u001b[1;32m   5407\u001b[0m         \u001b[0mvals\u001b[0m \u001b[0;34m=\u001b[0m \u001b[0;34m(\u001b[0m\u001b[0mcol\u001b[0m\u001b[0;34m.\u001b[0m\u001b[0mvalues\u001b[0m \u001b[0;32mfor\u001b[0m \u001b[0mname\u001b[0m\u001b[0;34m,\u001b[0m \u001b[0mcol\u001b[0m \u001b[0;32min\u001b[0m \u001b[0mself\u001b[0m\u001b[0;34m.\u001b[0m\u001b[0mitems\u001b[0m\u001b[0;34m(\u001b[0m\u001b[0;34m)\u001b[0m \u001b[0;32mif\u001b[0m \u001b[0mname\u001b[0m \u001b[0;32min\u001b[0m \u001b[0msubset\u001b[0m\u001b[0;34m)\u001b[0m\u001b[0;34m\u001b[0m\u001b[0;34m\u001b[0m\u001b[0m\n",
      "\u001b[0;31mKeyError\u001b[0m: Index(['Group Name'], dtype='object')"
     ]
    }
   ],
   "source": [
    "df = pd.read_csv(dataset_path)\n",
    "w_post_type = widgets.Dropdown(\n",
    "    options=df['Type'].unique().tolist(),\n",
    "    description='Post Type:'\n",
    ")\n",
    "w_group_id = widgets.Dropdown(\n",
    "    options=list(df.drop_duplicates(subset=['Group Name', 'Facebook Id'])[['Group Name', 'Facebook Id']].itertuples(index=False, name=None)),\n",
    "    description='Group:'\n",
    ")\n",
    "w_text = widgets.Textarea(\n",
    "    value='',\n",
    "    placeholder='post text'\n",
    ")\n",
    "display(w_post_type, w_group_id, w_text)"
   ]
  },
  {
   "cell_type": "code",
   "execution_count": null,
   "metadata": {},
   "outputs": [],
   "source": [
    "class_encoding = torch.FloatTensor(data_module.class_encoder.transform([(w_group_id.value, w_post_type.value)]))\n",
    "text_encoding = data_module.tokenizer([w_text.value], padding=True, truncation=True, return_tensors=\"pt\")\n",
    "result = model(text_encoding, class_encoding)\n",
    "float(result)"
   ]
  },
  {
   "source": [
    "### MSE per group"
   ],
   "cell_type": "markdown",
   "metadata": {}
  },
  {
   "cell_type": "code",
   "execution_count": null,
   "metadata": {},
   "outputs": [],
   "source": [
    "# initialize MSE for each facebook group\n",
    "groupid2name = GroupId2Name(model.config)\n",
    "df_dicts = []\n",
    "groups_mse = {}\n",
    "totalmse = pl.metrics.MeanSquaredError()\n",
    "for group_id, _ in groupid2name.group_id2name.items():\n",
    "    groups_mse[group_id] = pl.metrics.MeanSquaredError()\n",
    "    \n",
    "for y_lst, encoded_texts_lst, category_vectors_lst, _ in tqdm(iter(data_module.test_dataloader()), total=len(data_module.test_dataloader())):\n",
    "    y_hat_lst = model(encoded_texts_lst, category_vectors_lst)\n",
    "    totalmse(y_hat_lst.squeeze(), y_lst)\n",
    "    \n",
    "    for y_hat, y, encoded_text, category_vector in zip(y_hat_lst, y_lst, encoded_texts_lst, category_vectors_lst):\n",
    "        decoded_categories = inverse_transform(category_vector.reshape(1, -1), model.config, data_module.class_encoder)\n",
    "        group_id = decoded_categories['group_id']\n",
    "        \n",
    "        groups_mse[group_id](y_hat.squeeze(), y)\n",
    "    \n",
    "        df_dicts.append({**{\n",
    "            'prediction': float(y_hat),\n",
    "            'gold label': float(y),\n",
    "            'text': ' '.join([data_module.vocab.itos[int(t)] for t in encoded_text])\n",
    "        },**decoded_categories})\n",
    "for group_id, _ in groups_mse.items():\n",
    "    print(groupid2name(group_id) + ':', float(groups_mse[group_id].compute()))\n"
   ]
  },
  {
   "cell_type": "code",
   "execution_count": null,
   "metadata": {},
   "outputs": [],
   "source": [
    "totalmse.compute()"
   ]
  },
  {
   "cell_type": "code",
   "execution_count": null,
   "metadata": {},
   "outputs": [],
   "source": [
    "pd.DataFrame.from_dict(df_dicts)"
   ]
  },
  {
   "source": [
    "### MSE without groups"
   ],
   "cell_type": "markdown",
   "metadata": {}
  },
  {
   "cell_type": "code",
   "execution_count": null,
   "metadata": {},
   "outputs": [],
   "source": [
    "df_dicts = []\n",
    "mse = pl.metrics.MeanSquaredError()\n",
    "for y_lst, encoded_texts_lst, category_vectors_lst, _ in tqdm(iter(data_module.test_dataloader()), total=len(data_module.test_dataloader())):\n",
    "    y_hat_lst = model(encoded_texts_lst, category_vectors_lst)\n",
    "    mse(y_hat_lst.squeeze(), y_lst)\n",
    "    \n",
    "    for y_hat, y, encoded_text, category_vector in zip(y_hat_lst, y_lst, encoded_texts_lst, category_vectors_lst):\n",
    "        decoded_categories = inverse_transform(category_vector.reshape(1, -1), model.config, data_module.class_encoder)\n",
    "           \n",
    "        df_dicts.append({**{\n",
    "            'prediction': float(y_hat),\n",
    "            'gold label': float(y),\n",
    "            'text': ' '.join([data_module.vocab.itos[int(t)] for t in encoded_text])\n",
    "        },**decoded_categories})\n"
   ]
  },
  {
   "cell_type": "code",
   "execution_count": null,
   "metadata": {},
   "outputs": [],
   "source": [
    "mse.compute()"
   ]
  },
  {
   "source": [
    "# Analysis"
   ],
   "cell_type": "markdown",
   "metadata": {}
  },
  {
   "cell_type": "code",
   "execution_count": 4,
   "metadata": {},
   "outputs": [],
   "source": [
    "import pandas as pd\n",
    "import seaborn as sb\n",
    "from pathlib import Path\n",
    "sb.set_context(rc = {'patch.linewidth': 0.0})"
   ]
  },
  {
   "cell_type": "code",
   "execution_count": 5,
   "metadata": {},
   "outputs": [],
   "source": [
    "dataset_path = Path('../data/USParties/USParties_preprocessed.csv')"
   ]
  },
  {
   "cell_type": "code",
   "execution_count": 6,
   "metadata": {},
   "outputs": [
    {
     "output_type": "execute_result",
     "data": {
      "text/plain": [
       "('USParties_preprocessed', 'figures/USParties_preprocessed')"
      ]
     },
     "metadata": {},
     "execution_count": 6
    }
   ],
   "source": [
    "df = pd.read_csv(dataset_path,low_memory=False)\n",
    "dataset_name = dataset_path.stem\n",
    "figure_path = Path('./figures/' + dataset_name + '/')\n",
    "figure_path.mkdir(parents=True, exist_ok=True)\n",
    "dataset_name, str(figure_path)"
   ]
  },
  {
   "cell_type": "code",
   "execution_count": 7,
   "metadata": {},
   "outputs": [
    {
     "output_type": "display_data",
     "data": {
      "text/plain": "<Figure size 432x288 with 1 Axes>",
      "image/svg+xml": "<?xml version=\"1.0\" encoding=\"utf-8\" standalone=\"no\"?>\n<!DOCTYPE svg PUBLIC \"-//W3C//DTD SVG 1.1//EN\"\n  \"http://www.w3.org/Graphics/SVG/1.1/DTD/svg11.dtd\">\n<!-- Created with matplotlib (https://matplotlib.org/) -->\n<svg height=\"262.19625pt\" version=\"1.1\" viewBox=\"0 0 459.1875 262.19625\" width=\"459.1875pt\" xmlns=\"http://www.w3.org/2000/svg\" xmlns:xlink=\"http://www.w3.org/1999/xlink\">\n <metadata>\n  <rdf:RDF xmlns:cc=\"http://creativecommons.org/ns#\" xmlns:dc=\"http://purl.org/dc/elements/1.1/\" xmlns:rdf=\"http://www.w3.org/1999/02/22-rdf-syntax-ns#\">\n   <cc:Work>\n    <dc:type rdf:resource=\"http://purl.org/dc/dcmitype/StillImage\"/>\n    <dc:date>2021-05-11T12:00:47.057344</dc:date>\n    <dc:format>image/svg+xml</dc:format>\n    <dc:creator>\n     <cc:Agent>\n      <dc:title>Matplotlib v3.3.4, https://matplotlib.org/</dc:title>\n     </cc:Agent>\n    </dc:creator>\n   </cc:Work>\n  </rdf:RDF>\n </metadata>\n <defs>\n  <style type=\"text/css\">*{stroke-linecap:butt;stroke-linejoin:round;}</style>\n </defs>\n <g id=\"figure_1\">\n  <g id=\"patch_1\">\n   <path d=\"M 0 262.19625 \nL 459.1875 262.19625 \nL 459.1875 0 \nL 0 0 \nz\n\"/>\n  </g>\n  <g id=\"axes_1\">\n   <g id=\"patch_2\">\n    <path d=\"M 117.1875 224.64 \nL 451.9875 224.64 \nL 451.9875 7.2 \nL 117.1875 7.2 \nz\n\"/>\n   </g>\n   <g id=\"patch_3\">\n    <path clip-path=\"url(#p26e3a1f9a1)\" d=\"M 117.1875 10.306286 \nL 283.178507 10.306286 \nL 283.178507 35.156571 \nL 117.1875 35.156571 \nz\n\" style=\"fill:#96cac1;\"/>\n   </g>\n   <g id=\"patch_4\">\n    <path clip-path=\"url(#p26e3a1f9a1)\" d=\"M 117.1875 41.369143 \nL 436.044643 41.369143 \nL 436.044643 66.219429 \nL 117.1875 66.219429 \nz\n\" style=\"fill:#f5f6bc;\"/>\n   </g>\n   <g id=\"patch_5\">\n    <path clip-path=\"url(#p26e3a1f9a1)\" d=\"M 117.1875 72.432 \nL 186.672107 72.432 \nL 186.672107 97.282286 \nL 117.1875 97.282286 \nz\n\" style=\"fill:#c2bfd5;\"/>\n   </g>\n   <g id=\"patch_6\">\n    <path clip-path=\"url(#p26e3a1f9a1)\" d=\"M 117.1875 103.494857 \nL 264.649278 103.494857 \nL 264.649278 128.345143 \nL 117.1875 128.345143 \nz\n\" style=\"fill:#e98e85;\"/>\n   </g>\n   <g id=\"patch_7\">\n    <path clip-path=\"url(#p26e3a1f9a1)\" d=\"M 117.1875 134.557714 \nL 124.135961 134.557714 \nL 124.135961 159.408 \nL 117.1875 159.408 \nz\n\" style=\"fill:#8bafc8;\"/>\n   </g>\n   <g id=\"patch_8\">\n    <path clip-path=\"url(#p26e3a1f9a1)\" d=\"M 117.1875 165.620571 \nL 125.680063 165.620571 \nL 125.680063 190.470857 \nL 117.1875 190.470857 \nz\n\" style=\"fill:#eab375;\"/>\n   </g>\n   <g id=\"patch_9\">\n    <path clip-path=\"url(#p26e3a1f9a1)\" d=\"M 117.1875 196.683429 \nL 120.275705 196.683429 \nL 120.275705 221.533714 \nL 117.1875 221.533714 \nz\n\" style=\"fill:#afcf78;\"/>\n   </g>\n   <g id=\"matplotlib.axis_1\">\n    <g id=\"xtick_1\">\n     <g id=\"line2d_1\">\n      <defs>\n       <path d=\"M 0 0 \nL 0 3.5 \n\" id=\"mc24766f3e0\" style=\"stroke:#ffffff;stroke-width:0.8;\"/>\n      </defs>\n      <g>\n       <use style=\"fill:#ffffff;stroke:#ffffff;stroke-width:0.8;\" x=\"117.1875\" xlink:href=\"#mc24766f3e0\" y=\"224.64\"/>\n      </g>\n     </g>\n     <g id=\"text_1\">\n      <!-- 0 -->\n      <g style=\"fill:#ffffff;\" transform=\"translate(114.00625 239.238437)scale(0.1 -0.1)\">\n       <defs>\n        <path d=\"M 31.78125 66.40625 \nQ 24.171875 66.40625 20.328125 58.90625 \nQ 16.5 51.421875 16.5 36.375 \nQ 16.5 21.390625 20.328125 13.890625 \nQ 24.171875 6.390625 31.78125 6.390625 \nQ 39.453125 6.390625 43.28125 13.890625 \nQ 47.125 21.390625 47.125 36.375 \nQ 47.125 51.421875 43.28125 58.90625 \nQ 39.453125 66.40625 31.78125 66.40625 \nz\nM 31.78125 74.21875 \nQ 44.046875 74.21875 50.515625 64.515625 \nQ 56.984375 54.828125 56.984375 36.375 \nQ 56.984375 17.96875 50.515625 8.265625 \nQ 44.046875 -1.421875 31.78125 -1.421875 \nQ 19.53125 -1.421875 13.0625 8.265625 \nQ 6.59375 17.96875 6.59375 36.375 \nQ 6.59375 54.828125 13.0625 64.515625 \nQ 19.53125 74.21875 31.78125 74.21875 \nz\n\" id=\"DejaVuSans-48\"/>\n       </defs>\n       <use xlink:href=\"#DejaVuSans-48\"/>\n      </g>\n     </g>\n    </g>\n    <g id=\"xtick_2\">\n     <g id=\"line2d_2\">\n      <g>\n       <use style=\"fill:#ffffff;stroke:#ffffff;stroke-width:0.8;\" x=\"155.79006\" xlink:href=\"#mc24766f3e0\" y=\"224.64\"/>\n      </g>\n     </g>\n     <g id=\"text_2\">\n      <!-- 50 -->\n      <g style=\"fill:#ffffff;\" transform=\"translate(149.42756 239.238437)scale(0.1 -0.1)\">\n       <defs>\n        <path d=\"M 10.796875 72.90625 \nL 49.515625 72.90625 \nL 49.515625 64.59375 \nL 19.828125 64.59375 \nL 19.828125 46.734375 \nQ 21.96875 47.46875 24.109375 47.828125 \nQ 26.265625 48.1875 28.421875 48.1875 \nQ 40.625 48.1875 47.75 41.5 \nQ 54.890625 34.8125 54.890625 23.390625 \nQ 54.890625 11.625 47.5625 5.09375 \nQ 40.234375 -1.421875 26.90625 -1.421875 \nQ 22.3125 -1.421875 17.546875 -0.640625 \nQ 12.796875 0.140625 7.71875 1.703125 \nL 7.71875 11.625 \nQ 12.109375 9.234375 16.796875 8.0625 \nQ 21.484375 6.890625 26.703125 6.890625 \nQ 35.15625 6.890625 40.078125 11.328125 \nQ 45.015625 15.765625 45.015625 23.390625 \nQ 45.015625 31 40.078125 35.4375 \nQ 35.15625 39.890625 26.703125 39.890625 \nQ 22.75 39.890625 18.8125 39.015625 \nQ 14.890625 38.140625 10.796875 36.28125 \nz\n\" id=\"DejaVuSans-53\"/>\n       </defs>\n       <use xlink:href=\"#DejaVuSans-53\"/>\n       <use x=\"63.623047\" xlink:href=\"#DejaVuSans-48\"/>\n      </g>\n     </g>\n    </g>\n    <g id=\"xtick_3\">\n     <g id=\"line2d_3\">\n      <g>\n       <use style=\"fill:#ffffff;stroke:#ffffff;stroke-width:0.8;\" x=\"194.392619\" xlink:href=\"#mc24766f3e0\" y=\"224.64\"/>\n      </g>\n     </g>\n     <g id=\"text_3\">\n      <!-- 100 -->\n      <g style=\"fill:#ffffff;\" transform=\"translate(184.848869 239.238437)scale(0.1 -0.1)\">\n       <defs>\n        <path d=\"M 12.40625 8.296875 \nL 28.515625 8.296875 \nL 28.515625 63.921875 \nL 10.984375 60.40625 \nL 10.984375 69.390625 \nL 28.421875 72.90625 \nL 38.28125 72.90625 \nL 38.28125 8.296875 \nL 54.390625 8.296875 \nL 54.390625 0 \nL 12.40625 0 \nz\n\" id=\"DejaVuSans-49\"/>\n       </defs>\n       <use xlink:href=\"#DejaVuSans-49\"/>\n       <use x=\"63.623047\" xlink:href=\"#DejaVuSans-48\"/>\n       <use x=\"127.246094\" xlink:href=\"#DejaVuSans-48\"/>\n      </g>\n     </g>\n    </g>\n    <g id=\"xtick_4\">\n     <g id=\"line2d_4\">\n      <g>\n       <use style=\"fill:#ffffff;stroke:#ffffff;stroke-width:0.8;\" x=\"232.995179\" xlink:href=\"#mc24766f3e0\" y=\"224.64\"/>\n      </g>\n     </g>\n     <g id=\"text_4\">\n      <!-- 150 -->\n      <g style=\"fill:#ffffff;\" transform=\"translate(223.451429 239.238437)scale(0.1 -0.1)\">\n       <use xlink:href=\"#DejaVuSans-49\"/>\n       <use x=\"63.623047\" xlink:href=\"#DejaVuSans-53\"/>\n       <use x=\"127.246094\" xlink:href=\"#DejaVuSans-48\"/>\n      </g>\n     </g>\n    </g>\n    <g id=\"xtick_5\">\n     <g id=\"line2d_5\">\n      <g>\n       <use style=\"fill:#ffffff;stroke:#ffffff;stroke-width:0.8;\" x=\"271.597739\" xlink:href=\"#mc24766f3e0\" y=\"224.64\"/>\n      </g>\n     </g>\n     <g id=\"text_5\">\n      <!-- 200 -->\n      <g style=\"fill:#ffffff;\" transform=\"translate(262.053989 239.238437)scale(0.1 -0.1)\">\n       <defs>\n        <path d=\"M 19.1875 8.296875 \nL 53.609375 8.296875 \nL 53.609375 0 \nL 7.328125 0 \nL 7.328125 8.296875 \nQ 12.9375 14.109375 22.625 23.890625 \nQ 32.328125 33.6875 34.8125 36.53125 \nQ 39.546875 41.84375 41.421875 45.53125 \nQ 43.3125 49.21875 43.3125 52.78125 \nQ 43.3125 58.59375 39.234375 62.25 \nQ 35.15625 65.921875 28.609375 65.921875 \nQ 23.96875 65.921875 18.8125 64.3125 \nQ 13.671875 62.703125 7.8125 59.421875 \nL 7.8125 69.390625 \nQ 13.765625 71.78125 18.9375 73 \nQ 24.125 74.21875 28.421875 74.21875 \nQ 39.75 74.21875 46.484375 68.546875 \nQ 53.21875 62.890625 53.21875 53.421875 \nQ 53.21875 48.921875 51.53125 44.890625 \nQ 49.859375 40.875 45.40625 35.40625 \nQ 44.1875 33.984375 37.640625 27.21875 \nQ 31.109375 20.453125 19.1875 8.296875 \nz\n\" id=\"DejaVuSans-50\"/>\n       </defs>\n       <use xlink:href=\"#DejaVuSans-50\"/>\n       <use x=\"63.623047\" xlink:href=\"#DejaVuSans-48\"/>\n       <use x=\"127.246094\" xlink:href=\"#DejaVuSans-48\"/>\n      </g>\n     </g>\n    </g>\n    <g id=\"xtick_6\">\n     <g id=\"line2d_6\">\n      <g>\n       <use style=\"fill:#ffffff;stroke:#ffffff;stroke-width:0.8;\" x=\"310.200298\" xlink:href=\"#mc24766f3e0\" y=\"224.64\"/>\n      </g>\n     </g>\n     <g id=\"text_6\">\n      <!-- 250 -->\n      <g style=\"fill:#ffffff;\" transform=\"translate(300.656548 239.238437)scale(0.1 -0.1)\">\n       <use xlink:href=\"#DejaVuSans-50\"/>\n       <use x=\"63.623047\" xlink:href=\"#DejaVuSans-53\"/>\n       <use x=\"127.246094\" xlink:href=\"#DejaVuSans-48\"/>\n      </g>\n     </g>\n    </g>\n    <g id=\"xtick_7\">\n     <g id=\"line2d_7\">\n      <g>\n       <use style=\"fill:#ffffff;stroke:#ffffff;stroke-width:0.8;\" x=\"348.802858\" xlink:href=\"#mc24766f3e0\" y=\"224.64\"/>\n      </g>\n     </g>\n     <g id=\"text_7\">\n      <!-- 300 -->\n      <g style=\"fill:#ffffff;\" transform=\"translate(339.259108 239.238437)scale(0.1 -0.1)\">\n       <defs>\n        <path d=\"M 40.578125 39.3125 \nQ 47.65625 37.796875 51.625 33 \nQ 55.609375 28.21875 55.609375 21.1875 \nQ 55.609375 10.40625 48.1875 4.484375 \nQ 40.765625 -1.421875 27.09375 -1.421875 \nQ 22.515625 -1.421875 17.65625 -0.515625 \nQ 12.796875 0.390625 7.625 2.203125 \nL 7.625 11.71875 \nQ 11.71875 9.328125 16.59375 8.109375 \nQ 21.484375 6.890625 26.8125 6.890625 \nQ 36.078125 6.890625 40.9375 10.546875 \nQ 45.796875 14.203125 45.796875 21.1875 \nQ 45.796875 27.640625 41.28125 31.265625 \nQ 36.765625 34.90625 28.71875 34.90625 \nL 20.21875 34.90625 \nL 20.21875 43.015625 \nL 29.109375 43.015625 \nQ 36.375 43.015625 40.234375 45.921875 \nQ 44.09375 48.828125 44.09375 54.296875 \nQ 44.09375 59.90625 40.109375 62.90625 \nQ 36.140625 65.921875 28.71875 65.921875 \nQ 24.65625 65.921875 20.015625 65.03125 \nQ 15.375 64.15625 9.8125 62.3125 \nL 9.8125 71.09375 \nQ 15.4375 72.65625 20.34375 73.4375 \nQ 25.25 74.21875 29.59375 74.21875 \nQ 40.828125 74.21875 47.359375 69.109375 \nQ 53.90625 64.015625 53.90625 55.328125 \nQ 53.90625 49.265625 50.4375 45.09375 \nQ 46.96875 40.921875 40.578125 39.3125 \nz\n\" id=\"DejaVuSans-51\"/>\n       </defs>\n       <use xlink:href=\"#DejaVuSans-51\"/>\n       <use x=\"63.623047\" xlink:href=\"#DejaVuSans-48\"/>\n       <use x=\"127.246094\" xlink:href=\"#DejaVuSans-48\"/>\n      </g>\n     </g>\n    </g>\n    <g id=\"xtick_8\">\n     <g id=\"line2d_8\">\n      <g>\n       <use style=\"fill:#ffffff;stroke:#ffffff;stroke-width:0.8;\" x=\"387.405418\" xlink:href=\"#mc24766f3e0\" y=\"224.64\"/>\n      </g>\n     </g>\n     <g id=\"text_8\">\n      <!-- 350 -->\n      <g style=\"fill:#ffffff;\" transform=\"translate(377.861668 239.238437)scale(0.1 -0.1)\">\n       <use xlink:href=\"#DejaVuSans-51\"/>\n       <use x=\"63.623047\" xlink:href=\"#DejaVuSans-53\"/>\n       <use x=\"127.246094\" xlink:href=\"#DejaVuSans-48\"/>\n      </g>\n     </g>\n    </g>\n    <g id=\"xtick_9\">\n     <g id=\"line2d_9\">\n      <g>\n       <use style=\"fill:#ffffff;stroke:#ffffff;stroke-width:0.8;\" x=\"426.007977\" xlink:href=\"#mc24766f3e0\" y=\"224.64\"/>\n      </g>\n     </g>\n     <g id=\"text_9\">\n      <!-- 400 -->\n      <g style=\"fill:#ffffff;\" transform=\"translate(416.464227 239.238437)scale(0.1 -0.1)\">\n       <defs>\n        <path d=\"M 37.796875 64.3125 \nL 12.890625 25.390625 \nL 37.796875 25.390625 \nz\nM 35.203125 72.90625 \nL 47.609375 72.90625 \nL 47.609375 25.390625 \nL 58.015625 25.390625 \nL 58.015625 17.1875 \nL 47.609375 17.1875 \nL 47.609375 0 \nL 37.796875 0 \nL 37.796875 17.1875 \nL 4.890625 17.1875 \nL 4.890625 26.703125 \nz\n\" id=\"DejaVuSans-52\"/>\n       </defs>\n       <use xlink:href=\"#DejaVuSans-52\"/>\n       <use x=\"63.623047\" xlink:href=\"#DejaVuSans-48\"/>\n       <use x=\"127.246094\" xlink:href=\"#DejaVuSans-48\"/>\n      </g>\n     </g>\n    </g>\n    <g id=\"text_10\">\n     <!-- Count -->\n     <g style=\"fill:#ffffff;\" transform=\"translate(269.739062 252.916562)scale(0.1 -0.1)\">\n      <defs>\n       <path d=\"M 64.40625 67.28125 \nL 64.40625 56.890625 \nQ 59.421875 61.53125 53.78125 63.8125 \nQ 48.140625 66.109375 41.796875 66.109375 \nQ 29.296875 66.109375 22.65625 58.46875 \nQ 16.015625 50.828125 16.015625 36.375 \nQ 16.015625 21.96875 22.65625 14.328125 \nQ 29.296875 6.6875 41.796875 6.6875 \nQ 48.140625 6.6875 53.78125 8.984375 \nQ 59.421875 11.28125 64.40625 15.921875 \nL 64.40625 5.609375 \nQ 59.234375 2.09375 53.4375 0.328125 \nQ 47.65625 -1.421875 41.21875 -1.421875 \nQ 24.65625 -1.421875 15.125 8.703125 \nQ 5.609375 18.84375 5.609375 36.375 \nQ 5.609375 53.953125 15.125 64.078125 \nQ 24.65625 74.21875 41.21875 74.21875 \nQ 47.75 74.21875 53.53125 72.484375 \nQ 59.328125 70.75 64.40625 67.28125 \nz\n\" id=\"DejaVuSans-67\"/>\n       <path d=\"M 30.609375 48.390625 \nQ 23.390625 48.390625 19.1875 42.75 \nQ 14.984375 37.109375 14.984375 27.296875 \nQ 14.984375 17.484375 19.15625 11.84375 \nQ 23.34375 6.203125 30.609375 6.203125 \nQ 37.796875 6.203125 41.984375 11.859375 \nQ 46.1875 17.53125 46.1875 27.296875 \nQ 46.1875 37.015625 41.984375 42.703125 \nQ 37.796875 48.390625 30.609375 48.390625 \nz\nM 30.609375 56 \nQ 42.328125 56 49.015625 48.375 \nQ 55.71875 40.765625 55.71875 27.296875 \nQ 55.71875 13.875 49.015625 6.21875 \nQ 42.328125 -1.421875 30.609375 -1.421875 \nQ 18.84375 -1.421875 12.171875 6.21875 \nQ 5.515625 13.875 5.515625 27.296875 \nQ 5.515625 40.765625 12.171875 48.375 \nQ 18.84375 56 30.609375 56 \nz\n\" id=\"DejaVuSans-111\"/>\n       <path d=\"M 8.5 21.578125 \nL 8.5 54.6875 \nL 17.484375 54.6875 \nL 17.484375 21.921875 \nQ 17.484375 14.15625 20.5 10.265625 \nQ 23.53125 6.390625 29.59375 6.390625 \nQ 36.859375 6.390625 41.078125 11.03125 \nQ 45.3125 15.671875 45.3125 23.6875 \nL 45.3125 54.6875 \nL 54.296875 54.6875 \nL 54.296875 0 \nL 45.3125 0 \nL 45.3125 8.40625 \nQ 42.046875 3.421875 37.71875 1 \nQ 33.40625 -1.421875 27.6875 -1.421875 \nQ 18.265625 -1.421875 13.375 4.4375 \nQ 8.5 10.296875 8.5 21.578125 \nz\nM 31.109375 56 \nz\n\" id=\"DejaVuSans-117\"/>\n       <path d=\"M 54.890625 33.015625 \nL 54.890625 0 \nL 45.90625 0 \nL 45.90625 32.71875 \nQ 45.90625 40.484375 42.875 44.328125 \nQ 39.84375 48.1875 33.796875 48.1875 \nQ 26.515625 48.1875 22.3125 43.546875 \nQ 18.109375 38.921875 18.109375 30.90625 \nL 18.109375 0 \nL 9.078125 0 \nL 9.078125 54.6875 \nL 18.109375 54.6875 \nL 18.109375 46.1875 \nQ 21.34375 51.125 25.703125 53.5625 \nQ 30.078125 56 35.796875 56 \nQ 45.21875 56 50.046875 50.171875 \nQ 54.890625 44.34375 54.890625 33.015625 \nz\n\" id=\"DejaVuSans-110\"/>\n       <path d=\"M 18.3125 70.21875 \nL 18.3125 54.6875 \nL 36.8125 54.6875 \nL 36.8125 47.703125 \nL 18.3125 47.703125 \nL 18.3125 18.015625 \nQ 18.3125 11.328125 20.140625 9.421875 \nQ 21.96875 7.515625 27.59375 7.515625 \nL 36.8125 7.515625 \nL 36.8125 0 \nL 27.59375 0 \nQ 17.1875 0 13.234375 3.875 \nQ 9.28125 7.765625 9.28125 18.015625 \nL 9.28125 47.703125 \nL 2.6875 47.703125 \nL 2.6875 54.6875 \nL 9.28125 54.6875 \nL 9.28125 70.21875 \nz\n\" id=\"DejaVuSans-116\"/>\n      </defs>\n      <use xlink:href=\"#DejaVuSans-67\"/>\n      <use x=\"69.824219\" xlink:href=\"#DejaVuSans-111\"/>\n      <use x=\"131.005859\" xlink:href=\"#DejaVuSans-117\"/>\n      <use x=\"194.384766\" xlink:href=\"#DejaVuSans-110\"/>\n      <use x=\"257.763672\" xlink:href=\"#DejaVuSans-116\"/>\n     </g>\n    </g>\n   </g>\n   <g id=\"matplotlib.axis_2\">\n    <g id=\"ytick_1\">\n     <g id=\"line2d_10\">\n      <defs>\n       <path d=\"M 0 0 \nL -3.5 0 \n\" id=\"m1942b0ab58\" style=\"stroke:#ffffff;stroke-width:0.8;\"/>\n      </defs>\n      <g>\n       <use style=\"fill:#ffffff;stroke:#ffffff;stroke-width:0.8;\" x=\"117.1875\" xlink:href=\"#m1942b0ab58\" y=\"22.731429\"/>\n      </g>\n     </g>\n     <g id=\"text_11\">\n      <!-- Photo -->\n      <g style=\"fill:#ffffff;\" transform=\"translate(81.6625 26.530647)scale(0.1 -0.1)\">\n       <defs>\n        <path d=\"M 19.671875 64.796875 \nL 19.671875 37.40625 \nL 32.078125 37.40625 \nQ 38.96875 37.40625 42.71875 40.96875 \nQ 46.484375 44.53125 46.484375 51.125 \nQ 46.484375 57.671875 42.71875 61.234375 \nQ 38.96875 64.796875 32.078125 64.796875 \nz\nM 9.8125 72.90625 \nL 32.078125 72.90625 \nQ 44.34375 72.90625 50.609375 67.359375 \nQ 56.890625 61.8125 56.890625 51.125 \nQ 56.890625 40.328125 50.609375 34.8125 \nQ 44.34375 29.296875 32.078125 29.296875 \nL 19.671875 29.296875 \nL 19.671875 0 \nL 9.8125 0 \nz\n\" id=\"DejaVuSans-80\"/>\n        <path d=\"M 54.890625 33.015625 \nL 54.890625 0 \nL 45.90625 0 \nL 45.90625 32.71875 \nQ 45.90625 40.484375 42.875 44.328125 \nQ 39.84375 48.1875 33.796875 48.1875 \nQ 26.515625 48.1875 22.3125 43.546875 \nQ 18.109375 38.921875 18.109375 30.90625 \nL 18.109375 0 \nL 9.078125 0 \nL 9.078125 75.984375 \nL 18.109375 75.984375 \nL 18.109375 46.1875 \nQ 21.34375 51.125 25.703125 53.5625 \nQ 30.078125 56 35.796875 56 \nQ 45.21875 56 50.046875 50.171875 \nQ 54.890625 44.34375 54.890625 33.015625 \nz\n\" id=\"DejaVuSans-104\"/>\n       </defs>\n       <use xlink:href=\"#DejaVuSans-80\"/>\n       <use x=\"60.302734\" xlink:href=\"#DejaVuSans-104\"/>\n       <use x=\"123.681641\" xlink:href=\"#DejaVuSans-111\"/>\n       <use x=\"184.863281\" xlink:href=\"#DejaVuSans-116\"/>\n       <use x=\"224.072266\" xlink:href=\"#DejaVuSans-111\"/>\n      </g>\n     </g>\n    </g>\n    <g id=\"ytick_2\">\n     <g id=\"line2d_11\">\n      <g>\n       <use style=\"fill:#ffffff;stroke:#ffffff;stroke-width:0.8;\" x=\"117.1875\" xlink:href=\"#m1942b0ab58\" y=\"53.794286\"/>\n      </g>\n     </g>\n     <g id=\"text_12\">\n      <!-- Link -->\n      <g style=\"fill:#ffffff;\" transform=\"translate(89.709375 57.593504)scale(0.1 -0.1)\">\n       <defs>\n        <path d=\"M 9.8125 72.90625 \nL 19.671875 72.90625 \nL 19.671875 8.296875 \nL 55.171875 8.296875 \nL 55.171875 0 \nL 9.8125 0 \nz\n\" id=\"DejaVuSans-76\"/>\n        <path d=\"M 9.421875 54.6875 \nL 18.40625 54.6875 \nL 18.40625 0 \nL 9.421875 0 \nz\nM 9.421875 75.984375 \nL 18.40625 75.984375 \nL 18.40625 64.59375 \nL 9.421875 64.59375 \nz\n\" id=\"DejaVuSans-105\"/>\n        <path d=\"M 9.078125 75.984375 \nL 18.109375 75.984375 \nL 18.109375 31.109375 \nL 44.921875 54.6875 \nL 56.390625 54.6875 \nL 27.390625 29.109375 \nL 57.625 0 \nL 45.90625 0 \nL 18.109375 26.703125 \nL 18.109375 0 \nL 9.078125 0 \nz\n\" id=\"DejaVuSans-107\"/>\n       </defs>\n       <use xlink:href=\"#DejaVuSans-76\"/>\n       <use x=\"55.712891\" xlink:href=\"#DejaVuSans-105\"/>\n       <use x=\"83.496094\" xlink:href=\"#DejaVuSans-110\"/>\n       <use x=\"146.875\" xlink:href=\"#DejaVuSans-107\"/>\n      </g>\n     </g>\n    </g>\n    <g id=\"ytick_3\">\n     <g id=\"line2d_12\">\n      <g>\n       <use style=\"fill:#ffffff;stroke:#ffffff;stroke-width:0.8;\" x=\"117.1875\" xlink:href=\"#m1942b0ab58\" y=\"84.857143\"/>\n      </g>\n     </g>\n     <g id=\"text_13\">\n      <!-- Native Video -->\n      <g style=\"fill:#ffffff;\" transform=\"translate(46.615625 88.656362)scale(0.1 -0.1)\">\n       <defs>\n        <path d=\"M 9.8125 72.90625 \nL 23.09375 72.90625 \nL 55.421875 11.921875 \nL 55.421875 72.90625 \nL 64.984375 72.90625 \nL 64.984375 0 \nL 51.703125 0 \nL 19.390625 60.984375 \nL 19.390625 0 \nL 9.8125 0 \nz\n\" id=\"DejaVuSans-78\"/>\n        <path d=\"M 34.28125 27.484375 \nQ 23.390625 27.484375 19.1875 25 \nQ 14.984375 22.515625 14.984375 16.5 \nQ 14.984375 11.71875 18.140625 8.90625 \nQ 21.296875 6.109375 26.703125 6.109375 \nQ 34.1875 6.109375 38.703125 11.40625 \nQ 43.21875 16.703125 43.21875 25.484375 \nL 43.21875 27.484375 \nz\nM 52.203125 31.203125 \nL 52.203125 0 \nL 43.21875 0 \nL 43.21875 8.296875 \nQ 40.140625 3.328125 35.546875 0.953125 \nQ 30.953125 -1.421875 24.3125 -1.421875 \nQ 15.921875 -1.421875 10.953125 3.296875 \nQ 6 8.015625 6 15.921875 \nQ 6 25.140625 12.171875 29.828125 \nQ 18.359375 34.515625 30.609375 34.515625 \nL 43.21875 34.515625 \nL 43.21875 35.40625 \nQ 43.21875 41.609375 39.140625 45 \nQ 35.0625 48.390625 27.6875 48.390625 \nQ 23 48.390625 18.546875 47.265625 \nQ 14.109375 46.140625 10.015625 43.890625 \nL 10.015625 52.203125 \nQ 14.9375 54.109375 19.578125 55.046875 \nQ 24.21875 56 28.609375 56 \nQ 40.484375 56 46.34375 49.84375 \nQ 52.203125 43.703125 52.203125 31.203125 \nz\n\" id=\"DejaVuSans-97\"/>\n        <path d=\"M 2.984375 54.6875 \nL 12.5 54.6875 \nL 29.59375 8.796875 \nL 46.6875 54.6875 \nL 56.203125 54.6875 \nL 35.6875 0 \nL 23.484375 0 \nz\n\" id=\"DejaVuSans-118\"/>\n        <path d=\"M 56.203125 29.59375 \nL 56.203125 25.203125 \nL 14.890625 25.203125 \nQ 15.484375 15.921875 20.484375 11.0625 \nQ 25.484375 6.203125 34.421875 6.203125 \nQ 39.59375 6.203125 44.453125 7.46875 \nQ 49.3125 8.734375 54.109375 11.28125 \nL 54.109375 2.78125 \nQ 49.265625 0.734375 44.1875 -0.34375 \nQ 39.109375 -1.421875 33.890625 -1.421875 \nQ 20.796875 -1.421875 13.15625 6.1875 \nQ 5.515625 13.8125 5.515625 26.8125 \nQ 5.515625 40.234375 12.765625 48.109375 \nQ 20.015625 56 32.328125 56 \nQ 43.359375 56 49.78125 48.890625 \nQ 56.203125 41.796875 56.203125 29.59375 \nz\nM 47.21875 32.234375 \nQ 47.125 39.59375 43.09375 43.984375 \nQ 39.0625 48.390625 32.421875 48.390625 \nQ 24.90625 48.390625 20.390625 44.140625 \nQ 15.875 39.890625 15.1875 32.171875 \nz\n\" id=\"DejaVuSans-101\"/>\n        <path id=\"DejaVuSans-32\"/>\n        <path d=\"M 28.609375 0 \nL 0.78125 72.90625 \nL 11.078125 72.90625 \nL 34.1875 11.53125 \nL 57.328125 72.90625 \nL 67.578125 72.90625 \nL 39.796875 0 \nz\n\" id=\"DejaVuSans-86\"/>\n        <path d=\"M 45.40625 46.390625 \nL 45.40625 75.984375 \nL 54.390625 75.984375 \nL 54.390625 0 \nL 45.40625 0 \nL 45.40625 8.203125 \nQ 42.578125 3.328125 38.25 0.953125 \nQ 33.9375 -1.421875 27.875 -1.421875 \nQ 17.96875 -1.421875 11.734375 6.484375 \nQ 5.515625 14.40625 5.515625 27.296875 \nQ 5.515625 40.1875 11.734375 48.09375 \nQ 17.96875 56 27.875 56 \nQ 33.9375 56 38.25 53.625 \nQ 42.578125 51.265625 45.40625 46.390625 \nz\nM 14.796875 27.296875 \nQ 14.796875 17.390625 18.875 11.75 \nQ 22.953125 6.109375 30.078125 6.109375 \nQ 37.203125 6.109375 41.296875 11.75 \nQ 45.40625 17.390625 45.40625 27.296875 \nQ 45.40625 37.203125 41.296875 42.84375 \nQ 37.203125 48.484375 30.078125 48.484375 \nQ 22.953125 48.484375 18.875 42.84375 \nQ 14.796875 37.203125 14.796875 27.296875 \nz\n\" id=\"DejaVuSans-100\"/>\n       </defs>\n       <use xlink:href=\"#DejaVuSans-78\"/>\n       <use x=\"74.804688\" xlink:href=\"#DejaVuSans-97\"/>\n       <use x=\"136.083984\" xlink:href=\"#DejaVuSans-116\"/>\n       <use x=\"175.292969\" xlink:href=\"#DejaVuSans-105\"/>\n       <use x=\"203.076172\" xlink:href=\"#DejaVuSans-118\"/>\n       <use x=\"262.255859\" xlink:href=\"#DejaVuSans-101\"/>\n       <use x=\"323.779297\" xlink:href=\"#DejaVuSans-32\"/>\n       <use x=\"355.566406\" xlink:href=\"#DejaVuSans-86\"/>\n       <use x=\"421.724609\" xlink:href=\"#DejaVuSans-105\"/>\n       <use x=\"449.507812\" xlink:href=\"#DejaVuSans-100\"/>\n       <use x=\"512.984375\" xlink:href=\"#DejaVuSans-101\"/>\n       <use x=\"574.507812\" xlink:href=\"#DejaVuSans-111\"/>\n      </g>\n     </g>\n    </g>\n    <g id=\"ytick_4\">\n     <g id=\"line2d_13\">\n      <g>\n       <use style=\"fill:#ffffff;stroke:#ffffff;stroke-width:0.8;\" x=\"117.1875\" xlink:href=\"#m1942b0ab58\" y=\"115.92\"/>\n      </g>\n     </g>\n     <g id=\"text_14\">\n      <!-- Status -->\n      <g style=\"fill:#ffffff;\" transform=\"translate(78.323437 119.719219)scale(0.1 -0.1)\">\n       <defs>\n        <path d=\"M 53.515625 70.515625 \nL 53.515625 60.890625 \nQ 47.90625 63.578125 42.921875 64.890625 \nQ 37.9375 66.21875 33.296875 66.21875 \nQ 25.25 66.21875 20.875 63.09375 \nQ 16.5 59.96875 16.5 54.203125 \nQ 16.5 49.359375 19.40625 46.890625 \nQ 22.3125 44.4375 30.421875 42.921875 \nL 36.375 41.703125 \nQ 47.40625 39.59375 52.65625 34.296875 \nQ 57.90625 29 57.90625 20.125 \nQ 57.90625 9.515625 50.796875 4.046875 \nQ 43.703125 -1.421875 29.984375 -1.421875 \nQ 24.8125 -1.421875 18.96875 -0.25 \nQ 13.140625 0.921875 6.890625 3.21875 \nL 6.890625 13.375 \nQ 12.890625 10.015625 18.65625 8.296875 \nQ 24.421875 6.59375 29.984375 6.59375 \nQ 38.421875 6.59375 43.015625 9.90625 \nQ 47.609375 13.234375 47.609375 19.390625 \nQ 47.609375 24.75 44.3125 27.78125 \nQ 41.015625 30.8125 33.5 32.328125 \nL 27.484375 33.5 \nQ 16.453125 35.6875 11.515625 40.375 \nQ 6.59375 45.0625 6.59375 53.421875 \nQ 6.59375 63.09375 13.40625 68.65625 \nQ 20.21875 74.21875 32.171875 74.21875 \nQ 37.3125 74.21875 42.625 73.28125 \nQ 47.953125 72.359375 53.515625 70.515625 \nz\n\" id=\"DejaVuSans-83\"/>\n        <path d=\"M 44.28125 53.078125 \nL 44.28125 44.578125 \nQ 40.484375 46.53125 36.375 47.5 \nQ 32.28125 48.484375 27.875 48.484375 \nQ 21.1875 48.484375 17.84375 46.4375 \nQ 14.5 44.390625 14.5 40.28125 \nQ 14.5 37.15625 16.890625 35.375 \nQ 19.28125 33.59375 26.515625 31.984375 \nL 29.59375 31.296875 \nQ 39.15625 29.25 43.1875 25.515625 \nQ 47.21875 21.78125 47.21875 15.09375 \nQ 47.21875 7.46875 41.1875 3.015625 \nQ 35.15625 -1.421875 24.609375 -1.421875 \nQ 20.21875 -1.421875 15.453125 -0.5625 \nQ 10.6875 0.296875 5.421875 2 \nL 5.421875 11.28125 \nQ 10.40625 8.6875 15.234375 7.390625 \nQ 20.0625 6.109375 24.8125 6.109375 \nQ 31.15625 6.109375 34.5625 8.28125 \nQ 37.984375 10.453125 37.984375 14.40625 \nQ 37.984375 18.0625 35.515625 20.015625 \nQ 33.0625 21.96875 24.703125 23.78125 \nL 21.578125 24.515625 \nQ 13.234375 26.265625 9.515625 29.90625 \nQ 5.8125 33.546875 5.8125 39.890625 \nQ 5.8125 47.609375 11.28125 51.796875 \nQ 16.75 56 26.8125 56 \nQ 31.78125 56 36.171875 55.265625 \nQ 40.578125 54.546875 44.28125 53.078125 \nz\n\" id=\"DejaVuSans-115\"/>\n       </defs>\n       <use xlink:href=\"#DejaVuSans-83\"/>\n       <use x=\"63.476562\" xlink:href=\"#DejaVuSans-116\"/>\n       <use x=\"102.685547\" xlink:href=\"#DejaVuSans-97\"/>\n       <use x=\"163.964844\" xlink:href=\"#DejaVuSans-116\"/>\n       <use x=\"203.173828\" xlink:href=\"#DejaVuSans-117\"/>\n       <use x=\"266.552734\" xlink:href=\"#DejaVuSans-115\"/>\n      </g>\n     </g>\n    </g>\n    <g id=\"ytick_5\">\n     <g id=\"line2d_14\">\n      <g>\n       <use style=\"fill:#ffffff;stroke:#ffffff;stroke-width:0.8;\" x=\"117.1875\" xlink:href=\"#m1942b0ab58\" y=\"146.982857\"/>\n      </g>\n     </g>\n     <g id=\"text_15\">\n      <!-- Video -->\n      <g style=\"fill:#ffffff;\" transform=\"translate(82.173438 150.782076)scale(0.1 -0.1)\">\n       <use xlink:href=\"#DejaVuSans-86\"/>\n       <use x=\"66.158203\" xlink:href=\"#DejaVuSans-105\"/>\n       <use x=\"93.941406\" xlink:href=\"#DejaVuSans-100\"/>\n       <use x=\"157.417969\" xlink:href=\"#DejaVuSans-101\"/>\n       <use x=\"218.941406\" xlink:href=\"#DejaVuSans-111\"/>\n      </g>\n     </g>\n    </g>\n    <g id=\"ytick_6\">\n     <g id=\"line2d_15\">\n      <g>\n       <use style=\"fill:#ffffff;stroke:#ffffff;stroke-width:0.8;\" x=\"117.1875\" xlink:href=\"#m1942b0ab58\" y=\"178.045714\"/>\n      </g>\n     </g>\n     <g id=\"text_16\">\n      <!-- Live Video Complete -->\n      <g style=\"fill:#ffffff;\" transform=\"translate(7.2 181.844933)scale(0.1 -0.1)\">\n       <defs>\n        <path d=\"M 52 44.1875 \nQ 55.375 50.25 60.0625 53.125 \nQ 64.75 56 71.09375 56 \nQ 79.640625 56 84.28125 50.015625 \nQ 88.921875 44.046875 88.921875 33.015625 \nL 88.921875 0 \nL 79.890625 0 \nL 79.890625 32.71875 \nQ 79.890625 40.578125 77.09375 44.375 \nQ 74.3125 48.1875 68.609375 48.1875 \nQ 61.625 48.1875 57.5625 43.546875 \nQ 53.515625 38.921875 53.515625 30.90625 \nL 53.515625 0 \nL 44.484375 0 \nL 44.484375 32.71875 \nQ 44.484375 40.625 41.703125 44.40625 \nQ 38.921875 48.1875 33.109375 48.1875 \nQ 26.21875 48.1875 22.15625 43.53125 \nQ 18.109375 38.875 18.109375 30.90625 \nL 18.109375 0 \nL 9.078125 0 \nL 9.078125 54.6875 \nL 18.109375 54.6875 \nL 18.109375 46.1875 \nQ 21.1875 51.21875 25.484375 53.609375 \nQ 29.78125 56 35.6875 56 \nQ 41.65625 56 45.828125 52.96875 \nQ 50 49.953125 52 44.1875 \nz\n\" id=\"DejaVuSans-109\"/>\n        <path d=\"M 18.109375 8.203125 \nL 18.109375 -20.796875 \nL 9.078125 -20.796875 \nL 9.078125 54.6875 \nL 18.109375 54.6875 \nL 18.109375 46.390625 \nQ 20.953125 51.265625 25.265625 53.625 \nQ 29.59375 56 35.59375 56 \nQ 45.5625 56 51.78125 48.09375 \nQ 58.015625 40.1875 58.015625 27.296875 \nQ 58.015625 14.40625 51.78125 6.484375 \nQ 45.5625 -1.421875 35.59375 -1.421875 \nQ 29.59375 -1.421875 25.265625 0.953125 \nQ 20.953125 3.328125 18.109375 8.203125 \nz\nM 48.6875 27.296875 \nQ 48.6875 37.203125 44.609375 42.84375 \nQ 40.53125 48.484375 33.40625 48.484375 \nQ 26.265625 48.484375 22.1875 42.84375 \nQ 18.109375 37.203125 18.109375 27.296875 \nQ 18.109375 17.390625 22.1875 11.75 \nQ 26.265625 6.109375 33.40625 6.109375 \nQ 40.53125 6.109375 44.609375 11.75 \nQ 48.6875 17.390625 48.6875 27.296875 \nz\n\" id=\"DejaVuSans-112\"/>\n        <path d=\"M 9.421875 75.984375 \nL 18.40625 75.984375 \nL 18.40625 0 \nL 9.421875 0 \nz\n\" id=\"DejaVuSans-108\"/>\n       </defs>\n       <use xlink:href=\"#DejaVuSans-76\"/>\n       <use x=\"55.712891\" xlink:href=\"#DejaVuSans-105\"/>\n       <use x=\"83.496094\" xlink:href=\"#DejaVuSans-118\"/>\n       <use x=\"142.675781\" xlink:href=\"#DejaVuSans-101\"/>\n       <use x=\"204.199219\" xlink:href=\"#DejaVuSans-32\"/>\n       <use x=\"235.986328\" xlink:href=\"#DejaVuSans-86\"/>\n       <use x=\"302.144531\" xlink:href=\"#DejaVuSans-105\"/>\n       <use x=\"329.927734\" xlink:href=\"#DejaVuSans-100\"/>\n       <use x=\"393.404297\" xlink:href=\"#DejaVuSans-101\"/>\n       <use x=\"454.927734\" xlink:href=\"#DejaVuSans-111\"/>\n       <use x=\"516.109375\" xlink:href=\"#DejaVuSans-32\"/>\n       <use x=\"547.896484\" xlink:href=\"#DejaVuSans-67\"/>\n       <use x=\"617.720703\" xlink:href=\"#DejaVuSans-111\"/>\n       <use x=\"678.902344\" xlink:href=\"#DejaVuSans-109\"/>\n       <use x=\"776.314453\" xlink:href=\"#DejaVuSans-112\"/>\n       <use x=\"839.791016\" xlink:href=\"#DejaVuSans-108\"/>\n       <use x=\"867.574219\" xlink:href=\"#DejaVuSans-101\"/>\n       <use x=\"929.097656\" xlink:href=\"#DejaVuSans-116\"/>\n       <use x=\"968.306641\" xlink:href=\"#DejaVuSans-101\"/>\n      </g>\n     </g>\n    </g>\n    <g id=\"ytick_7\">\n     <g id=\"line2d_16\">\n      <g>\n       <use style=\"fill:#ffffff;stroke:#ffffff;stroke-width:0.8;\" x=\"117.1875\" xlink:href=\"#m1942b0ab58\" y=\"209.108571\"/>\n      </g>\n     </g>\n     <g id=\"text_17\">\n      <!-- YouTube -->\n      <g style=\"fill:#ffffff;\" transform=\"translate(69.514062 212.90779)scale(0.1 -0.1)\">\n       <defs>\n        <path d=\"M -0.203125 72.90625 \nL 10.40625 72.90625 \nL 30.609375 42.921875 \nL 50.6875 72.90625 \nL 61.28125 72.90625 \nL 35.5 34.71875 \nL 35.5 0 \nL 25.59375 0 \nL 25.59375 34.71875 \nz\n\" id=\"DejaVuSans-89\"/>\n        <path d=\"M -0.296875 72.90625 \nL 61.375 72.90625 \nL 61.375 64.59375 \nL 35.5 64.59375 \nL 35.5 0 \nL 25.59375 0 \nL 25.59375 64.59375 \nL -0.296875 64.59375 \nz\n\" id=\"DejaVuSans-84\"/>\n        <path d=\"M 48.6875 27.296875 \nQ 48.6875 37.203125 44.609375 42.84375 \nQ 40.53125 48.484375 33.40625 48.484375 \nQ 26.265625 48.484375 22.1875 42.84375 \nQ 18.109375 37.203125 18.109375 27.296875 \nQ 18.109375 17.390625 22.1875 11.75 \nQ 26.265625 6.109375 33.40625 6.109375 \nQ 40.53125 6.109375 44.609375 11.75 \nQ 48.6875 17.390625 48.6875 27.296875 \nz\nM 18.109375 46.390625 \nQ 20.953125 51.265625 25.265625 53.625 \nQ 29.59375 56 35.59375 56 \nQ 45.5625 56 51.78125 48.09375 \nQ 58.015625 40.1875 58.015625 27.296875 \nQ 58.015625 14.40625 51.78125 6.484375 \nQ 45.5625 -1.421875 35.59375 -1.421875 \nQ 29.59375 -1.421875 25.265625 0.953125 \nQ 20.953125 3.328125 18.109375 8.203125 \nL 18.109375 0 \nL 9.078125 0 \nL 9.078125 75.984375 \nL 18.109375 75.984375 \nz\n\" id=\"DejaVuSans-98\"/>\n       </defs>\n       <use xlink:href=\"#DejaVuSans-89\"/>\n       <use x=\"47.833984\" xlink:href=\"#DejaVuSans-111\"/>\n       <use x=\"109.015625\" xlink:href=\"#DejaVuSans-117\"/>\n       <use x=\"172.394531\" xlink:href=\"#DejaVuSans-84\"/>\n       <use x=\"218.353516\" xlink:href=\"#DejaVuSans-117\"/>\n       <use x=\"281.732422\" xlink:href=\"#DejaVuSans-98\"/>\n       <use x=\"345.208984\" xlink:href=\"#DejaVuSans-101\"/>\n      </g>\n     </g>\n    </g>\n   </g>\n   <g id=\"patch_10\">\n    <path d=\"M 117.1875 224.64 \nL 117.1875 7.2 \n\" style=\"fill:none;stroke:#ffffff;stroke-linecap:square;stroke-linejoin:miter;stroke-width:0.8;\"/>\n   </g>\n   <g id=\"patch_11\">\n    <path d=\"M 451.9875 224.64 \nL 451.9875 7.2 \n\" style=\"fill:none;stroke:#ffffff;stroke-linecap:square;stroke-linejoin:miter;stroke-width:0.8;\"/>\n   </g>\n   <g id=\"patch_12\">\n    <path d=\"M 117.1875 224.64 \nL 451.9875 224.64 \n\" style=\"fill:none;stroke:#ffffff;stroke-linecap:square;stroke-linejoin:miter;stroke-width:0.8;\"/>\n   </g>\n   <g id=\"patch_13\">\n    <path d=\"M 117.1875 7.2 \nL 451.9875 7.2 \n\" style=\"fill:none;stroke:#ffffff;stroke-linecap:square;stroke-linejoin:miter;stroke-width:0.8;\"/>\n   </g>\n  </g>\n </g>\n <defs>\n  <clipPath id=\"p26e3a1f9a1\">\n   <rect height=\"217.44\" width=\"334.8\" x=\"117.1875\" y=\"7.2\"/>\n  </clipPath>\n </defs>\n</svg>\n",
      "image/png": "[encoded data removed]"
     },
     "metadata": {}
    }
   ],
   "source": [
    "#df['Type'].value_counts().plot(kind='bar')\n",
    "plt = sb.countplot(y=\"Type\", data=df)\n",
    "plt.set(ylabel=\"\", xlabel=\"Count\")\n",
    "plt.figure.savefig(f'{figure_path}/post_types_dist.pdf', bbox_inches = 'tight', pad_inches = 0)"
   ]
  },
  {
   "cell_type": "code",
   "execution_count": 8,
   "metadata": {},
   "outputs": [
    {
     "output_type": "display_data",
     "data": {
      "text/plain": "<Figure size 360x360 with 1 Axes>",
      "image/svg+xml": "<?xml version=\"1.0\" encoding=\"utf-8\" standalone=\"no\"?>\n<!DOCTYPE svg PUBLIC \"-//W3C//DTD SVG 1.1//EN\"\n  \"http://www.w3.org/Graphics/SVG/1.1/DTD/svg11.dtd\">\n<!-- Created with matplotlib (https://matplotlib.org/) -->\n<svg height=\"352.15625pt\" version=\"1.1\" viewBox=\"0 0 352.440625 352.15625\" width=\"352.440625pt\" xmlns=\"http://www.w3.org/2000/svg\" xmlns:xlink=\"http://www.w3.org/1999/xlink\">\n <metadata>\n  <rdf:RDF xmlns:cc=\"http://creativecommons.org/ns#\" xmlns:dc=\"http://purl.org/dc/elements/1.1/\" xmlns:rdf=\"http://www.w3.org/1999/02/22-rdf-syntax-ns#\">\n   <cc:Work>\n    <dc:type rdf:resource=\"http://purl.org/dc/dcmitype/StillImage\"/>\n    <dc:date>2021-05-11T12:00:48.407937</dc:date>\n    <dc:format>image/svg+xml</dc:format>\n    <dc:creator>\n     <cc:Agent>\n      <dc:title>Matplotlib v3.3.4, https://matplotlib.org/</dc:title>\n     </cc:Agent>\n    </dc:creator>\n   </cc:Work>\n  </rdf:RDF>\n </metadata>\n <defs>\n  <style type=\"text/css\">*{stroke-linecap:butt;stroke-linejoin:round;}</style>\n </defs>\n <g id=\"figure_1\">\n  <g id=\"patch_1\">\n   <path d=\"M 0 352.15625 \nL 352.440625 352.15625 \nL 352.440625 0 \nL 0 0 \nz\n\"/>\n  </g>\n  <g id=\"axes_1\">\n   <g id=\"patch_2\">\n    <path d=\"M 46.965625 314.6 \nL 345.240625 314.6 \nL 345.240625 7.2 \nL 46.965625 7.2 \nz\n\"/>\n   </g>\n   <g id=\"patch_3\">\n    <path clip-path=\"url(#p2ee0b0c23f)\" d=\"M 60.52358 314.6 \nL 72.848993 314.6 \nL 72.848993 281.077644 \nL 60.52358 281.077644 \nz\n\" style=\"fill:#8dd3c7;fill-opacity:0.75;\"/>\n   </g>\n   <g id=\"patch_4\">\n    <path clip-path=\"url(#p2ee0b0c23f)\" d=\"M 72.848993 314.6 \nL 85.174406 314.6 \nL 85.174406 278.842821 \nL 72.848993 278.842821 \nz\n\" style=\"fill:#8dd3c7;fill-opacity:0.75;\"/>\n   </g>\n   <g id=\"patch_5\">\n    <path clip-path=\"url(#p2ee0b0c23f)\" d=\"M 85.174406 314.6 \nL 97.499819 314.6 \nL 97.499819 231.911523 \nL 85.174406 231.911523 \nz\n\" style=\"fill:#8dd3c7;fill-opacity:0.75;\"/>\n   </g>\n   <g id=\"patch_6\">\n    <path clip-path=\"url(#p2ee0b0c23f)\" d=\"M 97.499819 314.6 \nL 109.825232 314.6 \nL 109.825232 240.850818 \nL 97.499819 240.850818 \nz\n\" style=\"fill:#8dd3c7;fill-opacity:0.75;\"/>\n   </g>\n   <g id=\"patch_7\">\n    <path clip-path=\"url(#p2ee0b0c23f)\" d=\"M 109.825232 314.6 \nL 122.150646 314.6 \nL 122.150646 173.806107 \nL 109.825232 173.806107 \nz\n\" style=\"fill:#8dd3c7;fill-opacity:0.75;\"/>\n   </g>\n   <g id=\"patch_8\">\n    <path clip-path=\"url(#p2ee0b0c23f)\" d=\"M 122.150646 314.6 \nL 134.476059 314.6 \nL 134.476059 176.040931 \nL 122.150646 176.040931 \nz\n\" style=\"fill:#8dd3c7;fill-opacity:0.75;\"/>\n   </g>\n   <g id=\"patch_9\">\n    <path clip-path=\"url(#p2ee0b0c23f)\" d=\"M 134.476059 314.6 \nL 146.801472 314.6 \nL 146.801472 218.502581 \nL 134.476059 218.502581 \nz\n\" style=\"fill:#8dd3c7;fill-opacity:0.75;\"/>\n   </g>\n   <g id=\"patch_10\">\n    <path clip-path=\"url(#p2ee0b0c23f)\" d=\"M 146.801472 314.6 \nL 159.126885 314.6 \nL 159.126885 191.684696 \nL 146.801472 191.684696 \nz\n\" style=\"fill:#8dd3c7;fill-opacity:0.75;\"/>\n   </g>\n   <g id=\"patch_11\">\n    <path clip-path=\"url(#p2ee0b0c23f)\" d=\"M 159.126885 314.6 \nL 171.452299 314.6 \nL 171.452299 95.587277 \nL 159.126885 95.587277 \nz\n\" style=\"fill:#8dd3c7;fill-opacity:0.75;\"/>\n   </g>\n   <g id=\"patch_12\">\n    <path clip-path=\"url(#p2ee0b0c23f)\" d=\"M 171.452299 314.6 \nL 183.777712 314.6 \nL 183.777712 41.951509 \nL 171.452299 41.951509 \nz\n\" style=\"fill:#8dd3c7;fill-opacity:0.75;\"/>\n   </g>\n   <g id=\"patch_13\">\n    <path clip-path=\"url(#p2ee0b0c23f)\" d=\"M 183.777712 314.6 \nL 196.103125 314.6 \nL 196.103125 21.838095 \nL 183.777712 21.838095 \nz\n\" style=\"fill:#8dd3c7;fill-opacity:0.75;\"/>\n   </g>\n   <g id=\"patch_14\">\n    <path clip-path=\"url(#p2ee0b0c23f)\" d=\"M 196.103125 314.6 \nL 208.428538 314.6 \nL 208.428538 227.441876 \nL 196.103125 227.441876 \nz\n\" style=\"fill:#8dd3c7;fill-opacity:0.75;\"/>\n   </g>\n   <g id=\"patch_15\">\n    <path clip-path=\"url(#p2ee0b0c23f)\" d=\"M 208.428538 314.6 \nL 220.753951 314.6 \nL 220.753951 236.38117 \nL 208.428538 236.38117 \nz\n\" style=\"fill:#8dd3c7;fill-opacity:0.75;\"/>\n   </g>\n   <g id=\"patch_16\">\n    <path clip-path=\"url(#p2ee0b0c23f)\" d=\"M 220.753951 314.6 \nL 233.079365 314.6 \nL 233.079365 267.668702 \nL 220.753951 267.668702 \nz\n\" style=\"fill:#8dd3c7;fill-opacity:0.75;\"/>\n   </g>\n   <g id=\"patch_17\">\n    <path clip-path=\"url(#p2ee0b0c23f)\" d=\"M 233.079365 314.6 \nL 245.404778 314.6 \nL 245.404778 278.842821 \nL 233.079365 278.842821 \nz\n\" style=\"fill:#8dd3c7;fill-opacity:0.75;\"/>\n   </g>\n   <g id=\"patch_18\">\n    <path clip-path=\"url(#p2ee0b0c23f)\" d=\"M 245.404778 314.6 \nL 257.730191 314.6 \nL 257.730191 292.251763 \nL 245.404778 292.251763 \nz\n\" style=\"fill:#8dd3c7;fill-opacity:0.75;\"/>\n   </g>\n   <g id=\"patch_19\">\n    <path clip-path=\"url(#p2ee0b0c23f)\" d=\"M 257.730191 314.6 \nL 270.055604 314.6 \nL 270.055604 292.251763 \nL 257.730191 292.251763 \nz\n\" style=\"fill:#8dd3c7;fill-opacity:0.75;\"/>\n   </g>\n   <g id=\"patch_20\">\n    <path clip-path=\"url(#p2ee0b0c23f)\" d=\"M 270.055604 314.6 \nL 282.381018 314.6 \nL 282.381018 285.547292 \nL 270.055604 285.547292 \nz\n\" style=\"fill:#8dd3c7;fill-opacity:0.75;\"/>\n   </g>\n   <g id=\"patch_21\">\n    <path clip-path=\"url(#p2ee0b0c23f)\" d=\"M 282.381018 314.6 \nL 294.706431 314.6 \nL 294.706431 298.956234 \nL 282.381018 298.956234 \nz\n\" style=\"fill:#8dd3c7;fill-opacity:0.75;\"/>\n   </g>\n   <g id=\"patch_22\">\n    <path clip-path=\"url(#p2ee0b0c23f)\" d=\"M 294.706431 314.6 \nL 307.031844 314.6 \nL 307.031844 281.077644 \nL 294.706431 281.077644 \nz\n\" style=\"fill:#8dd3c7;fill-opacity:0.75;\"/>\n   </g>\n   <g id=\"patch_23\">\n    <path clip-path=\"url(#p2ee0b0c23f)\" d=\"M 307.031844 314.6 \nL 319.357257 314.6 \nL 319.357257 296.72141 \nL 307.031844 296.72141 \nz\n\" style=\"fill:#8dd3c7;fill-opacity:0.75;\"/>\n   </g>\n   <g id=\"patch_24\">\n    <path clip-path=\"url(#p2ee0b0c23f)\" d=\"M 319.357257 314.6 \nL 331.68267 314.6 \nL 331.68267 301.191058 \nL 319.357257 301.191058 \nz\n\" style=\"fill:#8dd3c7;fill-opacity:0.75;\"/>\n   </g>\n   <g id=\"matplotlib.axis_1\">\n    <g id=\"xtick_1\">\n     <g id=\"line2d_1\">\n      <defs>\n       <path d=\"M 0 0 \nL 0 3.5 \n\" id=\"mb0f6db9819\" style=\"stroke:#ffffff;stroke-width:0.8;\"/>\n      </defs>\n      <g>\n       <use style=\"fill:#ffffff;stroke:#ffffff;stroke-width:0.8;\" x=\"60.066313\" xlink:href=\"#mb0f6db9819\" y=\"314.6\"/>\n      </g>\n     </g>\n     <g id=\"text_1\">\n      <!-- 0 -->\n      <g style=\"fill:#ffffff;\" transform=\"translate(56.885063 329.198437)scale(0.1 -0.1)\">\n       <defs>\n        <path d=\"M 31.78125 66.40625 \nQ 24.171875 66.40625 20.328125 58.90625 \nQ 16.5 51.421875 16.5 36.375 \nQ 16.5 21.390625 20.328125 13.890625 \nQ 24.171875 6.390625 31.78125 6.390625 \nQ 39.453125 6.390625 43.28125 13.890625 \nQ 47.125 21.390625 47.125 36.375 \nQ 47.125 51.421875 43.28125 58.90625 \nQ 39.453125 66.40625 31.78125 66.40625 \nz\nM 31.78125 74.21875 \nQ 44.046875 74.21875 50.515625 64.515625 \nQ 56.984375 54.828125 56.984375 36.375 \nQ 56.984375 17.96875 50.515625 8.265625 \nQ 44.046875 -1.421875 31.78125 -1.421875 \nQ 19.53125 -1.421875 13.0625 8.265625 \nQ 6.59375 17.96875 6.59375 36.375 \nQ 6.59375 54.828125 13.0625 64.515625 \nQ 19.53125 74.21875 31.78125 74.21875 \nz\n\" id=\"DejaVuSans-48\"/>\n       </defs>\n       <use xlink:href=\"#DejaVuSans-48\"/>\n      </g>\n     </g>\n    </g>\n    <g id=\"xtick_2\">\n     <g id=\"line2d_2\">\n      <g>\n       <use style=\"fill:#ffffff;stroke:#ffffff;stroke-width:0.8;\" x=\"105.792972\" xlink:href=\"#mb0f6db9819\" y=\"314.6\"/>\n      </g>\n     </g>\n     <g id=\"text_2\">\n      <!-- 100 -->\n      <g style=\"fill:#ffffff;\" transform=\"translate(96.249222 329.198437)scale(0.1 -0.1)\">\n       <defs>\n        <path d=\"M 12.40625 8.296875 \nL 28.515625 8.296875 \nL 28.515625 63.921875 \nL 10.984375 60.40625 \nL 10.984375 69.390625 \nL 28.421875 72.90625 \nL 38.28125 72.90625 \nL 38.28125 8.296875 \nL 54.390625 8.296875 \nL 54.390625 0 \nL 12.40625 0 \nz\n\" id=\"DejaVuSans-49\"/>\n       </defs>\n       <use xlink:href=\"#DejaVuSans-49\"/>\n       <use x=\"63.623047\" xlink:href=\"#DejaVuSans-48\"/>\n       <use x=\"127.246094\" xlink:href=\"#DejaVuSans-48\"/>\n      </g>\n     </g>\n    </g>\n    <g id=\"xtick_3\">\n     <g id=\"line2d_3\">\n      <g>\n       <use style=\"fill:#ffffff;stroke:#ffffff;stroke-width:0.8;\" x=\"151.519632\" xlink:href=\"#mb0f6db9819\" y=\"314.6\"/>\n      </g>\n     </g>\n     <g id=\"text_3\">\n      <!-- 200 -->\n      <g style=\"fill:#ffffff;\" transform=\"translate(141.975882 329.198437)scale(0.1 -0.1)\">\n       <defs>\n        <path d=\"M 19.1875 8.296875 \nL 53.609375 8.296875 \nL 53.609375 0 \nL 7.328125 0 \nL 7.328125 8.296875 \nQ 12.9375 14.109375 22.625 23.890625 \nQ 32.328125 33.6875 34.8125 36.53125 \nQ 39.546875 41.84375 41.421875 45.53125 \nQ 43.3125 49.21875 43.3125 52.78125 \nQ 43.3125 58.59375 39.234375 62.25 \nQ 35.15625 65.921875 28.609375 65.921875 \nQ 23.96875 65.921875 18.8125 64.3125 \nQ 13.671875 62.703125 7.8125 59.421875 \nL 7.8125 69.390625 \nQ 13.765625 71.78125 18.9375 73 \nQ 24.125 74.21875 28.421875 74.21875 \nQ 39.75 74.21875 46.484375 68.546875 \nQ 53.21875 62.890625 53.21875 53.421875 \nQ 53.21875 48.921875 51.53125 44.890625 \nQ 49.859375 40.875 45.40625 35.40625 \nQ 44.1875 33.984375 37.640625 27.21875 \nQ 31.109375 20.453125 19.1875 8.296875 \nz\n\" id=\"DejaVuSans-50\"/>\n       </defs>\n       <use xlink:href=\"#DejaVuSans-50\"/>\n       <use x=\"63.623047\" xlink:href=\"#DejaVuSans-48\"/>\n       <use x=\"127.246094\" xlink:href=\"#DejaVuSans-48\"/>\n      </g>\n     </g>\n    </g>\n    <g id=\"xtick_4\">\n     <g id=\"line2d_4\">\n      <g>\n       <use style=\"fill:#ffffff;stroke:#ffffff;stroke-width:0.8;\" x=\"197.246291\" xlink:href=\"#mb0f6db9819\" y=\"314.6\"/>\n      </g>\n     </g>\n     <g id=\"text_4\">\n      <!-- 300 -->\n      <g style=\"fill:#ffffff;\" transform=\"translate(187.702541 329.198437)scale(0.1 -0.1)\">\n       <defs>\n        <path d=\"M 40.578125 39.3125 \nQ 47.65625 37.796875 51.625 33 \nQ 55.609375 28.21875 55.609375 21.1875 \nQ 55.609375 10.40625 48.1875 4.484375 \nQ 40.765625 -1.421875 27.09375 -1.421875 \nQ 22.515625 -1.421875 17.65625 -0.515625 \nQ 12.796875 0.390625 7.625 2.203125 \nL 7.625 11.71875 \nQ 11.71875 9.328125 16.59375 8.109375 \nQ 21.484375 6.890625 26.8125 6.890625 \nQ 36.078125 6.890625 40.9375 10.546875 \nQ 45.796875 14.203125 45.796875 21.1875 \nQ 45.796875 27.640625 41.28125 31.265625 \nQ 36.765625 34.90625 28.71875 34.90625 \nL 20.21875 34.90625 \nL 20.21875 43.015625 \nL 29.109375 43.015625 \nQ 36.375 43.015625 40.234375 45.921875 \nQ 44.09375 48.828125 44.09375 54.296875 \nQ 44.09375 59.90625 40.109375 62.90625 \nQ 36.140625 65.921875 28.71875 65.921875 \nQ 24.65625 65.921875 20.015625 65.03125 \nQ 15.375 64.15625 9.8125 62.3125 \nL 9.8125 71.09375 \nQ 15.4375 72.65625 20.34375 73.4375 \nQ 25.25 74.21875 29.59375 74.21875 \nQ 40.828125 74.21875 47.359375 69.109375 \nQ 53.90625 64.015625 53.90625 55.328125 \nQ 53.90625 49.265625 50.4375 45.09375 \nQ 46.96875 40.921875 40.578125 39.3125 \nz\n\" id=\"DejaVuSans-51\"/>\n       </defs>\n       <use xlink:href=\"#DejaVuSans-51\"/>\n       <use x=\"63.623047\" xlink:href=\"#DejaVuSans-48\"/>\n       <use x=\"127.246094\" xlink:href=\"#DejaVuSans-48\"/>\n      </g>\n     </g>\n    </g>\n    <g id=\"xtick_5\">\n     <g id=\"line2d_5\">\n      <g>\n       <use style=\"fill:#ffffff;stroke:#ffffff;stroke-width:0.8;\" x=\"242.972951\" xlink:href=\"#mb0f6db9819\" y=\"314.6\"/>\n      </g>\n     </g>\n     <g id=\"text_5\">\n      <!-- 400 -->\n      <g style=\"fill:#ffffff;\" transform=\"translate(233.429201 329.198437)scale(0.1 -0.1)\">\n       <defs>\n        <path d=\"M 37.796875 64.3125 \nL 12.890625 25.390625 \nL 37.796875 25.390625 \nz\nM 35.203125 72.90625 \nL 47.609375 72.90625 \nL 47.609375 25.390625 \nL 58.015625 25.390625 \nL 58.015625 17.1875 \nL 47.609375 17.1875 \nL 47.609375 0 \nL 37.796875 0 \nL 37.796875 17.1875 \nL 4.890625 17.1875 \nL 4.890625 26.703125 \nz\n\" id=\"DejaVuSans-52\"/>\n       </defs>\n       <use xlink:href=\"#DejaVuSans-52\"/>\n       <use x=\"63.623047\" xlink:href=\"#DejaVuSans-48\"/>\n       <use x=\"127.246094\" xlink:href=\"#DejaVuSans-48\"/>\n      </g>\n     </g>\n    </g>\n    <g id=\"xtick_6\">\n     <g id=\"line2d_6\">\n      <g>\n       <use style=\"fill:#ffffff;stroke:#ffffff;stroke-width:0.8;\" x=\"288.699611\" xlink:href=\"#mb0f6db9819\" y=\"314.6\"/>\n      </g>\n     </g>\n     <g id=\"text_6\">\n      <!-- 500 -->\n      <g style=\"fill:#ffffff;\" transform=\"translate(279.155861 329.198437)scale(0.1 -0.1)\">\n       <defs>\n        <path d=\"M 10.796875 72.90625 \nL 49.515625 72.90625 \nL 49.515625 64.59375 \nL 19.828125 64.59375 \nL 19.828125 46.734375 \nQ 21.96875 47.46875 24.109375 47.828125 \nQ 26.265625 48.1875 28.421875 48.1875 \nQ 40.625 48.1875 47.75 41.5 \nQ 54.890625 34.8125 54.890625 23.390625 \nQ 54.890625 11.625 47.5625 5.09375 \nQ 40.234375 -1.421875 26.90625 -1.421875 \nQ 22.3125 -1.421875 17.546875 -0.640625 \nQ 12.796875 0.140625 7.71875 1.703125 \nL 7.71875 11.625 \nQ 12.109375 9.234375 16.796875 8.0625 \nQ 21.484375 6.890625 26.703125 6.890625 \nQ 35.15625 6.890625 40.078125 11.328125 \nQ 45.015625 15.765625 45.015625 23.390625 \nQ 45.015625 31 40.078125 35.4375 \nQ 35.15625 39.890625 26.703125 39.890625 \nQ 22.75 39.890625 18.8125 39.015625 \nQ 14.890625 38.140625 10.796875 36.28125 \nz\n\" id=\"DejaVuSans-53\"/>\n       </defs>\n       <use xlink:href=\"#DejaVuSans-53\"/>\n       <use x=\"63.623047\" xlink:href=\"#DejaVuSans-48\"/>\n       <use x=\"127.246094\" xlink:href=\"#DejaVuSans-48\"/>\n      </g>\n     </g>\n    </g>\n    <g id=\"xtick_7\">\n     <g id=\"line2d_7\">\n      <g>\n       <use style=\"fill:#ffffff;stroke:#ffffff;stroke-width:0.8;\" x=\"334.42627\" xlink:href=\"#mb0f6db9819\" y=\"314.6\"/>\n      </g>\n     </g>\n     <g id=\"text_7\">\n      <!-- 600 -->\n      <g style=\"fill:#ffffff;\" transform=\"translate(324.88252 329.198437)scale(0.1 -0.1)\">\n       <defs>\n        <path d=\"M 33.015625 40.375 \nQ 26.375 40.375 22.484375 35.828125 \nQ 18.609375 31.296875 18.609375 23.390625 \nQ 18.609375 15.53125 22.484375 10.953125 \nQ 26.375 6.390625 33.015625 6.390625 \nQ 39.65625 6.390625 43.53125 10.953125 \nQ 47.40625 15.53125 47.40625 23.390625 \nQ 47.40625 31.296875 43.53125 35.828125 \nQ 39.65625 40.375 33.015625 40.375 \nz\nM 52.59375 71.296875 \nL 52.59375 62.3125 \nQ 48.875 64.0625 45.09375 64.984375 \nQ 41.3125 65.921875 37.59375 65.921875 \nQ 27.828125 65.921875 22.671875 59.328125 \nQ 17.53125 52.734375 16.796875 39.40625 \nQ 19.671875 43.65625 24.015625 45.921875 \nQ 28.375 48.1875 33.59375 48.1875 \nQ 44.578125 48.1875 50.953125 41.515625 \nQ 57.328125 34.859375 57.328125 23.390625 \nQ 57.328125 12.15625 50.6875 5.359375 \nQ 44.046875 -1.421875 33.015625 -1.421875 \nQ 20.359375 -1.421875 13.671875 8.265625 \nQ 6.984375 17.96875 6.984375 36.375 \nQ 6.984375 53.65625 15.1875 63.9375 \nQ 23.390625 74.21875 37.203125 74.21875 \nQ 40.921875 74.21875 44.703125 73.484375 \nQ 48.484375 72.75 52.59375 71.296875 \nz\n\" id=\"DejaVuSans-54\"/>\n       </defs>\n       <use xlink:href=\"#DejaVuSans-54\"/>\n       <use x=\"63.623047\" xlink:href=\"#DejaVuSans-48\"/>\n       <use x=\"127.246094\" xlink:href=\"#DejaVuSans-48\"/>\n      </g>\n     </g>\n    </g>\n    <g id=\"text_8\">\n     <!-- Message length (characters) -->\n     <g style=\"fill:#ffffff;\" transform=\"translate(124.623437 342.876562)scale(0.1 -0.1)\">\n      <defs>\n       <path d=\"M 9.8125 72.90625 \nL 24.515625 72.90625 \nL 43.109375 23.296875 \nL 61.8125 72.90625 \nL 76.515625 72.90625 \nL 76.515625 0 \nL 66.890625 0 \nL 66.890625 64.015625 \nL 48.09375 14.015625 \nL 38.1875 14.015625 \nL 19.390625 64.015625 \nL 19.390625 0 \nL 9.8125 0 \nz\n\" id=\"DejaVuSans-77\"/>\n       <path d=\"M 56.203125 29.59375 \nL 56.203125 25.203125 \nL 14.890625 25.203125 \nQ 15.484375 15.921875 20.484375 11.0625 \nQ 25.484375 6.203125 34.421875 6.203125 \nQ 39.59375 6.203125 44.453125 7.46875 \nQ 49.3125 8.734375 54.109375 11.28125 \nL 54.109375 2.78125 \nQ 49.265625 0.734375 44.1875 -0.34375 \nQ 39.109375 -1.421875 33.890625 -1.421875 \nQ 20.796875 -1.421875 13.15625 6.1875 \nQ 5.515625 13.8125 5.515625 26.8125 \nQ 5.515625 40.234375 12.765625 48.109375 \nQ 20.015625 56 32.328125 56 \nQ 43.359375 56 49.78125 48.890625 \nQ 56.203125 41.796875 56.203125 29.59375 \nz\nM 47.21875 32.234375 \nQ 47.125 39.59375 43.09375 43.984375 \nQ 39.0625 48.390625 32.421875 48.390625 \nQ 24.90625 48.390625 20.390625 44.140625 \nQ 15.875 39.890625 15.1875 32.171875 \nz\n\" id=\"DejaVuSans-101\"/>\n       <path d=\"M 44.28125 53.078125 \nL 44.28125 44.578125 \nQ 40.484375 46.53125 36.375 47.5 \nQ 32.28125 48.484375 27.875 48.484375 \nQ 21.1875 48.484375 17.84375 46.4375 \nQ 14.5 44.390625 14.5 40.28125 \nQ 14.5 37.15625 16.890625 35.375 \nQ 19.28125 33.59375 26.515625 31.984375 \nL 29.59375 31.296875 \nQ 39.15625 29.25 43.1875 25.515625 \nQ 47.21875 21.78125 47.21875 15.09375 \nQ 47.21875 7.46875 41.1875 3.015625 \nQ 35.15625 -1.421875 24.609375 -1.421875 \nQ 20.21875 -1.421875 15.453125 -0.5625 \nQ 10.6875 0.296875 5.421875 2 \nL 5.421875 11.28125 \nQ 10.40625 8.6875 15.234375 7.390625 \nQ 20.0625 6.109375 24.8125 6.109375 \nQ 31.15625 6.109375 34.5625 8.28125 \nQ 37.984375 10.453125 37.984375 14.40625 \nQ 37.984375 18.0625 35.515625 20.015625 \nQ 33.0625 21.96875 24.703125 23.78125 \nL 21.578125 24.515625 \nQ 13.234375 26.265625 9.515625 29.90625 \nQ 5.8125 33.546875 5.8125 39.890625 \nQ 5.8125 47.609375 11.28125 51.796875 \nQ 16.75 56 26.8125 56 \nQ 31.78125 56 36.171875 55.265625 \nQ 40.578125 54.546875 44.28125 53.078125 \nz\n\" id=\"DejaVuSans-115\"/>\n       <path d=\"M 34.28125 27.484375 \nQ 23.390625 27.484375 19.1875 25 \nQ 14.984375 22.515625 14.984375 16.5 \nQ 14.984375 11.71875 18.140625 8.90625 \nQ 21.296875 6.109375 26.703125 6.109375 \nQ 34.1875 6.109375 38.703125 11.40625 \nQ 43.21875 16.703125 43.21875 25.484375 \nL 43.21875 27.484375 \nz\nM 52.203125 31.203125 \nL 52.203125 0 \nL 43.21875 0 \nL 43.21875 8.296875 \nQ 40.140625 3.328125 35.546875 0.953125 \nQ 30.953125 -1.421875 24.3125 -1.421875 \nQ 15.921875 -1.421875 10.953125 3.296875 \nQ 6 8.015625 6 15.921875 \nQ 6 25.140625 12.171875 29.828125 \nQ 18.359375 34.515625 30.609375 34.515625 \nL 43.21875 34.515625 \nL 43.21875 35.40625 \nQ 43.21875 41.609375 39.140625 45 \nQ 35.0625 48.390625 27.6875 48.390625 \nQ 23 48.390625 18.546875 47.265625 \nQ 14.109375 46.140625 10.015625 43.890625 \nL 10.015625 52.203125 \nQ 14.9375 54.109375 19.578125 55.046875 \nQ 24.21875 56 28.609375 56 \nQ 40.484375 56 46.34375 49.84375 \nQ 52.203125 43.703125 52.203125 31.203125 \nz\n\" id=\"DejaVuSans-97\"/>\n       <path d=\"M 45.40625 27.984375 \nQ 45.40625 37.75 41.375 43.109375 \nQ 37.359375 48.484375 30.078125 48.484375 \nQ 22.859375 48.484375 18.828125 43.109375 \nQ 14.796875 37.75 14.796875 27.984375 \nQ 14.796875 18.265625 18.828125 12.890625 \nQ 22.859375 7.515625 30.078125 7.515625 \nQ 37.359375 7.515625 41.375 12.890625 \nQ 45.40625 18.265625 45.40625 27.984375 \nz\nM 54.390625 6.78125 \nQ 54.390625 -7.171875 48.1875 -13.984375 \nQ 42 -20.796875 29.203125 -20.796875 \nQ 24.46875 -20.796875 20.265625 -20.09375 \nQ 16.0625 -19.390625 12.109375 -17.921875 \nL 12.109375 -9.1875 \nQ 16.0625 -11.328125 19.921875 -12.34375 \nQ 23.78125 -13.375 27.78125 -13.375 \nQ 36.625 -13.375 41.015625 -8.765625 \nQ 45.40625 -4.15625 45.40625 5.171875 \nL 45.40625 9.625 \nQ 42.625 4.78125 38.28125 2.390625 \nQ 33.9375 0 27.875 0 \nQ 17.828125 0 11.671875 7.65625 \nQ 5.515625 15.328125 5.515625 27.984375 \nQ 5.515625 40.671875 11.671875 48.328125 \nQ 17.828125 56 27.875 56 \nQ 33.9375 56 38.28125 53.609375 \nQ 42.625 51.21875 45.40625 46.390625 \nL 45.40625 54.6875 \nL 54.390625 54.6875 \nz\n\" id=\"DejaVuSans-103\"/>\n       <path id=\"DejaVuSans-32\"/>\n       <path d=\"M 9.421875 75.984375 \nL 18.40625 75.984375 \nL 18.40625 0 \nL 9.421875 0 \nz\n\" id=\"DejaVuSans-108\"/>\n       <path d=\"M 54.890625 33.015625 \nL 54.890625 0 \nL 45.90625 0 \nL 45.90625 32.71875 \nQ 45.90625 40.484375 42.875 44.328125 \nQ 39.84375 48.1875 33.796875 48.1875 \nQ 26.515625 48.1875 22.3125 43.546875 \nQ 18.109375 38.921875 18.109375 30.90625 \nL 18.109375 0 \nL 9.078125 0 \nL 9.078125 54.6875 \nL 18.109375 54.6875 \nL 18.109375 46.1875 \nQ 21.34375 51.125 25.703125 53.5625 \nQ 30.078125 56 35.796875 56 \nQ 45.21875 56 50.046875 50.171875 \nQ 54.890625 44.34375 54.890625 33.015625 \nz\n\" id=\"DejaVuSans-110\"/>\n       <path d=\"M 18.3125 70.21875 \nL 18.3125 54.6875 \nL 36.8125 54.6875 \nL 36.8125 47.703125 \nL 18.3125 47.703125 \nL 18.3125 18.015625 \nQ 18.3125 11.328125 20.140625 9.421875 \nQ 21.96875 7.515625 27.59375 7.515625 \nL 36.8125 7.515625 \nL 36.8125 0 \nL 27.59375 0 \nQ 17.1875 0 13.234375 3.875 \nQ 9.28125 7.765625 9.28125 18.015625 \nL 9.28125 47.703125 \nL 2.6875 47.703125 \nL 2.6875 54.6875 \nL 9.28125 54.6875 \nL 9.28125 70.21875 \nz\n\" id=\"DejaVuSans-116\"/>\n       <path d=\"M 54.890625 33.015625 \nL 54.890625 0 \nL 45.90625 0 \nL 45.90625 32.71875 \nQ 45.90625 40.484375 42.875 44.328125 \nQ 39.84375 48.1875 33.796875 48.1875 \nQ 26.515625 48.1875 22.3125 43.546875 \nQ 18.109375 38.921875 18.109375 30.90625 \nL 18.109375 0 \nL 9.078125 0 \nL 9.078125 75.984375 \nL 18.109375 75.984375 \nL 18.109375 46.1875 \nQ 21.34375 51.125 25.703125 53.5625 \nQ 30.078125 56 35.796875 56 \nQ 45.21875 56 50.046875 50.171875 \nQ 54.890625 44.34375 54.890625 33.015625 \nz\n\" id=\"DejaVuSans-104\"/>\n       <path d=\"M 31 75.875 \nQ 24.46875 64.65625 21.28125 53.65625 \nQ 18.109375 42.671875 18.109375 31.390625 \nQ 18.109375 20.125 21.3125 9.0625 \nQ 24.515625 -2 31 -13.1875 \nL 23.1875 -13.1875 \nQ 15.875 -1.703125 12.234375 9.375 \nQ 8.59375 20.453125 8.59375 31.390625 \nQ 8.59375 42.28125 12.203125 53.3125 \nQ 15.828125 64.359375 23.1875 75.875 \nz\n\" id=\"DejaVuSans-40\"/>\n       <path d=\"M 48.78125 52.59375 \nL 48.78125 44.1875 \nQ 44.96875 46.296875 41.140625 47.34375 \nQ 37.3125 48.390625 33.40625 48.390625 \nQ 24.65625 48.390625 19.8125 42.84375 \nQ 14.984375 37.3125 14.984375 27.296875 \nQ 14.984375 17.28125 19.8125 11.734375 \nQ 24.65625 6.203125 33.40625 6.203125 \nQ 37.3125 6.203125 41.140625 7.25 \nQ 44.96875 8.296875 48.78125 10.40625 \nL 48.78125 2.09375 \nQ 45.015625 0.34375 40.984375 -0.53125 \nQ 36.96875 -1.421875 32.421875 -1.421875 \nQ 20.0625 -1.421875 12.78125 6.34375 \nQ 5.515625 14.109375 5.515625 27.296875 \nQ 5.515625 40.671875 12.859375 48.328125 \nQ 20.21875 56 33.015625 56 \nQ 37.15625 56 41.109375 55.140625 \nQ 45.0625 54.296875 48.78125 52.59375 \nz\n\" id=\"DejaVuSans-99\"/>\n       <path d=\"M 41.109375 46.296875 \nQ 39.59375 47.171875 37.8125 47.578125 \nQ 36.03125 48 33.890625 48 \nQ 26.265625 48 22.1875 43.046875 \nQ 18.109375 38.09375 18.109375 28.8125 \nL 18.109375 0 \nL 9.078125 0 \nL 9.078125 54.6875 \nL 18.109375 54.6875 \nL 18.109375 46.1875 \nQ 20.953125 51.171875 25.484375 53.578125 \nQ 30.03125 56 36.53125 56 \nQ 37.453125 56 38.578125 55.875 \nQ 39.703125 55.765625 41.0625 55.515625 \nz\n\" id=\"DejaVuSans-114\"/>\n       <path d=\"M 8.015625 75.875 \nL 15.828125 75.875 \nQ 23.140625 64.359375 26.78125 53.3125 \nQ 30.421875 42.28125 30.421875 31.390625 \nQ 30.421875 20.453125 26.78125 9.375 \nQ 23.140625 -1.703125 15.828125 -13.1875 \nL 8.015625 -13.1875 \nQ 14.5 -2 17.703125 9.0625 \nQ 20.90625 20.125 20.90625 31.390625 \nQ 20.90625 42.671875 17.703125 53.65625 \nQ 14.5 64.65625 8.015625 75.875 \nz\n\" id=\"DejaVuSans-41\"/>\n      </defs>\n      <use xlink:href=\"#DejaVuSans-77\"/>\n      <use x=\"86.279297\" xlink:href=\"#DejaVuSans-101\"/>\n      <use x=\"147.802734\" xlink:href=\"#DejaVuSans-115\"/>\n      <use x=\"199.902344\" xlink:href=\"#DejaVuSans-115\"/>\n      <use x=\"252.001953\" xlink:href=\"#DejaVuSans-97\"/>\n      <use x=\"313.28125\" xlink:href=\"#DejaVuSans-103\"/>\n      <use x=\"376.757812\" xlink:href=\"#DejaVuSans-101\"/>\n      <use x=\"438.28125\" xlink:href=\"#DejaVuSans-32\"/>\n      <use x=\"470.068359\" xlink:href=\"#DejaVuSans-108\"/>\n      <use x=\"497.851562\" xlink:href=\"#DejaVuSans-101\"/>\n      <use x=\"559.375\" xlink:href=\"#DejaVuSans-110\"/>\n      <use x=\"622.753906\" xlink:href=\"#DejaVuSans-103\"/>\n      <use x=\"686.230469\" xlink:href=\"#DejaVuSans-116\"/>\n      <use x=\"725.439453\" xlink:href=\"#DejaVuSans-104\"/>\n      <use x=\"788.818359\" xlink:href=\"#DejaVuSans-32\"/>\n      <use x=\"820.605469\" xlink:href=\"#DejaVuSans-40\"/>\n      <use x=\"859.619141\" xlink:href=\"#DejaVuSans-99\"/>\n      <use x=\"914.599609\" xlink:href=\"#DejaVuSans-104\"/>\n      <use x=\"977.978516\" xlink:href=\"#DejaVuSans-97\"/>\n      <use x=\"1039.257812\" xlink:href=\"#DejaVuSans-114\"/>\n      <use x=\"1080.371094\" xlink:href=\"#DejaVuSans-97\"/>\n      <use x=\"1141.650391\" xlink:href=\"#DejaVuSans-99\"/>\n      <use x=\"1196.630859\" xlink:href=\"#DejaVuSans-116\"/>\n      <use x=\"1235.839844\" xlink:href=\"#DejaVuSans-101\"/>\n      <use x=\"1297.363281\" xlink:href=\"#DejaVuSans-114\"/>\n      <use x=\"1338.476562\" xlink:href=\"#DejaVuSans-115\"/>\n      <use x=\"1390.576172\" xlink:href=\"#DejaVuSans-41\"/>\n     </g>\n    </g>\n   </g>\n   <g id=\"matplotlib.axis_2\">\n    <g id=\"ytick_1\">\n     <g id=\"line2d_8\">\n      <defs>\n       <path d=\"M 0 0 \nL -3.5 0 \n\" id=\"ma7683b690e\" style=\"stroke:#ffffff;stroke-width:0.8;\"/>\n      </defs>\n      <g>\n       <use style=\"fill:#ffffff;stroke:#ffffff;stroke-width:0.8;\" x=\"46.965625\" xlink:href=\"#ma7683b690e\" y=\"314.6\"/>\n      </g>\n     </g>\n     <g id=\"text_9\">\n      <!-- 0 -->\n      <g style=\"fill:#ffffff;\" transform=\"translate(33.603125 318.399219)scale(0.1 -0.1)\">\n       <use xlink:href=\"#DejaVuSans-48\"/>\n      </g>\n     </g>\n    </g>\n    <g id=\"ytick_2\">\n     <g id=\"line2d_9\">\n      <g>\n       <use style=\"fill:#ffffff;stroke:#ffffff;stroke-width:0.8;\" x=\"46.965625\" xlink:href=\"#ma7683b690e\" y=\"269.903526\"/>\n      </g>\n     </g>\n     <g id=\"text_10\">\n      <!-- 20 -->\n      <g style=\"fill:#ffffff;\" transform=\"translate(27.240625 273.702745)scale(0.1 -0.1)\">\n       <use xlink:href=\"#DejaVuSans-50\"/>\n       <use x=\"63.623047\" xlink:href=\"#DejaVuSans-48\"/>\n      </g>\n     </g>\n    </g>\n    <g id=\"ytick_3\">\n     <g id=\"line2d_10\">\n      <g>\n       <use style=\"fill:#ffffff;stroke:#ffffff;stroke-width:0.8;\" x=\"46.965625\" xlink:href=\"#ma7683b690e\" y=\"225.207052\"/>\n      </g>\n     </g>\n     <g id=\"text_11\">\n      <!-- 40 -->\n      <g style=\"fill:#ffffff;\" transform=\"translate(27.240625 229.006271)scale(0.1 -0.1)\">\n       <use xlink:href=\"#DejaVuSans-52\"/>\n       <use x=\"63.623047\" xlink:href=\"#DejaVuSans-48\"/>\n      </g>\n     </g>\n    </g>\n    <g id=\"ytick_4\">\n     <g id=\"line2d_11\">\n      <g>\n       <use style=\"fill:#ffffff;stroke:#ffffff;stroke-width:0.8;\" x=\"46.965625\" xlink:href=\"#ma7683b690e\" y=\"180.510578\"/>\n      </g>\n     </g>\n     <g id=\"text_12\">\n      <!-- 60 -->\n      <g style=\"fill:#ffffff;\" transform=\"translate(27.240625 184.309797)scale(0.1 -0.1)\">\n       <use xlink:href=\"#DejaVuSans-54\"/>\n       <use x=\"63.623047\" xlink:href=\"#DejaVuSans-48\"/>\n      </g>\n     </g>\n    </g>\n    <g id=\"ytick_5\">\n     <g id=\"line2d_12\">\n      <g>\n       <use style=\"fill:#ffffff;stroke:#ffffff;stroke-width:0.8;\" x=\"46.965625\" xlink:href=\"#ma7683b690e\" y=\"135.814104\"/>\n      </g>\n     </g>\n     <g id=\"text_13\">\n      <!-- 80 -->\n      <g style=\"fill:#ffffff;\" transform=\"translate(27.240625 139.613323)scale(0.1 -0.1)\">\n       <defs>\n        <path d=\"M 31.78125 34.625 \nQ 24.75 34.625 20.71875 30.859375 \nQ 16.703125 27.09375 16.703125 20.515625 \nQ 16.703125 13.921875 20.71875 10.15625 \nQ 24.75 6.390625 31.78125 6.390625 \nQ 38.8125 6.390625 42.859375 10.171875 \nQ 46.921875 13.96875 46.921875 20.515625 \nQ 46.921875 27.09375 42.890625 30.859375 \nQ 38.875 34.625 31.78125 34.625 \nz\nM 21.921875 38.8125 \nQ 15.578125 40.375 12.03125 44.71875 \nQ 8.5 49.078125 8.5 55.328125 \nQ 8.5 64.0625 14.71875 69.140625 \nQ 20.953125 74.21875 31.78125 74.21875 \nQ 42.671875 74.21875 48.875 69.140625 \nQ 55.078125 64.0625 55.078125 55.328125 \nQ 55.078125 49.078125 51.53125 44.71875 \nQ 48 40.375 41.703125 38.8125 \nQ 48.828125 37.15625 52.796875 32.3125 \nQ 56.78125 27.484375 56.78125 20.515625 \nQ 56.78125 9.90625 50.3125 4.234375 \nQ 43.84375 -1.421875 31.78125 -1.421875 \nQ 19.734375 -1.421875 13.25 4.234375 \nQ 6.78125 9.90625 6.78125 20.515625 \nQ 6.78125 27.484375 10.78125 32.3125 \nQ 14.796875 37.15625 21.921875 38.8125 \nz\nM 18.3125 54.390625 \nQ 18.3125 48.734375 21.84375 45.5625 \nQ 25.390625 42.390625 31.78125 42.390625 \nQ 38.140625 42.390625 41.71875 45.5625 \nQ 45.3125 48.734375 45.3125 54.390625 \nQ 45.3125 60.0625 41.71875 63.234375 \nQ 38.140625 66.40625 31.78125 66.40625 \nQ 25.390625 66.40625 21.84375 63.234375 \nQ 18.3125 60.0625 18.3125 54.390625 \nz\n\" id=\"DejaVuSans-56\"/>\n       </defs>\n       <use xlink:href=\"#DejaVuSans-56\"/>\n       <use x=\"63.623047\" xlink:href=\"#DejaVuSans-48\"/>\n      </g>\n     </g>\n    </g>\n    <g id=\"ytick_6\">\n     <g id=\"line2d_13\">\n      <g>\n       <use style=\"fill:#ffffff;stroke:#ffffff;stroke-width:0.8;\" x=\"46.965625\" xlink:href=\"#ma7683b690e\" y=\"91.11763\"/>\n      </g>\n     </g>\n     <g id=\"text_14\">\n      <!-- 100 -->\n      <g style=\"fill:#ffffff;\" transform=\"translate(20.878125 94.916849)scale(0.1 -0.1)\">\n       <use xlink:href=\"#DejaVuSans-49\"/>\n       <use x=\"63.623047\" xlink:href=\"#DejaVuSans-48\"/>\n       <use x=\"127.246094\" xlink:href=\"#DejaVuSans-48\"/>\n      </g>\n     </g>\n    </g>\n    <g id=\"ytick_7\">\n     <g id=\"line2d_14\">\n      <g>\n       <use style=\"fill:#ffffff;stroke:#ffffff;stroke-width:0.8;\" x=\"46.965625\" xlink:href=\"#ma7683b690e\" y=\"46.421156\"/>\n      </g>\n     </g>\n     <g id=\"text_15\">\n      <!-- 120 -->\n      <g style=\"fill:#ffffff;\" transform=\"translate(20.878125 50.220375)scale(0.1 -0.1)\">\n       <use xlink:href=\"#DejaVuSans-49\"/>\n       <use x=\"63.623047\" xlink:href=\"#DejaVuSans-50\"/>\n       <use x=\"127.246094\" xlink:href=\"#DejaVuSans-48\"/>\n      </g>\n     </g>\n    </g>\n    <g id=\"text_16\">\n     <!-- Count -->\n     <g style=\"fill:#ffffff;\" transform=\"translate(14.798438 175.748437)rotate(-90)scale(0.1 -0.1)\">\n      <defs>\n       <path d=\"M 64.40625 67.28125 \nL 64.40625 56.890625 \nQ 59.421875 61.53125 53.78125 63.8125 \nQ 48.140625 66.109375 41.796875 66.109375 \nQ 29.296875 66.109375 22.65625 58.46875 \nQ 16.015625 50.828125 16.015625 36.375 \nQ 16.015625 21.96875 22.65625 14.328125 \nQ 29.296875 6.6875 41.796875 6.6875 \nQ 48.140625 6.6875 53.78125 8.984375 \nQ 59.421875 11.28125 64.40625 15.921875 \nL 64.40625 5.609375 \nQ 59.234375 2.09375 53.4375 0.328125 \nQ 47.65625 -1.421875 41.21875 -1.421875 \nQ 24.65625 -1.421875 15.125 8.703125 \nQ 5.609375 18.84375 5.609375 36.375 \nQ 5.609375 53.953125 15.125 64.078125 \nQ 24.65625 74.21875 41.21875 74.21875 \nQ 47.75 74.21875 53.53125 72.484375 \nQ 59.328125 70.75 64.40625 67.28125 \nz\n\" id=\"DejaVuSans-67\"/>\n       <path d=\"M 30.609375 48.390625 \nQ 23.390625 48.390625 19.1875 42.75 \nQ 14.984375 37.109375 14.984375 27.296875 \nQ 14.984375 17.484375 19.15625 11.84375 \nQ 23.34375 6.203125 30.609375 6.203125 \nQ 37.796875 6.203125 41.984375 11.859375 \nQ 46.1875 17.53125 46.1875 27.296875 \nQ 46.1875 37.015625 41.984375 42.703125 \nQ 37.796875 48.390625 30.609375 48.390625 \nz\nM 30.609375 56 \nQ 42.328125 56 49.015625 48.375 \nQ 55.71875 40.765625 55.71875 27.296875 \nQ 55.71875 13.875 49.015625 6.21875 \nQ 42.328125 -1.421875 30.609375 -1.421875 \nQ 18.84375 -1.421875 12.171875 6.21875 \nQ 5.515625 13.875 5.515625 27.296875 \nQ 5.515625 40.765625 12.171875 48.375 \nQ 18.84375 56 30.609375 56 \nz\n\" id=\"DejaVuSans-111\"/>\n       <path d=\"M 8.5 21.578125 \nL 8.5 54.6875 \nL 17.484375 54.6875 \nL 17.484375 21.921875 \nQ 17.484375 14.15625 20.5 10.265625 \nQ 23.53125 6.390625 29.59375 6.390625 \nQ 36.859375 6.390625 41.078125 11.03125 \nQ 45.3125 15.671875 45.3125 23.6875 \nL 45.3125 54.6875 \nL 54.296875 54.6875 \nL 54.296875 0 \nL 45.3125 0 \nL 45.3125 8.40625 \nQ 42.046875 3.421875 37.71875 1 \nQ 33.40625 -1.421875 27.6875 -1.421875 \nQ 18.265625 -1.421875 13.375 4.4375 \nQ 8.5 10.296875 8.5 21.578125 \nz\nM 31.109375 56 \nz\n\" id=\"DejaVuSans-117\"/>\n      </defs>\n      <use xlink:href=\"#DejaVuSans-67\"/>\n      <use x=\"69.824219\" xlink:href=\"#DejaVuSans-111\"/>\n      <use x=\"131.005859\" xlink:href=\"#DejaVuSans-117\"/>\n      <use x=\"194.384766\" xlink:href=\"#DejaVuSans-110\"/>\n      <use x=\"257.763672\" xlink:href=\"#DejaVuSans-116\"/>\n     </g>\n    </g>\n   </g>\n   <g id=\"patch_25\">\n    <path d=\"M 46.965625 314.6 \nL 46.965625 7.2 \n\" style=\"fill:none;stroke:#ffffff;stroke-linecap:square;stroke-linejoin:miter;stroke-width:0.8;\"/>\n   </g>\n   <g id=\"patch_26\">\n    <path d=\"M 46.965625 314.6 \nL 345.240625 314.6 \n\" style=\"fill:none;stroke:#ffffff;stroke-linecap:square;stroke-linejoin:miter;stroke-width:0.8;\"/>\n   </g>\n  </g>\n </g>\n <defs>\n  <clipPath id=\"p2ee0b0c23f\">\n   <rect height=\"307.4\" width=\"298.275\" x=\"46.965625\" y=\"7.2\"/>\n  </clipPath>\n </defs>\n</svg>\n",
      "image/png": "[encoded data removed]"
     },
     "metadata": {}
    }
   ],
   "source": [
    "plt = sb.displot(df[df['Message'].str.len() < 600]['Message'].str.len())\n",
    "plt.set(xlabel=\"Message length (characters)\")\n",
    "plt.savefig(f'{figure_path}/message_length_dist.pdf', bbox_inches = 'tight', pad_inches = 0)"
   ]
  },
  {
   "cell_type": "code",
   "execution_count": 9,
   "metadata": {},
   "outputs": [
    {
     "output_type": "error",
     "ename": "ValueError",
     "evalue": "Could not interpret input 'Group Name'",
     "traceback": [
      "\u001b[0;31m---------------------------------------------------------------------------\u001b[0m",
      "\u001b[0;31mValueError\u001b[0m                                Traceback (most recent call last)",
      "\u001b[0;32m<ipython-input-9-c673926bfc22>\u001b[0m in \u001b[0;36m<module>\u001b[0;34m\u001b[0m\n\u001b[0;32m----> 1\u001b[0;31m \u001b[0mplt\u001b[0m \u001b[0;34m=\u001b[0m \u001b[0msb\u001b[0m\u001b[0;34m.\u001b[0m\u001b[0mcountplot\u001b[0m\u001b[0;34m(\u001b[0m\u001b[0my\u001b[0m\u001b[0;34m=\u001b[0m\u001b[0;34m\"Group Name\"\u001b[0m\u001b[0;34m,\u001b[0m \u001b[0mdata\u001b[0m\u001b[0;34m=\u001b[0m\u001b[0mdf\u001b[0m\u001b[0;34m)\u001b[0m\u001b[0;34m\u001b[0m\u001b[0;34m\u001b[0m\u001b[0m\n\u001b[0m\u001b[1;32m      2\u001b[0m \u001b[0mplt\u001b[0m\u001b[0;34m.\u001b[0m\u001b[0mset\u001b[0m\u001b[0;34m(\u001b[0m\u001b[0mxlabel\u001b[0m\u001b[0;34m=\u001b[0m\u001b[0;34m\"Count\"\u001b[0m\u001b[0;34m,\u001b[0m \u001b[0mylabel\u001b[0m\u001b[0;34m=\u001b[0m\u001b[0;34m\"\"\u001b[0m\u001b[0;34m)\u001b[0m\u001b[0;34m\u001b[0m\u001b[0;34m\u001b[0m\u001b[0m\n\u001b[1;32m      3\u001b[0m \u001b[0mplt\u001b[0m\u001b[0;34m.\u001b[0m\u001b[0mfigure\u001b[0m\u001b[0;34m.\u001b[0m\u001b[0msavefig\u001b[0m\u001b[0;34m(\u001b[0m\u001b[0;34mf'{figure_path}/group_dist.pdf'\u001b[0m\u001b[0;34m,\u001b[0m \u001b[0mbbox_inches\u001b[0m \u001b[0;34m=\u001b[0m \u001b[0;34m'tight'\u001b[0m\u001b[0;34m,\u001b[0m \u001b[0mpad_inches\u001b[0m \u001b[0;34m=\u001b[0m \u001b[0;36m0\u001b[0m\u001b[0;34m)\u001b[0m\u001b[0;34m\u001b[0m\u001b[0;34m\u001b[0m\u001b[0m\n",
      "\u001b[0;32m~/miniconda3/envs/nlp/lib/python3.9/site-packages/seaborn/_decorators.py\u001b[0m in \u001b[0;36minner_f\u001b[0;34m(*args, **kwargs)\u001b[0m\n\u001b[1;32m     44\u001b[0m             )\n\u001b[1;32m     45\u001b[0m         \u001b[0mkwargs\u001b[0m\u001b[0;34m.\u001b[0m\u001b[0mupdate\u001b[0m\u001b[0;34m(\u001b[0m\u001b[0;34m{\u001b[0m\u001b[0mk\u001b[0m\u001b[0;34m:\u001b[0m \u001b[0marg\u001b[0m \u001b[0;32mfor\u001b[0m \u001b[0mk\u001b[0m\u001b[0;34m,\u001b[0m \u001b[0marg\u001b[0m \u001b[0;32min\u001b[0m \u001b[0mzip\u001b[0m\u001b[0;34m(\u001b[0m\u001b[0msig\u001b[0m\u001b[0;34m.\u001b[0m\u001b[0mparameters\u001b[0m\u001b[0;34m,\u001b[0m \u001b[0margs\u001b[0m\u001b[0;34m)\u001b[0m\u001b[0;34m}\u001b[0m\u001b[0;34m)\u001b[0m\u001b[0;34m\u001b[0m\u001b[0;34m\u001b[0m\u001b[0m\n\u001b[0;32m---> 46\u001b[0;31m         \u001b[0;32mreturn\u001b[0m \u001b[0mf\u001b[0m\u001b[0;34m(\u001b[0m\u001b[0;34m**\u001b[0m\u001b[0mkwargs\u001b[0m\u001b[0;34m)\u001b[0m\u001b[0;34m\u001b[0m\u001b[0;34m\u001b[0m\u001b[0m\n\u001b[0m\u001b[1;32m     47\u001b[0m     \u001b[0;32mreturn\u001b[0m \u001b[0minner_f\u001b[0m\u001b[0;34m\u001b[0m\u001b[0;34m\u001b[0m\u001b[0m\n\u001b[1;32m     48\u001b[0m \u001b[0;34m\u001b[0m\u001b[0m\n",
      "\u001b[0;32m~/miniconda3/envs/nlp/lib/python3.9/site-packages/seaborn/categorical.py\u001b[0m in \u001b[0;36mcountplot\u001b[0;34m(x, y, hue, data, order, hue_order, orient, color, palette, saturation, dodge, ax, **kwargs)\u001b[0m\n\u001b[1;32m   3593\u001b[0m         \u001b[0;32mraise\u001b[0m \u001b[0mValueError\u001b[0m\u001b[0;34m(\u001b[0m\u001b[0;34m\"Cannot pass values for both `x` and `y`\"\u001b[0m\u001b[0;34m)\u001b[0m\u001b[0;34m\u001b[0m\u001b[0;34m\u001b[0m\u001b[0m\n\u001b[1;32m   3594\u001b[0m \u001b[0;34m\u001b[0m\u001b[0m\n\u001b[0;32m-> 3595\u001b[0;31m     plotter = _CountPlotter(\n\u001b[0m\u001b[1;32m   3596\u001b[0m         \u001b[0mx\u001b[0m\u001b[0;34m,\u001b[0m \u001b[0my\u001b[0m\u001b[0;34m,\u001b[0m \u001b[0mhue\u001b[0m\u001b[0;34m,\u001b[0m \u001b[0mdata\u001b[0m\u001b[0;34m,\u001b[0m \u001b[0morder\u001b[0m\u001b[0;34m,\u001b[0m \u001b[0mhue_order\u001b[0m\u001b[0;34m,\u001b[0m\u001b[0;34m\u001b[0m\u001b[0;34m\u001b[0m\u001b[0m\n\u001b[1;32m   3597\u001b[0m         \u001b[0mestimator\u001b[0m\u001b[0;34m,\u001b[0m \u001b[0mci\u001b[0m\u001b[0;34m,\u001b[0m \u001b[0mn_boot\u001b[0m\u001b[0;34m,\u001b[0m \u001b[0munits\u001b[0m\u001b[0;34m,\u001b[0m \u001b[0mseed\u001b[0m\u001b[0;34m,\u001b[0m\u001b[0;34m\u001b[0m\u001b[0;34m\u001b[0m\u001b[0m\n",
      "\u001b[0;32m~/miniconda3/envs/nlp/lib/python3.9/site-packages/seaborn/categorical.py\u001b[0m in \u001b[0;36m__init__\u001b[0;34m(self, x, y, hue, data, order, hue_order, estimator, ci, n_boot, units, seed, orient, color, palette, saturation, errcolor, errwidth, capsize, dodge)\u001b[0m\n\u001b[1;32m   1582\u001b[0m                  errwidth, capsize, dodge):\n\u001b[1;32m   1583\u001b[0m         \u001b[0;34m\"\"\"Initialize the plotter.\"\"\"\u001b[0m\u001b[0;34m\u001b[0m\u001b[0;34m\u001b[0m\u001b[0m\n\u001b[0;32m-> 1584\u001b[0;31m         self.establish_variables(x, y, hue, data, orient,\n\u001b[0m\u001b[1;32m   1585\u001b[0m                                  order, hue_order, units)\n\u001b[1;32m   1586\u001b[0m         \u001b[0mself\u001b[0m\u001b[0;34m.\u001b[0m\u001b[0mestablish_colors\u001b[0m\u001b[0;34m(\u001b[0m\u001b[0mcolor\u001b[0m\u001b[0;34m,\u001b[0m \u001b[0mpalette\u001b[0m\u001b[0;34m,\u001b[0m \u001b[0msaturation\u001b[0m\u001b[0;34m)\u001b[0m\u001b[0;34m\u001b[0m\u001b[0;34m\u001b[0m\u001b[0m\n",
      "\u001b[0;32m~/miniconda3/envs/nlp/lib/python3.9/site-packages/seaborn/categorical.py\u001b[0m in \u001b[0;36mestablish_variables\u001b[0;34m(self, x, y, hue, data, orient, order, hue_order, units)\u001b[0m\n\u001b[1;32m    151\u001b[0m                 \u001b[0;32mif\u001b[0m \u001b[0misinstance\u001b[0m\u001b[0;34m(\u001b[0m\u001b[0mvar\u001b[0m\u001b[0;34m,\u001b[0m \u001b[0mstr\u001b[0m\u001b[0;34m)\u001b[0m\u001b[0;34m:\u001b[0m\u001b[0;34m\u001b[0m\u001b[0;34m\u001b[0m\u001b[0m\n\u001b[1;32m    152\u001b[0m                     \u001b[0merr\u001b[0m \u001b[0;34m=\u001b[0m \u001b[0;34m\"Could not interpret input '{}'\"\u001b[0m\u001b[0;34m.\u001b[0m\u001b[0mformat\u001b[0m\u001b[0;34m(\u001b[0m\u001b[0mvar\u001b[0m\u001b[0;34m)\u001b[0m\u001b[0;34m\u001b[0m\u001b[0;34m\u001b[0m\u001b[0m\n\u001b[0;32m--> 153\u001b[0;31m                     \u001b[0;32mraise\u001b[0m \u001b[0mValueError\u001b[0m\u001b[0;34m(\u001b[0m\u001b[0merr\u001b[0m\u001b[0;34m)\u001b[0m\u001b[0;34m\u001b[0m\u001b[0;34m\u001b[0m\u001b[0m\n\u001b[0m\u001b[1;32m    154\u001b[0m \u001b[0;34m\u001b[0m\u001b[0m\n\u001b[1;32m    155\u001b[0m             \u001b[0;31m# Figure out the plotting orientation\u001b[0m\u001b[0;34m\u001b[0m\u001b[0;34m\u001b[0m\u001b[0;34m\u001b[0m\u001b[0m\n",
      "\u001b[0;31mValueError\u001b[0m: Could not interpret input 'Group Name'"
     ]
    }
   ],
   "source": [
    "plt = sb.countplot(y=\"Group Name\", data=df)\n",
    "plt.set(xlabel=\"Count\", ylabel=\"\")\n",
    "plt.figure.savefig(f'{figure_path}/group_dist.pdf', bbox_inches = 'tight', pad_inches = 0)"
   ]
  },
  {
   "cell_type": "code",
   "execution_count": 10,
   "metadata": {},
   "outputs": [
    {
     "output_type": "display_data",
     "data": {
      "text/plain": "<Figure size 432x288 with 1 Axes>",
      "image/svg+xml": "<?xml version=\"1.0\" encoding=\"utf-8\" standalone=\"no\"?>\n<!DOCTYPE svg PUBLIC \"-//W3C//DTD SVG 1.1//EN\"\n  \"http://www.w3.org/Graphics/SVG/1.1/DTD/svg11.dtd\">\n<!-- Created with matplotlib (https://matplotlib.org/) -->\n<svg height=\"262.19625pt\" version=\"1.1\" viewBox=\"0 0 382.603125 262.19625\" width=\"382.603125pt\" xmlns=\"http://www.w3.org/2000/svg\" xmlns:xlink=\"http://www.w3.org/1999/xlink\">\n <metadata>\n  <rdf:RDF xmlns:cc=\"http://creativecommons.org/ns#\" xmlns:dc=\"http://purl.org/dc/elements/1.1/\" xmlns:rdf=\"http://www.w3.org/1999/02/22-rdf-syntax-ns#\">\n   <cc:Work>\n    <dc:type rdf:resource=\"http://purl.org/dc/dcmitype/StillImage\"/>\n    <dc:date>2021-05-11T12:00:51.372331</dc:date>\n    <dc:format>image/svg+xml</dc:format>\n    <dc:creator>\n     <cc:Agent>\n      <dc:title>Matplotlib v3.3.4, https://matplotlib.org/</dc:title>\n     </cc:Agent>\n    </dc:creator>\n   </cc:Work>\n  </rdf:RDF>\n </metadata>\n <defs>\n  <style type=\"text/css\">*{stroke-linecap:butt;stroke-linejoin:round;}</style>\n </defs>\n <g id=\"figure_1\">\n  <g id=\"patch_1\">\n   <path d=\"M 0 262.19625 \nL 382.603125 262.19625 \nL 382.603125 0 \nL 0 0 \nz\n\"/>\n  </g>\n  <g id=\"axes_1\">\n   <g id=\"patch_2\">\n    <path d=\"M 40.603125 224.64 \nL 375.403125 224.64 \nL 375.403125 7.2 \nL 40.603125 7.2 \nz\n\"/>\n   </g>\n   <g id=\"patch_3\">\n    <path clip-path=\"url(#p9ac1b6406c)\" d=\"M 55.821307 224.64 \nL 58.864943 224.64 \nL 58.864943 215.227013 \nL 55.821307 215.227013 \nz\n\" style=\"fill:#8dd3c7;fill-opacity:0.75;\"/>\n   </g>\n   <g id=\"patch_4\">\n    <path clip-path=\"url(#p9ac1b6406c)\" d=\"M 58.864943 224.64 \nL 61.90858 224.64 \nL 61.90858 215.227013 \nL 58.864943 215.227013 \nz\n\" style=\"fill:#8dd3c7;fill-opacity:0.75;\"/>\n   </g>\n   <g id=\"patch_5\">\n    <path clip-path=\"url(#p9ac1b6406c)\" d=\"M 61.90858 224.64 \nL 64.952216 224.64 \nL 64.952216 205.814026 \nL 61.90858 205.814026 \nz\n\" style=\"fill:#8dd3c7;fill-opacity:0.75;\"/>\n   </g>\n   <g id=\"patch_6\">\n    <path clip-path=\"url(#p9ac1b6406c)\" d=\"M 64.952216 224.64 \nL 67.995852 224.64 \nL 67.995852 186.988052 \nL 64.952216 186.988052 \nz\n\" style=\"fill:#8dd3c7;fill-opacity:0.75;\"/>\n   </g>\n   <g id=\"patch_7\">\n    <path clip-path=\"url(#p9ac1b6406c)\" d=\"M 67.995852 224.64 \nL 71.039489 224.64 \nL 71.039489 168.162078 \nL 67.995852 168.162078 \nz\n\" style=\"fill:#8dd3c7;fill-opacity:0.75;\"/>\n   </g>\n   <g id=\"patch_8\">\n    <path clip-path=\"url(#p9ac1b6406c)\" d=\"M 71.039489 224.64 \nL 74.083125 224.64 \nL 74.083125 158.749091 \nL 71.039489 158.749091 \nz\n\" style=\"fill:#8dd3c7;fill-opacity:0.75;\"/>\n   </g>\n   <g id=\"patch_9\">\n    <path clip-path=\"url(#p9ac1b6406c)\" d=\"M 74.083125 224.64 \nL 77.126761 224.64 \nL 77.126761 130.51013 \nL 74.083125 130.51013 \nz\n\" style=\"fill:#8dd3c7;fill-opacity:0.75;\"/>\n   </g>\n   <g id=\"patch_10\">\n    <path clip-path=\"url(#p9ac1b6406c)\" d=\"M 77.126761 224.64 \nL 80.170398 224.64 \nL 80.170398 149.336104 \nL 77.126761 149.336104 \nz\n\" style=\"fill:#8dd3c7;fill-opacity:0.75;\"/>\n   </g>\n   <g id=\"patch_11\">\n    <path clip-path=\"url(#p9ac1b6406c)\" d=\"M 80.170398 224.64 \nL 83.214034 224.64 \nL 83.214034 45.793247 \nL 80.170398 45.793247 \nz\n\" style=\"fill:#8dd3c7;fill-opacity:0.75;\"/>\n   </g>\n   <g id=\"patch_12\">\n    <path clip-path=\"url(#p9ac1b6406c)\" d=\"M 83.214034 224.64 \nL 86.25767 224.64 \nL 86.25767 83.445195 \nL 83.214034 83.445195 \nz\n\" style=\"fill:#8dd3c7;fill-opacity:0.75;\"/>\n   </g>\n   <g id=\"patch_13\">\n    <path clip-path=\"url(#p9ac1b6406c)\" d=\"M 86.25767 224.64 \nL 89.301307 224.64 \nL 89.301307 17.554286 \nL 86.25767 17.554286 \nz\n\" style=\"fill:#8dd3c7;fill-opacity:0.75;\"/>\n   </g>\n   <g id=\"patch_14\">\n    <path clip-path=\"url(#p9ac1b6406c)\" d=\"M 89.301307 224.64 \nL 92.344943 224.64 \nL 92.344943 26.967273 \nL 89.301307 26.967273 \nz\n\" style=\"fill:#8dd3c7;fill-opacity:0.75;\"/>\n   </g>\n   <g id=\"patch_15\">\n    <path clip-path=\"url(#p9ac1b6406c)\" d=\"M 92.344943 224.64 \nL 95.38858 224.64 \nL 95.38858 26.967273 \nL 92.344943 26.967273 \nz\n\" style=\"fill:#8dd3c7;fill-opacity:0.75;\"/>\n   </g>\n   <g id=\"patch_16\">\n    <path clip-path=\"url(#p9ac1b6406c)\" d=\"M 95.38858 224.64 \nL 98.432216 224.64 \nL 98.432216 64.619221 \nL 95.38858 64.619221 \nz\n\" style=\"fill:#8dd3c7;fill-opacity:0.75;\"/>\n   </g>\n   <g id=\"patch_17\">\n    <path clip-path=\"url(#p9ac1b6406c)\" d=\"M 98.432216 224.64 \nL 101.475852 224.64 \nL 101.475852 121.097143 \nL 98.432216 121.097143 \nz\n\" style=\"fill:#8dd3c7;fill-opacity:0.75;\"/>\n   </g>\n   <g id=\"patch_18\">\n    <path clip-path=\"url(#p9ac1b6406c)\" d=\"M 101.475852 224.64 \nL 104.519489 224.64 \nL 104.519489 83.445195 \nL 101.475852 83.445195 \nz\n\" style=\"fill:#8dd3c7;fill-opacity:0.75;\"/>\n   </g>\n   <g id=\"patch_19\">\n    <path clip-path=\"url(#p9ac1b6406c)\" d=\"M 104.519489 224.64 \nL 107.563125 224.64 \nL 107.563125 74.032208 \nL 104.519489 74.032208 \nz\n\" style=\"fill:#8dd3c7;fill-opacity:0.75;\"/>\n   </g>\n   <g id=\"patch_20\">\n    <path clip-path=\"url(#p9ac1b6406c)\" d=\"M 107.563125 224.64 \nL 110.606761 224.64 \nL 110.606761 111.684156 \nL 107.563125 111.684156 \nz\n\" style=\"fill:#8dd3c7;fill-opacity:0.75;\"/>\n   </g>\n   <g id=\"patch_21\">\n    <path clip-path=\"url(#p9ac1b6406c)\" d=\"M 110.606761 224.64 \nL 113.650398 224.64 \nL 113.650398 130.51013 \nL 110.606761 130.51013 \nz\n\" style=\"fill:#8dd3c7;fill-opacity:0.75;\"/>\n   </g>\n   <g id=\"patch_22\">\n    <path clip-path=\"url(#p9ac1b6406c)\" d=\"M 113.650398 224.64 \nL 116.694034 224.64 \nL 116.694034 149.336104 \nL 113.650398 149.336104 \nz\n\" style=\"fill:#8dd3c7;fill-opacity:0.75;\"/>\n   </g>\n   <g id=\"patch_23\">\n    <path clip-path=\"url(#p9ac1b6406c)\" d=\"M 116.694034 224.64 \nL 119.73767 224.64 \nL 119.73767 139.923117 \nL 116.694034 139.923117 \nz\n\" style=\"fill:#8dd3c7;fill-opacity:0.75;\"/>\n   </g>\n   <g id=\"patch_24\">\n    <path clip-path=\"url(#p9ac1b6406c)\" d=\"M 119.73767 224.64 \nL 122.781307 224.64 \nL 122.781307 92.858182 \nL 119.73767 92.858182 \nz\n\" style=\"fill:#8dd3c7;fill-opacity:0.75;\"/>\n   </g>\n   <g id=\"patch_25\">\n    <path clip-path=\"url(#p9ac1b6406c)\" d=\"M 122.781307 224.64 \nL 125.824943 224.64 \nL 125.824943 139.923117 \nL 122.781307 139.923117 \nz\n\" style=\"fill:#8dd3c7;fill-opacity:0.75;\"/>\n   </g>\n   <g id=\"patch_26\">\n    <path clip-path=\"url(#p9ac1b6406c)\" d=\"M 125.824943 224.64 \nL 128.86858 224.64 \nL 128.86858 64.619221 \nL 125.824943 64.619221 \nz\n\" style=\"fill:#8dd3c7;fill-opacity:0.75;\"/>\n   </g>\n   <g id=\"patch_27\">\n    <path clip-path=\"url(#p9ac1b6406c)\" d=\"M 128.86858 224.64 \nL 131.912216 224.64 \nL 131.912216 158.749091 \nL 128.86858 158.749091 \nz\n\" style=\"fill:#8dd3c7;fill-opacity:0.75;\"/>\n   </g>\n   <g id=\"patch_28\">\n    <path clip-path=\"url(#p9ac1b6406c)\" d=\"M 131.912216 224.64 \nL 134.955852 224.64 \nL 134.955852 168.162078 \nL 131.912216 168.162078 \nz\n\" style=\"fill:#8dd3c7;fill-opacity:0.75;\"/>\n   </g>\n   <g id=\"patch_29\">\n    <path clip-path=\"url(#p9ac1b6406c)\" d=\"M 134.955852 224.64 \nL 137.999489 224.64 \nL 137.999489 83.445195 \nL 134.955852 83.445195 \nz\n\" style=\"fill:#8dd3c7;fill-opacity:0.75;\"/>\n   </g>\n   <g id=\"patch_30\">\n    <path clip-path=\"url(#p9ac1b6406c)\" d=\"M 137.999489 224.64 \nL 141.043125 224.64 \nL 141.043125 121.097143 \nL 137.999489 121.097143 \nz\n\" style=\"fill:#8dd3c7;fill-opacity:0.75;\"/>\n   </g>\n   <g id=\"patch_31\">\n    <path clip-path=\"url(#p9ac1b6406c)\" d=\"M 141.043125 224.64 \nL 144.086761 224.64 \nL 144.086761 130.51013 \nL 141.043125 130.51013 \nz\n\" style=\"fill:#8dd3c7;fill-opacity:0.75;\"/>\n   </g>\n   <g id=\"patch_32\">\n    <path clip-path=\"url(#p9ac1b6406c)\" d=\"M 144.086761 224.64 \nL 147.130398 224.64 \nL 147.130398 111.684156 \nL 144.086761 111.684156 \nz\n\" style=\"fill:#8dd3c7;fill-opacity:0.75;\"/>\n   </g>\n   <g id=\"patch_33\">\n    <path clip-path=\"url(#p9ac1b6406c)\" d=\"M 147.130398 224.64 \nL 150.174034 224.64 \nL 150.174034 196.401039 \nL 147.130398 196.401039 \nz\n\" style=\"fill:#8dd3c7;fill-opacity:0.75;\"/>\n   </g>\n   <g id=\"patch_34\">\n    <path clip-path=\"url(#p9ac1b6406c)\" d=\"M 150.174034 224.64 \nL 153.21767 224.64 \nL 153.21767 121.097143 \nL 150.174034 121.097143 \nz\n\" style=\"fill:#8dd3c7;fill-opacity:0.75;\"/>\n   </g>\n   <g id=\"patch_35\">\n    <path clip-path=\"url(#p9ac1b6406c)\" d=\"M 153.21767 224.64 \nL 156.261307 224.64 \nL 156.261307 186.988052 \nL 153.21767 186.988052 \nz\n\" style=\"fill:#8dd3c7;fill-opacity:0.75;\"/>\n   </g>\n   <g id=\"patch_36\">\n    <path clip-path=\"url(#p9ac1b6406c)\" d=\"M 156.261307 224.64 \nL 159.304943 224.64 \nL 159.304943 168.162078 \nL 156.261307 168.162078 \nz\n\" style=\"fill:#8dd3c7;fill-opacity:0.75;\"/>\n   </g>\n   <g id=\"patch_37\">\n    <path clip-path=\"url(#p9ac1b6406c)\" d=\"M 159.304943 224.64 \nL 162.34858 224.64 \nL 162.34858 168.162078 \nL 159.304943 168.162078 \nz\n\" style=\"fill:#8dd3c7;fill-opacity:0.75;\"/>\n   </g>\n   <g id=\"patch_38\">\n    <path clip-path=\"url(#p9ac1b6406c)\" d=\"M 162.34858 224.64 \nL 165.392216 224.64 \nL 165.392216 149.336104 \nL 162.34858 149.336104 \nz\n\" style=\"fill:#8dd3c7;fill-opacity:0.75;\"/>\n   </g>\n   <g id=\"patch_39\">\n    <path clip-path=\"url(#p9ac1b6406c)\" d=\"M 165.392216 224.64 \nL 168.435852 224.64 \nL 168.435852 158.749091 \nL 165.392216 158.749091 \nz\n\" style=\"fill:#8dd3c7;fill-opacity:0.75;\"/>\n   </g>\n   <g id=\"patch_40\">\n    <path clip-path=\"url(#p9ac1b6406c)\" d=\"M 168.435852 224.64 \nL 171.479489 224.64 \nL 171.479489 168.162078 \nL 168.435852 168.162078 \nz\n\" style=\"fill:#8dd3c7;fill-opacity:0.75;\"/>\n   </g>\n   <g id=\"patch_41\">\n    <path clip-path=\"url(#p9ac1b6406c)\" d=\"M 171.479489 224.64 \nL 174.523125 224.64 \nL 174.523125 168.162078 \nL 171.479489 168.162078 \nz\n\" style=\"fill:#8dd3c7;fill-opacity:0.75;\"/>\n   </g>\n   <g id=\"patch_42\">\n    <path clip-path=\"url(#p9ac1b6406c)\" d=\"M 174.523125 224.64 \nL 177.566761 224.64 \nL 177.566761 158.749091 \nL 174.523125 158.749091 \nz\n\" style=\"fill:#8dd3c7;fill-opacity:0.75;\"/>\n   </g>\n   <g id=\"patch_43\">\n    <path clip-path=\"url(#p9ac1b6406c)\" d=\"M 177.566761 224.64 \nL 180.610398 224.64 \nL 180.610398 196.401039 \nL 177.566761 196.401039 \nz\n\" style=\"fill:#8dd3c7;fill-opacity:0.75;\"/>\n   </g>\n   <g id=\"patch_44\">\n    <path clip-path=\"url(#p9ac1b6406c)\" d=\"M 180.610398 224.64 \nL 183.654034 224.64 \nL 183.654034 130.51013 \nL 180.610398 130.51013 \nz\n\" style=\"fill:#8dd3c7;fill-opacity:0.75;\"/>\n   </g>\n   <g id=\"patch_45\">\n    <path clip-path=\"url(#p9ac1b6406c)\" d=\"M 183.654034 224.64 \nL 186.69767 224.64 \nL 186.69767 177.575065 \nL 183.654034 177.575065 \nz\n\" style=\"fill:#8dd3c7;fill-opacity:0.75;\"/>\n   </g>\n   <g id=\"patch_46\">\n    <path clip-path=\"url(#p9ac1b6406c)\" d=\"M 186.69767 224.64 \nL 189.741307 224.64 \nL 189.741307 196.401039 \nL 186.69767 196.401039 \nz\n\" style=\"fill:#8dd3c7;fill-opacity:0.75;\"/>\n   </g>\n   <g id=\"patch_47\">\n    <path clip-path=\"url(#p9ac1b6406c)\" d=\"M 189.741307 224.64 \nL 192.784943 224.64 \nL 192.784943 177.575065 \nL 189.741307 177.575065 \nz\n\" style=\"fill:#8dd3c7;fill-opacity:0.75;\"/>\n   </g>\n   <g id=\"patch_48\">\n    <path clip-path=\"url(#p9ac1b6406c)\" d=\"M 192.784943 224.64 \nL 195.82858 224.64 \nL 195.82858 186.988052 \nL 192.784943 186.988052 \nz\n\" style=\"fill:#8dd3c7;fill-opacity:0.75;\"/>\n   </g>\n   <g id=\"patch_49\">\n    <path clip-path=\"url(#p9ac1b6406c)\" d=\"M 195.82858 224.64 \nL 198.872216 224.64 \nL 198.872216 139.923117 \nL 195.82858 139.923117 \nz\n\" style=\"fill:#8dd3c7;fill-opacity:0.75;\"/>\n   </g>\n   <g id=\"patch_50\">\n    <path clip-path=\"url(#p9ac1b6406c)\" d=\"M 198.872216 224.64 \nL 201.915852 224.64 \nL 201.915852 158.749091 \nL 198.872216 158.749091 \nz\n\" style=\"fill:#8dd3c7;fill-opacity:0.75;\"/>\n   </g>\n   <g id=\"patch_51\">\n    <path clip-path=\"url(#p9ac1b6406c)\" d=\"M 201.915852 224.64 \nL 204.959489 224.64 \nL 204.959489 168.162078 \nL 201.915852 168.162078 \nz\n\" style=\"fill:#8dd3c7;fill-opacity:0.75;\"/>\n   </g>\n   <g id=\"patch_52\">\n    <path clip-path=\"url(#p9ac1b6406c)\" d=\"M 204.959489 224.64 \nL 208.003125 224.64 \nL 208.003125 205.814026 \nL 204.959489 205.814026 \nz\n\" style=\"fill:#8dd3c7;fill-opacity:0.75;\"/>\n   </g>\n   <g id=\"patch_53\">\n    <path clip-path=\"url(#p9ac1b6406c)\" d=\"M 208.003125 224.64 \nL 211.046761 224.64 \nL 211.046761 196.401039 \nL 208.003125 196.401039 \nz\n\" style=\"fill:#8dd3c7;fill-opacity:0.75;\"/>\n   </g>\n   <g id=\"patch_54\">\n    <path clip-path=\"url(#p9ac1b6406c)\" d=\"M 211.046761 224.64 \nL 214.090398 224.64 \nL 214.090398 205.814026 \nL 211.046761 205.814026 \nz\n\" style=\"fill:#8dd3c7;fill-opacity:0.75;\"/>\n   </g>\n   <g id=\"patch_55\">\n    <path clip-path=\"url(#p9ac1b6406c)\" d=\"M 214.090398 224.64 \nL 217.134034 224.64 \nL 217.134034 205.814026 \nL 214.090398 205.814026 \nz\n\" style=\"fill:#8dd3c7;fill-opacity:0.75;\"/>\n   </g>\n   <g id=\"patch_56\">\n    <path clip-path=\"url(#p9ac1b6406c)\" d=\"M 217.134034 224.64 \nL 220.17767 224.64 \nL 220.17767 177.575065 \nL 217.134034 177.575065 \nz\n\" style=\"fill:#8dd3c7;fill-opacity:0.75;\"/>\n   </g>\n   <g id=\"patch_57\">\n    <path clip-path=\"url(#p9ac1b6406c)\" d=\"M 220.17767 224.64 \nL 223.221307 224.64 \nL 223.221307 139.923117 \nL 220.17767 139.923117 \nz\n\" style=\"fill:#8dd3c7;fill-opacity:0.75;\"/>\n   </g>\n   <g id=\"patch_58\">\n    <path clip-path=\"url(#p9ac1b6406c)\" d=\"M 223.221307 224.64 \nL 226.264943 224.64 \nL 226.264943 149.336104 \nL 223.221307 149.336104 \nz\n\" style=\"fill:#8dd3c7;fill-opacity:0.75;\"/>\n   </g>\n   <g id=\"patch_59\">\n    <path clip-path=\"url(#p9ac1b6406c)\" d=\"M 226.264943 224.64 \nL 229.30858 224.64 \nL 229.30858 177.575065 \nL 226.264943 177.575065 \nz\n\" style=\"fill:#8dd3c7;fill-opacity:0.75;\"/>\n   </g>\n   <g id=\"patch_60\">\n    <path clip-path=\"url(#p9ac1b6406c)\" d=\"M 229.30858 224.64 \nL 232.352216 224.64 \nL 232.352216 196.401039 \nL 229.30858 196.401039 \nz\n\" style=\"fill:#8dd3c7;fill-opacity:0.75;\"/>\n   </g>\n   <g id=\"patch_61\">\n    <path clip-path=\"url(#p9ac1b6406c)\" d=\"M 232.352216 224.64 \nL 235.395852 224.64 \nL 235.395852 205.814026 \nL 232.352216 205.814026 \nz\n\" style=\"fill:#8dd3c7;fill-opacity:0.75;\"/>\n   </g>\n   <g id=\"patch_62\">\n    <path clip-path=\"url(#p9ac1b6406c)\" d=\"M 235.395852 224.64 \nL 238.439489 224.64 \nL 238.439489 205.814026 \nL 235.395852 205.814026 \nz\n\" style=\"fill:#8dd3c7;fill-opacity:0.75;\"/>\n   </g>\n   <g id=\"patch_63\">\n    <path clip-path=\"url(#p9ac1b6406c)\" d=\"M 238.439489 224.64 \nL 241.483125 224.64 \nL 241.483125 196.401039 \nL 238.439489 196.401039 \nz\n\" style=\"fill:#8dd3c7;fill-opacity:0.75;\"/>\n   </g>\n   <g id=\"patch_64\">\n    <path clip-path=\"url(#p9ac1b6406c)\" d=\"M 241.483125 224.64 \nL 244.526761 224.64 \nL 244.526761 205.814026 \nL 241.483125 205.814026 \nz\n\" style=\"fill:#8dd3c7;fill-opacity:0.75;\"/>\n   </g>\n   <g id=\"patch_65\">\n    <path clip-path=\"url(#p9ac1b6406c)\" d=\"M 244.526761 224.64 \nL 247.570398 224.64 \nL 247.570398 177.575065 \nL 244.526761 177.575065 \nz\n\" style=\"fill:#8dd3c7;fill-opacity:0.75;\"/>\n   </g>\n   <g id=\"patch_66\">\n    <path clip-path=\"url(#p9ac1b6406c)\" d=\"M 247.570398 224.64 \nL 250.614034 224.64 \nL 250.614034 205.814026 \nL 247.570398 205.814026 \nz\n\" style=\"fill:#8dd3c7;fill-opacity:0.75;\"/>\n   </g>\n   <g id=\"patch_67\">\n    <path clip-path=\"url(#p9ac1b6406c)\" d=\"M 250.614034 224.64 \nL 253.65767 224.64 \nL 253.65767 224.64 \nL 250.614034 224.64 \nz\n\" style=\"fill:#8dd3c7;fill-opacity:0.75;\"/>\n   </g>\n   <g id=\"patch_68\">\n    <path clip-path=\"url(#p9ac1b6406c)\" d=\"M 253.65767 224.64 \nL 256.701307 224.64 \nL 256.701307 215.227013 \nL 253.65767 215.227013 \nz\n\" style=\"fill:#8dd3c7;fill-opacity:0.75;\"/>\n   </g>\n   <g id=\"patch_69\">\n    <path clip-path=\"url(#p9ac1b6406c)\" d=\"M 256.701307 224.64 \nL 259.744943 224.64 \nL 259.744943 168.162078 \nL 256.701307 168.162078 \nz\n\" style=\"fill:#8dd3c7;fill-opacity:0.75;\"/>\n   </g>\n   <g id=\"patch_70\">\n    <path clip-path=\"url(#p9ac1b6406c)\" d=\"M 259.744943 224.64 \nL 262.78858 224.64 \nL 262.78858 186.988052 \nL 259.744943 186.988052 \nz\n\" style=\"fill:#8dd3c7;fill-opacity:0.75;\"/>\n   </g>\n   <g id=\"patch_71\">\n    <path clip-path=\"url(#p9ac1b6406c)\" d=\"M 262.78858 224.64 \nL 265.832216 224.64 \nL 265.832216 205.814026 \nL 262.78858 205.814026 \nz\n\" style=\"fill:#8dd3c7;fill-opacity:0.75;\"/>\n   </g>\n   <g id=\"patch_72\">\n    <path clip-path=\"url(#p9ac1b6406c)\" d=\"M 265.832216 224.64 \nL 268.875852 224.64 \nL 268.875852 215.227013 \nL 265.832216 215.227013 \nz\n\" style=\"fill:#8dd3c7;fill-opacity:0.75;\"/>\n   </g>\n   <g id=\"patch_73\">\n    <path clip-path=\"url(#p9ac1b6406c)\" d=\"M 268.875852 224.64 \nL 271.919489 224.64 \nL 271.919489 149.336104 \nL 268.875852 149.336104 \nz\n\" style=\"fill:#8dd3c7;fill-opacity:0.75;\"/>\n   </g>\n   <g id=\"patch_74\">\n    <path clip-path=\"url(#p9ac1b6406c)\" d=\"M 271.919489 224.64 \nL 274.963125 224.64 \nL 274.963125 177.575065 \nL 271.919489 177.575065 \nz\n\" style=\"fill:#8dd3c7;fill-opacity:0.75;\"/>\n   </g>\n   <g id=\"patch_75\">\n    <path clip-path=\"url(#p9ac1b6406c)\" d=\"M 274.963125 224.64 \nL 278.006761 224.64 \nL 278.006761 205.814026 \nL 274.963125 205.814026 \nz\n\" style=\"fill:#8dd3c7;fill-opacity:0.75;\"/>\n   </g>\n   <g id=\"patch_76\">\n    <path clip-path=\"url(#p9ac1b6406c)\" d=\"M 278.006761 224.64 \nL 281.050398 224.64 \nL 281.050398 186.988052 \nL 278.006761 186.988052 \nz\n\" style=\"fill:#8dd3c7;fill-opacity:0.75;\"/>\n   </g>\n   <g id=\"patch_77\">\n    <path clip-path=\"url(#p9ac1b6406c)\" d=\"M 281.050398 224.64 \nL 284.094034 224.64 \nL 284.094034 186.988052 \nL 281.050398 186.988052 \nz\n\" style=\"fill:#8dd3c7;fill-opacity:0.75;\"/>\n   </g>\n   <g id=\"patch_78\">\n    <path clip-path=\"url(#p9ac1b6406c)\" d=\"M 284.094034 224.64 \nL 287.13767 224.64 \nL 287.13767 196.401039 \nL 284.094034 196.401039 \nz\n\" style=\"fill:#8dd3c7;fill-opacity:0.75;\"/>\n   </g>\n   <g id=\"patch_79\">\n    <path clip-path=\"url(#p9ac1b6406c)\" d=\"M 287.13767 224.64 \nL 290.181307 224.64 \nL 290.181307 186.988052 \nL 287.13767 186.988052 \nz\n\" style=\"fill:#8dd3c7;fill-opacity:0.75;\"/>\n   </g>\n   <g id=\"patch_80\">\n    <path clip-path=\"url(#p9ac1b6406c)\" d=\"M 290.181307 224.64 \nL 293.224943 224.64 \nL 293.224943 205.814026 \nL 290.181307 205.814026 \nz\n\" style=\"fill:#8dd3c7;fill-opacity:0.75;\"/>\n   </g>\n   <g id=\"patch_81\">\n    <path clip-path=\"url(#p9ac1b6406c)\" d=\"M 293.224943 224.64 \nL 296.26858 224.64 \nL 296.26858 215.227013 \nL 293.224943 215.227013 \nz\n\" style=\"fill:#8dd3c7;fill-opacity:0.75;\"/>\n   </g>\n   <g id=\"patch_82\">\n    <path clip-path=\"url(#p9ac1b6406c)\" d=\"M 296.26858 224.64 \nL 299.312216 224.64 \nL 299.312216 177.575065 \nL 296.26858 177.575065 \nz\n\" style=\"fill:#8dd3c7;fill-opacity:0.75;\"/>\n   </g>\n   <g id=\"patch_83\">\n    <path clip-path=\"url(#p9ac1b6406c)\" d=\"M 299.312216 224.64 \nL 302.355852 224.64 \nL 302.355852 186.988052 \nL 299.312216 186.988052 \nz\n\" style=\"fill:#8dd3c7;fill-opacity:0.75;\"/>\n   </g>\n   <g id=\"patch_84\">\n    <path clip-path=\"url(#p9ac1b6406c)\" d=\"M 302.355852 224.64 \nL 305.399489 224.64 \nL 305.399489 177.575065 \nL 302.355852 177.575065 \nz\n\" style=\"fill:#8dd3c7;fill-opacity:0.75;\"/>\n   </g>\n   <g id=\"patch_85\">\n    <path clip-path=\"url(#p9ac1b6406c)\" d=\"M 305.399489 224.64 \nL 308.443125 224.64 \nL 308.443125 205.814026 \nL 305.399489 205.814026 \nz\n\" style=\"fill:#8dd3c7;fill-opacity:0.75;\"/>\n   </g>\n   <g id=\"patch_86\">\n    <path clip-path=\"url(#p9ac1b6406c)\" d=\"M 308.443125 224.64 \nL 311.486761 224.64 \nL 311.486761 215.227013 \nL 308.443125 215.227013 \nz\n\" style=\"fill:#8dd3c7;fill-opacity:0.75;\"/>\n   </g>\n   <g id=\"patch_87\">\n    <path clip-path=\"url(#p9ac1b6406c)\" d=\"M 311.486761 224.64 \nL 314.530398 224.64 \nL 314.530398 205.814026 \nL 311.486761 205.814026 \nz\n\" style=\"fill:#8dd3c7;fill-opacity:0.75;\"/>\n   </g>\n   <g id=\"patch_88\">\n    <path clip-path=\"url(#p9ac1b6406c)\" d=\"M 314.530398 224.64 \nL 317.574034 224.64 \nL 317.574034 215.227013 \nL 314.530398 215.227013 \nz\n\" style=\"fill:#8dd3c7;fill-opacity:0.75;\"/>\n   </g>\n   <g id=\"patch_89\">\n    <path clip-path=\"url(#p9ac1b6406c)\" d=\"M 317.574034 224.64 \nL 320.61767 224.64 \nL 320.61767 205.814026 \nL 317.574034 205.814026 \nz\n\" style=\"fill:#8dd3c7;fill-opacity:0.75;\"/>\n   </g>\n   <g id=\"patch_90\">\n    <path clip-path=\"url(#p9ac1b6406c)\" d=\"M 320.61767 224.64 \nL 323.661307 224.64 \nL 323.661307 196.401039 \nL 320.61767 196.401039 \nz\n\" style=\"fill:#8dd3c7;fill-opacity:0.75;\"/>\n   </g>\n   <g id=\"patch_91\">\n    <path clip-path=\"url(#p9ac1b6406c)\" d=\"M 323.661307 224.64 \nL 326.704943 224.64 \nL 326.704943 215.227013 \nL 323.661307 215.227013 \nz\n\" style=\"fill:#8dd3c7;fill-opacity:0.75;\"/>\n   </g>\n   <g id=\"patch_92\">\n    <path clip-path=\"url(#p9ac1b6406c)\" d=\"M 326.704943 224.64 \nL 329.74858 224.64 \nL 329.74858 205.814026 \nL 326.704943 205.814026 \nz\n\" style=\"fill:#8dd3c7;fill-opacity:0.75;\"/>\n   </g>\n   <g id=\"patch_93\">\n    <path clip-path=\"url(#p9ac1b6406c)\" d=\"M 329.74858 224.64 \nL 332.792216 224.64 \nL 332.792216 196.401039 \nL 329.74858 196.401039 \nz\n\" style=\"fill:#8dd3c7;fill-opacity:0.75;\"/>\n   </g>\n   <g id=\"patch_94\">\n    <path clip-path=\"url(#p9ac1b6406c)\" d=\"M 332.792216 224.64 \nL 335.835852 224.64 \nL 335.835852 196.401039 \nL 332.792216 196.401039 \nz\n\" style=\"fill:#8dd3c7;fill-opacity:0.75;\"/>\n   </g>\n   <g id=\"patch_95\">\n    <path clip-path=\"url(#p9ac1b6406c)\" d=\"M 335.835852 224.64 \nL 338.879489 224.64 \nL 338.879489 224.64 \nL 335.835852 224.64 \nz\n\" style=\"fill:#8dd3c7;fill-opacity:0.75;\"/>\n   </g>\n   <g id=\"patch_96\">\n    <path clip-path=\"url(#p9ac1b6406c)\" d=\"M 338.879489 224.64 \nL 341.923125 224.64 \nL 341.923125 196.401039 \nL 338.879489 196.401039 \nz\n\" style=\"fill:#8dd3c7;fill-opacity:0.75;\"/>\n   </g>\n   <g id=\"patch_97\">\n    <path clip-path=\"url(#p9ac1b6406c)\" d=\"M 341.923125 224.64 \nL 344.966761 224.64 \nL 344.966761 196.401039 \nL 341.923125 196.401039 \nz\n\" style=\"fill:#8dd3c7;fill-opacity:0.75;\"/>\n   </g>\n   <g id=\"patch_98\">\n    <path clip-path=\"url(#p9ac1b6406c)\" d=\"M 344.966761 224.64 \nL 348.010398 224.64 \nL 348.010398 205.814026 \nL 344.966761 205.814026 \nz\n\" style=\"fill:#8dd3c7;fill-opacity:0.75;\"/>\n   </g>\n   <g id=\"patch_99\">\n    <path clip-path=\"url(#p9ac1b6406c)\" d=\"M 348.010398 224.64 \nL 351.054034 224.64 \nL 351.054034 186.988052 \nL 348.010398 186.988052 \nz\n\" style=\"fill:#8dd3c7;fill-opacity:0.75;\"/>\n   </g>\n   <g id=\"patch_100\">\n    <path clip-path=\"url(#p9ac1b6406c)\" d=\"M 351.054034 224.64 \nL 354.09767 224.64 \nL 354.09767 215.227013 \nL 351.054034 215.227013 \nz\n\" style=\"fill:#8dd3c7;fill-opacity:0.75;\"/>\n   </g>\n   <g id=\"patch_101\">\n    <path clip-path=\"url(#p9ac1b6406c)\" d=\"M 354.09767 224.64 \nL 357.141307 224.64 \nL 357.141307 186.988052 \nL 354.09767 186.988052 \nz\n\" style=\"fill:#8dd3c7;fill-opacity:0.75;\"/>\n   </g>\n   <g id=\"patch_102\">\n    <path clip-path=\"url(#p9ac1b6406c)\" d=\"M 357.141307 224.64 \nL 360.184943 224.64 \nL 360.184943 205.814026 \nL 357.141307 205.814026 \nz\n\" style=\"fill:#8dd3c7;fill-opacity:0.75;\"/>\n   </g>\n   <g id=\"matplotlib.axis_1\">\n    <g id=\"xtick_1\">\n     <g id=\"line2d_1\">\n      <defs>\n       <path d=\"M 0 0 \nL 0 3.5 \n\" id=\"m1796148044\" style=\"stroke:#ffffff;stroke-width:0.8;\"/>\n      </defs>\n      <g>\n       <use style=\"fill:#ffffff;stroke:#ffffff;stroke-width:0.8;\" x=\"48.786708\" xlink:href=\"#m1796148044\" y=\"224.64\"/>\n      </g>\n     </g>\n     <g id=\"text_1\">\n      <!-- 0 -->\n      <g style=\"fill:#ffffff;\" transform=\"translate(45.605458 239.238437)scale(0.1 -0.1)\">\n       <defs>\n        <path d=\"M 31.78125 66.40625 \nQ 24.171875 66.40625 20.328125 58.90625 \nQ 16.5 51.421875 16.5 36.375 \nQ 16.5 21.390625 20.328125 13.890625 \nQ 24.171875 6.390625 31.78125 6.390625 \nQ 39.453125 6.390625 43.28125 13.890625 \nQ 47.125 21.390625 47.125 36.375 \nQ 47.125 51.421875 43.28125 58.90625 \nQ 39.453125 66.40625 31.78125 66.40625 \nz\nM 31.78125 74.21875 \nQ 44.046875 74.21875 50.515625 64.515625 \nQ 56.984375 54.828125 56.984375 36.375 \nQ 56.984375 17.96875 50.515625 8.265625 \nQ 44.046875 -1.421875 31.78125 -1.421875 \nQ 19.53125 -1.421875 13.0625 8.265625 \nQ 6.59375 17.96875 6.59375 36.375 \nQ 6.59375 54.828125 13.0625 64.515625 \nQ 19.53125 74.21875 31.78125 74.21875 \nz\n\" id=\"DejaVuSans-48\"/>\n       </defs>\n       <use xlink:href=\"#DejaVuSans-48\"/>\n      </g>\n     </g>\n    </g>\n    <g id=\"xtick_2\">\n     <g id=\"line2d_2\">\n      <g>\n       <use style=\"fill:#ffffff;stroke:#ffffff;stroke-width:0.8;\" x=\"87.867812\" xlink:href=\"#m1796148044\" y=\"224.64\"/>\n      </g>\n     </g>\n     <g id=\"text_2\">\n      <!-- 250 -->\n      <g style=\"fill:#ffffff;\" transform=\"translate(78.324062 239.238437)scale(0.1 -0.1)\">\n       <defs>\n        <path d=\"M 19.1875 8.296875 \nL 53.609375 8.296875 \nL 53.609375 0 \nL 7.328125 0 \nL 7.328125 8.296875 \nQ 12.9375 14.109375 22.625 23.890625 \nQ 32.328125 33.6875 34.8125 36.53125 \nQ 39.546875 41.84375 41.421875 45.53125 \nQ 43.3125 49.21875 43.3125 52.78125 \nQ 43.3125 58.59375 39.234375 62.25 \nQ 35.15625 65.921875 28.609375 65.921875 \nQ 23.96875 65.921875 18.8125 64.3125 \nQ 13.671875 62.703125 7.8125 59.421875 \nL 7.8125 69.390625 \nQ 13.765625 71.78125 18.9375 73 \nQ 24.125 74.21875 28.421875 74.21875 \nQ 39.75 74.21875 46.484375 68.546875 \nQ 53.21875 62.890625 53.21875 53.421875 \nQ 53.21875 48.921875 51.53125 44.890625 \nQ 49.859375 40.875 45.40625 35.40625 \nQ 44.1875 33.984375 37.640625 27.21875 \nQ 31.109375 20.453125 19.1875 8.296875 \nz\n\" id=\"DejaVuSans-50\"/>\n        <path d=\"M 10.796875 72.90625 \nL 49.515625 72.90625 \nL 49.515625 64.59375 \nL 19.828125 64.59375 \nL 19.828125 46.734375 \nQ 21.96875 47.46875 24.109375 47.828125 \nQ 26.265625 48.1875 28.421875 48.1875 \nQ 40.625 48.1875 47.75 41.5 \nQ 54.890625 34.8125 54.890625 23.390625 \nQ 54.890625 11.625 47.5625 5.09375 \nQ 40.234375 -1.421875 26.90625 -1.421875 \nQ 22.3125 -1.421875 17.546875 -0.640625 \nQ 12.796875 0.140625 7.71875 1.703125 \nL 7.71875 11.625 \nQ 12.109375 9.234375 16.796875 8.0625 \nQ 21.484375 6.890625 26.703125 6.890625 \nQ 35.15625 6.890625 40.078125 11.328125 \nQ 45.015625 15.765625 45.015625 23.390625 \nQ 45.015625 31 40.078125 35.4375 \nQ 35.15625 39.890625 26.703125 39.890625 \nQ 22.75 39.890625 18.8125 39.015625 \nQ 14.890625 38.140625 10.796875 36.28125 \nz\n\" id=\"DejaVuSans-53\"/>\n       </defs>\n       <use xlink:href=\"#DejaVuSans-50\"/>\n       <use x=\"63.623047\" xlink:href=\"#DejaVuSans-53\"/>\n       <use x=\"127.246094\" xlink:href=\"#DejaVuSans-48\"/>\n      </g>\n     </g>\n    </g>\n    <g id=\"xtick_3\">\n     <g id=\"line2d_3\">\n      <g>\n       <use style=\"fill:#ffffff;stroke:#ffffff;stroke-width:0.8;\" x=\"126.948916\" xlink:href=\"#m1796148044\" y=\"224.64\"/>\n      </g>\n     </g>\n     <g id=\"text_3\">\n      <!-- 500 -->\n      <g style=\"fill:#ffffff;\" transform=\"translate(117.405166 239.238437)scale(0.1 -0.1)\">\n       <use xlink:href=\"#DejaVuSans-53\"/>\n       <use x=\"63.623047\" xlink:href=\"#DejaVuSans-48\"/>\n       <use x=\"127.246094\" xlink:href=\"#DejaVuSans-48\"/>\n      </g>\n     </g>\n    </g>\n    <g id=\"xtick_4\">\n     <g id=\"line2d_4\">\n      <g>\n       <use style=\"fill:#ffffff;stroke:#ffffff;stroke-width:0.8;\" x=\"166.03002\" xlink:href=\"#m1796148044\" y=\"224.64\"/>\n      </g>\n     </g>\n     <g id=\"text_4\">\n      <!-- 750 -->\n      <g style=\"fill:#ffffff;\" transform=\"translate(156.48627 239.238437)scale(0.1 -0.1)\">\n       <defs>\n        <path d=\"M 8.203125 72.90625 \nL 55.078125 72.90625 \nL 55.078125 68.703125 \nL 28.609375 0 \nL 18.3125 0 \nL 43.21875 64.59375 \nL 8.203125 64.59375 \nz\n\" id=\"DejaVuSans-55\"/>\n       </defs>\n       <use xlink:href=\"#DejaVuSans-55\"/>\n       <use x=\"63.623047\" xlink:href=\"#DejaVuSans-53\"/>\n       <use x=\"127.246094\" xlink:href=\"#DejaVuSans-48\"/>\n      </g>\n     </g>\n    </g>\n    <g id=\"xtick_5\">\n     <g id=\"line2d_5\">\n      <g>\n       <use style=\"fill:#ffffff;stroke:#ffffff;stroke-width:0.8;\" x=\"205.111123\" xlink:href=\"#m1796148044\" y=\"224.64\"/>\n      </g>\n     </g>\n     <g id=\"text_5\">\n      <!-- 1000 -->\n      <g style=\"fill:#ffffff;\" transform=\"translate(192.386123 239.238437)scale(0.1 -0.1)\">\n       <defs>\n        <path d=\"M 12.40625 8.296875 \nL 28.515625 8.296875 \nL 28.515625 63.921875 \nL 10.984375 60.40625 \nL 10.984375 69.390625 \nL 28.421875 72.90625 \nL 38.28125 72.90625 \nL 38.28125 8.296875 \nL 54.390625 8.296875 \nL 54.390625 0 \nL 12.40625 0 \nz\n\" id=\"DejaVuSans-49\"/>\n       </defs>\n       <use xlink:href=\"#DejaVuSans-49\"/>\n       <use x=\"63.623047\" xlink:href=\"#DejaVuSans-48\"/>\n       <use x=\"127.246094\" xlink:href=\"#DejaVuSans-48\"/>\n       <use x=\"190.869141\" xlink:href=\"#DejaVuSans-48\"/>\n      </g>\n     </g>\n    </g>\n    <g id=\"xtick_6\">\n     <g id=\"line2d_6\">\n      <g>\n       <use style=\"fill:#ffffff;stroke:#ffffff;stroke-width:0.8;\" x=\"244.192227\" xlink:href=\"#m1796148044\" y=\"224.64\"/>\n      </g>\n     </g>\n     <g id=\"text_6\">\n      <!-- 1250 -->\n      <g style=\"fill:#ffffff;\" transform=\"translate(231.467227 239.238437)scale(0.1 -0.1)\">\n       <use xlink:href=\"#DejaVuSans-49\"/>\n       <use x=\"63.623047\" xlink:href=\"#DejaVuSans-50\"/>\n       <use x=\"127.246094\" xlink:href=\"#DejaVuSans-53\"/>\n       <use x=\"190.869141\" xlink:href=\"#DejaVuSans-48\"/>\n      </g>\n     </g>\n    </g>\n    <g id=\"xtick_7\">\n     <g id=\"line2d_7\">\n      <g>\n       <use style=\"fill:#ffffff;stroke:#ffffff;stroke-width:0.8;\" x=\"283.273331\" xlink:href=\"#m1796148044\" y=\"224.64\"/>\n      </g>\n     </g>\n     <g id=\"text_7\">\n      <!-- 1500 -->\n      <g style=\"fill:#ffffff;\" transform=\"translate(270.548331 239.238437)scale(0.1 -0.1)\">\n       <use xlink:href=\"#DejaVuSans-49\"/>\n       <use x=\"63.623047\" xlink:href=\"#DejaVuSans-53\"/>\n       <use x=\"127.246094\" xlink:href=\"#DejaVuSans-48\"/>\n       <use x=\"190.869141\" xlink:href=\"#DejaVuSans-48\"/>\n      </g>\n     </g>\n    </g>\n    <g id=\"xtick_8\">\n     <g id=\"line2d_8\">\n      <g>\n       <use style=\"fill:#ffffff;stroke:#ffffff;stroke-width:0.8;\" x=\"322.354435\" xlink:href=\"#m1796148044\" y=\"224.64\"/>\n      </g>\n     </g>\n     <g id=\"text_8\">\n      <!-- 1750 -->\n      <g style=\"fill:#ffffff;\" transform=\"translate(309.629435 239.238437)scale(0.1 -0.1)\">\n       <use xlink:href=\"#DejaVuSans-49\"/>\n       <use x=\"63.623047\" xlink:href=\"#DejaVuSans-55\"/>\n       <use x=\"127.246094\" xlink:href=\"#DejaVuSans-53\"/>\n       <use x=\"190.869141\" xlink:href=\"#DejaVuSans-48\"/>\n      </g>\n     </g>\n    </g>\n    <g id=\"xtick_9\">\n     <g id=\"line2d_9\">\n      <g>\n       <use style=\"fill:#ffffff;stroke:#ffffff;stroke-width:0.8;\" x=\"361.435539\" xlink:href=\"#m1796148044\" y=\"224.64\"/>\n      </g>\n     </g>\n     <g id=\"text_9\">\n      <!-- 2000 -->\n      <g style=\"fill:#ffffff;\" transform=\"translate(348.710539 239.238437)scale(0.1 -0.1)\">\n       <use xlink:href=\"#DejaVuSans-50\"/>\n       <use x=\"63.623047\" xlink:href=\"#DejaVuSans-48\"/>\n       <use x=\"127.246094\" xlink:href=\"#DejaVuSans-48\"/>\n       <use x=\"190.869141\" xlink:href=\"#DejaVuSans-48\"/>\n      </g>\n     </g>\n    </g>\n    <g id=\"text_10\">\n     <!-- Number of Reactions -->\n     <g style=\"fill:#ffffff;\" transform=\"translate(155.598437 252.916562)scale(0.1 -0.1)\">\n      <defs>\n       <path d=\"M 9.8125 72.90625 \nL 23.09375 72.90625 \nL 55.421875 11.921875 \nL 55.421875 72.90625 \nL 64.984375 72.90625 \nL 64.984375 0 \nL 51.703125 0 \nL 19.390625 60.984375 \nL 19.390625 0 \nL 9.8125 0 \nz\n\" id=\"DejaVuSans-78\"/>\n       <path d=\"M 8.5 21.578125 \nL 8.5 54.6875 \nL 17.484375 54.6875 \nL 17.484375 21.921875 \nQ 17.484375 14.15625 20.5 10.265625 \nQ 23.53125 6.390625 29.59375 6.390625 \nQ 36.859375 6.390625 41.078125 11.03125 \nQ 45.3125 15.671875 45.3125 23.6875 \nL 45.3125 54.6875 \nL 54.296875 54.6875 \nL 54.296875 0 \nL 45.3125 0 \nL 45.3125 8.40625 \nQ 42.046875 3.421875 37.71875 1 \nQ 33.40625 -1.421875 27.6875 -1.421875 \nQ 18.265625 -1.421875 13.375 4.4375 \nQ 8.5 10.296875 8.5 21.578125 \nz\nM 31.109375 56 \nz\n\" id=\"DejaVuSans-117\"/>\n       <path d=\"M 52 44.1875 \nQ 55.375 50.25 60.0625 53.125 \nQ 64.75 56 71.09375 56 \nQ 79.640625 56 84.28125 50.015625 \nQ 88.921875 44.046875 88.921875 33.015625 \nL 88.921875 0 \nL 79.890625 0 \nL 79.890625 32.71875 \nQ 79.890625 40.578125 77.09375 44.375 \nQ 74.3125 48.1875 68.609375 48.1875 \nQ 61.625 48.1875 57.5625 43.546875 \nQ 53.515625 38.921875 53.515625 30.90625 \nL 53.515625 0 \nL 44.484375 0 \nL 44.484375 32.71875 \nQ 44.484375 40.625 41.703125 44.40625 \nQ 38.921875 48.1875 33.109375 48.1875 \nQ 26.21875 48.1875 22.15625 43.53125 \nQ 18.109375 38.875 18.109375 30.90625 \nL 18.109375 0 \nL 9.078125 0 \nL 9.078125 54.6875 \nL 18.109375 54.6875 \nL 18.109375 46.1875 \nQ 21.1875 51.21875 25.484375 53.609375 \nQ 29.78125 56 35.6875 56 \nQ 41.65625 56 45.828125 52.96875 \nQ 50 49.953125 52 44.1875 \nz\n\" id=\"DejaVuSans-109\"/>\n       <path d=\"M 48.6875 27.296875 \nQ 48.6875 37.203125 44.609375 42.84375 \nQ 40.53125 48.484375 33.40625 48.484375 \nQ 26.265625 48.484375 22.1875 42.84375 \nQ 18.109375 37.203125 18.109375 27.296875 \nQ 18.109375 17.390625 22.1875 11.75 \nQ 26.265625 6.109375 33.40625 6.109375 \nQ 40.53125 6.109375 44.609375 11.75 \nQ 48.6875 17.390625 48.6875 27.296875 \nz\nM 18.109375 46.390625 \nQ 20.953125 51.265625 25.265625 53.625 \nQ 29.59375 56 35.59375 56 \nQ 45.5625 56 51.78125 48.09375 \nQ 58.015625 40.1875 58.015625 27.296875 \nQ 58.015625 14.40625 51.78125 6.484375 \nQ 45.5625 -1.421875 35.59375 -1.421875 \nQ 29.59375 -1.421875 25.265625 0.953125 \nQ 20.953125 3.328125 18.109375 8.203125 \nL 18.109375 0 \nL 9.078125 0 \nL 9.078125 75.984375 \nL 18.109375 75.984375 \nz\n\" id=\"DejaVuSans-98\"/>\n       <path d=\"M 56.203125 29.59375 \nL 56.203125 25.203125 \nL 14.890625 25.203125 \nQ 15.484375 15.921875 20.484375 11.0625 \nQ 25.484375 6.203125 34.421875 6.203125 \nQ 39.59375 6.203125 44.453125 7.46875 \nQ 49.3125 8.734375 54.109375 11.28125 \nL 54.109375 2.78125 \nQ 49.265625 0.734375 44.1875 -0.34375 \nQ 39.109375 -1.421875 33.890625 -1.421875 \nQ 20.796875 -1.421875 13.15625 6.1875 \nQ 5.515625 13.8125 5.515625 26.8125 \nQ 5.515625 40.234375 12.765625 48.109375 \nQ 20.015625 56 32.328125 56 \nQ 43.359375 56 49.78125 48.890625 \nQ 56.203125 41.796875 56.203125 29.59375 \nz\nM 47.21875 32.234375 \nQ 47.125 39.59375 43.09375 43.984375 \nQ 39.0625 48.390625 32.421875 48.390625 \nQ 24.90625 48.390625 20.390625 44.140625 \nQ 15.875 39.890625 15.1875 32.171875 \nz\n\" id=\"DejaVuSans-101\"/>\n       <path d=\"M 41.109375 46.296875 \nQ 39.59375 47.171875 37.8125 47.578125 \nQ 36.03125 48 33.890625 48 \nQ 26.265625 48 22.1875 43.046875 \nQ 18.109375 38.09375 18.109375 28.8125 \nL 18.109375 0 \nL 9.078125 0 \nL 9.078125 54.6875 \nL 18.109375 54.6875 \nL 18.109375 46.1875 \nQ 20.953125 51.171875 25.484375 53.578125 \nQ 30.03125 56 36.53125 56 \nQ 37.453125 56 38.578125 55.875 \nQ 39.703125 55.765625 41.0625 55.515625 \nz\n\" id=\"DejaVuSans-114\"/>\n       <path id=\"DejaVuSans-32\"/>\n       <path d=\"M 30.609375 48.390625 \nQ 23.390625 48.390625 19.1875 42.75 \nQ 14.984375 37.109375 14.984375 27.296875 \nQ 14.984375 17.484375 19.15625 11.84375 \nQ 23.34375 6.203125 30.609375 6.203125 \nQ 37.796875 6.203125 41.984375 11.859375 \nQ 46.1875 17.53125 46.1875 27.296875 \nQ 46.1875 37.015625 41.984375 42.703125 \nQ 37.796875 48.390625 30.609375 48.390625 \nz\nM 30.609375 56 \nQ 42.328125 56 49.015625 48.375 \nQ 55.71875 40.765625 55.71875 27.296875 \nQ 55.71875 13.875 49.015625 6.21875 \nQ 42.328125 -1.421875 30.609375 -1.421875 \nQ 18.84375 -1.421875 12.171875 6.21875 \nQ 5.515625 13.875 5.515625 27.296875 \nQ 5.515625 40.765625 12.171875 48.375 \nQ 18.84375 56 30.609375 56 \nz\n\" id=\"DejaVuSans-111\"/>\n       <path d=\"M 37.109375 75.984375 \nL 37.109375 68.5 \nL 28.515625 68.5 \nQ 23.6875 68.5 21.796875 66.546875 \nQ 19.921875 64.59375 19.921875 59.515625 \nL 19.921875 54.6875 \nL 34.71875 54.6875 \nL 34.71875 47.703125 \nL 19.921875 47.703125 \nL 19.921875 0 \nL 10.890625 0 \nL 10.890625 47.703125 \nL 2.296875 47.703125 \nL 2.296875 54.6875 \nL 10.890625 54.6875 \nL 10.890625 58.5 \nQ 10.890625 67.625 15.140625 71.796875 \nQ 19.390625 75.984375 28.609375 75.984375 \nz\n\" id=\"DejaVuSans-102\"/>\n       <path d=\"M 44.390625 34.1875 \nQ 47.5625 33.109375 50.5625 29.59375 \nQ 53.5625 26.078125 56.59375 19.921875 \nL 66.609375 0 \nL 56 0 \nL 46.6875 18.703125 \nQ 43.0625 26.03125 39.671875 28.421875 \nQ 36.28125 30.8125 30.421875 30.8125 \nL 19.671875 30.8125 \nL 19.671875 0 \nL 9.8125 0 \nL 9.8125 72.90625 \nL 32.078125 72.90625 \nQ 44.578125 72.90625 50.734375 67.671875 \nQ 56.890625 62.453125 56.890625 51.90625 \nQ 56.890625 45.015625 53.6875 40.46875 \nQ 50.484375 35.9375 44.390625 34.1875 \nz\nM 19.671875 64.796875 \nL 19.671875 38.921875 \nL 32.078125 38.921875 \nQ 39.203125 38.921875 42.84375 42.21875 \nQ 46.484375 45.515625 46.484375 51.90625 \nQ 46.484375 58.296875 42.84375 61.546875 \nQ 39.203125 64.796875 32.078125 64.796875 \nz\n\" id=\"DejaVuSans-82\"/>\n       <path d=\"M 34.28125 27.484375 \nQ 23.390625 27.484375 19.1875 25 \nQ 14.984375 22.515625 14.984375 16.5 \nQ 14.984375 11.71875 18.140625 8.90625 \nQ 21.296875 6.109375 26.703125 6.109375 \nQ 34.1875 6.109375 38.703125 11.40625 \nQ 43.21875 16.703125 43.21875 25.484375 \nL 43.21875 27.484375 \nz\nM 52.203125 31.203125 \nL 52.203125 0 \nL 43.21875 0 \nL 43.21875 8.296875 \nQ 40.140625 3.328125 35.546875 0.953125 \nQ 30.953125 -1.421875 24.3125 -1.421875 \nQ 15.921875 -1.421875 10.953125 3.296875 \nQ 6 8.015625 6 15.921875 \nQ 6 25.140625 12.171875 29.828125 \nQ 18.359375 34.515625 30.609375 34.515625 \nL 43.21875 34.515625 \nL 43.21875 35.40625 \nQ 43.21875 41.609375 39.140625 45 \nQ 35.0625 48.390625 27.6875 48.390625 \nQ 23 48.390625 18.546875 47.265625 \nQ 14.109375 46.140625 10.015625 43.890625 \nL 10.015625 52.203125 \nQ 14.9375 54.109375 19.578125 55.046875 \nQ 24.21875 56 28.609375 56 \nQ 40.484375 56 46.34375 49.84375 \nQ 52.203125 43.703125 52.203125 31.203125 \nz\n\" id=\"DejaVuSans-97\"/>\n       <path d=\"M 48.78125 52.59375 \nL 48.78125 44.1875 \nQ 44.96875 46.296875 41.140625 47.34375 \nQ 37.3125 48.390625 33.40625 48.390625 \nQ 24.65625 48.390625 19.8125 42.84375 \nQ 14.984375 37.3125 14.984375 27.296875 \nQ 14.984375 17.28125 19.8125 11.734375 \nQ 24.65625 6.203125 33.40625 6.203125 \nQ 37.3125 6.203125 41.140625 7.25 \nQ 44.96875 8.296875 48.78125 10.40625 \nL 48.78125 2.09375 \nQ 45.015625 0.34375 40.984375 -0.53125 \nQ 36.96875 -1.421875 32.421875 -1.421875 \nQ 20.0625 -1.421875 12.78125 6.34375 \nQ 5.515625 14.109375 5.515625 27.296875 \nQ 5.515625 40.671875 12.859375 48.328125 \nQ 20.21875 56 33.015625 56 \nQ 37.15625 56 41.109375 55.140625 \nQ 45.0625 54.296875 48.78125 52.59375 \nz\n\" id=\"DejaVuSans-99\"/>\n       <path d=\"M 18.3125 70.21875 \nL 18.3125 54.6875 \nL 36.8125 54.6875 \nL 36.8125 47.703125 \nL 18.3125 47.703125 \nL 18.3125 18.015625 \nQ 18.3125 11.328125 20.140625 9.421875 \nQ 21.96875 7.515625 27.59375 7.515625 \nL 36.8125 7.515625 \nL 36.8125 0 \nL 27.59375 0 \nQ 17.1875 0 13.234375 3.875 \nQ 9.28125 7.765625 9.28125 18.015625 \nL 9.28125 47.703125 \nL 2.6875 47.703125 \nL 2.6875 54.6875 \nL 9.28125 54.6875 \nL 9.28125 70.21875 \nz\n\" id=\"DejaVuSans-116\"/>\n       <path d=\"M 9.421875 54.6875 \nL 18.40625 54.6875 \nL 18.40625 0 \nL 9.421875 0 \nz\nM 9.421875 75.984375 \nL 18.40625 75.984375 \nL 18.40625 64.59375 \nL 9.421875 64.59375 \nz\n\" id=\"DejaVuSans-105\"/>\n       <path d=\"M 54.890625 33.015625 \nL 54.890625 0 \nL 45.90625 0 \nL 45.90625 32.71875 \nQ 45.90625 40.484375 42.875 44.328125 \nQ 39.84375 48.1875 33.796875 48.1875 \nQ 26.515625 48.1875 22.3125 43.546875 \nQ 18.109375 38.921875 18.109375 30.90625 \nL 18.109375 0 \nL 9.078125 0 \nL 9.078125 54.6875 \nL 18.109375 54.6875 \nL 18.109375 46.1875 \nQ 21.34375 51.125 25.703125 53.5625 \nQ 30.078125 56 35.796875 56 \nQ 45.21875 56 50.046875 50.171875 \nQ 54.890625 44.34375 54.890625 33.015625 \nz\n\" id=\"DejaVuSans-110\"/>\n       <path d=\"M 44.28125 53.078125 \nL 44.28125 44.578125 \nQ 40.484375 46.53125 36.375 47.5 \nQ 32.28125 48.484375 27.875 48.484375 \nQ 21.1875 48.484375 17.84375 46.4375 \nQ 14.5 44.390625 14.5 40.28125 \nQ 14.5 37.15625 16.890625 35.375 \nQ 19.28125 33.59375 26.515625 31.984375 \nL 29.59375 31.296875 \nQ 39.15625 29.25 43.1875 25.515625 \nQ 47.21875 21.78125 47.21875 15.09375 \nQ 47.21875 7.46875 41.1875 3.015625 \nQ 35.15625 -1.421875 24.609375 -1.421875 \nQ 20.21875 -1.421875 15.453125 -0.5625 \nQ 10.6875 0.296875 5.421875 2 \nL 5.421875 11.28125 \nQ 10.40625 8.6875 15.234375 7.390625 \nQ 20.0625 6.109375 24.8125 6.109375 \nQ 31.15625 6.109375 34.5625 8.28125 \nQ 37.984375 10.453125 37.984375 14.40625 \nQ 37.984375 18.0625 35.515625 20.015625 \nQ 33.0625 21.96875 24.703125 23.78125 \nL 21.578125 24.515625 \nQ 13.234375 26.265625 9.515625 29.90625 \nQ 5.8125 33.546875 5.8125 39.890625 \nQ 5.8125 47.609375 11.28125 51.796875 \nQ 16.75 56 26.8125 56 \nQ 31.78125 56 36.171875 55.265625 \nQ 40.578125 54.546875 44.28125 53.078125 \nz\n\" id=\"DejaVuSans-115\"/>\n      </defs>\n      <use xlink:href=\"#DejaVuSans-78\"/>\n      <use x=\"74.804688\" xlink:href=\"#DejaVuSans-117\"/>\n      <use x=\"138.183594\" xlink:href=\"#DejaVuSans-109\"/>\n      <use x=\"235.595703\" xlink:href=\"#DejaVuSans-98\"/>\n      <use x=\"299.072266\" xlink:href=\"#DejaVuSans-101\"/>\n      <use x=\"360.595703\" xlink:href=\"#DejaVuSans-114\"/>\n      <use x=\"401.708984\" xlink:href=\"#DejaVuSans-32\"/>\n      <use x=\"433.496094\" xlink:href=\"#DejaVuSans-111\"/>\n      <use x=\"494.677734\" xlink:href=\"#DejaVuSans-102\"/>\n      <use x=\"529.882812\" xlink:href=\"#DejaVuSans-32\"/>\n      <use x=\"561.669922\" xlink:href=\"#DejaVuSans-82\"/>\n      <use x=\"626.652344\" xlink:href=\"#DejaVuSans-101\"/>\n      <use x=\"688.175781\" xlink:href=\"#DejaVuSans-97\"/>\n      <use x=\"749.455078\" xlink:href=\"#DejaVuSans-99\"/>\n      <use x=\"804.435547\" xlink:href=\"#DejaVuSans-116\"/>\n      <use x=\"843.644531\" xlink:href=\"#DejaVuSans-105\"/>\n      <use x=\"871.427734\" xlink:href=\"#DejaVuSans-111\"/>\n      <use x=\"932.609375\" xlink:href=\"#DejaVuSans-110\"/>\n      <use x=\"995.988281\" xlink:href=\"#DejaVuSans-115\"/>\n     </g>\n    </g>\n   </g>\n   <g id=\"matplotlib.axis_2\">\n    <g id=\"ytick_1\">\n     <g id=\"line2d_10\">\n      <defs>\n       <path d=\"M 0 0 \nL -3.5 0 \n\" id=\"m6ca8892eab\" style=\"stroke:#ffffff;stroke-width:0.8;\"/>\n      </defs>\n      <g>\n       <use style=\"fill:#ffffff;stroke:#ffffff;stroke-width:0.8;\" x=\"40.603125\" xlink:href=\"#m6ca8892eab\" y=\"224.64\"/>\n      </g>\n     </g>\n     <g id=\"text_11\">\n      <!-- 0 -->\n      <g style=\"fill:#ffffff;\" transform=\"translate(27.240625 228.439219)scale(0.1 -0.1)\">\n       <use xlink:href=\"#DejaVuSans-48\"/>\n      </g>\n     </g>\n    </g>\n    <g id=\"ytick_2\">\n     <g id=\"line2d_11\">\n      <g>\n       <use style=\"fill:#ffffff;stroke:#ffffff;stroke-width:0.8;\" x=\"40.603125\" xlink:href=\"#m6ca8892eab\" y=\"177.575065\"/>\n      </g>\n     </g>\n     <g id=\"text_12\">\n      <!-- 5 -->\n      <g style=\"fill:#ffffff;\" transform=\"translate(27.240625 181.374284)scale(0.1 -0.1)\">\n       <use xlink:href=\"#DejaVuSans-53\"/>\n      </g>\n     </g>\n    </g>\n    <g id=\"ytick_3\">\n     <g id=\"line2d_12\">\n      <g>\n       <use style=\"fill:#ffffff;stroke:#ffffff;stroke-width:0.8;\" x=\"40.603125\" xlink:href=\"#m6ca8892eab\" y=\"130.51013\"/>\n      </g>\n     </g>\n     <g id=\"text_13\">\n      <!-- 10 -->\n      <g style=\"fill:#ffffff;\" transform=\"translate(20.878125 134.309349)scale(0.1 -0.1)\">\n       <use xlink:href=\"#DejaVuSans-49\"/>\n       <use x=\"63.623047\" xlink:href=\"#DejaVuSans-48\"/>\n      </g>\n     </g>\n    </g>\n    <g id=\"ytick_4\">\n     <g id=\"line2d_13\">\n      <g>\n       <use style=\"fill:#ffffff;stroke:#ffffff;stroke-width:0.8;\" x=\"40.603125\" xlink:href=\"#m6ca8892eab\" y=\"83.445195\"/>\n      </g>\n     </g>\n     <g id=\"text_14\">\n      <!-- 15 -->\n      <g style=\"fill:#ffffff;\" transform=\"translate(20.878125 87.244414)scale(0.1 -0.1)\">\n       <use xlink:href=\"#DejaVuSans-49\"/>\n       <use x=\"63.623047\" xlink:href=\"#DejaVuSans-53\"/>\n      </g>\n     </g>\n    </g>\n    <g id=\"ytick_5\">\n     <g id=\"line2d_14\">\n      <g>\n       <use style=\"fill:#ffffff;stroke:#ffffff;stroke-width:0.8;\" x=\"40.603125\" xlink:href=\"#m6ca8892eab\" y=\"36.38026\"/>\n      </g>\n     </g>\n     <g id=\"text_15\">\n      <!-- 20 -->\n      <g style=\"fill:#ffffff;\" transform=\"translate(20.878125 40.179478)scale(0.1 -0.1)\">\n       <use xlink:href=\"#DejaVuSans-50\"/>\n       <use x=\"63.623047\" xlink:href=\"#DejaVuSans-48\"/>\n      </g>\n     </g>\n    </g>\n    <g id=\"text_16\">\n     <!-- Count -->\n     <g style=\"fill:#ffffff;\" transform=\"translate(14.798438 130.768437)rotate(-90)scale(0.1 -0.1)\">\n      <defs>\n       <path d=\"M 64.40625 67.28125 \nL 64.40625 56.890625 \nQ 59.421875 61.53125 53.78125 63.8125 \nQ 48.140625 66.109375 41.796875 66.109375 \nQ 29.296875 66.109375 22.65625 58.46875 \nQ 16.015625 50.828125 16.015625 36.375 \nQ 16.015625 21.96875 22.65625 14.328125 \nQ 29.296875 6.6875 41.796875 6.6875 \nQ 48.140625 6.6875 53.78125 8.984375 \nQ 59.421875 11.28125 64.40625 15.921875 \nL 64.40625 5.609375 \nQ 59.234375 2.09375 53.4375 0.328125 \nQ 47.65625 -1.421875 41.21875 -1.421875 \nQ 24.65625 -1.421875 15.125 8.703125 \nQ 5.609375 18.84375 5.609375 36.375 \nQ 5.609375 53.953125 15.125 64.078125 \nQ 24.65625 74.21875 41.21875 74.21875 \nQ 47.75 74.21875 53.53125 72.484375 \nQ 59.328125 70.75 64.40625 67.28125 \nz\n\" id=\"DejaVuSans-67\"/>\n      </defs>\n      <use xlink:href=\"#DejaVuSans-67\"/>\n      <use x=\"69.824219\" xlink:href=\"#DejaVuSans-111\"/>\n      <use x=\"131.005859\" xlink:href=\"#DejaVuSans-117\"/>\n      <use x=\"194.384766\" xlink:href=\"#DejaVuSans-110\"/>\n      <use x=\"257.763672\" xlink:href=\"#DejaVuSans-116\"/>\n     </g>\n    </g>\n   </g>\n   <g id=\"patch_103\">\n    <path d=\"M 40.603125 224.64 \nL 40.603125 7.2 \n\" style=\"fill:none;stroke:#ffffff;stroke-linecap:square;stroke-linejoin:miter;stroke-width:0.8;\"/>\n   </g>\n   <g id=\"patch_104\">\n    <path d=\"M 375.403125 224.64 \nL 375.403125 7.2 \n\" style=\"fill:none;stroke:#ffffff;stroke-linecap:square;stroke-linejoin:miter;stroke-width:0.8;\"/>\n   </g>\n   <g id=\"patch_105\">\n    <path d=\"M 40.603125 224.64 \nL 375.403125 224.64 \n\" style=\"fill:none;stroke:#ffffff;stroke-linecap:square;stroke-linejoin:miter;stroke-width:0.8;\"/>\n   </g>\n   <g id=\"patch_106\">\n    <path d=\"M 40.603125 7.2 \nL 375.403125 7.2 \n\" style=\"fill:none;stroke:#ffffff;stroke-linecap:square;stroke-linejoin:miter;stroke-width:0.8;\"/>\n   </g>\n  </g>\n </g>\n <defs>\n  <clipPath id=\"p9ac1b6406c\">\n   <rect height=\"217.44\" width=\"334.8\" x=\"40.603125\" y=\"7.2\"/>\n  </clipPath>\n </defs>\n</svg>\n",
      "image/png": "[encoded data removed]"
     },
     "metadata": {}
    }
   ],
   "source": [
    "df_score_filtered = df[(df.reactions_sum < 2000)]\n",
    "plt = sb.histplot(data=df_score_filtered['reactions_sum'], bins=100)\n",
    "plt.set(xlabel=\"Number of Reactions\")\n",
    "plt.figure.savefig(f'{figure_path}/reactions_dist.pdf', bbox_inches = 'tight', pad_inches = 0)"
   ]
  },
  {
   "cell_type": "code",
   "execution_count": 11,
   "metadata": {},
   "outputs": [
    {
     "output_type": "execute_result",
     "data": {
      "text/plain": [
       "1098.0"
      ]
     },
     "metadata": {},
     "execution_count": 11
    }
   ],
   "source": [
    "df.reactions_sum.median()"
   ]
  },
  {
   "cell_type": "code",
   "execution_count": null,
   "metadata": {},
   "outputs": [],
   "source": []
  }
 ]
}