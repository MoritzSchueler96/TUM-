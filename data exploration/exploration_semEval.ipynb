{
 "metadata": {
  "language_info": {
   "codemirror_mode": {
    "name": "ipython",
    "version": 3
   },
   "file_extension": ".py",
   "mimetype": "text/x-python",
   "name": "python",
   "nbconvert_exporter": "python",
   "pygments_lexer": "ipython3",
   "version": "3.9.4"
  },
  "orig_nbformat": 2,
  "kernelspec": {
   "name": "python394jvsc74a57bd04fc435bf0e7b198fe8f409ced56ec06f23f2b3d9b415fffd8ca5f9e76a47e085",
   "display_name": "Python 3.9.4 64-bit ('nlp': conda)"
  },
  "metadata": {
   "interpreter": {
    "hash": "4fc435bf0e7b198fe8f409ced56ec06f23f2b3d9b415fffd8ca5f9e76a47e085"
   }
  }
 },
 "nbformat": 4,
 "nbformat_minor": 2,
 "cells": [
  {
   "source": [
    "# Setup"
   ],
   "cell_type": "markdown",
   "metadata": {}
  },
  {
   "cell_type": "code",
   "execution_count": 1,
   "metadata": {},
   "outputs": [
    {
     "output_type": "stream",
     "name": "stdout",
     "text": [
      "notebookDir: /home/user/Documents/Github/Uni/Master/TUM_Praktikum_NLP_Explainability/understanding-opinions-on-social-media/data exploration\n"
     ]
    }
   ],
   "source": [
    "import os\n",
    "if not 'notebookDir' in globals():\n",
    "    notebookDir = os.getcwd()\n",
    "print('notebookDir: ' + notebookDir)\n",
    "os.chdir(notebookDir)"
   ]
  },
  {
   "source": [
    "# Data preparation"
   ],
   "cell_type": "markdown",
   "metadata": {}
  },
  {
   "cell_type": "code",
   "execution_count": 2,
   "metadata": {},
   "outputs": [],
   "source": [
    "import pandas as pd\n",
    "pd.options.display.max_columns = 100"
   ]
  },
  {
   "cell_type": "code",
   "execution_count": 3,
   "metadata": {},
   "outputs": [],
   "source": [
    "dataset_path = '../data/SemEval/stance/SemEval-stance.csv'\n",
    "output = '../data/SemEval/stance/SemEval-stance_preprocessed.csv'"
   ]
  },
  {
   "cell_type": "code",
   "execution_count": 4,
   "metadata": {},
   "outputs": [
    {
     "output_type": "execute_result",
     "data": {
      "text/plain": [
       "        Worker ID  Instance ID                    Target  \\\n",
       "0        worker_1       2370.0  Legalization of Abortion   \n",
       "1        worker_2       2370.0  Legalization of Abortion   \n",
       "2        worker_3       2370.0  Legalization of Abortion   \n",
       "3        worker_4       2370.0  Legalization of Abortion   \n",
       "4        worker_5       2370.0  Legalization of Abortion   \n",
       "...           ...          ...                       ...   \n",
       "53094  worker_113      10951.0           Hillary Clinton   \n",
       "53095   worker_85      10951.0           Hillary Clinton   \n",
       "53096   worker_56      10951.0           Hillary Clinton   \n",
       "53097   worker_84      10951.0           Hillary Clinton   \n",
       "53098   worker_79      10951.0           Hillary Clinton   \n",
       "\n",
       "                                                   Tweet   Stance  \\\n",
       "0      Thank you for another day of life Lord. #Chris...  AGAINST   \n",
       "1      Thank you for another day of life Lord. #Chris...    FAVOR   \n",
       "2      Thank you for another day of life Lord. #Chris...  AGAINST   \n",
       "3      Thank you for another day of life Lord. #Chris...  AGAINST   \n",
       "4      Thank you for another day of life Lord. #Chris...  AGAINST   \n",
       "...                                                  ...      ...   \n",
       "53094  @TheAtlantic cause  #Hillary Clinton is a LYIN...  AGAINST   \n",
       "53095  @TheAtlantic cause  #Hillary Clinton is a LYIN...  AGAINST   \n",
       "53096  @TheAtlantic cause  #Hillary Clinton is a LYIN...  AGAINST   \n",
       "53097  @TheAtlantic cause  #Hillary Clinton is a LYIN...  AGAINST   \n",
       "53098  @TheAtlantic cause  #Hillary Clinton is a LYIN...  AGAINST   \n",
       "\n",
       "      Opinion towards  \n",
       "0              TARGET  \n",
       "1              TARGET  \n",
       "2               OTHER  \n",
       "3               OTHER  \n",
       "4              TARGET  \n",
       "...               ...  \n",
       "53094          TARGET  \n",
       "53095           OTHER  \n",
       "53096          TARGET  \n",
       "53097          TARGET  \n",
       "53098          TARGET  \n",
       "\n",
       "[53099 rows x 6 columns]"
      ],
      "text/html": "<div>\n<style scoped>\n    .dataframe tbody tr th:only-of-type {\n        vertical-align: middle;\n    }\n\n    .dataframe tbody tr th {\n        vertical-align: top;\n    }\n\n    .dataframe thead th {\n        text-align: right;\n    }\n</style>\n<table border=\"1\" class=\"dataframe\">\n  <thead>\n    <tr style=\"text-align: right;\">\n      <th></th>\n      <th>Worker ID</th>\n      <th>Instance ID</th>\n      <th>Target</th>\n      <th>Tweet</th>\n      <th>Stance</th>\n      <th>Opinion towards</th>\n    </tr>\n  </thead>\n  <tbody>\n    <tr>\n      <th>0</th>\n      <td>worker_1</td>\n      <td>2370.0</td>\n      <td>Legalization of Abortion</td>\n      <td>Thank you for another day of life Lord. #Chris...</td>\n      <td>AGAINST</td>\n      <td>TARGET</td>\n    </tr>\n    <tr>\n      <th>1</th>\n      <td>worker_2</td>\n      <td>2370.0</td>\n      <td>Legalization of Abortion</td>\n      <td>Thank you for another day of life Lord. #Chris...</td>\n      <td>FAVOR</td>\n      <td>TARGET</td>\n    </tr>\n    <tr>\n      <th>2</th>\n      <td>worker_3</td>\n      <td>2370.0</td>\n      <td>Legalization of Abortion</td>\n      <td>Thank you for another day of life Lord. #Chris...</td>\n      <td>AGAINST</td>\n      <td>OTHER</td>\n    </tr>\n    <tr>\n      <th>3</th>\n      <td>worker_4</td>\n      <td>2370.0</td>\n      <td>Legalization of Abortion</td>\n      <td>Thank you for another day of life Lord. #Chris...</td>\n      <td>AGAINST</td>\n      <td>OTHER</td>\n    </tr>\n    <tr>\n      <th>4</th>\n      <td>worker_5</td>\n      <td>2370.0</td>\n      <td>Legalization of Abortion</td>\n      <td>Thank you for another day of life Lord. #Chris...</td>\n      <td>AGAINST</td>\n      <td>TARGET</td>\n    </tr>\n    <tr>\n      <th>...</th>\n      <td>...</td>\n      <td>...</td>\n      <td>...</td>\n      <td>...</td>\n      <td>...</td>\n      <td>...</td>\n    </tr>\n    <tr>\n      <th>53094</th>\n      <td>worker_113</td>\n      <td>10951.0</td>\n      <td>Hillary Clinton</td>\n      <td>@TheAtlantic cause  #Hillary Clinton is a LYIN...</td>\n      <td>AGAINST</td>\n      <td>TARGET</td>\n    </tr>\n    <tr>\n      <th>53095</th>\n      <td>worker_85</td>\n      <td>10951.0</td>\n      <td>Hillary Clinton</td>\n      <td>@TheAtlantic cause  #Hillary Clinton is a LYIN...</td>\n      <td>AGAINST</td>\n      <td>OTHER</td>\n    </tr>\n    <tr>\n      <th>53096</th>\n      <td>worker_56</td>\n      <td>10951.0</td>\n      <td>Hillary Clinton</td>\n      <td>@TheAtlantic cause  #Hillary Clinton is a LYIN...</td>\n      <td>AGAINST</td>\n      <td>TARGET</td>\n    </tr>\n    <tr>\n      <th>53097</th>\n      <td>worker_84</td>\n      <td>10951.0</td>\n      <td>Hillary Clinton</td>\n      <td>@TheAtlantic cause  #Hillary Clinton is a LYIN...</td>\n      <td>AGAINST</td>\n      <td>TARGET</td>\n    </tr>\n    <tr>\n      <th>53098</th>\n      <td>worker_79</td>\n      <td>10951.0</td>\n      <td>Hillary Clinton</td>\n      <td>@TheAtlantic cause  #Hillary Clinton is a LYIN...</td>\n      <td>AGAINST</td>\n      <td>TARGET</td>\n    </tr>\n  </tbody>\n</table>\n<p>53099 rows × 6 columns</p>\n</div>"
     },
     "metadata": {},
     "execution_count": 4
    }
   ],
   "source": [
    "df = pd.read_csv(dataset_path, low_memory=False)\n",
    "df_len = len(df)\n",
    "df"
   ]
  },
  {
   "cell_type": "code",
   "execution_count": 6,
   "metadata": {},
   "outputs": [
    {
     "output_type": "execute_result",
     "data": {
      "text/plain": [
       "('before:', 53099, 'after:', 52514)"
      ]
     },
     "metadata": {},
     "execution_count": 6
    }
   ],
   "source": [
    "\"before:\", df_len, \"after:\", len(df.drop_duplicates())"
   ]
  },
  {
   "cell_type": "code",
   "execution_count": 9,
   "metadata": {},
   "outputs": [],
   "source": [
    "df_prep = df"
   ]
  },
  {
   "cell_type": "code",
   "execution_count": 10,
   "metadata": {},
   "outputs": [
    {
     "output_type": "execute_result",
     "data": {
      "text/plain": [
       "Index(['Worker ID', 'Instance ID', 'Target', 'Tweet', 'Stance',\n",
       "       'Opinion towards'],\n",
       "      dtype='object')"
      ]
     },
     "metadata": {},
     "execution_count": 10
    }
   ],
   "source": [
    "df_prep.columns"
   ]
  },
  {
   "cell_type": "code",
   "execution_count": 11,
   "metadata": {},
   "outputs": [
    {
     "output_type": "execute_result",
     "data": {
      "text/plain": [
       "        Worker ID  Instance ID                    Target  \\\n",
       "0        worker_1       2370.0  Legalization of Abortion   \n",
       "1        worker_2       2370.0  Legalization of Abortion   \n",
       "2        worker_3       2370.0  Legalization of Abortion   \n",
       "3        worker_4       2370.0  Legalization of Abortion   \n",
       "4        worker_5       2370.0  Legalization of Abortion   \n",
       "...           ...          ...                       ...   \n",
       "53094  worker_113      10951.0           Hillary Clinton   \n",
       "53095   worker_85      10951.0           Hillary Clinton   \n",
       "53096   worker_56      10951.0           Hillary Clinton   \n",
       "53097   worker_84      10951.0           Hillary Clinton   \n",
       "53098   worker_79      10951.0           Hillary Clinton   \n",
       "\n",
       "                                                   Tweet   Stance  \\\n",
       "0      Thank you for another day of life Lord. #Chris...  AGAINST   \n",
       "1      Thank you for another day of life Lord. #Chris...    FAVOR   \n",
       "2      Thank you for another day of life Lord. #Chris...  AGAINST   \n",
       "3      Thank you for another day of life Lord. #Chris...  AGAINST   \n",
       "4      Thank you for another day of life Lord. #Chris...  AGAINST   \n",
       "...                                                  ...      ...   \n",
       "53094  @TheAtlantic cause  #Hillary Clinton is a LYIN...  AGAINST   \n",
       "53095  @TheAtlantic cause  #Hillary Clinton is a LYIN...  AGAINST   \n",
       "53096  @TheAtlantic cause  #Hillary Clinton is a LYIN...  AGAINST   \n",
       "53097  @TheAtlantic cause  #Hillary Clinton is a LYIN...  AGAINST   \n",
       "53098  @TheAtlantic cause  #Hillary Clinton is a LYIN...  AGAINST   \n",
       "\n",
       "      Opinion towards  \n",
       "0              TARGET  \n",
       "1              TARGET  \n",
       "2               OTHER  \n",
       "3               OTHER  \n",
       "4              TARGET  \n",
       "...               ...  \n",
       "53094          TARGET  \n",
       "53095           OTHER  \n",
       "53096          TARGET  \n",
       "53097          TARGET  \n",
       "53098          TARGET  \n",
       "\n",
       "[53099 rows x 6 columns]"
      ],
      "text/html": "<div>\n<style scoped>\n    .dataframe tbody tr th:only-of-type {\n        vertical-align: middle;\n    }\n\n    .dataframe tbody tr th {\n        vertical-align: top;\n    }\n\n    .dataframe thead th {\n        text-align: right;\n    }\n</style>\n<table border=\"1\" class=\"dataframe\">\n  <thead>\n    <tr style=\"text-align: right;\">\n      <th></th>\n      <th>Worker ID</th>\n      <th>Instance ID</th>\n      <th>Target</th>\n      <th>Tweet</th>\n      <th>Stance</th>\n      <th>Opinion towards</th>\n    </tr>\n  </thead>\n  <tbody>\n    <tr>\n      <th>0</th>\n      <td>worker_1</td>\n      <td>2370.0</td>\n      <td>Legalization of Abortion</td>\n      <td>Thank you for another day of life Lord. #Chris...</td>\n      <td>AGAINST</td>\n      <td>TARGET</td>\n    </tr>\n    <tr>\n      <th>1</th>\n      <td>worker_2</td>\n      <td>2370.0</td>\n      <td>Legalization of Abortion</td>\n      <td>Thank you for another day of life Lord. #Chris...</td>\n      <td>FAVOR</td>\n      <td>TARGET</td>\n    </tr>\n    <tr>\n      <th>2</th>\n      <td>worker_3</td>\n      <td>2370.0</td>\n      <td>Legalization of Abortion</td>\n      <td>Thank you for another day of life Lord. #Chris...</td>\n      <td>AGAINST</td>\n      <td>OTHER</td>\n    </tr>\n    <tr>\n      <th>3</th>\n      <td>worker_4</td>\n      <td>2370.0</td>\n      <td>Legalization of Abortion</td>\n      <td>Thank you for another day of life Lord. #Chris...</td>\n      <td>AGAINST</td>\n      <td>OTHER</td>\n    </tr>\n    <tr>\n      <th>4</th>\n      <td>worker_5</td>\n      <td>2370.0</td>\n      <td>Legalization of Abortion</td>\n      <td>Thank you for another day of life Lord. #Chris...</td>\n      <td>AGAINST</td>\n      <td>TARGET</td>\n    </tr>\n    <tr>\n      <th>...</th>\n      <td>...</td>\n      <td>...</td>\n      <td>...</td>\n      <td>...</td>\n      <td>...</td>\n      <td>...</td>\n    </tr>\n    <tr>\n      <th>53094</th>\n      <td>worker_113</td>\n      <td>10951.0</td>\n      <td>Hillary Clinton</td>\n      <td>@TheAtlantic cause  #Hillary Clinton is a LYIN...</td>\n      <td>AGAINST</td>\n      <td>TARGET</td>\n    </tr>\n    <tr>\n      <th>53095</th>\n      <td>worker_85</td>\n      <td>10951.0</td>\n      <td>Hillary Clinton</td>\n      <td>@TheAtlantic cause  #Hillary Clinton is a LYIN...</td>\n      <td>AGAINST</td>\n      <td>OTHER</td>\n    </tr>\n    <tr>\n      <th>53096</th>\n      <td>worker_56</td>\n      <td>10951.0</td>\n      <td>Hillary Clinton</td>\n      <td>@TheAtlantic cause  #Hillary Clinton is a LYIN...</td>\n      <td>AGAINST</td>\n      <td>TARGET</td>\n    </tr>\n    <tr>\n      <th>53097</th>\n      <td>worker_84</td>\n      <td>10951.0</td>\n      <td>Hillary Clinton</td>\n      <td>@TheAtlantic cause  #Hillary Clinton is a LYIN...</td>\n      <td>AGAINST</td>\n      <td>TARGET</td>\n    </tr>\n    <tr>\n      <th>53098</th>\n      <td>worker_79</td>\n      <td>10951.0</td>\n      <td>Hillary Clinton</td>\n      <td>@TheAtlantic cause  #Hillary Clinton is a LYIN...</td>\n      <td>AGAINST</td>\n      <td>TARGET</td>\n    </tr>\n  </tbody>\n</table>\n<p>53099 rows × 6 columns</p>\n</div>"
     },
     "metadata": {},
     "execution_count": 11
    }
   ],
   "source": [
    "unwanted_cols = []\n",
    "\n",
    "df_filt = df_prep.drop(unwanted_cols, axis=1)\n",
    "# rename page and group name to name to be consistent\n",
    "df_filt = df_filt.rename(columns={})\n",
    "df_filt\n"
   ]
  },
  {
   "cell_type": "code",
   "execution_count": null,
   "metadata": {},
   "outputs": [],
   "source": [
    "df_filt.to_csv(output)"
   ]
  },
  {
   "source": [
    "# Training"
   ],
   "cell_type": "markdown",
   "metadata": {}
  },
  {
   "cell_type": "code",
   "execution_count": null,
   "metadata": {},
   "outputs": [],
   "source": [
    "import pytorch_lightning as pl\n",
    "from nlp_utils.data_module import SemEvalDataModule\n",
    "from nlp_utils.model import BaseModel\n",
    "from pytorch_lightning.callbacks.early_stopping import EarlyStopping\n",
    "%load_ext tensorboard"
   ]
  },
  {
   "cell_type": "code",
   "execution_count": null,
   "metadata": {},
   "outputs": [],
   "source": [
    "# Start tensorboard\n",
    "! pkill tensorboard\n",
    "! rm -r /tmp/.tensorboard-info\n",
    "%tensorboard --logdir lightning_logs --bind_all"
   ]
  },
  {
   "cell_type": "code",
   "execution_count": null,
   "metadata": {},
   "outputs": [],
   "source": [
    "# config used by Simon\n",
    "config = {\n",
    "    'batch_size': 32,\n",
    "    'dataset_path': '../../data/SemEval/stance/SemEval-stance_preprocessed.csv',\n",
    "    'learning_rate': 0.01\n",
    "}"
   ]
  },
  {
   "cell_type": "code",
   "execution_count": null,
   "metadata": {},
   "outputs": [],
   "source": [
    "data_module = SemEvalDataModule(config=config)\n",
    "data_module.setup('')\n",
    "# tokenizer for decoding sentences\n",
    "tokenizer = data_module.get_tokenizer() "
   ]
  },
  {
   "cell_type": "code",
   "execution_count": null,
   "metadata": {},
   "outputs": [],
   "source": [
    "category_vector_length = len(data_module.class_encoder.get_feature_names())\n",
    "config['category_encoded_length'] = category_vector_length\n",
    "config['category_encoder_out'] = category_vector_length\n",
    "config['vocab_size'] = len(data_module.vocab)"
   ]
  },
  {
   "cell_type": "code",
   "execution_count": null,
   "metadata": {},
   "outputs": [],
   "source": [
    "model = BaseModel(config)\n",
    "trainer = pl.Trainer(gpus=0,\n",
    "                     log_every_n_steps=1,\n",
    "                     flush_logs_every_n_steps=1,\n",
    "                    callbacks=[EarlyStopping(monitor='val_loss')], max_epochs=2) #, max_epochs=10, overfit_batches=10)\n",
    "trainer.fit(model, data_module)"
   ]
  },
  {
   "source": [
    "# Evaluation"
   ],
   "cell_type": "markdown",
   "metadata": {}
  },
  {
   "cell_type": "code",
   "execution_count": null,
   "metadata": {},
   "outputs": [],
   "source": [
    "import pandas as pd\n",
    "from nlp_utils.data_module import PlainCrowdTangleDataModule, CrowdTangleDataModule, GroupId2Name, inverse_transform\n",
    "from nlp_utils.model import BaseModel, BiLSTMModel\n",
    "import pytorch_lightning as pl\n",
    "from pytorch_lightning.callbacks.early_stopping import EarlyStopping\n",
    "from glob import glob\n",
    "import ipywidgets as widgets\n",
    "from tqdm.notebook import tqdm\n",
    "import pandas as pd\n",
    "import torch\n",
    "import seaborn as sb\n",
    "import re\n",
    "%load_ext tensorboard"
   ]
  },
  {
   "cell_type": "code",
   "execution_count": null,
   "metadata": {},
   "outputs": [],
   "source": [
    "# Start tensorboard\n",
    "! pkill tensorboard\n",
    "! rm -r /tmp/.tensorboard-info\n",
    "%tensorboard --logdir lightning_logs --bind_all"
   ]
  },
  {
   "cell_type": "code",
   "execution_count": null,
   "metadata": {},
   "outputs": [],
   "source": [
    "# Select a model\n",
    "w = widgets.Dropdown(\n",
    "    options=glob('lightning_logs/*/checkpoints/*.ckpt'),\n",
    "    description='Select a checkpoint:'\n",
    ")\n",
    "w"
   ]
  },
  {
   "cell_type": "code",
   "execution_count": null,
   "metadata": {},
   "outputs": [],
   "source": [
    "model_version = re.findall(\"version_[0-9]+\", w.value)[0]\n",
    "model = BaseModel.load_from_checkpoint(w.value)\n",
    "\n",
    "torch.no_grad()\n",
    "model.eval()\n",
    "data_module = SemEvalDataModule(config=model.config)\n",
    "data_module.setup('')\n",
    "model.config, model_version"
   ]
  },
  {
   "source": [
    "## Validation Set Results"
   ],
   "cell_type": "markdown",
   "metadata": {}
  },
  {
   "cell_type": "code",
   "execution_count": null,
   "metadata": {},
   "outputs": [],
   "source": [
    "df_dicts = []\n",
    "val_loader = data_module.val_dataloader()\n",
    "#groupid2name = GroupId2Name(model.config)\n",
    "for y_lst, encoded_texts_lst, category_vectors_lst, features in tqdm(iter(val_loader),total=len(val_loader)):\n",
    "    \n",
    "    result = model(encoded_texts_lst, category_vectors_lst)\n",
    "\n",
    "    for y_hat, y, encoded_text, category_vector in zip(result, y_lst, encoded_texts_lst[\"input_ids\"], category_vectors_lst):\n",
    "        decoded_categories = inverse_transform(category_vector.reshape(1, -1), model.config, data_module.class_encoder)\n",
    "        df_dicts.append({**{\n",
    "            'prediction': float(y_hat),\n",
    "            'gold label': float(y),\n",
    "            'text': data_module.tokenizer.decode(encoded_text).replace(' [PAD]','')\n",
    "        },**decoded_categories})\n",
    "#encoded_texts\n",
    "#data_module.tokenizer.decode(encoded_texts[\"input_ids\"][0]).replace(' [PAD]','')\n",
    "df = pd.DataFrame.from_dict(df_dicts)\n",
    "df"
   ]
  },
  {
   "cell_type": "code",
   "execution_count": null,
   "metadata": {},
   "outputs": [],
   "source": [
    "sb.histplot(data=df['prediction']).set_title(model_version)"
   ]
  },
  {
   "source": [
    "# Analysis"
   ],
   "cell_type": "markdown",
   "metadata": {}
  },
  {
   "cell_type": "code",
   "execution_count": null,
   "metadata": {},
   "outputs": [],
   "source": [
    "import pandas as pd\n",
    "import seaborn as sb\n",
    "from pathlib import Path\n",
    "sb.set_context(rc = {'patch.linewidth': 0.0})"
   ]
  },
  {
   "cell_type": "code",
   "execution_count": null,
   "metadata": {},
   "outputs": [],
   "source": [
    "dataset_path = Path('../../data/SemEval/stance/SemEval-stance.csv')"
   ]
  },
  {
   "cell_type": "code",
   "execution_count": null,
   "metadata": {},
   "outputs": [],
   "source": [
    "df = pd.read_csv(dataset_path,low_memory=False)\n",
    "dataset_name = dataset_path.stem\n",
    "figure_path = Path('./figures/' + dataset_name + '/')\n",
    "figure_path.mkdir(parents=True, exist_ok=True)\n",
    "dataset_name, str(figure_path)"
   ]
  },
  {
   "cell_type": "code",
   "execution_count": null,
   "metadata": {},
   "outputs": [],
   "source": [
    "#df['Type'].value_counts().plot(kind='bar')\n",
    "plt = sb.countplot(y=\"Type\", data=df)\n",
    "plt.set(ylabel=\"\", xlabel=\"Count\")\n",
    "#plt.figure.savefig(f'{figure_path}/post_types_dist.pdf', bbox_inches = 'tight', pad_inches = 0)"
   ]
  },
  {
   "cell_type": "code",
   "execution_count": null,
   "metadata": {},
   "outputs": [],
   "source": [
    "plt = sb.displot(df[df['Message'].str.len() < 600]['Message'].str.len())\n",
    "plt.set(xlabel=\"Message length (characters)\")\n",
    "#plt.savefig(f'{figure_path}/message_length_dist.pdf', bbox_inches = 'tight', pad_inches = 0)"
   ]
  },
  {
   "cell_type": "code",
   "execution_count": null,
   "metadata": {},
   "outputs": [],
   "source": [
    "df_score_filtered = df[(df.reactions_sum < 2000)]\n",
    "plt = sb.histplot(data=df_score_filtered['reactions_sum'], bins=100)\n",
    "plt.set(xlabel=\"Number of Reactions\")\n",
    "#plt.figure.savefig(f'{figure_path}/reactions_dist.pdf', bbox_inches = 'tight', pad_inches = 0)"
   ]
  }
 ]
}