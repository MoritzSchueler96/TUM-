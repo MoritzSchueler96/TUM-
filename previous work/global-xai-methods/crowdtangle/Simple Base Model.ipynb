{
 "cells": [
  {
   "cell_type": "code",
   "execution_count": 1,
   "metadata": {},
   "outputs": [],
   "source": [
    "from sklearn import linear_model\n",
    "from code.data_module import CrowdTangleDataModule, GroupId2Name, inverse_transform\n",
    "from tqdm import tqdm\n",
    "import pytorch_lightning as pl\n",
    "import torch\n",
    "import pandas as pd\n",
    "import seaborn as sb\n",
    "from pathlib import Path"
   ]
  },
  {
   "cell_type": "markdown",
   "metadata": {},
   "source": [
    "## 1. Training\n",
    "\n",
    "We setup our datamodule and convert the training set to numpy arrays. We only keep the encoded categorical features as linear regression can not handle text."
   ]
  },
  {
   "cell_type": "code",
   "execution_count": 2,
   "metadata": {},
   "outputs": [
    {
     "name": "stderr",
     "output_type": "stream",
     "text": [
      "100%|██████████| 271/271 [00:59<00:00,  4.53it/s]\n"
     ]
    },
    {
     "data": {
      "text/plain": [
       "([array([0., 0., 0., 1., 0., 0., 0., 0., 0., 1., 0., 0., 0., 0., 0., 0.],\n",
       "        dtype=float32),\n",
       "  array([0., 0., 0., 1., 0., 0., 0., 0., 0., 1., 0., 0., 0., 0., 0., 0.],\n",
       "        dtype=float32),\n",
       "  array([1., 0., 0., 0., 0., 0., 0., 0., 0., 0., 0., 0., 1., 0., 0., 0.],\n",
       "        dtype=float32)],\n",
       " [array(0.46071428, dtype=float32),\n",
       "  array(0.17464985, dtype=float32),\n",
       "  array(0.4147934, dtype=float32)])"
      ]
     },
     "execution_count": 2,
     "metadata": {},
     "output_type": "execute_result"
    }
   ],
   "source": [
    "config = {\n",
    "    'batch_size': 128,\n",
    "    #'dataset_path': '../data/crowdtanglev2_filtered.csv',\n",
    "    'dataset_path': '../data/crowdtangle_rtnews_v1_filtered.csv',\n",
    "    'category_group_id': False # group id not encoded (we only have one page = rtnews)\n",
    "}\n",
    "data_module = CrowdTangleDataModule(num_workers=0,config=config)\n",
    "data_module.setup('')\n",
    "\n",
    "X = []\n",
    "y = []\n",
    "for y_lst, encoded_texts_lst, category_vectors_lst, _ in tqdm(iter(data_module.train_dataloader()), total=len(data_module.train_dataloader())):\n",
    "    #iterate over all >batches<\n",
    "    X += [v.numpy() for v in category_vectors_lst]\n",
    "    y += [y.numpy() for y in y_lst]\n",
    "    \n",
    "X[:3], y[:3]"
   ]
  },
  {
   "cell_type": "code",
   "execution_count": 3,
   "metadata": {},
   "outputs": [
    {
     "data": {
      "text/plain": [
       "Lasso(alpha=0.1)"
      ]
     },
     "execution_count": 3,
     "metadata": {},
     "output_type": "execute_result"
    }
   ],
   "source": [
    "# we only have categorical values (=> 0 or 1) => no normalization needed\n",
    "lasso = linear_model.Lasso(alpha=0.1)\n",
    "lasso.fit(X, y)"
   ]
  },
  {
   "cell_type": "code",
   "execution_count": 4,
   "metadata": {},
   "outputs": [
    {
     "data": {
      "text/plain": [
       "LinearRegression()"
      ]
     },
     "execution_count": 4,
     "metadata": {},
     "output_type": "execute_result"
    }
   ],
   "source": [
    "linreg = linear_model.LinearRegression(normalize=False)\n",
    "linreg.fit(X, y)"
   ]
  },
  {
   "cell_type": "markdown",
   "metadata": {},
   "source": [
    "## 2. Evaluation"
   ]
  },
  {
   "cell_type": "code",
   "execution_count": 5,
   "metadata": {},
   "outputs": [
    {
     "name": "stderr",
     "output_type": "stream",
     "text": [
      "100%|██████████| 91/91 [00:27<00:00,  3.34it/s]\n"
     ]
    },
    {
     "data": {
      "text/plain": [
       "tensor(177.5171)"
      ]
     },
     "execution_count": 5,
     "metadata": {},
     "output_type": "execute_result"
    }
   ],
   "source": [
    "reg = lasso\n",
    "mse = pl.metrics.MeanSquaredError()\n",
    "#groupid2name = GroupId2Name(config)\n",
    "df_dicts = []\n",
    "for y_lst, encoded_texts_lst, category_vectors_lst, _ in tqdm(iter(data_module.test_dataloader()), total=len(data_module.test_dataloader())):\n",
    "    y_hat_lst = reg.predict([v.numpy() for v in category_vectors_lst])\n",
    "    mse(torch.from_numpy(y_hat_lst), y_lst)\n",
    "    for y_hat, y_gold, encoded_text, category_vector in zip(y_hat_lst, y_lst, encoded_texts_lst['input_ids'], category_vectors_lst):\n",
    "        decoded_categories = inverse_transform(category_vector.reshape(1, -1), config, data_module.class_encoder)\n",
    "        df_dicts.append({**{\n",
    "            'prediction': float(y_hat),\n",
    "            'gold label': float(y_gold),\n",
    "            'text': data_module.tokenizer.decode(encoded_text).replace(' [PAD]','')\n",
    "        },**decoded_categories})\n",
    "    \n",
    "mse.compute()\n"
   ]
  },
  {
   "cell_type": "code",
   "execution_count": 6,
   "metadata": {},
   "outputs": [
    {
     "data": {
      "text/plain": [
       "177.5171356201172"
      ]
     },
     "execution_count": 6,
     "metadata": {},
     "output_type": "execute_result"
    }
   ],
   "source": [
    "float(mse.compute())"
   ]
  },
  {
   "cell_type": "code",
   "execution_count": 7,
   "metadata": {},
   "outputs": [],
   "source": [
    "dataset_path = Path(config['dataset_path'])\n",
    "dataset_name = dataset_path.stem\n",
    "figure_path = Path('./figures/' + dataset_name + '/')\n",
    "figure_path.mkdir(parents=True, exist_ok=True)"
   ]
  },
  {
   "cell_type": "code",
   "execution_count": 8,
   "metadata": {},
   "outputs": [
    {
     "data": {
      "text/html": [
       "<div>\n",
       "<style scoped>\n",
       "    .dataframe tbody tr th:only-of-type {\n",
       "        vertical-align: middle;\n",
       "    }\n",
       "\n",
       "    .dataframe tbody tr th {\n",
       "        vertical-align: top;\n",
       "    }\n",
       "\n",
       "    .dataframe thead th {\n",
       "        text-align: right;\n",
       "    }\n",
       "</style>\n",
       "<table border=\"1\" class=\"dataframe\">\n",
       "  <thead>\n",
       "    <tr style=\"text-align: right;\">\n",
       "      <th></th>\n",
       "      <th>prediction</th>\n",
       "      <th>gold label</th>\n",
       "      <th>text</th>\n",
       "      <th>post_type</th>\n",
       "      <th>domain</th>\n",
       "    </tr>\n",
       "  </thead>\n",
       "  <tbody>\n",
       "    <tr>\n",
       "      <th>0</th>\n",
       "      <td>0.794125</td>\n",
       "      <td>0.325210</td>\n",
       "      <td>[CLS] and that one remaining percent is going ...</td>\n",
       "      <td>Link</td>\n",
       "      <td>rt</td>\n",
       "    </tr>\n",
       "    <tr>\n",
       "      <th>1</th>\n",
       "      <td>1.331309</td>\n",
       "      <td>0.777644</td>\n",
       "      <td>[CLS] jon \" bones \" jones helps small business...</td>\n",
       "      <td>Native Video</td>\n",
       "      <td>facebook</td>\n",
       "    </tr>\n",
       "    <tr>\n",
       "      <th>2</th>\n",
       "      <td>1.331309</td>\n",
       "      <td>0.636870</td>\n",
       "      <td>[CLS] autonomous grocery delivery vehicle # ch...</td>\n",
       "      <td>Native Video</td>\n",
       "      <td>facebook</td>\n",
       "    </tr>\n",
       "    <tr>\n",
       "      <th>3</th>\n",
       "      <td>0.794125</td>\n",
       "      <td>0.293592</td>\n",
       "      <td>[CLS] developing uk claims men in rt interview...</td>\n",
       "      <td>Link</td>\n",
       "      <td>rt</td>\n",
       "    </tr>\n",
       "    <tr>\n",
       "      <th>4</th>\n",
       "      <td>1.331309</td>\n",
       "      <td>0.215301</td>\n",
       "      <td>[CLS] rt play when a dog knows road rules bett...</td>\n",
       "      <td>Native Video</td>\n",
       "      <td>facebook</td>\n",
       "    </tr>\n",
       "    <tr>\n",
       "      <th>...</th>\n",
       "      <td>...</td>\n",
       "      <td>...</td>\n",
       "      <td>...</td>\n",
       "      <td>...</td>\n",
       "      <td>...</td>\n",
       "    </tr>\n",
       "    <tr>\n",
       "      <th>11525</th>\n",
       "      <td>1.331309</td>\n",
       "      <td>0.798722</td>\n",
       "      <td>[CLS]'kim'and'boris'meet with protesters in ho...</td>\n",
       "      <td>Native Video</td>\n",
       "      <td>facebook</td>\n",
       "    </tr>\n",
       "    <tr>\n",
       "      <th>11526</th>\n",
       "      <td>0.794125</td>\n",
       "      <td>0.298862</td>\n",
       "      <td>[CLS] big bezos is watching! amazon uses augme...</td>\n",
       "      <td>Link</td>\n",
       "      <td>rt</td>\n",
       "    </tr>\n",
       "    <tr>\n",
       "      <th>11527</th>\n",
       "      <td>1.331309</td>\n",
       "      <td>0.068505</td>\n",
       "      <td>[CLS] rt uk live : theresa may holds # pmqs af...</td>\n",
       "      <td>Native Video</td>\n",
       "      <td>facebook</td>\n",
       "    </tr>\n",
       "    <tr>\n",
       "      <th>11528</th>\n",
       "      <td>0.794125</td>\n",
       "      <td>0.141527</td>\n",
       "      <td>[CLS] okay, google... google earned $ 4. 7bn f...</td>\n",
       "      <td>Link</td>\n",
       "      <td>rt</td>\n",
       "    </tr>\n",
       "    <tr>\n",
       "      <th>11529</th>\n",
       "      <td>1.331309</td>\n",
       "      <td>0.191211</td>\n",
       "      <td>[CLS] rt play watch the horrific moment a tsun...</td>\n",
       "      <td>Native Video</td>\n",
       "      <td>facebook</td>\n",
       "    </tr>\n",
       "  </tbody>\n",
       "</table>\n",
       "<p>11530 rows × 5 columns</p>\n",
       "</div>"
      ],
      "text/plain": [
       "       prediction  gold label  \\\n",
       "0        0.794125    0.325210   \n",
       "1        1.331309    0.777644   \n",
       "2        1.331309    0.636870   \n",
       "3        0.794125    0.293592   \n",
       "4        1.331309    0.215301   \n",
       "...           ...         ...   \n",
       "11525    1.331309    0.798722   \n",
       "11526    0.794125    0.298862   \n",
       "11527    1.331309    0.068505   \n",
       "11528    0.794125    0.141527   \n",
       "11529    1.331309    0.191211   \n",
       "\n",
       "                                                    text     post_type  \\\n",
       "0      [CLS] and that one remaining percent is going ...          Link   \n",
       "1      [CLS] jon \" bones \" jones helps small business...  Native Video   \n",
       "2      [CLS] autonomous grocery delivery vehicle # ch...  Native Video   \n",
       "3      [CLS] developing uk claims men in rt interview...          Link   \n",
       "4      [CLS] rt play when a dog knows road rules bett...  Native Video   \n",
       "...                                                  ...           ...   \n",
       "11525  [CLS]'kim'and'boris'meet with protesters in ho...  Native Video   \n",
       "11526  [CLS] big bezos is watching! amazon uses augme...          Link   \n",
       "11527  [CLS] rt uk live : theresa may holds # pmqs af...  Native Video   \n",
       "11528  [CLS] okay, google... google earned $ 4. 7bn f...          Link   \n",
       "11529  [CLS] rt play watch the horrific moment a tsun...  Native Video   \n",
       "\n",
       "         domain  \n",
       "0            rt  \n",
       "1      facebook  \n",
       "2      facebook  \n",
       "3            rt  \n",
       "4      facebook  \n",
       "...         ...  \n",
       "11525  facebook  \n",
       "11526        rt  \n",
       "11527  facebook  \n",
       "11528        rt  \n",
       "11529  facebook  \n",
       "\n",
       "[11530 rows x 5 columns]"
      ]
     },
     "execution_count": 8,
     "metadata": {},
     "output_type": "execute_result"
    }
   ],
   "source": [
    "df = pd.DataFrame.from_dict(df_dicts)\n",
    "df"
   ]
  },
  {
   "cell_type": "code",
   "execution_count": 9,
   "metadata": {},
   "outputs": [
    {
     "data": {
      "image/png": "[encoded data removed]",
      "text/plain": [
       "<Figure size 432x288 with 1 Axes>"
      ]
     },
     "metadata": {
      "needs_background": "light"
     },
     "output_type": "display_data"
    }
   ],
   "source": [
    "plt = sb.histplot(data=df['prediction'])\n",
    "plt.set_title('linear model - rtnews')\n",
    "plt.figure.savefig(f'{figure_path}/linear_model_prediction_dist.pdf')"
   ]
  },
  {
   "cell_type": "markdown",
   "metadata": {},
   "source": [
    "## MSE per group"
   ]
  },
  {
   "cell_type": "code",
   "execution_count": null,
   "metadata": {},
   "outputs": [],
   "source": [
    "# initialize MSE for each facebook group\n",
    "groupid2name = GroupId2Name(config)\n",
    "df_dicts = []\n",
    "groups_mse = {}\n",
    "totalmse = pl.metrics.MeanSquaredError()\n",
    "for group_id, _ in groupid2name.group_id2name.items():\n",
    "    groups_mse[group_id] = pl.metrics.MeanSquaredError()\n",
    "    \n",
    "for y_lst, encoded_texts_lst, category_vectors_lst, _ in tqdm(iter(data_module.test_dataloader()), total=len(data_module.test_dataloader())):\n",
    "    y_hat_lst = reg.predict([v.numpy() for v in category_vectors_lst])\n",
    "    totalmse(torch.from_numpy(y_hat_lst), y_lst)\n",
    "    \n",
    "    for y_hat, y, encoded_text, category_vector in zip(y_hat_lst, y_lst, encoded_texts_lst['input_ids'], category_vectors_lst):\n",
    "        \n",
    "        decoded_categories = inverse_transform(category_vector.reshape(1, -1), config, data_module.class_encoder)\n",
    "        group_id = decoded_categories['group_id']\n",
    "        \n",
    "        groups_mse[group_id](y_hat.squeeze(), y)\n",
    "    \n",
    "        df_dicts.append({**{\n",
    "            'prediction': float(y_hat),\n",
    "            'gold label': float(y),\n",
    "            'text': data_module.tokenizer.decode(encoded_text).replace(' [PAD]','')\n",
    "        },**decoded_categories})\n",
    "for group_id, _ in groups_mse.items():\n",
    "    print(groupid2name(group_id) + ':', float(groups_mse[group_id].compute()))\n"
   ]
  },
  {
   "cell_type": "code",
   "execution_count": null,
   "metadata": {},
   "outputs": [],
   "source": []
  }
 ],
 "metadata": {
  "kernelspec": {
   "display_name": "Python 3",
   "language": "python",
   "name": "python3"
  },
  "language_info": {
   "codemirror_mode": {
    "name": "ipython",
    "version": 3
   },
   "file_extension": ".py",
   "mimetype": "text/x-python",
   "name": "python",
   "nbconvert_exporter": "python",
   "pygments_lexer": "ipython3",
   "version": "3.8.6"
  }
 },
 "nbformat": 4,
 "nbformat_minor": 5
}
