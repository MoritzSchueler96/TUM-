{
 "cells": [
  {
   "cell_type": "code",
   "execution_count": 1,
   "metadata": {},
   "outputs": [],
   "source": [
    "import pandas as pd\n",
    "from code.data_module import PlainCrowdTangleDataModule, GroupId2Name, inverse_transform\n",
    "from code.model import BaseModel, BiLSTMModel\n",
    "import pytorch_lightning as pl\n",
    "from pytorch_lightning.callbacks.early_stopping import EarlyStopping\n",
    "from glob import glob\n",
    "import ipywidgets as widgets\n",
    "from tqdm.notebook import tqdm\n",
    "import pandas as pd\n",
    "import torch\n",
    "import seaborn as sb\n",
    "import re\n",
    "%load_ext tensorboard"
   ]
  },
  {
   "cell_type": "code",
   "execution_count": 2,
   "metadata": {
    "scrolled": true
   },
   "outputs": [
    {
     "data": {
      "text/html": [
       "\n",
       "      <iframe id=\"tensorboard-frame-a2f1ee5f275d1bda\" width=\"100%\" height=\"800\" frameborder=\"0\">\n",
       "      </iframe>\n",
       "      <script>\n",
       "        (function() {\n",
       "          const frame = document.getElementById(\"tensorboard-frame-a2f1ee5f275d1bda\");\n",
       "          const url = new URL(\"/\", window.location);\n",
       "          const port = 6006;\n",
       "          if (port) {\n",
       "            url.port = port;\n",
       "          }\n",
       "          frame.src = url;\n",
       "        })();\n",
       "      </script>\n",
       "    "
      ],
      "text/plain": [
       "<IPython.core.display.HTML object>"
      ]
     },
     "metadata": {},
     "output_type": "display_data"
    }
   ],
   "source": [
    "# Start tensorboard\n",
    "! pkill tensorboard\n",
    "! rm -r /tmp/.tensorboard-info\n",
    "%tensorboard --logdir lightning_logs --bind_all"
   ]
  },
  {
   "cell_type": "markdown",
   "metadata": {},
   "source": [
    "Select a model to load:"
   ]
  },
  {
   "cell_type": "code",
   "execution_count": 3,
   "metadata": {},
   "outputs": [
    {
     "data": {
      "application/vnd.jupyter.widget-view+json": {
       "model_id": "8f320fe2e78041f3acdd26c26d40ed6c",
       "version_major": 2,
       "version_minor": 0
      },
      "text/plain": [
       "Dropdown(description='Select a checkpoint:', options=('lightning_logs/version_0/checkpoints/epoch=14-step=9464…"
      ]
     },
     "metadata": {},
     "output_type": "display_data"
    }
   ],
   "source": [
    "w = widgets.Dropdown(\n",
    "    options=glob('lightning_logs/*/checkpoints/*.ckpt'),\n",
    "    description='Select a checkpoint:'\n",
    ")\n",
    "w"
   ]
  },
  {
   "cell_type": "code",
   "execution_count": 4,
   "metadata": {},
   "outputs": [
    {
     "data": {
      "text/plain": [
       "({'column_goldlabel': 'score',\n",
       "  'dataset_path': '../data/crowdtanglev2_filtered.csv',\n",
       "  'category_group_id': True,\n",
       "  'category_type': True,\n",
       "  'category_tld': True,\n",
       "  'batch_size': 32,\n",
       "  'category_encoded_length': 902,\n",
       "  'category_encoder_out': 902,\n",
       "  'learning_rate': 0.01,\n",
       "  'vocab_min_freq': 10,\n",
       "  'bilstm_hidden_dim': 150,\n",
       "  'embedding_dim': 100,\n",
       "  'vocab_size': 10663},\n",
       " 'version_2')"
      ]
     },
     "execution_count": 4,
     "metadata": {},
     "output_type": "execute_result"
    }
   ],
   "source": [
    "model_version = re.findall(\"version_[0-9]+\", w.value)[0]\n",
    "#model = BaseModel.load_from_checkpoint(w.value)\n",
    "model = BiLSTMModel.load_from_checkpoint(w.value)\n",
    "\n",
    "torch.no_grad()\n",
    "model.eval()\n",
    "data_module = PlainCrowdTangleDataModule(config=model.config)\n",
    "data_module.setup('')\n",
    "model.config, model_version"
   ]
  },
  {
   "cell_type": "markdown",
   "metadata": {},
   "source": [
    "## Validation Set Results\n",
    "\n",
    "This shows the predictions for all rows of the validation set:"
   ]
  },
  {
   "cell_type": "code",
   "execution_count": null,
   "metadata": {},
   "outputs": [],
   "source": [
    "df_dicts = []\n",
    "val_loader = data_module.val_dataloader()\n",
    "#groupid2name = GroupId2Name(model.config)\n",
    "for y_lst, encoded_texts_lst, category_vectors_lst in tqdm(iter(val_loader),total=len(val_loader)):\n",
    "    result = model(encoded_texts_lst, category_vectors_lst)\n",
    "    for y_hat, y, encoded_text, category_vector in zip(result, y_lst, encoded_texts_lst['input_ids'], category_vectors_lst):\n",
    "        decoded_categories = inverse_transform(category_vector.reshape(1, -1), model.config, data_module.class_encoder)\n",
    "\n",
    "        df_dicts.append({**{\n",
    "            'prediction': float(y_hat),\n",
    "            'gold label': float(y),\n",
    "            'text': data_module.tokenizer.decode(encoded_text).replace(' [PAD]','')\n",
    "        },**decoded_categories})\n",
    "#encoded_texts\n",
    "#data_module.tokenizer.decode(encoded_texts[\"input_ids\"][0]).replace(' [PAD]','')\n",
    "pd.DataFrame.from_dict(df_dicts)"
   ]
  },
  {
   "cell_type": "code",
   "execution_count": null,
   "metadata": {},
   "outputs": [],
   "source": [
    "df = pd.DataFrame.from_dict(df_dicts)\n",
    "sb.histplot(data=df['prediction']).set_title(model_version)"
   ]
  },
  {
   "cell_type": "markdown",
   "metadata": {},
   "source": [
    "## Manual Test"
   ]
  },
  {
   "cell_type": "code",
   "execution_count": null,
   "metadata": {},
   "outputs": [],
   "source": [
    "df = pd.read_csv(dataset_path)\n",
    "w_post_type = widgets.Dropdown(\n",
    "    options=df['Type'].unique().tolist(),\n",
    "    description='Post Type:'\n",
    ")\n",
    "w_group_id = widgets.Dropdown(\n",
    "    options=list(df.drop_duplicates(subset=['Group Name', 'Facebook Id'])[['Group Name', 'Facebook Id']].itertuples(index=False, name=None)),\n",
    "    description='Group:'\n",
    ")\n",
    "w_text = widgets.Textarea(\n",
    "    value='',\n",
    "    placeholder='post text'\n",
    ")\n",
    "display(w_post_type, w_group_id, w_text)"
   ]
  },
  {
   "cell_type": "code",
   "execution_count": null,
   "metadata": {},
   "outputs": [],
   "source": [
    "class_encoding = torch.FloatTensor(data_module.class_encoder.transform([(w_group_id.value, w_post_type.value)]))\n",
    "text_encoding = data_module.tokenizer([w_text.value], padding=True, truncation=True, return_tensors=\"pt\")\n",
    "result = model(text_encoding, class_encoding)\n",
    "float(result)"
   ]
  },
  {
   "cell_type": "markdown",
   "metadata": {},
   "source": [
    "## MSE per group"
   ]
  },
  {
   "cell_type": "code",
   "execution_count": null,
   "metadata": {},
   "outputs": [],
   "source": [
    "# initialize MSE for each facebook group\n",
    "groupid2name = GroupId2Name(model.config)\n",
    "df_dicts = []\n",
    "groups_mse = {}\n",
    "totalmse = pl.metrics.MeanSquaredError()\n",
    "for group_id, _ in groupid2name.group_id2name.items():\n",
    "    groups_mse[group_id] = pl.metrics.MeanSquaredError()\n",
    "    \n",
    "for y_lst, encoded_texts_lst, category_vectors_lst, _ in tqdm(iter(data_module.test_dataloader()), total=len(data_module.test_dataloader())):\n",
    "    y_hat_lst = model(encoded_texts_lst, category_vectors_lst)\n",
    "    totalmse(y_hat_lst.squeeze(), y_lst)\n",
    "    \n",
    "    for y_hat, y, encoded_text, category_vector in zip(y_hat_lst, y_lst, encoded_texts_lst, category_vectors_lst):\n",
    "        decoded_categories = inverse_transform(category_vector.reshape(1, -1), model.config, data_module.class_encoder)\n",
    "        group_id = decoded_categories['group_id']\n",
    "        \n",
    "        groups_mse[group_id](y_hat.squeeze(), y)\n",
    "    \n",
    "        df_dicts.append({**{\n",
    "            'prediction': float(y_hat),\n",
    "            'gold label': float(y),\n",
    "            'text': ' '.join([data_module.vocab.itos[int(t)] for t in encoded_text])\n",
    "        },**decoded_categories})\n",
    "for group_id, _ in groups_mse.items():\n",
    "    print(groupid2name(group_id) + ':', float(groups_mse[group_id].compute()))\n"
   ]
  },
  {
   "cell_type": "code",
   "execution_count": null,
   "metadata": {},
   "outputs": [],
   "source": [
    "totalmse.compute()"
   ]
  },
  {
   "cell_type": "code",
   "execution_count": null,
   "metadata": {},
   "outputs": [],
   "source": [
    "pd.DataFrame.from_dict(df_dicts)"
   ]
  },
  {
   "cell_type": "markdown",
   "metadata": {},
   "source": [
    "## MSE Without Groups (e.g. for Rtnews)"
   ]
  },
  {
   "cell_type": "code",
   "execution_count": 5,
   "metadata": {},
   "outputs": [
    {
     "data": {
      "application/vnd.jupyter.widget-view+json": {
       "model_id": "09771ec9b9e945fbbb0fc5af8e792cbc",
       "version_major": 2,
       "version_minor": 0
      },
      "text/plain": [
       "  0%|          | 0/211 [00:00<?, ?it/s]"
      ]
     },
     "metadata": {},
     "output_type": "display_data"
    }
   ],
   "source": [
    "df_dicts = []\n",
    "mse = pl.metrics.MeanSquaredError()\n",
    "for y_lst, encoded_texts_lst, category_vectors_lst, _ in tqdm(iter(data_module.test_dataloader()), total=len(data_module.test_dataloader())):\n",
    "    y_hat_lst = model(encoded_texts_lst, category_vectors_lst)\n",
    "    mse(y_hat_lst.squeeze(), y_lst)\n",
    "    \n",
    "    for y_hat, y, encoded_text, category_vector in zip(y_hat_lst, y_lst, encoded_texts_lst, category_vectors_lst):\n",
    "        decoded_categories = inverse_transform(category_vector.reshape(1, -1), model.config, data_module.class_encoder)\n",
    "           \n",
    "        df_dicts.append({**{\n",
    "            'prediction': float(y_hat),\n",
    "            'gold label': float(y),\n",
    "            'text': ' '.join([data_module.vocab.itos[int(t)] for t in encoded_text])\n",
    "        },**decoded_categories})\n"
   ]
  },
  {
   "cell_type": "code",
   "execution_count": 6,
   "metadata": {},
   "outputs": [
    {
     "data": {
      "text/plain": [
       "tensor(6.9297)"
      ]
     },
     "execution_count": 6,
     "metadata": {},
     "output_type": "execute_result"
    }
   ],
   "source": [
    "mse.compute()"
   ]
  },
  {
   "cell_type": "code",
   "execution_count": 7,
   "metadata": {},
   "outputs": [],
   "source": [
    "from pathlib import Path\n",
    "dataset_path = Path(model.config['dataset_path'])\n",
    "dataset_name = dataset_path.stem\n",
    "figure_path = Path('./figures/' + dataset_name + '/')\n",
    "figure_path.mkdir(parents=True, exist_ok=True)"
   ]
  },
  {
   "cell_type": "code",
   "execution_count": 8,
   "metadata": {},
   "outputs": [
    {
     "data": {
      "text/html": [
       "<div>\n",
       "<style scoped>\n",
       "    .dataframe tbody tr th:only-of-type {\n",
       "        vertical-align: middle;\n",
       "    }\n",
       "\n",
       "    .dataframe tbody tr th {\n",
       "        vertical-align: top;\n",
       "    }\n",
       "\n",
       "    .dataframe thead th {\n",
       "        text-align: right;\n",
       "    }\n",
       "</style>\n",
       "<table border=\"1\" class=\"dataframe\">\n",
       "  <thead>\n",
       "    <tr style=\"text-align: right;\">\n",
       "      <th></th>\n",
       "      <th>prediction</th>\n",
       "      <th>gold label</th>\n",
       "      <th>text</th>\n",
       "      <th>group_id</th>\n",
       "      <th>post_type</th>\n",
       "      <th>domain</th>\n",
       "    </tr>\n",
       "  </thead>\n",
       "  <tbody>\n",
       "    <tr>\n",
       "      <th>0</th>\n",
       "      <td>2.945557</td>\n",
       "      <td>1.811011</td>\n",
       "      <td>spot on . &lt;pad&gt; &lt;pad&gt; &lt;pad&gt; &lt;pad&gt; &lt;pad&gt; &lt;pad&gt; ...</td>\n",
       "      <td>1859718597614634</td>\n",
       "      <td>Photo</td>\n",
       "      <td>facebook</td>\n",
       "    </tr>\n",
       "    <tr>\n",
       "      <th>1</th>\n",
       "      <td>2.436858</td>\n",
       "      <td>0.377212</td>\n",
       "      <td>https //youtu . &lt;unk&gt; magical blm protests pre...</td>\n",
       "      <td>291686185301</td>\n",
       "      <td>Video</td>\n",
       "      <td>youtu</td>\n",
       "    </tr>\n",
       "    <tr>\n",
       "      <th>2</th>\n",
       "      <td>1.370781</td>\n",
       "      <td>0.000000</td>\n",
       "      <td>us defense spending is more than the next 10 c...</td>\n",
       "      <td>229114357132790</td>\n",
       "      <td>Photo</td>\n",
       "      <td>facebook</td>\n",
       "    </tr>\n",
       "    <tr>\n",
       "      <th>3</th>\n",
       "      <td>0.920641</td>\n",
       "      <td>3.622021</td>\n",
       "      <td>a shaman was asked what is poison ? &lt;unk&gt; beyo...</td>\n",
       "      <td>1859718597614634</td>\n",
       "      <td>Photo</td>\n",
       "      <td>facebook</td>\n",
       "    </tr>\n",
       "    <tr>\n",
       "      <th>4</th>\n",
       "      <td>1.473941</td>\n",
       "      <td>0.000000</td>\n",
       "      <td>the global depopulation agenda maintain humani...</td>\n",
       "      <td>291686185301</td>\n",
       "      <td>Photo</td>\n",
       "      <td>facebook</td>\n",
       "    </tr>\n",
       "    <tr>\n",
       "      <th>...</th>\n",
       "      <td>...</td>\n",
       "      <td>...</td>\n",
       "      <td>...</td>\n",
       "      <td>...</td>\n",
       "      <td>...</td>\n",
       "      <td>...</td>\n",
       "    </tr>\n",
       "    <tr>\n",
       "      <th>6723</th>\n",
       "      <td>2.656764</td>\n",
       "      <td>0.806925</td>\n",
       "      <td>&lt;unk&gt; &lt;pad&gt; &lt;pad&gt; &lt;pad&gt; &lt;pad&gt; &lt;pad&gt; &lt;pad&gt; &lt;pad...</td>\n",
       "      <td>215950779333752</td>\n",
       "      <td>Photo</td>\n",
       "      <td>facebook</td>\n",
       "    </tr>\n",
       "    <tr>\n",
       "      <th>6724</th>\n",
       "      <td>0.611009</td>\n",
       "      <td>0.000000</td>\n",
       "      <td>sound medicine ! ✨🙏✨ become a certified sound ...</td>\n",
       "      <td>229114357132790</td>\n",
       "      <td>Photo</td>\n",
       "      <td>facebook</td>\n",
       "    </tr>\n",
       "    <tr>\n",
       "      <th>6725</th>\n",
       "      <td>0.411495</td>\n",
       "      <td>0.226327</td>\n",
       "      <td>&lt;unk&gt; here folks . . . see what is behind the ...</td>\n",
       "      <td>291686185301</td>\n",
       "      <td>Photo</td>\n",
       "      <td>facebook</td>\n",
       "    </tr>\n",
       "    <tr>\n",
       "      <th>6726</th>\n",
       "      <td>0.590041</td>\n",
       "      <td>0.044287</td>\n",
       "      <td>if i kill the part of me that ' s an &lt;unk&gt; wil...</td>\n",
       "      <td>805671206178851</td>\n",
       "      <td>Status</td>\n",
       "      <td></td>\n",
       "    </tr>\n",
       "    <tr>\n",
       "      <th>6727</th>\n",
       "      <td>2.220539</td>\n",
       "      <td>3.884020</td>\n",
       "      <td>&lt;unk&gt; peru . &lt;unk&gt; ton &lt;unk&gt; blocks make up th...</td>\n",
       "      <td>463850660303639</td>\n",
       "      <td>Photo</td>\n",
       "      <td>facebook</td>\n",
       "    </tr>\n",
       "  </tbody>\n",
       "</table>\n",
       "<p>6728 rows × 6 columns</p>\n",
       "</div>"
      ],
      "text/plain": [
       "      prediction  gold label  \\\n",
       "0       2.945557    1.811011   \n",
       "1       2.436858    0.377212   \n",
       "2       1.370781    0.000000   \n",
       "3       0.920641    3.622021   \n",
       "4       1.473941    0.000000   \n",
       "...          ...         ...   \n",
       "6723    2.656764    0.806925   \n",
       "6724    0.611009    0.000000   \n",
       "6725    0.411495    0.226327   \n",
       "6726    0.590041    0.044287   \n",
       "6727    2.220539    3.884020   \n",
       "\n",
       "                                                   text          group_id  \\\n",
       "0     spot on . <pad> <pad> <pad> <pad> <pad> <pad> ...  1859718597614634   \n",
       "1     https //youtu . <unk> magical blm protests pre...      291686185301   \n",
       "2     us defense spending is more than the next 10 c...   229114357132790   \n",
       "3     a shaman was asked what is poison ? <unk> beyo...  1859718597614634   \n",
       "4     the global depopulation agenda maintain humani...      291686185301   \n",
       "...                                                 ...               ...   \n",
       "6723  <unk> <pad> <pad> <pad> <pad> <pad> <pad> <pad...   215950779333752   \n",
       "6724  sound medicine ! ✨🙏✨ become a certified sound ...   229114357132790   \n",
       "6725  <unk> here folks . . . see what is behind the ...      291686185301   \n",
       "6726  if i kill the part of me that ' s an <unk> wil...   805671206178851   \n",
       "6727  <unk> peru . <unk> ton <unk> blocks make up th...   463850660303639   \n",
       "\n",
       "     post_type    domain  \n",
       "0        Photo  facebook  \n",
       "1        Video     youtu  \n",
       "2        Photo  facebook  \n",
       "3        Photo  facebook  \n",
       "4        Photo  facebook  \n",
       "...        ...       ...  \n",
       "6723     Photo  facebook  \n",
       "6724     Photo  facebook  \n",
       "6725     Photo  facebook  \n",
       "6726    Status            \n",
       "6727     Photo  facebook  \n",
       "\n",
       "[6728 rows x 6 columns]"
      ]
     },
     "execution_count": 8,
     "metadata": {},
     "output_type": "execute_result"
    }
   ],
   "source": [
    "df = pd.DataFrame.from_dict(df_dicts)\n",
    "df"
   ]
  },
  {
   "cell_type": "code",
   "execution_count": 9,
   "metadata": {},
   "outputs": [
    {
     "data": {
      "image/png": "[encoded data removed]",
      "text/plain": [
       "<Figure size 432x288 with 1 Axes>"
      ]
     },
     "metadata": {
      "needs_background": "light"
     },
     "output_type": "display_data"
    }
   ],
   "source": [
    "plt = sb.histplot(data=df['prediction'])\n",
    "plt.set_title('BiLSTM based - conspiracy theory groups')\n",
    "plt.figure.savefig(f'{figure_path}/bilstm_dist.pdf')"
   ]
  },
  {
   "cell_type": "code",
   "execution_count": null,
   "metadata": {},
   "outputs": [],
   "source": []
  }
 ],
 "metadata": {
  "kernelspec": {
   "display_name": "Python 3",
   "language": "python",
   "name": "python3"
  },
  "language_info": {
   "codemirror_mode": {
    "name": "ipython",
    "version": 3
   },
   "file_extension": ".py",
   "mimetype": "text/x-python",
   "name": "python",
   "nbconvert_exporter": "python",
   "pygments_lexer": "ipython3",
   "version": "3.8.6"
  }
 },
 "nbformat": 4,
 "nbformat_minor": 5
}
