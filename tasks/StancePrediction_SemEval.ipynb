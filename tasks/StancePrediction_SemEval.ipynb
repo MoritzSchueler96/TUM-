{
 "metadata": {
  "language_info": {
   "codemirror_mode": {
    "name": "ipython",
    "version": 3
   },
   "file_extension": ".py",
   "mimetype": "text/x-python",
   "name": "python",
   "nbconvert_exporter": "python",
   "pygments_lexer": "ipython3",
   "version": "3.9.4"
  },
  "orig_nbformat": 2,
  "kernelspec": {
   "name": "python394jvsc74a57bd04fc435bf0e7b198fe8f409ced56ec06f23f2b3d9b415fffd8ca5f9e76a47e085",
   "display_name": "Python 3.9.4 64-bit ('nlp': conda)"
  },
  "metadata": {
   "interpreter": {
    "hash": "4fc435bf0e7b198fe8f409ced56ec06f23f2b3d9b415fffd8ca5f9e76a47e085"
   }
  }
 },
 "nbformat": 4,
 "nbformat_minor": 2,
 "cells": [
  {
   "source": [
    "# Setup"
   ],
   "cell_type": "markdown",
   "metadata": {}
  },
  {
   "cell_type": "code",
   "execution_count": null,
   "metadata": {},
   "outputs": [],
   "source": [
    "from IPython.core.debugger import set_trace\n",
    "\n",
    "set_trace()"
   ]
  },
  {
   "cell_type": "code",
   "execution_count": 1,
   "metadata": {},
   "outputs": [
    {
     "output_type": "stream",
     "name": "stdout",
     "text": [
      "notebookDir: /home/user/Documents/Github/Uni/Master/TUM_Praktikum_NLP_Explainability/understanding-opinions-on-social-media/tasks\n"
     ]
    }
   ],
   "source": [
    "import os\n",
    "if not 'notebookDir' in globals():\n",
    "    notebookDir = os.getcwd()\n",
    "print('notebookDir: ' + notebookDir)\n",
    "os.chdir(notebookDir)"
   ]
  },
  {
   "source": [
    "# Training"
   ],
   "cell_type": "markdown",
   "metadata": {}
  },
  {
   "cell_type": "code",
   "execution_count": 2,
   "metadata": {},
   "outputs": [
    {
     "output_type": "stream",
     "name": "stderr",
     "text": [
      "Global seed set to 42\n"
     ]
    },
    {
     "output_type": "execute_result",
     "data": {
      "text/plain": [
       "42"
      ]
     },
     "metadata": {},
     "execution_count": 2
    }
   ],
   "source": [
    "import pytorch_lightning as pl\n",
    "from nlp_utils.data_module import SemEvalDataModule\n",
    "from nlp_utils.model import CustomDistilBertModel\n",
    "from pytorch_lightning.callbacks.early_stopping import EarlyStopping\n",
    "from pytorch_lightning.callbacks import Callback\n",
    "from pytorch_lightning.callbacks import ModelCheckpoint\n",
    "from pytorch_lightning.utilities.seed import seed_everything\n",
    "%load_ext tensorboard\n",
    "seed_everything(42)"
   ]
  },
  {
   "cell_type": "code",
   "execution_count": 3,
   "metadata": {},
   "outputs": [
    {
     "output_type": "stream",
     "name": "stdout",
     "text": [
      "rm: cannot remove '/tmp/.tensorboard-info': No such file or directory\n"
     ]
    },
    {
     "output_type": "display_data",
     "data": {
      "text/plain": "<IPython.core.display.HTML object>",
      "text/html": "\n      <iframe id=\"tensorboard-frame-1c80317fa3b1799d\" width=\"100%\" height=\"800\" frameborder=\"0\">\n      </iframe>\n      <script>\n        (function() {\n          const frame = document.getElementById(\"tensorboard-frame-1c80317fa3b1799d\");\n          const url = new URL(\"/\", window.location);\n          const port = 6006;\n          if (port) {\n            url.port = port;\n          }\n          frame.src = url;\n        })();\n      </script>\n    "
     },
     "metadata": {}
    }
   ],
   "source": [
    "# Start tensorboard\n",
    "! pkill tensorboard\n",
    "! rm -r /tmp/.tensorboard-info\n",
    "%tensorboard --logdir lightning_logs --bind_all"
   ]
  },
  {
   "cell_type": "code",
   "execution_count": 4,
   "metadata": {},
   "outputs": [],
   "source": [
    "config = {\n",
    "    'batch_size': 32,\n",
    "    'dataset_path': '../../data/processed/SemEval/stance/SemEval-stance_preprocessed.csv',\n",
    "    'learning_rate': 0.01,\n",
    "    'column_goldlabel': 'Stance',\n",
    "    \"category_group_id\": False,\n",
    "    \"category_type\": False,\n",
    "    \"category_tld\": False,\n",
    "}"
   ]
  },
  {
   "cell_type": "code",
   "execution_count": 5,
   "metadata": {},
   "outputs": [],
   "source": [
    "data_module = SemEvalDataModule(num_workers=4, config=config)\n",
    "data_path = data_module.prepare_data()\n",
    "data_module.setup('')\n",
    "# tokenizer for decoding sentences\n",
    "tokenizer = data_module.get_tokenizer() \n",
    "config['vocab_size'] = len(data_module.vocab) "
   ]
  },
  {
   "source": [
    "## Ideas\n",
    "* don't freeze bert params\n",
    "* use lr scheduler\n",
    "* use more features than just the text, i.e. especially sentiment\n",
    "* change F1 score to micro\n",
    "* use hyperparams from one of the papers below\n",
    "* use position encoding in Bert model\n",
    "\n",
    "## To Do's\n",
    "* change config, s.t. default config can be used as is\n",
    "* rewrite validation or test to output some visualization (maybe also SHAP values)\n",
    "* use SHAP to get explanations\n",
    "* change structure of setup and prepare_data"
   ],
   "cell_type": "markdown",
   "metadata": {}
  },
  {
   "source": [
    "* Parameters from https://arxiv.org/pdf/2103.01664.pdf:\n",
    "Our data set was divided into 80% for training and 20% for\n",
    "testing. Each model was trained with a batch size of 16,\n",
    "a learning rate (Adam) of 5 · 10−5, a decay of 0.01, a maximal sentence length of 100 and a validation split of 0.2. Further, we set the number of epochs to 10 and saved the best model on the validation set for testing.\n",
    "\n",
    "* Idea from https://arxiv.org/pdf/2103.00747.pdf:\n",
    "Use TreeSHAP for explanations\n",
    "\n",
    "* Look here https://arxiv.org/pdf/2012.14353.pdf for interesting plots of explanations\n",
    "\n",
    "* Get Feature importance by masking like here: https://arxiv.org/pdf/2009.04095.pdf\n",
    "\n",
    "* Strategy from https://arxiv.org/pdf/2006.04884.pdf:\n",
    "Unless mentioned otherwise, we follow the default fine-tuning strategy recommended by Devlin\n",
    "et al. (2019): we fine-tune uncased BERTLARGE (henceforth BERT) using a batch size of 16 and a\n",
    "learning rate of 2e−5. The learning rate is linearly increased from 0 to 2e−5 for the first 10% of\n",
    "iterations—which is known as a warmup—and linearly decreased to 0 afterward. We apply dropout\n",
    "with probability p = 0.1 and weight decay with λ = 0.01. We train for 3 epochs on all datasets\n",
    "and use global gradient clipping. Following Devlin et al. (2019), we use the AdamW optimizer\n",
    "(Loshchilov and Hutter, 2019) without bias correction.\n",
    "Repo online at: https://github.com/uds-lsv/bert-stable-fine-tuning\n",
    "Hyperparams for BERT: Epochs (3,10,20), lr (1e-5 till 5e-5), lr schedule (warmup-linear), batch size (16), Adam eps (1e-6), Adam beta1 (0.9), Adam beta2 (0.999), Adam bias correction (True, False), Dropout (0.1), weight decay (0.01), clipping gradient norm (1.0), number of random seeds (25)\n",
    "\n",
    "* Analysis of several stance datasets: https://arxiv.org/pdf/2104.07467.pdf"
   ],
   "cell_type": "markdown",
   "metadata": {}
  },
  {
   "cell_type": "code",
   "execution_count": 6,
   "metadata": {},
   "outputs": [],
   "source": [
    "model = CustomDistilBertModel(config)\n",
    "\n",
    "early_stop_callback = EarlyStopping(\n",
    "   monitor='val_epoch_F1',\n",
    "   min_delta=0.00,\n",
    "   patience=3,\n",
    "   verbose=False,\n",
    "   mode='max',\n",
    "   stopping_threshold=0.70\n",
    ")\n",
    "\n",
    "cwd = os.getcwd()\n",
    "save_folder = os.path.join(cwd, \"../logs/StancePrediction_SemEval\")\n",
    "\n",
    "class MyPrintingCallback(Callback):\n",
    "\n",
    "    def on_fit_start(self, trainer, pl_module):\n",
    "        print('Starting to train!')\n",
    "\n",
    "    def on_fit_end(self, trainer, pl_module):\n",
    "        print('Finished training')\n",
    "\n",
    "    def on_test_start(self, trainer, pl_module):\n",
    "        print('Start to test')\n",
    "\n",
    "    def on_test_end(self, trainer, pl_module):\n",
    "        print('Finished testing')\n",
    "\n",
    "checkpoint_callback = ModelCheckpoint(monitor='val_epoch_F1', filename='{epoch}-{val_loss:.2f}-{val_epoch_F1:.2f}', save_top_k=3, mode='max')\n"
   ]
  },
  {
   "cell_type": "code",
   "execution_count": 7,
   "metadata": {},
   "outputs": [
    {
     "output_type": "stream",
     "name": "stderr",
     "text": [
      "GPU available: False, used: False\n",
      "TPU available: False, using: 0 TPU cores\n"
     ]
    }
   ],
   "source": [
    "# Standard trainer\n",
    "trainer = pl.Trainer(gpus=0,\n",
    "                     log_every_n_steps=1,\n",
    "                     flush_logs_every_n_steps=1,\n",
    "                    callbacks=[MyPrintingCallback(), checkpoint_callback], deterministic=True, default_root_dir=save_folder, max_epochs=20) # gradient_clip_val=0.5, stochastic_weight_avg=True, check_val_every_n_epoch=10, num_sanity_val_steps=2, overfit_batches=0.01"
   ]
  },
  {
   "cell_type": "code",
   "execution_count": 8,
   "metadata": {},
   "outputs": [
    {
     "output_type": "stream",
     "name": "stderr",
     "text": [
      "GPU available: False, used: False\n",
      "TPU available: False, using: 0 TPU cores\n",
      "Running in fast_dev_run mode: will run a full train, val and test loop using 1 batch(es).\n"
     ]
    }
   ],
   "source": [
    "# fast_dev_run=True -> runs one train, validate, test cycle\n",
    "trainer = pl.Trainer(gpus=0, fast_dev_run=True, deterministic=True, default_root_dir=save_folder)"
   ]
  },
  {
   "source": [
    "## LR Finder"
   ],
   "cell_type": "markdown",
   "metadata": {}
  },
  {
   "cell_type": "code",
   "execution_count": 11,
   "metadata": {},
   "outputs": [
    {
     "output_type": "stream",
     "name": "stderr",
     "text": [
      "\n",
      "  | Name            | Type            | Params\n",
      "----------------------------------------------------\n",
      "0 | train_metric    | F1              | 0     \n",
      "1 | val_metric      | F1              | 0     \n",
      "2 | test_metric     | F1              | 0     \n",
      "3 | bert            | DistilBertModel | 66.4 M\n",
      "4 | distilbert_tail | Sequential      | 590 K \n",
      "5 | classifier      | Linear          | 3.1 K \n",
      "----------------------------------------------------\n",
      "593 K     Trainable params\n",
      "66.4 M    Non-trainable params\n",
      "67.0 M    Total params\n",
      "267.826   Total estimated model params size (MB)\n",
      "Global seed set to 42\n",
      "Finding best initial lr: 100%|██████████| 100/100 [01:50<00:00,  1.28s/it]Restored states from the checkpoint file at /home/user/Documents/Github/Uni/Master/TUM_Praktikum_NLP_Explainability/understanding-opinions-on-social-media/logs/StancePrediction_SemEval/lr_find_temp_model.ckpt\n",
      "<ipython-input-11-bdb22eae3faf>:7: UserWarning: Matplotlib is currently using module://ipykernel.pylab.backend_inline, which is a non-GUI backend, so cannot show the figure.\n",
      "  fig.show()\n",
      "0.6918309709189363\n"
     ]
    },
    {
     "output_type": "display_data",
     "data": {
      "text/plain": "<Figure size 432x288 with 1 Axes>",
      "image/svg+xml": "<?xml version=\"1.0\" encoding=\"utf-8\" standalone=\"no\"?>\n<!DOCTYPE svg PUBLIC \"-//W3C//DTD SVG 1.1//EN\"\n  \"http://www.w3.org/Graphics/SVG/1.1/DTD/svg11.dtd\">\n<!-- Created with matplotlib (https://matplotlib.org/) -->\n<svg height=\"262.19625pt\" version=\"1.1\" viewBox=\"0 0 385.78125 262.19625\" width=\"385.78125pt\" xmlns=\"http://www.w3.org/2000/svg\" xmlns:xlink=\"http://www.w3.org/1999/xlink\">\n <metadata>\n  <rdf:RDF xmlns:cc=\"http://creativecommons.org/ns#\" xmlns:dc=\"http://purl.org/dc/elements/1.1/\" xmlns:rdf=\"http://www.w3.org/1999/02/22-rdf-syntax-ns#\">\n   <cc:Work>\n    <dc:type rdf:resource=\"http://purl.org/dc/dcmitype/StillImage\"/>\n    <dc:date>2021-06-06T11:20:43.674306</dc:date>\n    <dc:format>image/svg+xml</dc:format>\n    <dc:creator>\n     <cc:Agent>\n      <dc:title>Matplotlib v3.3.4, https://matplotlib.org/</dc:title>\n     </cc:Agent>\n    </dc:creator>\n   </cc:Work>\n  </rdf:RDF>\n </metadata>\n <defs>\n  <style type=\"text/css\">*{stroke-linecap:butt;stroke-linejoin:round;}</style>\n </defs>\n <g id=\"figure_1\">\n  <g id=\"patch_1\">\n   <path d=\"M 0 262.19625 \nL 385.78125 262.19625 \nL 385.78125 0 \nL 0 0 \nz\n\"/>\n  </g>\n  <g id=\"axes_1\">\n   <g id=\"patch_2\">\n    <path d=\"M 43.78125 224.64 \nL 378.58125 224.64 \nL 378.58125 7.2 \nL 43.78125 7.2 \nz\n\"/>\n   </g>\n   <g id=\"matplotlib.axis_1\">\n    <g id=\"xtick_1\">\n     <g id=\"line2d_1\">\n      <defs>\n       <path d=\"M 0 0 \nL 0 3.5 \n\" id=\"m9b5f41f2b1\" style=\"stroke:#ffffff;stroke-width:0.8;\"/>\n      </defs>\n      <g>\n       <use style=\"fill:#ffffff;stroke:#ffffff;stroke-width:0.8;\" x=\"97.044886\" xlink:href=\"#m9b5f41f2b1\" y=\"224.64\"/>\n      </g>\n     </g>\n     <g id=\"text_1\">\n      <!-- $\\mathdefault{10^{-7}}$ -->\n      <g style=\"fill:#ffffff;\" transform=\"translate(85.294886 239.238438)scale(0.1 -0.1)\">\n       <defs>\n        <path d=\"M 12.40625 8.296875 \nL 28.515625 8.296875 \nL 28.515625 63.921875 \nL 10.984375 60.40625 \nL 10.984375 69.390625 \nL 28.421875 72.90625 \nL 38.28125 72.90625 \nL 38.28125 8.296875 \nL 54.390625 8.296875 \nL 54.390625 0 \nL 12.40625 0 \nz\n\" id=\"DejaVuSans-49\"/>\n        <path d=\"M 31.78125 66.40625 \nQ 24.171875 66.40625 20.328125 58.90625 \nQ 16.5 51.421875 16.5 36.375 \nQ 16.5 21.390625 20.328125 13.890625 \nQ 24.171875 6.390625 31.78125 6.390625 \nQ 39.453125 6.390625 43.28125 13.890625 \nQ 47.125 21.390625 47.125 36.375 \nQ 47.125 51.421875 43.28125 58.90625 \nQ 39.453125 66.40625 31.78125 66.40625 \nz\nM 31.78125 74.21875 \nQ 44.046875 74.21875 50.515625 64.515625 \nQ 56.984375 54.828125 56.984375 36.375 \nQ 56.984375 17.96875 50.515625 8.265625 \nQ 44.046875 -1.421875 31.78125 -1.421875 \nQ 19.53125 -1.421875 13.0625 8.265625 \nQ 6.59375 17.96875 6.59375 36.375 \nQ 6.59375 54.828125 13.0625 64.515625 \nQ 19.53125 74.21875 31.78125 74.21875 \nz\n\" id=\"DejaVuSans-48\"/>\n        <path d=\"M 10.59375 35.5 \nL 73.1875 35.5 \nL 73.1875 27.203125 \nL 10.59375 27.203125 \nz\n\" id=\"DejaVuSans-8722\"/>\n        <path d=\"M 8.203125 72.90625 \nL 55.078125 72.90625 \nL 55.078125 68.703125 \nL 28.609375 0 \nL 18.3125 0 \nL 43.21875 64.59375 \nL 8.203125 64.59375 \nz\n\" id=\"DejaVuSans-55\"/>\n       </defs>\n       <use transform=\"translate(0 0.684375)\" xlink:href=\"#DejaVuSans-49\"/>\n       <use transform=\"translate(63.623047 0.684375)\" xlink:href=\"#DejaVuSans-48\"/>\n       <use transform=\"translate(128.203125 38.965625)scale(0.7)\" xlink:href=\"#DejaVuSans-8722\"/>\n       <use transform=\"translate(186.855469 38.965625)scale(0.7)\" xlink:href=\"#DejaVuSans-55\"/>\n      </g>\n     </g>\n    </g>\n    <g id=\"xtick_2\">\n     <g id=\"line2d_2\">\n      <g>\n       <use style=\"fill:#ffffff;stroke:#ffffff;stroke-width:0.8;\" x=\"173.135795\" xlink:href=\"#m9b5f41f2b1\" y=\"224.64\"/>\n      </g>\n     </g>\n     <g id=\"text_2\">\n      <!-- $\\mathdefault{10^{-5}}$ -->\n      <g style=\"fill:#ffffff;\" transform=\"translate(161.385795 239.238438)scale(0.1 -0.1)\">\n       <defs>\n        <path d=\"M 10.796875 72.90625 \nL 49.515625 72.90625 \nL 49.515625 64.59375 \nL 19.828125 64.59375 \nL 19.828125 46.734375 \nQ 21.96875 47.46875 24.109375 47.828125 \nQ 26.265625 48.1875 28.421875 48.1875 \nQ 40.625 48.1875 47.75 41.5 \nQ 54.890625 34.8125 54.890625 23.390625 \nQ 54.890625 11.625 47.5625 5.09375 \nQ 40.234375 -1.421875 26.90625 -1.421875 \nQ 22.3125 -1.421875 17.546875 -0.640625 \nQ 12.796875 0.140625 7.71875 1.703125 \nL 7.71875 11.625 \nQ 12.109375 9.234375 16.796875 8.0625 \nQ 21.484375 6.890625 26.703125 6.890625 \nQ 35.15625 6.890625 40.078125 11.328125 \nQ 45.015625 15.765625 45.015625 23.390625 \nQ 45.015625 31 40.078125 35.4375 \nQ 35.15625 39.890625 26.703125 39.890625 \nQ 22.75 39.890625 18.8125 39.015625 \nQ 14.890625 38.140625 10.796875 36.28125 \nz\n\" id=\"DejaVuSans-53\"/>\n       </defs>\n       <use transform=\"translate(0 0.684375)\" xlink:href=\"#DejaVuSans-49\"/>\n       <use transform=\"translate(63.623047 0.684375)\" xlink:href=\"#DejaVuSans-48\"/>\n       <use transform=\"translate(128.203125 38.965625)scale(0.7)\" xlink:href=\"#DejaVuSans-8722\"/>\n       <use transform=\"translate(186.855469 38.965625)scale(0.7)\" xlink:href=\"#DejaVuSans-53\"/>\n      </g>\n     </g>\n    </g>\n    <g id=\"xtick_3\">\n     <g id=\"line2d_3\">\n      <g>\n       <use style=\"fill:#ffffff;stroke:#ffffff;stroke-width:0.8;\" x=\"249.226705\" xlink:href=\"#m9b5f41f2b1\" y=\"224.64\"/>\n      </g>\n     </g>\n     <g id=\"text_3\">\n      <!-- $\\mathdefault{10^{-3}}$ -->\n      <g style=\"fill:#ffffff;\" transform=\"translate(237.476705 239.238438)scale(0.1 -0.1)\">\n       <defs>\n        <path d=\"M 40.578125 39.3125 \nQ 47.65625 37.796875 51.625 33 \nQ 55.609375 28.21875 55.609375 21.1875 \nQ 55.609375 10.40625 48.1875 4.484375 \nQ 40.765625 -1.421875 27.09375 -1.421875 \nQ 22.515625 -1.421875 17.65625 -0.515625 \nQ 12.796875 0.390625 7.625 2.203125 \nL 7.625 11.71875 \nQ 11.71875 9.328125 16.59375 8.109375 \nQ 21.484375 6.890625 26.8125 6.890625 \nQ 36.078125 6.890625 40.9375 10.546875 \nQ 45.796875 14.203125 45.796875 21.1875 \nQ 45.796875 27.640625 41.28125 31.265625 \nQ 36.765625 34.90625 28.71875 34.90625 \nL 20.21875 34.90625 \nL 20.21875 43.015625 \nL 29.109375 43.015625 \nQ 36.375 43.015625 40.234375 45.921875 \nQ 44.09375 48.828125 44.09375 54.296875 \nQ 44.09375 59.90625 40.109375 62.90625 \nQ 36.140625 65.921875 28.71875 65.921875 \nQ 24.65625 65.921875 20.015625 65.03125 \nQ 15.375 64.15625 9.8125 62.3125 \nL 9.8125 71.09375 \nQ 15.4375 72.65625 20.34375 73.4375 \nQ 25.25 74.21875 29.59375 74.21875 \nQ 40.828125 74.21875 47.359375 69.109375 \nQ 53.90625 64.015625 53.90625 55.328125 \nQ 53.90625 49.265625 50.4375 45.09375 \nQ 46.96875 40.921875 40.578125 39.3125 \nz\n\" id=\"DejaVuSans-51\"/>\n       </defs>\n       <use transform=\"translate(0 0.765625)\" xlink:href=\"#DejaVuSans-49\"/>\n       <use transform=\"translate(63.623047 0.765625)\" xlink:href=\"#DejaVuSans-48\"/>\n       <use transform=\"translate(128.203125 39.046875)scale(0.7)\" xlink:href=\"#DejaVuSans-8722\"/>\n       <use transform=\"translate(186.855469 39.046875)scale(0.7)\" xlink:href=\"#DejaVuSans-51\"/>\n      </g>\n     </g>\n    </g>\n    <g id=\"xtick_4\">\n     <g id=\"line2d_4\">\n      <g>\n       <use style=\"fill:#ffffff;stroke:#ffffff;stroke-width:0.8;\" x=\"325.317614\" xlink:href=\"#m9b5f41f2b1\" y=\"224.64\"/>\n      </g>\n     </g>\n     <g id=\"text_4\">\n      <!-- $\\mathdefault{10^{-1}}$ -->\n      <g style=\"fill:#ffffff;\" transform=\"translate(313.567614 239.238438)scale(0.1 -0.1)\">\n       <use transform=\"translate(0 0.684375)\" xlink:href=\"#DejaVuSans-49\"/>\n       <use transform=\"translate(63.623047 0.684375)\" xlink:href=\"#DejaVuSans-48\"/>\n       <use transform=\"translate(128.203125 38.965625)scale(0.7)\" xlink:href=\"#DejaVuSans-8722\"/>\n       <use transform=\"translate(186.855469 38.965625)scale(0.7)\" xlink:href=\"#DejaVuSans-49\"/>\n      </g>\n     </g>\n    </g>\n    <g id=\"text_5\">\n     <!-- Learning rate -->\n     <g style=\"fill:#ffffff;\" transform=\"translate(177.728125 252.916563)scale(0.1 -0.1)\">\n      <defs>\n       <path d=\"M 9.8125 72.90625 \nL 19.671875 72.90625 \nL 19.671875 8.296875 \nL 55.171875 8.296875 \nL 55.171875 0 \nL 9.8125 0 \nz\n\" id=\"DejaVuSans-76\"/>\n       <path d=\"M 56.203125 29.59375 \nL 56.203125 25.203125 \nL 14.890625 25.203125 \nQ 15.484375 15.921875 20.484375 11.0625 \nQ 25.484375 6.203125 34.421875 6.203125 \nQ 39.59375 6.203125 44.453125 7.46875 \nQ 49.3125 8.734375 54.109375 11.28125 \nL 54.109375 2.78125 \nQ 49.265625 0.734375 44.1875 -0.34375 \nQ 39.109375 -1.421875 33.890625 -1.421875 \nQ 20.796875 -1.421875 13.15625 6.1875 \nQ 5.515625 13.8125 5.515625 26.8125 \nQ 5.515625 40.234375 12.765625 48.109375 \nQ 20.015625 56 32.328125 56 \nQ 43.359375 56 49.78125 48.890625 \nQ 56.203125 41.796875 56.203125 29.59375 \nz\nM 47.21875 32.234375 \nQ 47.125 39.59375 43.09375 43.984375 \nQ 39.0625 48.390625 32.421875 48.390625 \nQ 24.90625 48.390625 20.390625 44.140625 \nQ 15.875 39.890625 15.1875 32.171875 \nz\n\" id=\"DejaVuSans-101\"/>\n       <path d=\"M 34.28125 27.484375 \nQ 23.390625 27.484375 19.1875 25 \nQ 14.984375 22.515625 14.984375 16.5 \nQ 14.984375 11.71875 18.140625 8.90625 \nQ 21.296875 6.109375 26.703125 6.109375 \nQ 34.1875 6.109375 38.703125 11.40625 \nQ 43.21875 16.703125 43.21875 25.484375 \nL 43.21875 27.484375 \nz\nM 52.203125 31.203125 \nL 52.203125 0 \nL 43.21875 0 \nL 43.21875 8.296875 \nQ 40.140625 3.328125 35.546875 0.953125 \nQ 30.953125 -1.421875 24.3125 -1.421875 \nQ 15.921875 -1.421875 10.953125 3.296875 \nQ 6 8.015625 6 15.921875 \nQ 6 25.140625 12.171875 29.828125 \nQ 18.359375 34.515625 30.609375 34.515625 \nL 43.21875 34.515625 \nL 43.21875 35.40625 \nQ 43.21875 41.609375 39.140625 45 \nQ 35.0625 48.390625 27.6875 48.390625 \nQ 23 48.390625 18.546875 47.265625 \nQ 14.109375 46.140625 10.015625 43.890625 \nL 10.015625 52.203125 \nQ 14.9375 54.109375 19.578125 55.046875 \nQ 24.21875 56 28.609375 56 \nQ 40.484375 56 46.34375 49.84375 \nQ 52.203125 43.703125 52.203125 31.203125 \nz\n\" id=\"DejaVuSans-97\"/>\n       <path d=\"M 41.109375 46.296875 \nQ 39.59375 47.171875 37.8125 47.578125 \nQ 36.03125 48 33.890625 48 \nQ 26.265625 48 22.1875 43.046875 \nQ 18.109375 38.09375 18.109375 28.8125 \nL 18.109375 0 \nL 9.078125 0 \nL 9.078125 54.6875 \nL 18.109375 54.6875 \nL 18.109375 46.1875 \nQ 20.953125 51.171875 25.484375 53.578125 \nQ 30.03125 56 36.53125 56 \nQ 37.453125 56 38.578125 55.875 \nQ 39.703125 55.765625 41.0625 55.515625 \nz\n\" id=\"DejaVuSans-114\"/>\n       <path d=\"M 54.890625 33.015625 \nL 54.890625 0 \nL 45.90625 0 \nL 45.90625 32.71875 \nQ 45.90625 40.484375 42.875 44.328125 \nQ 39.84375 48.1875 33.796875 48.1875 \nQ 26.515625 48.1875 22.3125 43.546875 \nQ 18.109375 38.921875 18.109375 30.90625 \nL 18.109375 0 \nL 9.078125 0 \nL 9.078125 54.6875 \nL 18.109375 54.6875 \nL 18.109375 46.1875 \nQ 21.34375 51.125 25.703125 53.5625 \nQ 30.078125 56 35.796875 56 \nQ 45.21875 56 50.046875 50.171875 \nQ 54.890625 44.34375 54.890625 33.015625 \nz\n\" id=\"DejaVuSans-110\"/>\n       <path d=\"M 9.421875 54.6875 \nL 18.40625 54.6875 \nL 18.40625 0 \nL 9.421875 0 \nz\nM 9.421875 75.984375 \nL 18.40625 75.984375 \nL 18.40625 64.59375 \nL 9.421875 64.59375 \nz\n\" id=\"DejaVuSans-105\"/>\n       <path d=\"M 45.40625 27.984375 \nQ 45.40625 37.75 41.375 43.109375 \nQ 37.359375 48.484375 30.078125 48.484375 \nQ 22.859375 48.484375 18.828125 43.109375 \nQ 14.796875 37.75 14.796875 27.984375 \nQ 14.796875 18.265625 18.828125 12.890625 \nQ 22.859375 7.515625 30.078125 7.515625 \nQ 37.359375 7.515625 41.375 12.890625 \nQ 45.40625 18.265625 45.40625 27.984375 \nz\nM 54.390625 6.78125 \nQ 54.390625 -7.171875 48.1875 -13.984375 \nQ 42 -20.796875 29.203125 -20.796875 \nQ 24.46875 -20.796875 20.265625 -20.09375 \nQ 16.0625 -19.390625 12.109375 -17.921875 \nL 12.109375 -9.1875 \nQ 16.0625 -11.328125 19.921875 -12.34375 \nQ 23.78125 -13.375 27.78125 -13.375 \nQ 36.625 -13.375 41.015625 -8.765625 \nQ 45.40625 -4.15625 45.40625 5.171875 \nL 45.40625 9.625 \nQ 42.625 4.78125 38.28125 2.390625 \nQ 33.9375 0 27.875 0 \nQ 17.828125 0 11.671875 7.65625 \nQ 5.515625 15.328125 5.515625 27.984375 \nQ 5.515625 40.671875 11.671875 48.328125 \nQ 17.828125 56 27.875 56 \nQ 33.9375 56 38.28125 53.609375 \nQ 42.625 51.21875 45.40625 46.390625 \nL 45.40625 54.6875 \nL 54.390625 54.6875 \nz\n\" id=\"DejaVuSans-103\"/>\n       <path id=\"DejaVuSans-32\"/>\n       <path d=\"M 18.3125 70.21875 \nL 18.3125 54.6875 \nL 36.8125 54.6875 \nL 36.8125 47.703125 \nL 18.3125 47.703125 \nL 18.3125 18.015625 \nQ 18.3125 11.328125 20.140625 9.421875 \nQ 21.96875 7.515625 27.59375 7.515625 \nL 36.8125 7.515625 \nL 36.8125 0 \nL 27.59375 0 \nQ 17.1875 0 13.234375 3.875 \nQ 9.28125 7.765625 9.28125 18.015625 \nL 9.28125 47.703125 \nL 2.6875 47.703125 \nL 2.6875 54.6875 \nL 9.28125 54.6875 \nL 9.28125 70.21875 \nz\n\" id=\"DejaVuSans-116\"/>\n      </defs>\n      <use xlink:href=\"#DejaVuSans-76\"/>\n      <use x=\"53.962891\" xlink:href=\"#DejaVuSans-101\"/>\n      <use x=\"115.486328\" xlink:href=\"#DejaVuSans-97\"/>\n      <use x=\"176.765625\" xlink:href=\"#DejaVuSans-114\"/>\n      <use x=\"216.128906\" xlink:href=\"#DejaVuSans-110\"/>\n      <use x=\"279.507812\" xlink:href=\"#DejaVuSans-105\"/>\n      <use x=\"307.291016\" xlink:href=\"#DejaVuSans-110\"/>\n      <use x=\"370.669922\" xlink:href=\"#DejaVuSans-103\"/>\n      <use x=\"434.146484\" xlink:href=\"#DejaVuSans-32\"/>\n      <use x=\"465.933594\" xlink:href=\"#DejaVuSans-114\"/>\n      <use x=\"507.046875\" xlink:href=\"#DejaVuSans-97\"/>\n      <use x=\"568.326172\" xlink:href=\"#DejaVuSans-116\"/>\n      <use x=\"607.535156\" xlink:href=\"#DejaVuSans-101\"/>\n     </g>\n    </g>\n   </g>\n   <g id=\"matplotlib.axis_2\">\n    <g id=\"ytick_1\">\n     <g id=\"line2d_5\">\n      <defs>\n       <path d=\"M 0 0 \nL -3.5 0 \n\" id=\"m36bc91bc5d\" style=\"stroke:#ffffff;stroke-width:0.8;\"/>\n      </defs>\n      <g>\n       <use style=\"fill:#ffffff;stroke:#ffffff;stroke-width:0.8;\" x=\"43.78125\" xlink:href=\"#m36bc91bc5d\" y=\"205.155798\"/>\n      </g>\n     </g>\n     <g id=\"text_6\">\n      <!-- 1.4 -->\n      <g style=\"fill:#ffffff;\" transform=\"translate(20.878125 208.955017)scale(0.1 -0.1)\">\n       <defs>\n        <path d=\"M 10.6875 12.40625 \nL 21 12.40625 \nL 21 0 \nL 10.6875 0 \nz\n\" id=\"DejaVuSans-46\"/>\n        <path d=\"M 37.796875 64.3125 \nL 12.890625 25.390625 \nL 37.796875 25.390625 \nz\nM 35.203125 72.90625 \nL 47.609375 72.90625 \nL 47.609375 25.390625 \nL 58.015625 25.390625 \nL 58.015625 17.1875 \nL 47.609375 17.1875 \nL 47.609375 0 \nL 37.796875 0 \nL 37.796875 17.1875 \nL 4.890625 17.1875 \nL 4.890625 26.703125 \nz\n\" id=\"DejaVuSans-52\"/>\n       </defs>\n       <use xlink:href=\"#DejaVuSans-49\"/>\n       <use x=\"63.623047\" xlink:href=\"#DejaVuSans-46\"/>\n       <use x=\"95.410156\" xlink:href=\"#DejaVuSans-52\"/>\n      </g>\n     </g>\n    </g>\n    <g id=\"ytick_2\">\n     <g id=\"line2d_6\">\n      <g>\n       <use style=\"fill:#ffffff;stroke:#ffffff;stroke-width:0.8;\" x=\"43.78125\" xlink:href=\"#m36bc91bc5d\" y=\"168.667373\"/>\n      </g>\n     </g>\n     <g id=\"text_7\">\n      <!-- 1.6 -->\n      <g style=\"fill:#ffffff;\" transform=\"translate(20.878125 172.466592)scale(0.1 -0.1)\">\n       <defs>\n        <path d=\"M 33.015625 40.375 \nQ 26.375 40.375 22.484375 35.828125 \nQ 18.609375 31.296875 18.609375 23.390625 \nQ 18.609375 15.53125 22.484375 10.953125 \nQ 26.375 6.390625 33.015625 6.390625 \nQ 39.65625 6.390625 43.53125 10.953125 \nQ 47.40625 15.53125 47.40625 23.390625 \nQ 47.40625 31.296875 43.53125 35.828125 \nQ 39.65625 40.375 33.015625 40.375 \nz\nM 52.59375 71.296875 \nL 52.59375 62.3125 \nQ 48.875 64.0625 45.09375 64.984375 \nQ 41.3125 65.921875 37.59375 65.921875 \nQ 27.828125 65.921875 22.671875 59.328125 \nQ 17.53125 52.734375 16.796875 39.40625 \nQ 19.671875 43.65625 24.015625 45.921875 \nQ 28.375 48.1875 33.59375 48.1875 \nQ 44.578125 48.1875 50.953125 41.515625 \nQ 57.328125 34.859375 57.328125 23.390625 \nQ 57.328125 12.15625 50.6875 5.359375 \nQ 44.046875 -1.421875 33.015625 -1.421875 \nQ 20.359375 -1.421875 13.671875 8.265625 \nQ 6.984375 17.96875 6.984375 36.375 \nQ 6.984375 53.65625 15.1875 63.9375 \nQ 23.390625 74.21875 37.203125 74.21875 \nQ 40.921875 74.21875 44.703125 73.484375 \nQ 48.484375 72.75 52.59375 71.296875 \nz\n\" id=\"DejaVuSans-54\"/>\n       </defs>\n       <use xlink:href=\"#DejaVuSans-49\"/>\n       <use x=\"63.623047\" xlink:href=\"#DejaVuSans-46\"/>\n       <use x=\"95.410156\" xlink:href=\"#DejaVuSans-54\"/>\n      </g>\n     </g>\n    </g>\n    <g id=\"ytick_3\">\n     <g id=\"line2d_7\">\n      <g>\n       <use style=\"fill:#ffffff;stroke:#ffffff;stroke-width:0.8;\" x=\"43.78125\" xlink:href=\"#m36bc91bc5d\" y=\"132.178949\"/>\n      </g>\n     </g>\n     <g id=\"text_8\">\n      <!-- 1.8 -->\n      <g style=\"fill:#ffffff;\" transform=\"translate(20.878125 135.978168)scale(0.1 -0.1)\">\n       <defs>\n        <path d=\"M 31.78125 34.625 \nQ 24.75 34.625 20.71875 30.859375 \nQ 16.703125 27.09375 16.703125 20.515625 \nQ 16.703125 13.921875 20.71875 10.15625 \nQ 24.75 6.390625 31.78125 6.390625 \nQ 38.8125 6.390625 42.859375 10.171875 \nQ 46.921875 13.96875 46.921875 20.515625 \nQ 46.921875 27.09375 42.890625 30.859375 \nQ 38.875 34.625 31.78125 34.625 \nz\nM 21.921875 38.8125 \nQ 15.578125 40.375 12.03125 44.71875 \nQ 8.5 49.078125 8.5 55.328125 \nQ 8.5 64.0625 14.71875 69.140625 \nQ 20.953125 74.21875 31.78125 74.21875 \nQ 42.671875 74.21875 48.875 69.140625 \nQ 55.078125 64.0625 55.078125 55.328125 \nQ 55.078125 49.078125 51.53125 44.71875 \nQ 48 40.375 41.703125 38.8125 \nQ 48.828125 37.15625 52.796875 32.3125 \nQ 56.78125 27.484375 56.78125 20.515625 \nQ 56.78125 9.90625 50.3125 4.234375 \nQ 43.84375 -1.421875 31.78125 -1.421875 \nQ 19.734375 -1.421875 13.25 4.234375 \nQ 6.78125 9.90625 6.78125 20.515625 \nQ 6.78125 27.484375 10.78125 32.3125 \nQ 14.796875 37.15625 21.921875 38.8125 \nz\nM 18.3125 54.390625 \nQ 18.3125 48.734375 21.84375 45.5625 \nQ 25.390625 42.390625 31.78125 42.390625 \nQ 38.140625 42.390625 41.71875 45.5625 \nQ 45.3125 48.734375 45.3125 54.390625 \nQ 45.3125 60.0625 41.71875 63.234375 \nQ 38.140625 66.40625 31.78125 66.40625 \nQ 25.390625 66.40625 21.84375 63.234375 \nQ 18.3125 60.0625 18.3125 54.390625 \nz\n\" id=\"DejaVuSans-56\"/>\n       </defs>\n       <use xlink:href=\"#DejaVuSans-49\"/>\n       <use x=\"63.623047\" xlink:href=\"#DejaVuSans-46\"/>\n       <use x=\"95.410156\" xlink:href=\"#DejaVuSans-56\"/>\n      </g>\n     </g>\n    </g>\n    <g id=\"ytick_4\">\n     <g id=\"line2d_8\">\n      <g>\n       <use style=\"fill:#ffffff;stroke:#ffffff;stroke-width:0.8;\" x=\"43.78125\" xlink:href=\"#m36bc91bc5d\" y=\"95.690524\"/>\n      </g>\n     </g>\n     <g id=\"text_9\">\n      <!-- 2.0 -->\n      <g style=\"fill:#ffffff;\" transform=\"translate(20.878125 99.489743)scale(0.1 -0.1)\">\n       <defs>\n        <path d=\"M 19.1875 8.296875 \nL 53.609375 8.296875 \nL 53.609375 0 \nL 7.328125 0 \nL 7.328125 8.296875 \nQ 12.9375 14.109375 22.625 23.890625 \nQ 32.328125 33.6875 34.8125 36.53125 \nQ 39.546875 41.84375 41.421875 45.53125 \nQ 43.3125 49.21875 43.3125 52.78125 \nQ 43.3125 58.59375 39.234375 62.25 \nQ 35.15625 65.921875 28.609375 65.921875 \nQ 23.96875 65.921875 18.8125 64.3125 \nQ 13.671875 62.703125 7.8125 59.421875 \nL 7.8125 69.390625 \nQ 13.765625 71.78125 18.9375 73 \nQ 24.125 74.21875 28.421875 74.21875 \nQ 39.75 74.21875 46.484375 68.546875 \nQ 53.21875 62.890625 53.21875 53.421875 \nQ 53.21875 48.921875 51.53125 44.890625 \nQ 49.859375 40.875 45.40625 35.40625 \nQ 44.1875 33.984375 37.640625 27.21875 \nQ 31.109375 20.453125 19.1875 8.296875 \nz\n\" id=\"DejaVuSans-50\"/>\n       </defs>\n       <use xlink:href=\"#DejaVuSans-50\"/>\n       <use x=\"63.623047\" xlink:href=\"#DejaVuSans-46\"/>\n       <use x=\"95.410156\" xlink:href=\"#DejaVuSans-48\"/>\n      </g>\n     </g>\n    </g>\n    <g id=\"ytick_5\">\n     <g id=\"line2d_9\">\n      <g>\n       <use style=\"fill:#ffffff;stroke:#ffffff;stroke-width:0.8;\" x=\"43.78125\" xlink:href=\"#m36bc91bc5d\" y=\"59.202099\"/>\n      </g>\n     </g>\n     <g id=\"text_10\">\n      <!-- 2.2 -->\n      <g style=\"fill:#ffffff;\" transform=\"translate(20.878125 63.001318)scale(0.1 -0.1)\">\n       <use xlink:href=\"#DejaVuSans-50\"/>\n       <use x=\"63.623047\" xlink:href=\"#DejaVuSans-46\"/>\n       <use x=\"95.410156\" xlink:href=\"#DejaVuSans-50\"/>\n      </g>\n     </g>\n    </g>\n    <g id=\"ytick_6\">\n     <g id=\"line2d_10\">\n      <g>\n       <use style=\"fill:#ffffff;stroke:#ffffff;stroke-width:0.8;\" x=\"43.78125\" xlink:href=\"#m36bc91bc5d\" y=\"22.713675\"/>\n      </g>\n     </g>\n     <g id=\"text_11\">\n      <!-- 2.4 -->\n      <g style=\"fill:#ffffff;\" transform=\"translate(20.878125 26.512893)scale(0.1 -0.1)\">\n       <use xlink:href=\"#DejaVuSans-50\"/>\n       <use x=\"63.623047\" xlink:href=\"#DejaVuSans-46\"/>\n       <use x=\"95.410156\" xlink:href=\"#DejaVuSans-52\"/>\n      </g>\n     </g>\n    </g>\n    <g id=\"text_12\">\n     <!-- Loss -->\n     <g style=\"fill:#ffffff;\" transform=\"translate(14.798438 126.887188)rotate(-90)scale(0.1 -0.1)\">\n      <defs>\n       <path d=\"M 30.609375 48.390625 \nQ 23.390625 48.390625 19.1875 42.75 \nQ 14.984375 37.109375 14.984375 27.296875 \nQ 14.984375 17.484375 19.15625 11.84375 \nQ 23.34375 6.203125 30.609375 6.203125 \nQ 37.796875 6.203125 41.984375 11.859375 \nQ 46.1875 17.53125 46.1875 27.296875 \nQ 46.1875 37.015625 41.984375 42.703125 \nQ 37.796875 48.390625 30.609375 48.390625 \nz\nM 30.609375 56 \nQ 42.328125 56 49.015625 48.375 \nQ 55.71875 40.765625 55.71875 27.296875 \nQ 55.71875 13.875 49.015625 6.21875 \nQ 42.328125 -1.421875 30.609375 -1.421875 \nQ 18.84375 -1.421875 12.171875 6.21875 \nQ 5.515625 13.875 5.515625 27.296875 \nQ 5.515625 40.765625 12.171875 48.375 \nQ 18.84375 56 30.609375 56 \nz\n\" id=\"DejaVuSans-111\"/>\n       <path d=\"M 44.28125 53.078125 \nL 44.28125 44.578125 \nQ 40.484375 46.53125 36.375 47.5 \nQ 32.28125 48.484375 27.875 48.484375 \nQ 21.1875 48.484375 17.84375 46.4375 \nQ 14.5 44.390625 14.5 40.28125 \nQ 14.5 37.15625 16.890625 35.375 \nQ 19.28125 33.59375 26.515625 31.984375 \nL 29.59375 31.296875 \nQ 39.15625 29.25 43.1875 25.515625 \nQ 47.21875 21.78125 47.21875 15.09375 \nQ 47.21875 7.46875 41.1875 3.015625 \nQ 35.15625 -1.421875 24.609375 -1.421875 \nQ 20.21875 -1.421875 15.453125 -0.5625 \nQ 10.6875 0.296875 5.421875 2 \nL 5.421875 11.28125 \nQ 10.40625 8.6875 15.234375 7.390625 \nQ 20.0625 6.109375 24.8125 6.109375 \nQ 31.15625 6.109375 34.5625 8.28125 \nQ 37.984375 10.453125 37.984375 14.40625 \nQ 37.984375 18.0625 35.515625 20.015625 \nQ 33.0625 21.96875 24.703125 23.78125 \nL 21.578125 24.515625 \nQ 13.234375 26.265625 9.515625 29.90625 \nQ 5.8125 33.546875 5.8125 39.890625 \nQ 5.8125 47.609375 11.28125 51.796875 \nQ 16.75 56 26.8125 56 \nQ 31.78125 56 36.171875 55.265625 \nQ 40.578125 54.546875 44.28125 53.078125 \nz\n\" id=\"DejaVuSans-115\"/>\n      </defs>\n      <use xlink:href=\"#DejaVuSans-76\"/>\n      <use x=\"53.962891\" xlink:href=\"#DejaVuSans-111\"/>\n      <use x=\"115.144531\" xlink:href=\"#DejaVuSans-115\"/>\n      <use x=\"167.244141\" xlink:href=\"#DejaVuSans-115\"/>\n     </g>\n    </g>\n   </g>\n   <g id=\"line2d_11\">\n    <path clip-path=\"url(#peacdc5d272)\" d=\"M 58.999432 209.089899 \nL 65.086705 202.430846 \nL 68.130341 200.525328 \nL 71.173977 201.070322 \nL 74.217614 200.531431 \nL 77.26125 200.570054 \nL 80.304886 200.277234 \nL 83.348523 199.230182 \nL 86.392159 198.921589 \nL 89.435795 198.929988 \nL 92.479432 198.599226 \nL 95.523068 198.823201 \nL 98.566705 199.052906 \nL 101.610341 198.872395 \nL 104.653977 198.497086 \nL 107.697614 198.547582 \nL 110.74125 198.107719 \nL 113.784886 198.384684 \nL 116.828523 198.273459 \nL 119.872159 198.434643 \nL 122.915795 198.074174 \nL 125.959432 197.837805 \nL 129.003068 197.827505 \nL 132.046705 197.89148 \nL 135.090341 197.86678 \nL 138.133977 197.419491 \nL 141.177614 197.35345 \nL 144.22125 197.141995 \nL 147.264886 197.258345 \nL 150.308523 197.105976 \nL 153.352159 197.293157 \nL 156.395795 197.684663 \nL 159.439432 197.63754 \nL 162.483068 197.602135 \nL 165.526705 197.573732 \nL 168.570341 197.59374 \nL 171.613977 197.63519 \nL 174.657614 197.871936 \nL 177.70125 197.876055 \nL 180.744886 198.140033 \nL 183.788523 198.41835 \nL 186.832159 198.924157 \nL 189.875795 199.104099 \nL 192.919432 199.197343 \nL 195.963068 199.503977 \nL 199.006705 199.783976 \nL 202.050341 200.138141 \nL 205.093977 200.250305 \nL 208.137614 200.593072 \nL 211.18125 201.192374 \nL 214.224886 201.593059 \nL 217.268523 201.99451 \nL 220.312159 202.469421 \nL 223.355795 202.896651 \nL 226.399432 204.562211 \nL 229.443068 204.575215 \nL 232.486705 206.058248 \nL 235.530341 205.785981 \nL 238.573977 206.526251 \nL 241.617614 207.128192 \nL 244.66125 207.031814 \nL 247.704886 208.165944 \nL 250.748523 208.816676 \nL 253.792159 208.336801 \nL 256.835795 209.5944 \nL 259.879432 210.417348 \nL 262.923068 211.003383 \nL 265.966705 211.704253 \nL 269.010341 212.072907 \nL 272.053977 212.576996 \nL 275.097614 214.44537 \nL 278.14125 214.756364 \nL 281.184886 213.119185 \nL 284.228523 214.00769 \nL 287.272159 213.527658 \nL 290.315795 213.762243 \nL 293.359432 211.528935 \nL 296.403068 212.212872 \nL 299.446705 208.444304 \nL 302.490341 208.786313 \nL 305.533977 209.661582 \nL 308.577614 206.682011 \nL 311.62125 207.492423 \nL 314.664886 207.921874 \nL 317.708523 207.610127 \nL 320.752159 207.505141 \nL 323.795795 208.114209 \nL 326.839432 208.113268 \nL 329.883068 208.310614 \nL 332.926705 209.022265 \nL 335.970341 202.977427 \nL 339.013977 197.056349 \nL 342.057614 197.730455 \nL 345.10125 196.525461 \nL 348.144886 194.330672 \nL 351.188523 194.813631 \nL 354.232159 17.083636 \nL 357.275795 22.134083 \nL 360.319432 26.203448 \nL 363.363068 29.071223 \n\" style=\"fill:none;stroke:#8dd3c7;stroke-linecap:square;stroke-width:1.5;\"/>\n   </g>\n   <g id=\"line2d_12\">\n    <path clip-path=\"url(#peacdc5d272)\" d=\"M 357.275795 22.134083 \n\" style=\"fill:none;stroke:#ff0000;stroke-linecap:square;stroke-width:1.5;\"/>\n    <defs>\n     <path d=\"M 0 5 \nC 1.326016 5 2.597899 4.473168 3.535534 3.535534 \nC 4.473168 2.597899 5 1.326016 5 0 \nC 5 -1.326016 4.473168 -2.597899 3.535534 -3.535534 \nC 2.597899 -4.473168 1.326016 -5 0 -5 \nC -1.326016 -5 -2.597899 -4.473168 -3.535534 -3.535534 \nC -4.473168 -2.597899 -5 -1.326016 -5 0 \nC -5 1.326016 -4.473168 2.597899 -3.535534 3.535534 \nC -2.597899 4.473168 -1.326016 5 0 5 \nz\n\" id=\"mb707f511fd\" style=\"stroke:#ff0000;\"/>\n    </defs>\n    <g clip-path=\"url(#peacdc5d272)\">\n     <use style=\"fill:#ff0000;stroke:#ff0000;\" x=\"357.275795\" xlink:href=\"#mb707f511fd\" y=\"22.134083\"/>\n    </g>\n   </g>\n   <g id=\"patch_3\">\n    <path d=\"M 43.78125 224.64 \nL 43.78125 7.2 \n\" style=\"fill:none;stroke:#ffffff;stroke-linecap:square;stroke-linejoin:miter;stroke-width:0.8;\"/>\n   </g>\n   <g id=\"patch_4\">\n    <path d=\"M 378.58125 224.64 \nL 378.58125 7.2 \n\" style=\"fill:none;stroke:#ffffff;stroke-linecap:square;stroke-linejoin:miter;stroke-width:0.8;\"/>\n   </g>\n   <g id=\"patch_5\">\n    <path d=\"M 43.78125 224.64 \nL 378.58125 224.64 \n\" style=\"fill:none;stroke:#ffffff;stroke-linecap:square;stroke-linejoin:miter;stroke-width:0.8;\"/>\n   </g>\n   <g id=\"patch_6\">\n    <path d=\"M 43.78125 7.2 \nL 378.58125 7.2 \n\" style=\"fill:none;stroke:#ffffff;stroke-linecap:square;stroke-linejoin:miter;stroke-width:0.8;\"/>\n   </g>\n  </g>\n </g>\n <defs>\n  <clipPath id=\"peacdc5d272\">\n   <rect height=\"217.44\" width=\"334.8\" x=\"43.78125\" y=\"7.2\"/>\n  </clipPath>\n </defs>\n</svg>\n",
      "image/png": "[encoded data removed]"
     },
     "metadata": {}
    }
   ],
   "source": [
    "# Run learning rate finder\n",
    "lr_finder = trainer.tuner.lr_find(model, datamodule=data_module)\n",
    "# Results can be found in\n",
    "lr_finder.results\n",
    "# Plot with\n",
    "fig = lr_finder.plot(suggest=True)\n",
    "fig.show()\n",
    "# Pick point based on plot, or get suggestion\n",
    "new_lr = lr_finder.suggestion()\n",
    "print(new_lr)\n",
    "# update hparams of the model\n",
    "#model.hparams.learning_rate = new_lr"
   ]
  },
  {
   "source": [
    "## Train"
   ],
   "cell_type": "markdown",
   "metadata": {}
  },
  {
   "cell_type": "code",
   "execution_count": 8,
   "metadata": {
    "tags": [
     "outputPrepend"
    ]
   },
   "outputs": [
    {
     "output_type": "stream",
     "name": "stderr",
     "text": [
      "_epoch=1.180]\n",
      "Epoch 3:  88%|████████▊ | 1161/1314 [31:30<04:09,  1.63s/it, loss=1.21, v_num=0, train_loss_step=1.260, train_loss_epoch=1.180]\n",
      "Epoch 3:  88%|████████▊ | 1162/1314 [31:32<04:07,  1.63s/it, loss=1.21, v_num=0, train_loss_step=1.260, train_loss_epoch=1.180]\n",
      "Epoch 3:  89%|████████▊ | 1163/1314 [31:34<04:05,  1.63s/it, loss=1.21, v_num=0, train_loss_step=1.260, train_loss_epoch=1.180]\n",
      "Epoch 3:  89%|████████▊ | 1164/1314 [31:35<04:04,  1.63s/it, loss=1.21, v_num=0, train_loss_step=1.260, train_loss_epoch=1.180]\n",
      "Epoch 3:  89%|████████▊ | 1165/1314 [31:37<04:02,  1.63s/it, loss=1.21, v_num=0, train_loss_step=1.260, train_loss_epoch=1.180]\n",
      "Epoch 3:  89%|████████▊ | 1166/1314 [31:38<04:00,  1.63s/it, loss=1.21, v_num=0, train_loss_step=1.260, train_loss_epoch=1.180]\n",
      "Epoch 3:  89%|████████▉ | 1167/1314 [31:40<03:59,  1.63s/it, loss=1.21, v_num=0, train_loss_step=1.260, train_loss_epoch=1.180]\n",
      "Epoch 3:  89%|████████▉ | 1168/1314 [31:41<03:57,  1.63s/it, loss=1.21, v_num=0, train_loss_step=1.260, train_loss_epoch=1.180]\n",
      "Epoch 3:  89%|████████▉ | 1169/1314 [31:43<03:56,  1.63s/it, loss=1.21, v_num=0, train_loss_step=1.260, train_loss_epoch=1.180]\n",
      "Epoch 3:  89%|████████▉ | 1170/1314 [31:44<03:54,  1.63s/it, loss=1.21, v_num=0, train_loss_step=1.260, train_loss_epoch=1.180]\n",
      "Epoch 3:  89%|████████▉ | 1171/1314 [31:46<03:52,  1.63s/it, loss=1.21, v_num=0, train_loss_step=1.260, train_loss_epoch=1.180]\n",
      "Epoch 3:  89%|████████▉ | 1172/1314 [31:47<03:51,  1.63s/it, loss=1.21, v_num=0, train_loss_step=1.260, train_loss_epoch=1.180]\n",
      "Epoch 3:  89%|████████▉ | 1173/1314 [31:49<03:49,  1.63s/it, loss=1.21, v_num=0, train_loss_step=1.260, train_loss_epoch=1.180]\n",
      "Epoch 3:  89%|████████▉ | 1174/1314 [31:50<03:47,  1.63s/it, loss=1.21, v_num=0, train_loss_step=1.260, train_loss_epoch=1.180]\n",
      "Epoch 3:  89%|████████▉ | 1175/1314 [31:51<03:46,  1.63s/it, loss=1.21, v_num=0, train_loss_step=1.260, train_loss_epoch=1.180]\n",
      "Epoch 3:  89%|████████▉ | 1176/1314 [31:53<03:44,  1.63s/it, loss=1.21, v_num=0, train_loss_step=1.260, train_loss_epoch=1.180]\n",
      "Epoch 3:  90%|████████▉ | 1177/1314 [31:54<03:42,  1.63s/it, loss=1.21, v_num=0, train_loss_step=1.260, train_loss_epoch=1.180]\n",
      "Epoch 3:  90%|████████▉ | 1178/1314 [31:56<03:41,  1.63s/it, loss=1.21, v_num=0, train_loss_step=1.260, train_loss_epoch=1.180]\n",
      "Epoch 3:  90%|████████▉ | 1179/1314 [31:57<03:39,  1.63s/it, loss=1.21, v_num=0, train_loss_step=1.260, train_loss_epoch=1.180]\n",
      "Epoch 3:  90%|████████▉ | 1180/1314 [31:59<03:37,  1.63s/it, loss=1.21, v_num=0, train_loss_step=1.260, train_loss_epoch=1.180]\n",
      "Epoch 3:  90%|████████▉ | 1181/1314 [32:00<03:36,  1.63s/it, loss=1.21, v_num=0, train_loss_step=1.260, train_loss_epoch=1.180]\n",
      "Epoch 3:  90%|████████▉ | 1182/1314 [32:02<03:34,  1.63s/it, loss=1.21, v_num=0, train_loss_step=1.260, train_loss_epoch=1.180]\n",
      "Epoch 3:  90%|█████████ | 1183/1314 [32:03<03:33,  1.63s/it, loss=1.21, v_num=0, train_loss_step=1.260, train_loss_epoch=1.180]\n",
      "Epoch 3:  90%|█████████ | 1184/1314 [32:05<03:31,  1.63s/it, loss=1.21, v_num=0, train_loss_step=1.260, train_loss_epoch=1.180]\n",
      "Epoch 3:  90%|█████████ | 1185/1314 [32:06<03:29,  1.63s/it, loss=1.21, v_num=0, train_loss_step=1.260, train_loss_epoch=1.180]\n",
      "Epoch 3:  90%|█████████ | 1186/1314 [32:08<03:28,  1.63s/it, loss=1.21, v_num=0, train_loss_step=1.260, train_loss_epoch=1.180]\n",
      "Epoch 3:  90%|█████████ | 1187/1314 [32:09<03:26,  1.63s/it, loss=1.21, v_num=0, train_loss_step=1.260, train_loss_epoch=1.180]\n",
      "Epoch 3:  90%|█████████ | 1188/1314 [32:11<03:24,  1.63s/it, loss=1.21, v_num=0, train_loss_step=1.260, train_loss_epoch=1.180]\n",
      "Epoch 3:  90%|█████████ | 1189/1314 [32:12<03:23,  1.63s/it, loss=1.21, v_num=0, train_loss_step=1.260, train_loss_epoch=1.180]\n",
      "Epoch 3:  91%|█████████ | 1190/1314 [32:14<03:21,  1.63s/it, loss=1.21, v_num=0, train_loss_step=1.260, train_loss_epoch=1.180]\n",
      "Epoch 3:  91%|█████████ | 1191/1314 [32:15<03:19,  1.63s/it, loss=1.21, v_num=0, train_loss_step=1.260, train_loss_epoch=1.180]\n",
      "Epoch 3:  91%|█████████ | 1192/1314 [32:17<03:18,  1.63s/it, loss=1.21, v_num=0, train_loss_step=1.260, train_loss_epoch=1.180]\n",
      "Epoch 3:  91%|█████████ | 1193/1314 [32:18<03:16,  1.63s/it, loss=1.21, v_num=0, train_loss_step=1.260, train_loss_epoch=1.180]\n",
      "Epoch 3:  91%|█████████ | 1194/1314 [32:20<03:15,  1.63s/it, loss=1.21, v_num=0, train_loss_step=1.260, train_loss_epoch=1.180]\n",
      "Epoch 3:  91%|█████████ | 1195/1314 [32:22<03:13,  1.63s/it, loss=1.21, v_num=0, train_loss_step=1.260, train_loss_epoch=1.180]\n",
      "Epoch 3:  91%|█████████ | 1196/1314 [32:23<03:11,  1.63s/it, loss=1.21, v_num=0, train_loss_step=1.260, train_loss_epoch=1.180]\n",
      "Epoch 3:  91%|█████████ | 1197/1314 [32:25<03:10,  1.63s/it, loss=1.21, v_num=0, train_loss_step=1.260, train_loss_epoch=1.180]\n",
      "Epoch 3:  91%|█████████ | 1198/1314 [32:26<03:08,  1.63s/it, loss=1.21, v_num=0, train_loss_step=1.260, train_loss_epoch=1.180]\n",
      "Epoch 3:  91%|█████████ | 1199/1314 [32:28<03:06,  1.63s/it, loss=1.21, v_num=0, train_loss_step=1.260, train_loss_epoch=1.180]\n",
      "Epoch 3:  91%|█████████▏| 1200/1314 [32:30<03:05,  1.63s/it, loss=1.21, v_num=0, train_loss_step=1.260, train_loss_epoch=1.180]\n",
      "Epoch 3:  91%|█████████▏| 1201/1314 [32:31<03:03,  1.63s/it, loss=1.21, v_num=0, train_loss_step=1.260, train_loss_epoch=1.180]\n",
      "Epoch 3:  91%|█████████▏| 1202/1314 [32:33<03:01,  1.62s/it, loss=1.21, v_num=0, train_loss_step=1.260, train_loss_epoch=1.180]\n",
      "Epoch 3:  92%|█████████▏| 1203/1314 [32:34<03:00,  1.62s/it, loss=1.21, v_num=0, train_loss_step=1.260, train_loss_epoch=1.180]\n",
      "Epoch 3:  92%|█████████▏| 1204/1314 [32:35<02:58,  1.62s/it, loss=1.21, v_num=0, train_loss_step=1.260, train_loss_epoch=1.180]\n",
      "Epoch 3:  92%|█████████▏| 1205/1314 [32:37<02:57,  1.62s/it, loss=1.21, v_num=0, train_loss_step=1.260, train_loss_epoch=1.180]\n",
      "Epoch 3:  92%|█████████▏| 1206/1314 [32:39<02:55,  1.62s/it, loss=1.21, v_num=0, train_loss_step=1.260, train_loss_epoch=1.180]\n",
      "Epoch 3:  92%|█████████▏| 1207/1314 [32:40<02:53,  1.62s/it, loss=1.21, v_num=0, train_loss_step=1.260, train_loss_epoch=1.180]\n",
      "Epoch 3:  92%|█████████▏| 1208/1314 [32:42<02:52,  1.62s/it, loss=1.21, v_num=0, train_loss_step=1.260, train_loss_epoch=1.180]\n",
      "Epoch 3:  92%|█████████▏| 1209/1314 [32:43<02:50,  1.62s/it, loss=1.21, v_num=0, train_loss_step=1.260, train_loss_epoch=1.180]\n",
      "Epoch 3:  92%|█████████▏| 1210/1314 [32:45<02:48,  1.62s/it, loss=1.21, v_num=0, train_loss_step=1.260, train_loss_epoch=1.180]\n",
      "Epoch 3:  92%|█████████▏| 1211/1314 [32:47<02:47,  1.62s/it, loss=1.21, v_num=0, train_loss_step=1.260, train_loss_epoch=1.180]\n",
      "Epoch 3:  92%|█████████▏| 1212/1314 [32:48<02:45,  1.62s/it, loss=1.21, v_num=0, train_loss_step=1.260, train_loss_epoch=1.180]\n",
      "Epoch 3:  92%|█████████▏| 1213/1314 [32:50<02:44,  1.62s/it, loss=1.21, v_num=0, train_loss_step=1.260, train_loss_epoch=1.180]\n",
      "Epoch 3:  92%|█████████▏| 1214/1314 [32:52<02:42,  1.62s/it, loss=1.21, v_num=0, train_loss_step=1.260, train_loss_epoch=1.180]\n",
      "Epoch 3:  92%|█████████▏| 1215/1314 [32:54<02:40,  1.62s/it, loss=1.21, v_num=0, train_loss_step=1.260, train_loss_epoch=1.180]\n",
      "Epoch 3:  93%|█████████▎| 1216/1314 [32:55<02:39,  1.62s/it, loss=1.21, v_num=0, train_loss_step=1.260, train_loss_epoch=1.180]\n",
      "Epoch 3:  93%|█████████▎| 1217/1314 [32:57<02:37,  1.62s/it, loss=1.21, v_num=0, train_loss_step=1.260, train_loss_epoch=1.180]\n",
      "Epoch 3:  93%|█████████▎| 1218/1314 [32:58<02:35,  1.62s/it, loss=1.21, v_num=0, train_loss_step=1.260, train_loss_epoch=1.180]\n",
      "Epoch 3:  93%|█████████▎| 1219/1314 [33:00<02:34,  1.62s/it, loss=1.21, v_num=0, train_loss_step=1.260, train_loss_epoch=1.180]\n",
      "Epoch 3:  93%|█████████▎| 1220/1314 [33:02<02:32,  1.63s/it, loss=1.21, v_num=0, train_loss_step=1.260, train_loss_epoch=1.180]\n",
      "Epoch 3:  93%|█████████▎| 1221/1314 [33:04<02:31,  1.63s/it, loss=1.21, v_num=0, train_loss_step=1.260, train_loss_epoch=1.180]\n",
      "Epoch 3:  93%|█████████▎| 1222/1314 [33:05<02:29,  1.62s/it, loss=1.21, v_num=0, train_loss_step=1.260, train_loss_epoch=1.180]\n",
      "Epoch 3:  93%|█████████▎| 1223/1314 [33:07<02:27,  1.62s/it, loss=1.21, v_num=0, train_loss_step=1.260, train_loss_epoch=1.180]\n",
      "Epoch 3:  93%|█████████▎| 1224/1314 [33:08<02:26,  1.62s/it, loss=1.21, v_num=0, train_loss_step=1.260, train_loss_epoch=1.180]\n",
      "Epoch 3:  93%|█████████▎| 1225/1314 [33:09<02:24,  1.62s/it, loss=1.21, v_num=0, train_loss_step=1.260, train_loss_epoch=1.180]\n",
      "Epoch 3:  93%|█████████▎| 1226/1314 [33:11<02:22,  1.62s/it, loss=1.21, v_num=0, train_loss_step=1.260, train_loss_epoch=1.180]\n",
      "Epoch 3:  93%|█████████▎| 1227/1314 [33:13<02:21,  1.62s/it, loss=1.21, v_num=0, train_loss_step=1.260, train_loss_epoch=1.180]\n",
      "Epoch 3:  93%|█████████▎| 1228/1314 [33:14<02:19,  1.62s/it, loss=1.21, v_num=0, train_loss_step=1.260, train_loss_epoch=1.180]\n",
      "Epoch 3:  94%|█████████▎| 1229/1314 [33:16<02:18,  1.62s/it, loss=1.21, v_num=0, train_loss_step=1.260, train_loss_epoch=1.180]\n",
      "Epoch 3:  94%|█████████▎| 1230/1314 [33:17<02:16,  1.62s/it, loss=1.21, v_num=0, train_loss_step=1.260, train_loss_epoch=1.180]\n",
      "Epoch 3:  94%|█████████▎| 1231/1314 [33:19<02:14,  1.62s/it, loss=1.21, v_num=0, train_loss_step=1.260, train_loss_epoch=1.180]\n",
      "Epoch 3:  94%|█████████▍| 1232/1314 [33:20<02:13,  1.62s/it, loss=1.21, v_num=0, train_loss_step=1.260, train_loss_epoch=1.180]\n",
      "Epoch 3:  94%|█████████▍| 1233/1314 [33:22<02:11,  1.62s/it, loss=1.21, v_num=0, train_loss_step=1.260, train_loss_epoch=1.180]\n",
      "Epoch 3:  94%|█████████▍| 1234/1314 [33:23<02:09,  1.62s/it, loss=1.21, v_num=0, train_loss_step=1.260, train_loss_epoch=1.180]\n",
      "Epoch 3:  94%|█████████▍| 1235/1314 [33:25<02:08,  1.62s/it, loss=1.21, v_num=0, train_loss_step=1.260, train_loss_epoch=1.180]\n",
      "Epoch 3:  94%|█████████▍| 1236/1314 [33:27<02:06,  1.62s/it, loss=1.21, v_num=0, train_loss_step=1.260, train_loss_epoch=1.180]\n",
      "Epoch 3:  94%|█████████▍| 1237/1314 [33:29<02:05,  1.62s/it, loss=1.21, v_num=0, train_loss_step=1.260, train_loss_epoch=1.180]\n",
      "Epoch 3:  94%|█████████▍| 1238/1314 [33:30<02:03,  1.62s/it, loss=1.21, v_num=0, train_loss_step=1.260, train_loss_epoch=1.180]\n",
      "Epoch 3:  94%|█████████▍| 1239/1314 [33:32<02:01,  1.62s/it, loss=1.21, v_num=0, train_loss_step=1.260, train_loss_epoch=1.180]\n",
      "Epoch 3:  94%|█████████▍| 1240/1314 [33:33<02:00,  1.62s/it, loss=1.21, v_num=0, train_loss_step=1.260, train_loss_epoch=1.180]\n",
      "Epoch 3:  94%|█████████▍| 1241/1314 [33:35<01:58,  1.62s/it, loss=1.21, v_num=0, train_loss_step=1.260, train_loss_epoch=1.180]\n",
      "Epoch 3:  95%|█████████▍| 1242/1314 [33:37<01:56,  1.62s/it, loss=1.21, v_num=0, train_loss_step=1.260, train_loss_epoch=1.180]\n",
      "Epoch 3:  95%|█████████▍| 1243/1314 [33:39<01:55,  1.62s/it, loss=1.21, v_num=0, train_loss_step=1.260, train_loss_epoch=1.180]\n",
      "Epoch 3:  95%|█████████▍| 1244/1314 [33:40<01:53,  1.62s/it, loss=1.21, v_num=0, train_loss_step=1.260, train_loss_epoch=1.180]\n",
      "Epoch 3:  95%|█████████▍| 1245/1314 [33:42<01:52,  1.62s/it, loss=1.21, v_num=0, train_loss_step=1.260, train_loss_epoch=1.180]\n",
      "Epoch 3:  95%|█████████▍| 1246/1314 [33:44<01:50,  1.62s/it, loss=1.21, v_num=0, train_loss_step=1.260, train_loss_epoch=1.180]\n",
      "Epoch 3:  95%|█████████▍| 1247/1314 [33:45<01:48,  1.62s/it, loss=1.21, v_num=0, train_loss_step=1.260, train_loss_epoch=1.180]\n",
      "Epoch 3:  95%|█████████▍| 1248/1314 [33:47<01:47,  1.62s/it, loss=1.21, v_num=0, train_loss_step=1.260, train_loss_epoch=1.180]\n",
      "Epoch 3:  95%|█████████▌| 1249/1314 [33:48<01:45,  1.62s/it, loss=1.21, v_num=0, train_loss_step=1.260, train_loss_epoch=1.180]\n",
      "Epoch 3:  95%|█████████▌| 1250/1314 [33:50<01:43,  1.62s/it, loss=1.21, v_num=0, train_loss_step=1.260, train_loss_epoch=1.180]\n",
      "Epoch 3:  95%|█████████▌| 1251/1314 [33:51<01:42,  1.62s/it, loss=1.21, v_num=0, train_loss_step=1.260, train_loss_epoch=1.180]\n",
      "Epoch 3:  95%|█████████▌| 1252/1314 [33:53<01:40,  1.62s/it, loss=1.21, v_num=0, train_loss_step=1.260, train_loss_epoch=1.180]\n",
      "Epoch 3:  95%|█████████▌| 1253/1314 [33:55<01:39,  1.62s/it, loss=1.21, v_num=0, train_loss_step=1.260, train_loss_epoch=1.180]\n",
      "Epoch 3:  95%|█████████▌| 1254/1314 [33:56<01:37,  1.62s/it, loss=1.21, v_num=0, train_loss_step=1.260, train_loss_epoch=1.180]\n",
      "Epoch 3:  96%|█████████▌| 1255/1314 [33:58<01:35,  1.62s/it, loss=1.21, v_num=0, train_loss_step=1.260, train_loss_epoch=1.180]\n",
      "Epoch 3:  96%|█████████▌| 1256/1314 [34:00<01:34,  1.62s/it, loss=1.21, v_num=0, train_loss_step=1.260, train_loss_epoch=1.180]\n",
      "Epoch 3:  96%|█████████▌| 1257/1314 [34:02<01:32,  1.62s/it, loss=1.21, v_num=0, train_loss_step=1.260, train_loss_epoch=1.180]\n",
      "Epoch 3:  96%|█████████▌| 1258/1314 [34:03<01:30,  1.62s/it, loss=1.21, v_num=0, train_loss_step=1.260, train_loss_epoch=1.180]\n",
      "Epoch 3:  96%|█████████▌| 1259/1314 [34:05<01:29,  1.62s/it, loss=1.21, v_num=0, train_loss_step=1.260, train_loss_epoch=1.180]\n",
      "Epoch 3:  96%|█████████▌| 1260/1314 [34:06<01:27,  1.62s/it, loss=1.21, v_num=0, train_loss_step=1.260, train_loss_epoch=1.180]\n",
      "Epoch 3:  96%|█████████▌| 1261/1314 [34:08<01:26,  1.62s/it, loss=1.21, v_num=0, train_loss_step=1.260, train_loss_epoch=1.180]\n",
      "Epoch 3:  96%|█████████▌| 1262/1314 [34:09<01:24,  1.62s/it, loss=1.21, v_num=0, train_loss_step=1.260, train_loss_epoch=1.180]\n",
      "Epoch 3:  96%|█████████▌| 1263/1314 [34:11<01:22,  1.62s/it, loss=1.21, v_num=0, train_loss_step=1.260, train_loss_epoch=1.180]\n",
      "Epoch 3:  96%|█████████▌| 1264/1314 [34:13<01:21,  1.62s/it, loss=1.21, v_num=0, train_loss_step=1.260, train_loss_epoch=1.180]\n",
      "Epoch 3:  96%|█████████▋| 1265/1314 [34:15<01:19,  1.62s/it, loss=1.21, v_num=0, train_loss_step=1.260, train_loss_epoch=1.180]\n",
      "Epoch 3:  96%|█████████▋| 1266/1314 [34:17<01:17,  1.62s/it, loss=1.21, v_num=0, train_loss_step=1.260, train_loss_epoch=1.180]\n",
      "Epoch 3:  96%|█████████▋| 1267/1314 [34:19<01:16,  1.63s/it, loss=1.21, v_num=0, train_loss_step=1.260, train_loss_epoch=1.180]\n",
      "Epoch 3:  96%|█████████▋| 1268/1314 [34:21<01:14,  1.63s/it, loss=1.21, v_num=0, train_loss_step=1.260, train_loss_epoch=1.180]\n",
      "Epoch 3:  97%|█████████▋| 1269/1314 [34:22<01:13,  1.63s/it, loss=1.21, v_num=0, train_loss_step=1.260, train_loss_epoch=1.180]\n",
      "Epoch 3:  97%|█████████▋| 1270/1314 [34:24<01:11,  1.63s/it, loss=1.21, v_num=0, train_loss_step=1.260, train_loss_epoch=1.180]\n",
      "Epoch 3:  97%|█████████▋| 1271/1314 [34:25<01:09,  1.63s/it, loss=1.21, v_num=0, train_loss_step=1.260, train_loss_epoch=1.180]\n",
      "Epoch 3:  97%|█████████▋| 1272/1314 [34:27<01:08,  1.63s/it, loss=1.21, v_num=0, train_loss_step=1.260, train_loss_epoch=1.180]\n",
      "Epoch 3:  97%|█████████▋| 1273/1314 [34:29<01:06,  1.63s/it, loss=1.21, v_num=0, train_loss_step=1.260, train_loss_epoch=1.180]\n",
      "Epoch 3:  97%|█████████▋| 1274/1314 [34:30<01:05,  1.63s/it, loss=1.21, v_num=0, train_loss_step=1.260, train_loss_epoch=1.180]\n",
      "Epoch 3:  97%|█████████▋| 1275/1314 [34:32<01:03,  1.63s/it, loss=1.21, v_num=0, train_loss_step=1.260, train_loss_epoch=1.180]\n",
      "Epoch 3:  97%|█████████▋| 1276/1314 [34:33<01:01,  1.63s/it, loss=1.21, v_num=0, train_loss_step=1.260, train_loss_epoch=1.180]\n",
      "Epoch 3:  97%|█████████▋| 1277/1314 [34:35<01:00,  1.63s/it, loss=1.21, v_num=0, train_loss_step=1.260, train_loss_epoch=1.180]\n",
      "Epoch 3:  97%|█████████▋| 1278/1314 [34:37<00:58,  1.63s/it, loss=1.21, v_num=0, train_loss_step=1.260, train_loss_epoch=1.180]\n",
      "Epoch 3:  97%|█████████▋| 1279/1314 [34:39<00:56,  1.63s/it, loss=1.21, v_num=0, train_loss_step=1.260, train_loss_epoch=1.180]\n",
      "Epoch 3:  97%|█████████▋| 1280/1314 [34:40<00:55,  1.63s/it, loss=1.21, v_num=0, train_loss_step=1.260, train_loss_epoch=1.180]\n",
      "Epoch 3:  97%|█████████▋| 1281/1314 [34:42<00:53,  1.63s/it, loss=1.21, v_num=0, train_loss_step=1.260, train_loss_epoch=1.180]\n",
      "Epoch 3:  98%|█████████▊| 1282/1314 [34:44<00:52,  1.63s/it, loss=1.21, v_num=0, train_loss_step=1.260, train_loss_epoch=1.180]\n",
      "Epoch 3:  98%|█████████▊| 1283/1314 [34:46<00:50,  1.63s/it, loss=1.21, v_num=0, train_loss_step=1.260, train_loss_epoch=1.180]\n",
      "Epoch 3:  98%|█████████▊| 1284/1314 [34:48<00:48,  1.63s/it, loss=1.21, v_num=0, train_loss_step=1.260, train_loss_epoch=1.180]\n",
      "Epoch 3:  98%|█████████▊| 1285/1314 [34:49<00:47,  1.63s/it, loss=1.21, v_num=0, train_loss_step=1.260, train_loss_epoch=1.180]\n",
      "Epoch 3:  98%|█████████▊| 1286/1314 [34:51<00:45,  1.63s/it, loss=1.21, v_num=0, train_loss_step=1.260, train_loss_epoch=1.180]\n",
      "Epoch 3:  98%|█████████▊| 1287/1314 [34:52<00:43,  1.63s/it, loss=1.21, v_num=0, train_loss_step=1.260, train_loss_epoch=1.180]\n",
      "Epoch 3:  98%|█████████▊| 1288/1314 [34:54<00:42,  1.63s/it, loss=1.21, v_num=0, train_loss_step=1.260, train_loss_epoch=1.180]\n",
      "Epoch 3:  98%|█████████▊| 1289/1314 [34:55<00:40,  1.63s/it, loss=1.21, v_num=0, train_loss_step=1.260, train_loss_epoch=1.180]\n",
      "Epoch 3:  98%|█████████▊| 1290/1314 [34:57<00:39,  1.63s/it, loss=1.21, v_num=0, train_loss_step=1.260, train_loss_epoch=1.180]\n",
      "Epoch 3:  98%|█████████▊| 1291/1314 [34:58<00:37,  1.63s/it, loss=1.21, v_num=0, train_loss_step=1.260, train_loss_epoch=1.180]\n",
      "Epoch 3:  98%|█████████▊| 1292/1314 [34:59<00:35,  1.63s/it, loss=1.21, v_num=0, train_loss_step=1.260, train_loss_epoch=1.180]\n",
      "Epoch 3:  98%|█████████▊| 1293/1314 [35:01<00:34,  1.62s/it, loss=1.21, v_num=0, train_loss_step=1.260, train_loss_epoch=1.180]\n",
      "Epoch 3:  98%|█████████▊| 1294/1314 [35:02<00:32,  1.63s/it, loss=1.21, v_num=0, train_loss_step=1.260, train_loss_epoch=1.180]\n",
      "Epoch 3:  99%|█████████▊| 1295/1314 [35:04<00:30,  1.63s/it, loss=1.21, v_num=0, train_loss_step=1.260, train_loss_epoch=1.180]\n",
      "Epoch 3:  99%|█████████▊| 1296/1314 [35:06<00:29,  1.63s/it, loss=1.21, v_num=0, train_loss_step=1.260, train_loss_epoch=1.180]\n",
      "Epoch 3:  99%|█████████▊| 1297/1314 [35:07<00:27,  1.63s/it, loss=1.21, v_num=0, train_loss_step=1.260, train_loss_epoch=1.180]\n",
      "Epoch 3:  99%|█████████▉| 1298/1314 [35:09<00:25,  1.62s/it, loss=1.21, v_num=0, train_loss_step=1.260, train_loss_epoch=1.180]\n",
      "Epoch 3:  99%|█████████▉| 1299/1314 [35:10<00:24,  1.62s/it, loss=1.21, v_num=0, train_loss_step=1.260, train_loss_epoch=1.180]\n",
      "Epoch 3:  99%|█████████▉| 1300/1314 [35:11<00:22,  1.62s/it, loss=1.21, v_num=0, train_loss_step=1.260, train_loss_epoch=1.180]\n",
      "Epoch 3:  99%|█████████▉| 1301/1314 [35:13<00:21,  1.62s/it, loss=1.21, v_num=0, train_loss_step=1.260, train_loss_epoch=1.180]\n",
      "Epoch 3:  99%|█████████▉| 1302/1314 [35:14<00:19,  1.62s/it, loss=1.21, v_num=0, train_loss_step=1.260, train_loss_epoch=1.180]\n",
      "Epoch 3:  99%|█████████▉| 1303/1314 [35:16<00:17,  1.62s/it, loss=1.21, v_num=0, train_loss_step=1.260, train_loss_epoch=1.180]\n",
      "Epoch 3:  99%|█████████▉| 1304/1314 [35:17<00:16,  1.62s/it, loss=1.21, v_num=0, train_loss_step=1.260, train_loss_epoch=1.180]\n",
      "Epoch 3:  99%|█████████▉| 1305/1314 [35:18<00:14,  1.62s/it, loss=1.21, v_num=0, train_loss_step=1.260, train_loss_epoch=1.180]\n",
      "Epoch 3:  99%|█████████▉| 1306/1314 [35:20<00:12,  1.62s/it, loss=1.21, v_num=0, train_loss_step=1.260, train_loss_epoch=1.180]\n",
      "Epoch 3:  99%|█████████▉| 1307/1314 [35:21<00:11,  1.62s/it, loss=1.21, v_num=0, train_loss_step=1.260, train_loss_epoch=1.180]\n",
      "Epoch 3: 100%|█████████▉| 1308/1314 [35:23<00:09,  1.62s/it, loss=1.21, v_num=0, train_loss_step=1.260, train_loss_epoch=1.180]\n",
      "Epoch 3: 100%|█████████▉| 1309/1314 [35:24<00:08,  1.62s/it, loss=1.21, v_num=0, train_loss_step=1.260, train_loss_epoch=1.180]\n",
      "Epoch 3: 100%|█████████▉| 1310/1314 [35:26<00:06,  1.62s/it, loss=1.21, v_num=0, train_loss_step=1.260, train_loss_epoch=1.180]\n",
      "Epoch 3: 100%|█████████▉| 1311/1314 [35:28<00:04,  1.62s/it, loss=1.21, v_num=0, train_loss_step=1.260, train_loss_epoch=1.180]\n",
      "Epoch 3: 100%|█████████▉| 1312/1314 [35:29<00:03,  1.62s/it, loss=1.21, v_num=0, train_loss_step=1.260, train_loss_epoch=1.180]\n",
      "Epoch 3: 100%|█████████▉| 1313/1314 [35:31<00:01,  1.62s/it, loss=1.21, v_num=0, train_loss_step=1.260, train_loss_epoch=1.180]\n",
      "Epoch 3: 100%|██████████| 1314/1314 [35:33<00:00,  1.62s/it, loss=1.21, v_num=0, train_loss_step=1.260, train_loss_epoch=1.180]\n",
      "Epoch 3: 100%|██████████| 1314/1314 [35:33<00:00,  1.62s/it, loss=1.21, v_num=0, train_loss_step=1.290, train_loss_epoch=1.170]\n",
      "Epoch 3: 100%|██████████| 1314/1314 [35:33<00:00,  1.62s/it, loss=1.21, v_num=0, train_loss_step=1.290, train_loss_epoch=1.170]\n",
      "Finished training\n"
     ]
    }
   ],
   "source": [
    "# train model  \n",
    "model.hparams.learning_rate = 0.01  \n",
    "trainer.fit(model, datamodule=data_module)"
   ]
  },
  {
   "cell_type": "code",
   "execution_count": 8,
   "metadata": {},
   "outputs": [
    {
     "output_type": "error",
     "ename": "AttributeError",
     "evalue": "'NoneType' object has no attribute 'train_dataloader'",
     "traceback": [
      "\u001b[0;31m---------------------------------------------------------------------------\u001b[0m",
      "\u001b[0;31mAttributeError\u001b[0m                            Traceback (most recent call last)",
      "\u001b[0;32m<ipython-input-8-657fdf1d659a>\u001b[0m in \u001b[0;36m<module>\u001b[0;34m\u001b[0m\n\u001b[0;32m----> 1\u001b[0;31m \u001b[0mtrainer\u001b[0m\u001b[0;34m.\u001b[0m\u001b[0mtest\u001b[0m\u001b[0;34m(\u001b[0m\u001b[0mdatamodule\u001b[0m\u001b[0;34m=\u001b[0m\u001b[0mdata_module\u001b[0m\u001b[0;34m)\u001b[0m\u001b[0;34m\u001b[0m\u001b[0;34m\u001b[0m\u001b[0m\n\u001b[0m",
      "\u001b[0;32m~/miniconda3/envs/nlp/lib/python3.9/site-packages/pytorch_lightning/trainer/trainer.py\u001b[0m in \u001b[0;36mtest\u001b[0;34m(self, model, test_dataloaders, ckpt_path, verbose, datamodule)\u001b[0m\n\u001b[1;32m    571\u001b[0m \u001b[0;34m\u001b[0m\u001b[0m\n\u001b[1;32m    572\u001b[0m         \u001b[0;31m# links data to the trainer\u001b[0m\u001b[0;34m\u001b[0m\u001b[0;34m\u001b[0m\u001b[0;34m\u001b[0m\u001b[0m\n\u001b[0;32m--> 573\u001b[0;31m         \u001b[0mself\u001b[0m\u001b[0;34m.\u001b[0m\u001b[0mdata_connector\u001b[0m\u001b[0;34m.\u001b[0m\u001b[0mattach_data\u001b[0m\u001b[0;34m(\u001b[0m\u001b[0mmodel\u001b[0m\u001b[0;34m,\u001b[0m \u001b[0mtest_dataloaders\u001b[0m\u001b[0;34m=\u001b[0m\u001b[0mtest_dataloaders\u001b[0m\u001b[0;34m,\u001b[0m \u001b[0mdatamodule\u001b[0m\u001b[0;34m=\u001b[0m\u001b[0mdatamodule\u001b[0m\u001b[0;34m)\u001b[0m\u001b[0;34m\u001b[0m\u001b[0;34m\u001b[0m\u001b[0m\n\u001b[0m\u001b[1;32m    574\u001b[0m \u001b[0;34m\u001b[0m\u001b[0m\n\u001b[1;32m    575\u001b[0m         \u001b[0;32mif\u001b[0m \u001b[0;32mnot\u001b[0m \u001b[0mmodel_provided\u001b[0m\u001b[0;34m:\u001b[0m\u001b[0;34m\u001b[0m\u001b[0;34m\u001b[0m\u001b[0m\n",
      "\u001b[0;32m~/miniconda3/envs/nlp/lib/python3.9/site-packages/pytorch_lightning/trainer/connectors/data_connector.py\u001b[0m in \u001b[0;36mattach_data\u001b[0;34m(self, model, train_dataloader, val_dataloaders, test_dataloaders, predict_dataloaders, datamodule)\u001b[0m\n\u001b[1;32m     85\u001b[0m             \u001b[0mpredict_dataloaders\u001b[0m\u001b[0;34m=\u001b[0m\u001b[0mpredict_dataloaders\u001b[0m\u001b[0;34m,\u001b[0m\u001b[0;34m\u001b[0m\u001b[0;34m\u001b[0m\u001b[0m\n\u001b[1;32m     86\u001b[0m         )\n\u001b[0;32m---> 87\u001b[0;31m         \u001b[0mself\u001b[0m\u001b[0;34m.\u001b[0m\u001b[0mattach_datamodule\u001b[0m\u001b[0;34m(\u001b[0m\u001b[0mmodel\u001b[0m\u001b[0;34m,\u001b[0m \u001b[0mdatamodule\u001b[0m\u001b[0;34m=\u001b[0m\u001b[0mdatamodule\u001b[0m\u001b[0;34m)\u001b[0m\u001b[0;34m\u001b[0m\u001b[0;34m\u001b[0m\u001b[0m\n\u001b[0m\u001b[1;32m     88\u001b[0m         \u001b[0;31m# set local properties on the model\u001b[0m\u001b[0;34m\u001b[0m\u001b[0;34m\u001b[0m\u001b[0;34m\u001b[0m\u001b[0m\n\u001b[1;32m     89\u001b[0m         \u001b[0mself\u001b[0m\u001b[0;34m.\u001b[0m\u001b[0mtrainer\u001b[0m\u001b[0;34m.\u001b[0m\u001b[0mmodel_connector\u001b[0m\u001b[0;34m.\u001b[0m\u001b[0mcopy_trainer_model_properties\u001b[0m\u001b[0;34m(\u001b[0m\u001b[0mmodel\u001b[0m\u001b[0;34m)\u001b[0m\u001b[0;34m\u001b[0m\u001b[0;34m\u001b[0m\u001b[0m\n",
      "\u001b[0;32m~/miniconda3/envs/nlp/lib/python3.9/site-packages/pytorch_lightning/trainer/connectors/data_connector.py\u001b[0m in \u001b[0;36mattach_datamodule\u001b[0;34m(self, model, datamodule)\u001b[0m\n\u001b[1;32m    124\u001b[0m             \u001b[0;32mfor\u001b[0m \u001b[0mmethod\u001b[0m \u001b[0;32min\u001b[0m \u001b[0mdl_methods\u001b[0m\u001b[0;34m:\u001b[0m\u001b[0;34m\u001b[0m\u001b[0;34m\u001b[0m\u001b[0m\n\u001b[1;32m    125\u001b[0m                 \u001b[0;32mif\u001b[0m \u001b[0mis_overridden\u001b[0m\u001b[0;34m(\u001b[0m\u001b[0mmethod\u001b[0m\u001b[0;34m,\u001b[0m \u001b[0mdatamodule\u001b[0m\u001b[0;34m)\u001b[0m\u001b[0;34m:\u001b[0m\u001b[0;34m\u001b[0m\u001b[0;34m\u001b[0m\u001b[0m\n\u001b[0;32m--> 126\u001b[0;31m                     \u001b[0msetattr\u001b[0m\u001b[0;34m(\u001b[0m\u001b[0mmodel\u001b[0m\u001b[0;34m,\u001b[0m \u001b[0mmethod\u001b[0m\u001b[0;34m,\u001b[0m \u001b[0mgetattr\u001b[0m\u001b[0;34m(\u001b[0m\u001b[0mdatamodule\u001b[0m\u001b[0;34m,\u001b[0m \u001b[0mmethod\u001b[0m\u001b[0;34m)\u001b[0m\u001b[0;34m)\u001b[0m\u001b[0;34m\u001b[0m\u001b[0;34m\u001b[0m\u001b[0m\n\u001b[0m\u001b[1;32m    127\u001b[0m \u001b[0;34m\u001b[0m\u001b[0m\n\u001b[1;32m    128\u001b[0m             \u001b[0;31m# Override data transfer hooks if dataset-specific to_device logic has been defined in datamodule\u001b[0m\u001b[0;34m\u001b[0m\u001b[0;34m\u001b[0m\u001b[0;34m\u001b[0m\u001b[0m\n",
      "\u001b[0;31mAttributeError\u001b[0m: 'NoneType' object has no attribute 'train_dataloader'"
     ]
    }
   ],
   "source": [
    "trainer.test(datamodule=data_module)"
   ]
  },
  {
   "source": [
    "## Test"
   ],
   "cell_type": "markdown",
   "metadata": {}
  },
  {
   "cell_type": "code",
   "execution_count": null,
   "metadata": {},
   "outputs": [],
   "source": [
    "# use model checkpoint to save model from time to time -> auto load best model from checkpoints\n",
    "PATH = checkpoint_callback.best_model_path\n",
    "\n",
    "#loading\n",
    "model = MyLightingModule.load_from_checkpoint(PATH)\n",
    "model.freeze()\n",
    "\n",
    "x = some_data\n",
    "pred = model(x)\n",
    "text_pred = data_module.label_encoder.inverse_transform(pred) #get strings instead of numbers\n",
    "\n",
    "# for testing\n",
    "# (1) load the best checkpoint automatically (lightning tracks this for you)\n",
    "trainer.test(datamodule=dm)\n",
    "\n",
    "# (2) don't load a checkpoint, instead use the model with the latest weights\n",
    "trainer.test(datamodule=dm, ckpt_path=None)\n",
    "\n",
    "# (3) test using a specific checkpoint\n",
    "trainer.test(datamodule=dm, ckpt_path='/path/to/my_checkpoint.ckpt')\n",
    "\n",
    "# (4) test with an explicit model (will use this model and not load a checkpoint)\n",
    "trainer.test(datamodule=dm, model)"
   ]
  },
  {
   "source": [
    "# Evaluation"
   ],
   "cell_type": "markdown",
   "metadata": {}
  },
  {
   "cell_type": "code",
   "execution_count": null,
   "metadata": {},
   "outputs": [],
   "source": [
    "import pandas as pd\n",
    "from nlp_utils.data_module import PlainCrowdTangleDataModule, CrowdTangleDataModule, GroupId2Name, inverse_transform\n",
    "from nlp_utils.model import BaseModel, BiLSTMModel\n",
    "import pytorch_lightning as pl\n",
    "from pytorch_lightning.callbacks.early_stopping import EarlyStopping\n",
    "from glob import glob\n",
    "import ipywidgets as widgets\n",
    "from tqdm.notebook import tqdm\n",
    "import pandas as pd\n",
    "import torch\n",
    "import seaborn as sb\n",
    "import re\n",
    "%load_ext tensorboard"
   ]
  },
  {
   "cell_type": "code",
   "execution_count": null,
   "metadata": {},
   "outputs": [],
   "source": [
    "# Start tensorboard\n",
    "! pkill tensorboard\n",
    "! rm -r /tmp/.tensorboard-info\n",
    "%tensorboard --logdir lightning_logs --bind_all"
   ]
  },
  {
   "cell_type": "code",
   "execution_count": null,
   "metadata": {},
   "outputs": [],
   "source": [
    "# Select a model\n",
    "w = widgets.Dropdown(\n",
    "    options=glob('lightning_logs/*/checkpoints/*.ckpt'),\n",
    "    description='Select a checkpoint:'\n",
    ")\n",
    "w"
   ]
  },
  {
   "cell_type": "code",
   "execution_count": null,
   "metadata": {},
   "outputs": [],
   "source": [
    "model_version = re.findall(\"version_[0-9]+\", w.value)[0]\n",
    "model = BaseModel.load_from_checkpoint(w.value)\n",
    "\n",
    "torch.no_grad()\n",
    "model.eval()\n",
    "data_module = SemEvalDataModule(config=model.config)\n",
    "data_module.setup('')\n",
    "model.config, model_version"
   ]
  },
  {
   "source": [
    "## Validation Set Results"
   ],
   "cell_type": "markdown",
   "metadata": {}
  },
  {
   "cell_type": "code",
   "execution_count": null,
   "metadata": {},
   "outputs": [],
   "source": [
    "df_dicts = []\n",
    "val_loader = data_module.val_dataloader()\n",
    "#groupid2name = GroupId2Name(model.config)\n",
    "for y_lst, encoded_texts_lst, category_vectors_lst, features in tqdm(iter(val_loader),total=len(val_loader)):\n",
    "    \n",
    "    result = model(encoded_texts_lst, category_vectors_lst)\n",
    "\n",
    "    for y_hat, y, encoded_text, category_vector in zip(result, y_lst, encoded_texts_lst[\"input_ids\"], category_vectors_lst):\n",
    "        decoded_categories = inverse_transform(category_vector.reshape(1, -1), model.config, data_module.class_encoder)\n",
    "        df_dicts.append({**{\n",
    "            'prediction': float(y_hat),\n",
    "            'gold label': float(y),\n",
    "            'text': data_module.tokenizer.decode(encoded_text).replace(' [PAD]','')\n",
    "        },**decoded_categories})\n",
    "#encoded_texts\n",
    "#data_module.tokenizer.decode(encoded_texts[\"input_ids\"][0]).replace(' [PAD]','')\n",
    "df = pd.DataFrame.from_dict(df_dicts)\n",
    "df"
   ]
  },
  {
   "cell_type": "code",
   "execution_count": null,
   "metadata": {},
   "outputs": [],
   "source": [
    "sb.histplot(data=df['prediction']).set_title(model_version)"
   ]
  },
  {
   "source": [
    "# Analysis"
   ],
   "cell_type": "markdown",
   "metadata": {}
  },
  {
   "cell_type": "code",
   "execution_count": null,
   "metadata": {},
   "outputs": [],
   "source": [
    "import pandas as pd\n",
    "import seaborn as sb\n",
    "from pathlib import Path\n",
    "sb.set_context(rc = {'patch.linewidth': 0.0})"
   ]
  },
  {
   "cell_type": "code",
   "execution_count": null,
   "metadata": {},
   "outputs": [],
   "source": [
    "dataset_path = Path('../../data/SemEval/stance/SemEval-stance.csv')"
   ]
  },
  {
   "cell_type": "code",
   "execution_count": null,
   "metadata": {},
   "outputs": [],
   "source": [
    "df = pd.read_csv(dataset_path,low_memory=False)\n",
    "dataset_name = dataset_path.stem\n",
    "figure_path = Path('./figures/' + dataset_name + '/')\n",
    "figure_path.mkdir(parents=True, exist_ok=True)\n",
    "dataset_name, str(figure_path)"
   ]
  },
  {
   "cell_type": "code",
   "execution_count": null,
   "metadata": {},
   "outputs": [],
   "source": [
    "#df['Type'].value_counts().plot(kind='bar')\n",
    "plt = sb.countplot(y=\"Type\", data=df)\n",
    "plt.set(ylabel=\"\", xlabel=\"Count\")\n",
    "#plt.figure.savefig(f'{figure_path}/post_types_dist.pdf', bbox_inches = 'tight', pad_inches = 0)"
   ]
  },
  {
   "cell_type": "code",
   "execution_count": null,
   "metadata": {},
   "outputs": [],
   "source": [
    "plt = sb.displot(df[df['Message'].str.len() < 600]['Message'].str.len())\n",
    "plt.set(xlabel=\"Message length (characters)\")\n",
    "#plt.savefig(f'{figure_path}/message_length_dist.pdf', bbox_inches = 'tight', pad_inches = 0)"
   ]
  },
  {
   "cell_type": "code",
   "execution_count": null,
   "metadata": {},
   "outputs": [],
   "source": [
    "df_score_filtered = df[(df.reactions_sum < 2000)]\n",
    "plt = sb.histplot(data=df_score_filtered['reactions_sum'], bins=100)\n",
    "plt.set(xlabel=\"Number of Reactions\")\n",
    "#plt.figure.savefig(f'{figure_path}/reactions_dist.pdf', bbox_inches = 'tight', pad_inches = 0)"
   ]
  }
 ]
}